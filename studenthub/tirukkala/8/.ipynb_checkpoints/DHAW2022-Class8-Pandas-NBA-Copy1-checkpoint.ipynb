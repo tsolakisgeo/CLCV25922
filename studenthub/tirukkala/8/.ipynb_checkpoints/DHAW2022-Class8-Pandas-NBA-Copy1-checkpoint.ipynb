{
 "cells": [
  {
   "cell_type": "code",
   "execution_count": 1,
   "id": "a20ab521",
   "metadata": {},
   "outputs": [],
   "source": [
    "import pandas as pd\n",
    "pd.set_option('display.max_rows', 500)\n",
    "pd.set_option('display.max_columns', 500)\n",
    "pd.set_option('display.width', 1000)"
   ]
  },
  {
   "cell_type": "markdown",
   "id": "f1fc31e0",
   "metadata": {},
   "source": [
    "#### Read the file 'NBA Stats 202122 All Player Statistics in one Page.xlsx'. I downloaded the excel from [nbastuffer.com](https://www.nbastuffer.com/2021-2022-nba-player-stats/) and I removed the first column and the first row."
   ]
  },
  {
   "cell_type": "code",
   "execution_count": 2,
   "id": "ed060efd",
   "metadata": {
    "scrolled": true
   },
   "outputs": [],
   "source": [
    "df = pd.read_excel('NBA Stats 202122 All Player Statistics in one Page.xlsx')"
   ]
  },
  {
   "cell_type": "markdown",
   "id": "51954acb",
   "metadata": {},
   "source": [
    "#### Print the first five lines"
   ]
  },
  {
   "cell_type": "code",
   "execution_count": 6,
   "id": "8df96757",
   "metadata": {},
   "outputs": [
    {
     "data": {
      "text/html": [
       "<div>\n",
       "<style scoped>\n",
       "    .dataframe tbody tr th:only-of-type {\n",
       "        vertical-align: middle;\n",
       "    }\n",
       "\n",
       "    .dataframe tbody tr th {\n",
       "        vertical-align: top;\n",
       "    }\n",
       "\n",
       "    .dataframe thead th {\n",
       "        text-align: right;\n",
       "    }\n",
       "</style>\n",
       "<table border=\"1\" class=\"dataframe\">\n",
       "  <thead>\n",
       "    <tr style=\"text-align: right;\">\n",
       "      <th></th>\n",
       "      <th>FULL NAME</th>\n",
       "      <th>TEAM</th>\n",
       "      <th>POS</th>\n",
       "      <th>AGE</th>\n",
       "      <th>GP</th>\n",
       "      <th>MPG</th>\n",
       "      <th>MIN%Minutes PercentagePercentage of team minutes used by a player while he was on the floor</th>\n",
       "      <th>USG%Usage RateUsage rate, a.k.a., usage percentage is an estimate of the percentage of team plays used by a player while he was on the floor</th>\n",
       "      <th>TO%Turnover RateA metric that estimates the number of turnovers a player commits per 100 possessions</th>\n",
       "      <th>FTA</th>\n",
       "      <th>FT%</th>\n",
       "      <th>2PA</th>\n",
       "      <th>2P%</th>\n",
       "      <th>3PA</th>\n",
       "      <th>3P%</th>\n",
       "      <th>eFG%Effective Shooting PercentageWith eFG%, three-point shots made are worth 50% more than two-point shots made. eFG% Formula=(FGM+ (0.5 x 3PM))/FGA</th>\n",
       "      <th>TS%True Shooting PercentageTrue shooting percentage is a measure of shooting efficiency that takes into account field goals, 3-point field goals, and free throws.</th>\n",
       "      <th>PPGPointsPoints per game.</th>\n",
       "      <th>RPGReboundsRebounds per game.</th>\n",
       "      <th>TRB%Total Rebound PercentageTotal rebound percentage is estimated percentage of available rebounds grabbed by the player while the player is on the court.</th>\n",
       "      <th>APGAssistsAssists per game.</th>\n",
       "      <th>AST%Assist PercentageAssist percentage is an estimated percentage of teammate field goals a player assisted while the player is on the court</th>\n",
       "      <th>SPGStealsSteals per game.</th>\n",
       "      <th>BPGBlocksBlocks per game.</th>\n",
       "      <th>TOPGTurnoversTurnovers per game.</th>\n",
       "      <th>VIVersatility IndexVersatility index is a metric that measures a player’s ability to produce in points, assists, and rebounds. The average player will score around a five on the index, while top players score above 10</th>\n",
       "      <th>ORTGOffensive RatingIndividual offensive rating is the number of points produced by a player per 100 total individual possessions.</th>\n",
       "      <th>DRTGDefensive RatingIndividual defensive rating estimates how many points the player allowed per 100 possessions he individually faced while staying on the court.</th>\n",
       "    </tr>\n",
       "  </thead>\n",
       "  <tbody>\n",
       "    <tr>\n",
       "      <th>0</th>\n",
       "      <td>Precious Achiuwa</td>\n",
       "      <td>Tor</td>\n",
       "      <td>F</td>\n",
       "      <td>22.74</td>\n",
       "      <td>6</td>\n",
       "      <td>27.8</td>\n",
       "      <td>57.8</td>\n",
       "      <td>18.2</td>\n",
       "      <td>13.8</td>\n",
       "      <td>10</td>\n",
       "      <td>0.600</td>\n",
       "      <td>36</td>\n",
       "      <td>0.556</td>\n",
       "      <td>16</td>\n",
       "      <td>0.313</td>\n",
       "      <td>0.529</td>\n",
       "      <td>0.541</td>\n",
       "      <td>10.2</td>\n",
       "      <td>4.8</td>\n",
       "      <td>10.7</td>\n",
       "      <td>1.0</td>\n",
       "      <td>5.7</td>\n",
       "      <td>0.17</td>\n",
       "      <td>0.83</td>\n",
       "      <td>1.50</td>\n",
       "      <td>5.3</td>\n",
       "      <td>103.3</td>\n",
       "      <td>107.9</td>\n",
       "    </tr>\n",
       "    <tr>\n",
       "      <th>1</th>\n",
       "      <td>Steven Adams</td>\n",
       "      <td>Mem</td>\n",
       "      <td>C</td>\n",
       "      <td>28.91</td>\n",
       "      <td>7</td>\n",
       "      <td>16.2</td>\n",
       "      <td>33.8</td>\n",
       "      <td>10.8</td>\n",
       "      <td>13.4</td>\n",
       "      <td>11</td>\n",
       "      <td>0.545</td>\n",
       "      <td>21</td>\n",
       "      <td>0.429</td>\n",
       "      <td>0</td>\n",
       "      <td>0.000</td>\n",
       "      <td>0.429</td>\n",
       "      <td>0.464</td>\n",
       "      <td>3.4</td>\n",
       "      <td>6.4</td>\n",
       "      <td>20.9</td>\n",
       "      <td>2.1</td>\n",
       "      <td>17.6</td>\n",
       "      <td>0.14</td>\n",
       "      <td>0.14</td>\n",
       "      <td>0.57</td>\n",
       "      <td>8.8</td>\n",
       "      <td>120.1</td>\n",
       "      <td>100.4</td>\n",
       "    </tr>\n",
       "    <tr>\n",
       "      <th>2</th>\n",
       "      <td>Bam Adebayo</td>\n",
       "      <td>Mia</td>\n",
       "      <td>C-F</td>\n",
       "      <td>24.92</td>\n",
       "      <td>18</td>\n",
       "      <td>34.1</td>\n",
       "      <td>71.0</td>\n",
       "      <td>17.9</td>\n",
       "      <td>15.4</td>\n",
       "      <td>76</td>\n",
       "      <td>0.763</td>\n",
       "      <td>174</td>\n",
       "      <td>0.598</td>\n",
       "      <td>1</td>\n",
       "      <td>0.000</td>\n",
       "      <td>0.594</td>\n",
       "      <td>0.638</td>\n",
       "      <td>14.8</td>\n",
       "      <td>8.0</td>\n",
       "      <td>13.8</td>\n",
       "      <td>2.7</td>\n",
       "      <td>12.6</td>\n",
       "      <td>1.00</td>\n",
       "      <td>0.72</td>\n",
       "      <td>2.11</td>\n",
       "      <td>8.0</td>\n",
       "      <td>119.8</td>\n",
       "      <td>101.2</td>\n",
       "    </tr>\n",
       "    <tr>\n",
       "      <th>3</th>\n",
       "      <td>Nickeil Alexander-Walker</td>\n",
       "      <td>Uta</td>\n",
       "      <td>G</td>\n",
       "      <td>23.79</td>\n",
       "      <td>1</td>\n",
       "      <td>4.7</td>\n",
       "      <td>9.8</td>\n",
       "      <td>24.4</td>\n",
       "      <td>0.0</td>\n",
       "      <td>1</td>\n",
       "      <td>1.000</td>\n",
       "      <td>2</td>\n",
       "      <td>1.000</td>\n",
       "      <td>0</td>\n",
       "      <td>0.000</td>\n",
       "      <td>1.000</td>\n",
       "      <td>1.025</td>\n",
       "      <td>5.0</td>\n",
       "      <td>1.0</td>\n",
       "      <td>12.4</td>\n",
       "      <td>1.0</td>\n",
       "      <td>70.1</td>\n",
       "      <td>1.00</td>\n",
       "      <td>0.00</td>\n",
       "      <td>0.00</td>\n",
       "      <td>14.6</td>\n",
       "      <td>214.3</td>\n",
       "      <td>100.3</td>\n",
       "    </tr>\n",
       "  </tbody>\n",
       "</table>\n",
       "</div>"
      ],
      "text/plain": [
       "                  FULL NAME TEAM  POS    AGE  GP   MPG  MIN%Minutes PercentagePercentage of team minutes used by a player while he was on the floor  USG%Usage RateUsage rate, a.k.a., usage percentage is an estimate of the percentage of team plays used by a player while he was on the floor  TO%Turnover RateA metric that estimates the number of turnovers a player commits per 100 possessions  FTA    FT%  2PA    2P%  3PA    3P%  eFG%Effective Shooting PercentageWith eFG%, three-point shots made are worth 50% more than two-point shots made. eFG% Formula=(FGM+ (0.5 x 3PM))/FGA  TS%True Shooting PercentageTrue shooting percentage is a measure of shooting efficiency that takes into account field goals, 3-point field goals, and free throws.  PPGPointsPoints per game.  RPGReboundsRebounds per game.  TRB%Total Rebound PercentageTotal rebound percentage is estimated percentage of available rebounds grabbed by the player while the player is on the court.  APGAssistsAssists per game.  \\\n",
       "0          Precious Achiuwa  Tor    F  22.74   6  27.8                                               57.8                                                                                         18.2                                                                                                                                          13.8                                                      10  0.600   36  0.556   16  0.313                                              0.529                                                                                                                                                 0.541                                                                                                                                        10.2                            4.8                                               10.7                                                                                                                                   1.0   \n",
       "1              Steven Adams  Mem    C  28.91   7  16.2                                               33.8                                                                                         10.8                                                                                                                                          13.4                                                      11  0.545   21  0.429    0  0.000                                              0.429                                                                                                                                                 0.464                                                                                                                                         3.4                            6.4                                               20.9                                                                                                                                   2.1   \n",
       "2               Bam Adebayo  Mia  C-F  24.92  18  34.1                                               71.0                                                                                         17.9                                                                                                                                          15.4                                                      76  0.763  174  0.598    1  0.000                                              0.594                                                                                                                                                 0.638                                                                                                                                        14.8                            8.0                                               13.8                                                                                                                                   2.7   \n",
       "3  Nickeil Alexander-Walker  Uta    G  23.79   1   4.7                                                9.8                                                                                         24.4                                                                                                                                           0.0                                                       1  1.000    2  1.000    0  0.000                                              1.000                                                                                                                                                 1.025                                                                                                                                         5.0                            1.0                                               12.4                                                                                                                                   1.0   \n",
       "\n",
       "   AST%Assist PercentageAssist percentage is an estimated percentage of teammate field goals a player assisted while the player is on the court  SPGStealsSteals per game.  BPGBlocksBlocks per game.  TOPGTurnoversTurnovers per game.  VIVersatility IndexVersatility index is a metric that measures a player’s ability to produce in points, assists, and rebounds. The average player will score around a five on the index, while top players score above 10  ORTGOffensive RatingIndividual offensive rating is the number of points produced by a player per 100 total individual possessions.  DRTGDefensive RatingIndividual defensive rating estimates how many points the player allowed per 100 possessions he individually faced while staying on the court.  \n",
       "0                                                5.7                                                                                                                  0.17                       0.83                              1.50                                                5.3                                                                                                                                                                                                                      103.3                                                                                                                               107.9                                                                                                                   \n",
       "1                                               17.6                                                                                                                  0.14                       0.14                              0.57                                                8.8                                                                                                                                                                                                                      120.1                                                                                                                               100.4                                                                                                                   \n",
       "2                                               12.6                                                                                                                  1.00                       0.72                              2.11                                                8.0                                                                                                                                                                                                                      119.8                                                                                                                               101.2                                                                                                                   \n",
       "3                                               70.1                                                                                                                  1.00                       0.00                              0.00                                               14.6                                                                                                                                                                                                                      214.3                                                                                                                               100.3                                                                                                                   "
      ]
     },
     "execution_count": 6,
     "metadata": {},
     "output_type": "execute_result"
    }
   ],
   "source": [
    "df.head(4) # default value is 5"
   ]
  },
  {
   "cell_type": "markdown",
   "id": "2aadd1dd",
   "metadata": {},
   "source": [
    "#### Get the name of the columns"
   ]
  },
  {
   "cell_type": "code",
   "execution_count": 7,
   "id": "5f991c73",
   "metadata": {},
   "outputs": [
    {
     "data": {
      "text/plain": [
       "Index(['FULL NAME', 'TEAM', 'POS', 'AGE', 'GP', 'MPG', 'MIN%Minutes PercentagePercentage of team minutes used by a player while he was on the floor', 'USG%Usage RateUsage rate, a.k.a., usage percentage is an estimate of the percentage of team plays used by a player while he was on the floor', 'TO%Turnover RateA metric that estimates the number of turnovers a player commits per 100 possessions', 'FTA', 'FT%', '2PA', '2P%', '3PA', '3P%', 'eFG%Effective Shooting PercentageWith eFG%, three-point shots made are worth 50% more than two-point shots made. eFG% Formula=(FGM+ (0.5 x 3PM))/FGA', 'TS%True Shooting PercentageTrue shooting percentage is a measure of shooting efficiency that takes into account field goals, 3-point field goals, and free throws.', 'PPGPointsPoints per game.', 'RPGReboundsRebounds per game.', 'TRB%Total Rebound PercentageTotal rebound percentage is estimated percentage of available rebounds grabbed by the player while the player is on the court.',\n",
       "       'APGAssistsAssists per game.', 'AST%Assist PercentageAssist percentage is an estimated percentage of teammate field goals a player assisted while the player is on the court', 'SPGStealsSteals per game.', 'BPGBlocksBlocks per game.', 'TOPGTurnoversTurnovers per game.', 'VIVersatility IndexVersatility index is a metric that measures a player’s ability to produce in points, assists, and rebounds. The average player will score around a five on the index, while top players score above 10', 'ORTGOffensive RatingIndividual offensive rating is the number of points produced by a player per 100 total individual possessions.', 'DRTGDefensive RatingIndividual defensive rating estimates how many points the player allowed per 100 possessions he individually faced while staying on the court.'],\n",
       "      dtype='object')"
      ]
     },
     "execution_count": 7,
     "metadata": {},
     "output_type": "execute_result"
    }
   ],
   "source": [
    "df.columns "
   ]
  },
  {
   "cell_type": "markdown",
   "id": "a9cf516e",
   "metadata": {},
   "source": [
    "#### Get the stats of \"Giannis Antetokounmpo\""
   ]
  },
  {
   "cell_type": "code",
   "execution_count": null,
   "id": "101c3820",
   "metadata": {},
   "outputs": [],
   "source": [
    "df."
   ]
  },
  {
   "cell_type": "markdown",
   "id": "99b68a0f",
   "metadata": {},
   "source": [
    "#### How many players are over 30 years old?"
   ]
  },
  {
   "cell_type": "code",
   "execution_count": null,
   "id": "85a6d54c",
   "metadata": {},
   "outputs": [],
   "source": []
  },
  {
   "cell_type": "markdown",
   "id": "7bf4001d",
   "metadata": {},
   "source": [
    "#### How many players of Milwaukee Bucks are in this DataFrame?"
   ]
  },
  {
   "cell_type": "code",
   "execution_count": null,
   "id": "e17898dd",
   "metadata": {},
   "outputs": [],
   "source": []
  },
  {
   "cell_type": "markdown",
   "id": "95204302",
   "metadata": {},
   "source": [
    "#### How many players of Milwaukee Bucks are over 30 years old?"
   ]
  },
  {
   "cell_type": "code",
   "execution_count": null,
   "id": "1b71efb0",
   "metadata": {},
   "outputs": [],
   "source": []
  },
  {
   "cell_type": "markdown",
   "id": "3f37b00a",
   "metadata": {},
   "source": [
    "#### Which players of Milwaukee Bucks were shooting with average over 50% in either 2P% or 3P%"
   ]
  },
  {
   "cell_type": "code",
   "execution_count": null,
   "id": "5c85e592",
   "metadata": {},
   "outputs": [],
   "source": []
  },
  {
   "cell_type": "markdown",
   "id": "3b9f2bda",
   "metadata": {},
   "source": [
    "#### Get Milwaukee Bucks' average free throws (FT%) "
   ]
  },
  {
   "cell_type": "code",
   "execution_count": null,
   "id": "6a089a98",
   "metadata": {},
   "outputs": [],
   "source": []
  },
  {
   "cell_type": "markdown",
   "id": "599c8581",
   "metadata": {},
   "source": [
    "#### Get the average free throws per team"
   ]
  },
  {
   "cell_type": "code",
   "execution_count": null,
   "id": "690676fb",
   "metadata": {},
   "outputs": [],
   "source": []
  },
  {
   "cell_type": "markdown",
   "id": "7a48b958",
   "metadata": {},
   "source": [
    "#### Guess the result of the next code: True or False?"
   ]
  },
  {
   "cell_type": "code",
   "execution_count": null,
   "id": "ff5d5785",
   "metadata": {},
   "outputs": [],
   "source": [
    "simpsons = pd.Series(\n",
    "['Homer', 'Marge', 'Bart', 'Lisa', 'Maggie'])\n",
    "print('Bart' in simpsons)"
   ]
  },
  {
   "cell_type": "code",
   "execution_count": null,
   "id": "d9a31e99",
   "metadata": {},
   "outputs": [],
   "source": [
    "simpsons = pd.Series(\n",
    "['Homer', 'Marge', 'Bart', 'Lisa', 'Maggie'])\n",
    "print('Bart' in simpsons.values)"
   ]
  },
  {
   "cell_type": "markdown",
   "id": "d38b4e99",
   "metadata": {},
   "source": [
    "#### Round in pandas. `round()` function is used to round a DataFrame to a variable number of decimal places. Yet, run the cell below to see a weird behavior. "
   ]
  },
  {
   "cell_type": "code",
   "execution_count": null,
   "id": "0b5e1310",
   "metadata": {},
   "outputs": [],
   "source": [
    "s = pd.Series([-2.5, -1.5, -0.5, 0.5, 1.5, 2.5])\n",
    "print(s.round())"
   ]
  },
  {
   "cell_type": "markdown",
   "id": "56df7865",
   "metadata": {},
   "source": [
    "Bankers’ rounding. Odd numbers are rounded up, even numbers are rounded down."
   ]
  },
  {
   "cell_type": "markdown",
   "id": "2bb2734a",
   "metadata": {},
   "source": [
    "#### Correct the mistake in order to get numbers larger than two and small than five"
   ]
  },
  {
   "cell_type": "code",
   "execution_count": null,
   "id": "93113269",
   "metadata": {},
   "outputs": [],
   "source": [
    "nums = pd.Series([1, 2, 3, 4, 5, 6])\n",
    "print(nums[nums > 2 AND nums < 5])"
   ]
  },
  {
   "cell_type": "markdown",
   "id": "67d4b4c2",
   "metadata": {},
   "source": [
    "#### Change the df in order to reflect an 20% increase in the prices. "
   ]
  },
  {
   "cell_type": "code",
   "execution_count": null,
   "id": "b8f07f50",
   "metadata": {},
   "outputs": [],
   "source": [
    "df = pd.DataFrame([\n",
    "['T-shirt', 70],\n",
    "['Pants', 80],\n",
    "['Coat', 250],\n",
    "['Shirt', 95]], columns=['item', 'price'])"
   ]
  },
  {
   "cell_type": "code",
   "execution_count": null,
   "id": "c2a934b7",
   "metadata": {},
   "outputs": [],
   "source": []
  },
  {
   "cell_type": "code",
   "execution_count": null,
   "id": "eeaeea5a",
   "metadata": {},
   "outputs": [],
   "source": []
  },
  {
   "cell_type": "code",
   "execution_count": null,
   "id": "6f3c7690",
   "metadata": {},
   "outputs": [],
   "source": []
  },
  {
   "cell_type": "markdown",
   "id": "c0e42f8d",
   "metadata": {},
   "source": [
    "#### Change the df below so it reflects a 35% increase in the price of the vegetables and a 25% decrease in the price of fruits."
   ]
  },
  {
   "cell_type": "code",
   "execution_count": null,
   "id": "f8aea217",
   "metadata": {},
   "outputs": [],
   "source": [
    "df = pd.DataFrame([\n",
    "['Carrots', 'vegetable', 6],\n",
    "['Apple', 'fruit', 5],\n",
    "['Banana', 'fruit', 4],\n",
    "['Spinach', 'vegetable', 2]], columns=['item', 'type', 'price'])"
   ]
  },
  {
   "cell_type": "code",
   "execution_count": null,
   "id": "7d2f68fd",
   "metadata": {},
   "outputs": [],
   "source": []
  },
  {
   "cell_type": "code",
   "execution_count": null,
   "id": "1ff4e673",
   "metadata": {},
   "outputs": [],
   "source": [
    "df"
   ]
  },
  {
   "cell_type": "code",
   "execution_count": null,
   "id": "d5ccb3c2",
   "metadata": {},
   "outputs": [],
   "source": []
  },
  {
   "cell_type": "markdown",
   "id": "b17c0c0b",
   "metadata": {},
   "source": [
    "#### There is a DataFrame with products. If the products are going to turn bad soon, their condition is described as False. Else, their condition is True. Create a new df that gives a 40% discount if the product might turn bad and 15% increase if they are still in good condition."
   ]
  },
  {
   "cell_type": "code",
   "execution_count": null,
   "id": "abac3838",
   "metadata": {},
   "outputs": [],
   "source": [
    "df = pd.DataFrame([\n",
    "['Egg', False, 6],\n",
    "['Watermelon', True, 5],\n",
    "['Milk', False, 4],\n",
    "['Water', True, 2]], columns=['item', 'condition', 'price'])"
   ]
  },
  {
   "cell_type": "code",
   "execution_count": null,
   "id": "e34b1161",
   "metadata": {},
   "outputs": [],
   "source": []
  },
  {
   "cell_type": "code",
   "execution_count": null,
   "id": "0abf2b93",
   "metadata": {},
   "outputs": [],
   "source": []
  },
  {
   "cell_type": "code",
   "execution_count": null,
   "id": "5b080741",
   "metadata": {},
   "outputs": [],
   "source": []
  },
  {
   "cell_type": "code",
   "execution_count": null,
   "id": "5baa8f98",
   "metadata": {},
   "outputs": [],
   "source": [
    "df"
   ]
  },
  {
   "cell_type": "markdown",
   "id": "e5a01d4c",
   "metadata": {},
   "source": [
    "---"
   ]
  }
 ],
 "metadata": {
  "kernelspec": {
   "display_name": "Python 3 (ipykernel)",
   "language": "python",
   "name": "python3"
  },
  "language_info": {
   "codemirror_mode": {
    "name": "ipython",
    "version": 3
   },
   "file_extension": ".py",
   "mimetype": "text/x-python",
   "name": "python",
   "nbconvert_exporter": "python",
   "pygments_lexer": "ipython3",
   "version": "3.9.12"
  }
 },
 "nbformat": 4,
 "nbformat_minor": 5
}
