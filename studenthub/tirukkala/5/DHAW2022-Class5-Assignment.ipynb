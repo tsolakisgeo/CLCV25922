{
 "cells": [
  {
   "cell_type": "markdown",
   "id": "367bec83",
   "metadata": {},
   "source": [
    "# This notebook was taken from Chapter 1 from [Python Programming for the Humanities](http://www.karsdorp.io/python-course/)."
   ]
  },
  {
   "cell_type": "markdown",
   "id": "a1654309",
   "metadata": {},
   "source": [
    "## String manipulation"
   ]
  },
  {
   "cell_type": "markdown",
   "id": "8ec9a855",
   "metadata": {},
   "source": [
    "Many disciplines within the humanities work on texts. Quite naturally programming for the humanities will focus a lot on manipulating texts. In the last quiz you were asked to define a variable that points to a string that represents your name. We have already seen some basic arithmetic in our very first calculation. Not only numbers, but also strings can be added, or, more precisely, *concatenated*, together as well:"
   ]
  },
  {
   "cell_type": "code",
   "execution_count": null,
   "id": "3acaf407",
   "metadata": {},
   "outputs": [
    {
     "ename": "",
     "evalue": "",
     "output_type": "error",
     "traceback": [
      "\u001b[1;31mRunning cells with 'Python 2.7.16 64-bit' requires ipykernel package.\n",
      "\u001b[1;31mRun the following command to install 'ipykernel' into the Python environment. \n",
      "\u001b[1;31mCommand: '/usr/bin/python -m pip install ipykernel -U --user --force-reinstall'"
     ]
    }
   ],
   "source": [
    "name = \"Shama\"\n",
    "book = \"The Lord of the Flies\"\n",
    "print(name + \" likes \" + book + \"?\")"
   ]
  },
  {
   "cell_type": "code",
   "execution_count": null,
   "id": "49bafc58",
   "metadata": {},
   "outputs": [
    {
     "ename": "",
     "evalue": "",
     "output_type": "error",
     "traceback": [
      "\u001b[1;31mRunning cells with 'Python 2.7.16 64-bit' requires ipykernel package.\n",
      "\u001b[1;31mRun the following command to install 'ipykernel' into the Python environment. \n",
      "\u001b[1;31mCommand: '/usr/bin/python -m pip install ipykernel -U --user --force-reinstall'"
     ]
    }
   ],
   "source": []
  },
  {
   "cell_type": "markdown",
   "id": "d6600b41",
   "metadata": {},
   "source": [
    "This string consists of a number of characters. We can access the individual characters with the help of `indexing`. For example, to find only the first letter of your name, you can type in:"
   ]
  },
  {
   "cell_type": "code",
   "execution_count": null,
   "id": "0fd52b2b",
   "metadata": {},
   "outputs": [
    {
     "ename": "",
     "evalue": "",
     "output_type": "error",
     "traceback": [
      "\u001b[1;31mRunning cells with 'Python 2.7.16 64-bit' requires ipykernel package.\n",
      "\u001b[1;31mRun the following command to install 'ipykernel' into the Python environment. \n",
      "\u001b[1;31mCommand: '/usr/bin/python -m pip install ipykernel -U --user --force-reinstall'"
     ]
    }
   ],
   "source": [
    "first_letter = name[0]\n",
    "print(first_letter)"
   ]
  },
  {
   "cell_type": "markdown",
   "id": "549ebb18",
   "metadata": {},
   "source": [
    "Notice that to access the first letter, we use the index `0`. This might seem odd, but just remember that indexes in Python start at zero."
   ]
  },
  {
   "cell_type": "markdown",
   "id": "d5a11595",
   "metadata": {},
   "source": [
    "---"
   ]
  },
  {
   "cell_type": "markdown",
   "id": "3fcbf712",
   "metadata": {},
   "source": [
    "#### Quiz!"
   ]
  },
  {
   "cell_type": "markdown",
   "id": "17fb09a1",
   "metadata": {},
   "source": [
    "Now, if you know the length of your name you can ask for the last letter of your name:"
   ]
  },
  {
   "cell_type": "code",
   "execution_count": null,
   "id": "68fef2d4",
   "metadata": {},
   "outputs": [
    {
     "ename": "",
     "evalue": "",
     "output_type": "error",
     "traceback": [
      "\u001b[1;31mRunning cells with 'Python 2.7.16 64-bit' requires ipykernel package.\n",
      "\u001b[1;31mRun the following command to install 'ipykernel' into the Python environment. \n",
      "\u001b[1;31mCommand: '/usr/bin/python -m pip install ipykernel -U --user --force-reinstall'"
     ]
    }
   ],
   "source": [
    "last_letter = name[-1]\n",
    "print(last_letter)"
   ]
  },
  {
   "cell_type": "markdown",
   "id": "4bf3b2e1",
   "metadata": {},
   "source": [
    "---"
   ]
  },
  {
   "cell_type": "markdown",
   "id": "024531ca",
   "metadata": {},
   "source": [
    "It is rather inconvenient having to know how long our strings are if we want to find out what its last letter is. Python provides a simple way of accessing a string from the rear:"
   ]
  },
  {
   "cell_type": "code",
   "execution_count": null,
   "id": "41ce8158",
   "metadata": {},
   "outputs": [
    {
     "ename": "",
     "evalue": "",
     "output_type": "error",
     "traceback": [
      "\u001b[1;31mRunning cells with 'Python 2.7.16 64-bit' requires ipykernel package.\n",
      "\u001b[1;31mRun the following command to install 'ipykernel' into the Python environment. \n",
      "\u001b[1;31mCommand: '/usr/bin/python -m pip install ipykernel -U --user --force-reinstall'"
     ]
    }
   ],
   "source": [
    "last_letter = name[-1]\n",
    "print(last_letter)"
   ]
  },
  {
   "cell_type": "markdown",
   "id": "4ad3651a",
   "metadata": {},
   "source": [
    "Alternatively, there is the function `len()` which returns the length of a string:"
   ]
  },
  {
   "cell_type": "code",
   "execution_count": null,
   "id": "08518c76",
   "metadata": {},
   "outputs": [
    {
     "ename": "",
     "evalue": "",
     "output_type": "error",
     "traceback": [
      "\u001b[1;31mRunning cells with 'Python 2.7.16 64-bit' requires ipykernel package.\n",
      "\u001b[1;31mRun the following command to install 'ipykernel' into the Python environment. \n",
      "\u001b[1;31mCommand: '/usr/bin/python -m pip install ipykernel -U --user --force-reinstall'"
     ]
    }
   ],
   "source": [
    "print(len(name))"
   ]
  },
  {
   "cell_type": "markdown",
   "id": "a8568913",
   "metadata": {},
   "source": [
    "Do you understand the following?"
   ]
  },
  {
   "cell_type": "code",
   "execution_count": null,
   "id": "1cb94380",
   "metadata": {},
   "outputs": [
    {
     "ename": "",
     "evalue": "",
     "output_type": "error",
     "traceback": [
      "\u001b[1;31mRunning cells with 'Python 2.7.16 64-bit' requires ipykernel package.\n",
      "\u001b[1;31mRun the following command to install 'ipykernel' into the Python environment. \n",
      "\u001b[1;31mCommand: '/usr/bin/python -m pip install ipykernel -U --user --force-reinstall'"
     ]
    }
   ],
   "source": [
    "print(name[len(name)-1])"
   ]
  },
  {
   "cell_type": "markdown",
   "id": "eebc4ac5",
   "metadata": {},
   "source": [
    "---"
   ]
  },
  {
   "cell_type": "markdown",
   "id": "9e5296d4",
   "metadata": {},
   "source": [
    "#### Quiz!"
   ]
  },
  {
   "cell_type": "markdown",
   "id": "910d5eec",
   "metadata": {},
   "source": [
    "Now can you write some code that defines a variable `but_last_letter` and assign to it the second-to-last letter of your name?"
   ]
  },
  {
   "cell_type": "code",
   "execution_count": null,
   "id": "51d33cad",
   "metadata": {},
   "outputs": [
    {
     "ename": "",
     "evalue": "",
     "output_type": "error",
     "traceback": [
      "\u001b[1;31mRunning cells with 'Python 2.7.16 64-bit' requires ipykernel package.\n",
      "\u001b[1;31mRun the following command to install 'ipykernel' into the Python environment. \n",
      "\u001b[1;31mCommand: '/usr/bin/python -m pip install ipykernel -U --user --force-reinstall'"
     ]
    }
   ],
   "source": [
    "but_last_letter = name[len(name)-2]\n",
    "print(but_last_letter)"
   ]
  },
  {
   "cell_type": "markdown",
   "id": "3fa19a95",
   "metadata": {},
   "source": [
    "---"
   ]
  },
  {
   "cell_type": "markdown",
   "id": "da7584ed",
   "metadata": {},
   "source": [
    "You're starting to become a real expert in indexing strings. Now what if we would like to find out what the last two or three letters of our name are? In Python we can use so-called slice-indexes or slices for short. To find the first two letters of our name we type in:"
   ]
  },
  {
   "cell_type": "code",
   "execution_count": null,
   "id": "a4ede268",
   "metadata": {},
   "outputs": [
    {
     "ename": "",
     "evalue": "",
     "output_type": "error",
     "traceback": [
      "\u001b[1;31mRunning cells with 'Python 2.7.16 64-bit' requires ipykernel package.\n",
      "\u001b[1;31mRun the following command to install 'ipykernel' into the Python environment. \n",
      "\u001b[1;31mCommand: '/usr/bin/python -m pip install ipykernel -U --user --force-reinstall'"
     ]
    }
   ],
   "source": [
    "first_two_letters = name[0:2]\n",
    "print(first_two_letters)"
   ]
  },
  {
   "cell_type": "markdown",
   "id": "d7332f9d",
   "metadata": {},
   "source": [
    "The `0` index is optional, so we could just as well type in `name[:2]`. This says take all characters of name until you reach index 2. We can also start at index 2 and leave the end index unspecified:"
   ]
  },
  {
   "cell_type": "code",
   "execution_count": null,
   "id": "0d0a3fab",
   "metadata": {},
   "outputs": [
    {
     "ename": "",
     "evalue": "",
     "output_type": "error",
     "traceback": [
      "\u001b[1;31mRunning cells with 'Python 2.7.16 64-bit' requires ipykernel package.\n",
      "\u001b[1;31mRun the following command to install 'ipykernel' into the Python environment. \n",
      "\u001b[1;31mCommand: '/usr/bin/python -m pip install ipykernel -U --user --force-reinstall'"
     ]
    }
   ],
   "source": [
    "without_first_two_letters = name[2:]"
   ]
  },
  {
   "cell_type": "markdown",
   "id": "9e73f77a",
   "metadata": {},
   "source": [
    "Because we did not specify the end index, Python continues until it reaches the end of our string. If we would like to find out what the last two letters of our name are, we can type in:"
   ]
  },
  {
   "cell_type": "code",
   "execution_count": null,
   "id": "06a153c3",
   "metadata": {},
   "outputs": [
    {
     "ename": "",
     "evalue": "",
     "output_type": "error",
     "traceback": [
      "\u001b[1;31mRunning cells with 'Python 2.7.16 64-bit' requires ipykernel package.\n",
      "\u001b[1;31mRun the following command to install 'ipykernel' into the Python environment. \n",
      "\u001b[1;31mCommand: '/usr/bin/python -m pip install ipykernel -U --user --force-reinstall'"
     ]
    }
   ],
   "source": [
    "last_two_letters = name[-2:]\n",
    "print(last_two_letters)"
   ]
  },
  {
   "cell_type": "markdown",
   "id": "4678fe16",
   "metadata": {},
   "source": [
    "Take a look at the following picture. Do you fully understand it? \n",
    "<div style=\"float: center;\"><img style=\"float: center;\" src=\"http://www.nltk.org/images/string-slicing.png\" align=center /></div>"
   ]
  },
  {
   "cell_type": "markdown",
   "id": "1e22881a",
   "metadata": {},
   "source": [
    "---"
   ]
  },
  {
   "cell_type": "markdown",
   "id": "d5902b8c",
   "metadata": {},
   "source": [
    "#### Quiz!"
   ]
  },
  {
   "cell_type": "markdown",
   "id": "29bbde1b",
   "metadata": {},
   "source": [
    "Can you define a variable `middle_letters` and assign to it all letters of your name except for the first two and the last two?"
   ]
  },
  {
   "cell_type": "code",
   "execution_count": null,
   "id": "36f06c6f",
   "metadata": {},
   "outputs": [
    {
     "ename": "",
     "evalue": "",
     "output_type": "error",
     "traceback": [
      "\u001b[1;31mRunning cells with 'Python 2.7.16 64-bit' requires ipykernel package.\n",
      "\u001b[1;31mRun the following command to install 'ipykernel' into the Python environment. \n",
      "\u001b[1;31mCommand: '/usr/bin/python -m pip install ipykernel -U --user --force-reinstall'"
     ]
    }
   ],
   "source": [
    "middle_letters = name[2:-2]\n",
    "print(middle_letters)"
   ]
  },
  {
   "cell_type": "markdown",
   "id": "ccc55082",
   "metadata": {},
   "source": [
    "Given the following two words, can you write code that prints out the word *humanities* using only slicing and concatenation? (So, no quotes are allowed in your code.)"
   ]
  },
  {
   "cell_type": "code",
   "execution_count": null,
   "id": "0cd82c71",
   "metadata": {},
   "outputs": [
    {
     "ename": "",
     "evalue": "",
     "output_type": "error",
     "traceback": [
      "\u001b[1;31mRunning cells with 'Python 2.7.16 64-bit' requires ipykernel package.\n",
      "\u001b[1;31mRun the following command to install 'ipykernel' into the Python environment. \n",
      "\u001b[1;31mCommand: '/usr/bin/python -m pip install ipykernel -U --user --force-reinstall'"
     ]
    }
   ],
   "source": [
    "word1 = \"human\"\n",
    "word2 = \"opportunities\"\n",
    "print(word1[:3] + word 2[-6:])"
   ]
  },
  {
   "cell_type": "markdown",
   "id": "6cff7f4f",
   "metadata": {},
   "source": [
    "---"
   ]
  },
  {
   "cell_type": "markdown",
   "id": "110fe90e",
   "metadata": {},
   "source": [
    "##### What we have learnt"
   ]
  },
  {
   "cell_type": "markdown",
   "id": "873cf41a",
   "metadata": {},
   "source": [
    "To finish this section, here is an overview of what we have learnt. Go through the list and make sure you understand all the concepts.\n",
    "\n",
    "-  concatenation (e.g. addition of strings)\n",
    "-  indexing\n",
    "-  slicing\n",
    "-  `len()`"
   ]
  },
  {
   "cell_type": "markdown",
   "id": "49dc07fe",
   "metadata": {},
   "source": [
    "---"
   ]
  },
  {
   "cell_type": "markdown",
   "id": "12ce32dd",
   "metadata": {},
   "source": [
    "## Lists"
   ]
  },
  {
   "cell_type": "markdown",
   "id": "15ea617e",
   "metadata": {},
   "source": [
    "Consider the sentence below:"
   ]
  },
  {
   "cell_type": "code",
   "execution_count": null,
   "id": "f6e6fd94",
   "metadata": {},
   "outputs": [
    {
     "ename": "",
     "evalue": "",
     "output_type": "error",
     "traceback": [
      "\u001b[1;31mRunning cells with 'Python 2.7.16 64-bit' requires ipykernel package.\n",
      "\u001b[1;31mRun the following command to install 'ipykernel' into the Python environment. \n",
      "\u001b[1;31mCommand: '/usr/bin/python -m pip install ipykernel -U --user --force-reinstall'"
     ]
    }
   ],
   "source": [
    "sentence = \"Python's name is derived from the television series Monty Python's Flying Circus.\""
   ]
  },
  {
   "cell_type": "markdown",
   "id": "8825430e",
   "metadata": {},
   "source": [
    "Words are made up of characters, and so are string objects in Python. As we will see, it is always to be prefered to represent our data as naturally as possible. Now for the sentence above, it seems more natural to describe it in terms of words than in terms of characters. Say we want to access the first word in our sentence. If we type in:"
   ]
  },
  {
   "cell_type": "code",
   "execution_count": null,
   "id": "9ec3240c",
   "metadata": {},
   "outputs": [
    {
     "ename": "",
     "evalue": "",
     "output_type": "error",
     "traceback": [
      "\u001b[1;31mRunning cells with 'Python 2.7.16 64-bit' requires ipykernel package.\n",
      "\u001b[1;31mRun the following command to install 'ipykernel' into the Python environment. \n",
      "\u001b[1;31mCommand: '/usr/bin/python -m pip install ipykernel -U --user --force-reinstall'"
     ]
    }
   ],
   "source": [
    "first_word = sentence[0]\n",
    "print(first_word)"
   ]
  },
  {
   "cell_type": "markdown",
   "id": "6cb0fcb0",
   "metadata": {},
   "source": [
    "Python only prints the first letter of our sentence. (Think about this if you do not understand why.) We can transform our sentence into a `list` of words (represented by strings) using the `split()` function as follows: "
   ]
  },
  {
   "cell_type": "code",
   "execution_count": null,
   "id": "c0401cc5",
   "metadata": {},
   "outputs": [
    {
     "ename": "",
     "evalue": "",
     "output_type": "error",
     "traceback": [
      "\u001b[1;31mRunning cells with 'Python 2.7.16 64-bit' requires ipykernel package.\n",
      "\u001b[1;31mRun the following command to install 'ipykernel' into the Python environment. \n",
      "\u001b[1;31mCommand: '/usr/bin/python -m pip install ipykernel -U --user --force-reinstall'"
     ]
    }
   ],
   "source": [
    "words = sentence.split()\n",
    "print(words)"
   ]
  },
  {
   "cell_type": "markdown",
   "id": "477db0c7",
   "metadata": {},
   "source": [
    "By issuing the function split on our sentence, Python splits the sentence on spaces and returns a list of words. In many ways a list functions like a string. We can access all of its components using indexes and we can use slice indexes to access parts of the list. Let's try it!"
   ]
  },
  {
   "cell_type": "markdown",
   "id": "c75b74e9",
   "metadata": {},
   "source": [
    "---"
   ]
  },
  {
   "cell_type": "markdown",
   "id": "85f8ecd8",
   "metadata": {},
   "source": [
    "#### Quiz!"
   ]
  },
  {
   "cell_type": "markdown",
   "id": "2d4cfd59",
   "metadata": {},
   "source": [
    "Write a small program that defines a variable `first_word` and assign to it the first word of our word list. Play around a little with the indexes to see if you really understand how it works."
   ]
  },
  {
   "cell_type": "code",
   "execution_count": null,
   "id": "6ed519bb",
   "metadata": {},
   "outputs": [
    {
     "ename": "",
     "evalue": "",
     "output_type": "error",
     "traceback": [
      "\u001b[1;31mRunning cells with 'Python 2.7.16 64-bit' requires ipykernel package.\n",
      "\u001b[1;31mRun the following command to install 'ipykernel' into the Python environment. \n",
      "\u001b[1;31mCommand: '/usr/bin/python -m pip install ipykernel -U --user --force-reinstall'"
     ]
    }
   ],
   "source": [
    "first_word = word[0]\n",
    "print(first_word)"
   ]
  },
  {
   "cell_type": "markdown",
   "id": "440f4696",
   "metadata": {},
   "source": [
    "---"
   ]
  },
  {
   "cell_type": "markdown",
   "id": "e501eca1",
   "metadata": {},
   "source": [
    "A `list` acts like a container where we can store all kinds of information. We can access a list using indexes and slices. We can also add new items to a list. For that you use the method `append`. Let's see how it works. Say we want to keep a list of all our good reads. We start with an empty list and we will add some good books to it:"
   ]
  },
  {
   "cell_type": "code",
   "execution_count": null,
   "id": "3d43ad37",
   "metadata": {},
   "outputs": [
    {
     "ename": "",
     "evalue": "",
     "output_type": "error",
     "traceback": [
      "\u001b[1;31mRunning cells with 'Python 2.7.16 64-bit' requires ipykernel package.\n",
      "\u001b[1;31mRun the following command to install 'ipykernel' into the Python environment. \n",
      "\u001b[1;31mCommand: '/usr/bin/python -m pip install ipykernel -U --user --force-reinstall'"
     ]
    }
   ],
   "source": [
    "#start with an empty list\n",
    "good_reads = []\n",
    "good_reads.append(\"The Hunger games\")\n",
    "good_reads.append(\"A Clockwork Orange\")\n",
    "print(good_reads)"
   ]
  },
  {
   "cell_type": "markdown",
   "id": "2da71b7c",
   "metadata": {},
   "source": [
    "Now, if for some reason we don't like a particular book anymore, we can change it as follows:"
   ]
  },
  {
   "cell_type": "code",
   "execution_count": null,
   "id": "c79ad784",
   "metadata": {},
   "outputs": [
    {
     "ename": "",
     "evalue": "",
     "output_type": "error",
     "traceback": [
      "\u001b[1;31mRunning cells with 'Python 2.7.16 64-bit' requires ipykernel package.\n",
      "\u001b[1;31mRun the following command to install 'ipykernel' into the Python environment. \n",
      "\u001b[1;31mCommand: '/usr/bin/python -m pip install ipykernel -U --user --force-reinstall'"
     ]
    }
   ],
   "source": [
    "good_reads[0] = \"Pride and Prejudice\"\n",
    "print(good_reads)"
   ]
  },
  {
   "cell_type": "markdown",
   "id": "badab185",
   "metadata": {},
   "source": [
    "---"
   ]
  },
  {
   "cell_type": "markdown",
   "id": "33545ad9",
   "metadata": {},
   "source": [
    "#### Quiz!"
   ]
  },
  {
   "cell_type": "markdown",
   "id": "9e7c5f6a",
   "metadata": {},
   "source": [
    "Here's another small Quiz! Try to change the title of the second book in our good reads collection."
   ]
  },
  {
   "cell_type": "code",
   "execution_count": null,
   "id": "2afe72d1",
   "metadata": {},
   "outputs": [
    {
     "ename": "",
     "evalue": "",
     "output_type": "error",
     "traceback": [
      "\u001b[1;31mRunning cells with 'Python 2.7.16 64-bit' requires ipykernel package.\n",
      "\u001b[1;31mRun the following command to install 'ipykernel' into the Python environment. \n",
      "\u001b[1;31mCommand: '/usr/bin/python -m pip install ipykernel -U --user --force-reinstall'"
     ]
    }
   ],
   "source": [
    "good_reads[1] = \"Percy Jackson\"\n",
    "print(good_reads)"
   ]
  },
  {
   "cell_type": "markdown",
   "id": "6f91f157",
   "metadata": {},
   "source": [
    "---"
   ]
  },
  {
   "cell_type": "markdown",
   "id": "61323585",
   "metadata": {},
   "source": [
    "We just changed one element in a list. Note that if you do the same thing for a string, you will get an error:"
   ]
  },
  {
   "cell_type": "code",
   "execution_count": null,
   "id": "eac7369e",
   "metadata": {},
   "outputs": [
    {
     "ename": "",
     "evalue": "",
     "output_type": "error",
     "traceback": [
      "\u001b[1;31mRunning cells with 'Python 2.7.16 64-bit' requires ipykernel package.\n",
      "\u001b[1;31mRun the following command to install 'ipykernel' into the Python environment. \n",
      "\u001b[1;31mCommand: '/usr/bin/python -m pip install ipykernel -U --user --force-reinstall'"
     ]
    }
   ],
   "source": [
    "name = \"Pythen\"\n",
    "name[4] = \"o\""
   ]
  },
  {
   "cell_type": "markdown",
   "id": "6d8a62d0",
   "metadata": {},
   "source": [
    "This is because `strings` (and some other types) are *immutable*. That is, they cannot be changed, as opposed to `lists` which *are* mutable. Let's explore some other ways in which we can manipulate lists."
   ]
  },
  {
   "cell_type": "markdown",
   "id": "d37981ec",
   "metadata": {},
   "source": [
    "#### remove()"
   ]
  },
  {
   "cell_type": "markdown",
   "id": "4d89c30d",
   "metadata": {},
   "source": [
    "Let's assume our good read collection has grown a lot and we would like to remove some of the books from the list. Python provides the method `remove` that acts upon a list and takes as its argument the items we would like to remove. "
   ]
  },
  {
   "cell_type": "code",
   "execution_count": null,
   "id": "ecafc63d",
   "metadata": {},
   "outputs": [
    {
     "ename": "",
     "evalue": "",
     "output_type": "error",
     "traceback": [
      "\u001b[1;31mRunning cells with 'Python 2.7.16 64-bit' requires ipykernel package.\n",
      "\u001b[1;31mRun the following command to install 'ipykernel' into the Python environment. \n",
      "\u001b[1;31mCommand: '/usr/bin/python -m pip install ipykernel -U --user --force-reinstall'"
     ]
    }
   ],
   "source": [
    "good_reads = [\"The Hunger games\", \"A Clockwork Orange\", \n",
    "              \"Pride and Prejudice\", \"Water for Elephants\",\n",
    "              \"The Shadow of the Wind\", \"Bel Canto\"]\n",
    "\n",
    "good_reads.remove(\"Water for Elephants\")\n",
    "\n",
    "print(good_reads)"
   ]
  },
  {
   "cell_type": "markdown",
   "id": "f2fa1c74",
   "metadata": {},
   "source": [
    "If we try to remove a book that is not in our collection, Python raises an error (don't be afraid, your computer won't break ;-))"
   ]
  },
  {
   "cell_type": "code",
   "execution_count": null,
   "id": "b23204ff",
   "metadata": {},
   "outputs": [
    {
     "ename": "",
     "evalue": "",
     "output_type": "error",
     "traceback": [
      "\u001b[1;31mRunning cells with 'Python 2.7.16 64-bit' requires ipykernel package.\n",
      "\u001b[1;31mRun the following command to install 'ipykernel' into the Python environment. \n",
      "\u001b[1;31mCommand: '/usr/bin/python -m pip install ipykernel -U --user --force-reinstall'"
     ]
    }
   ],
   "source": [
    "good_reads.remove(\"White Oleander\")"
   ]
  },
  {
   "cell_type": "markdown",
   "id": "b25c0428",
   "metadata": {},
   "source": [
    "---"
   ]
  },
  {
   "cell_type": "markdown",
   "id": "7357dd3f",
   "metadata": {},
   "source": [
    "#### Quiz!"
   ]
  },
  {
   "cell_type": "markdown",
   "id": "fa83099e",
   "metadata": {},
   "source": [
    "Define a variable `good_reads` as an empty list. Now add some of your favorite books to it (at least three) and print the last two books you added. "
   ]
  },
  {
   "cell_type": "code",
   "execution_count": null,
   "id": "dc1762b0",
   "metadata": {},
   "outputs": [],
   "source": [
    "good_reads = []\n",
    "good_reads = [\"Percy Jackson\", \"Emma\" \"Harry Potter\"]\n",
    "print(good_reads[1])\n",
    "print(good_reads[2])\n"
   ]
  },
  {
   "cell_type": "markdown",
   "id": "f7a2b4a8",
   "metadata": {},
   "source": [
    "---"
   ]
  },
  {
   "cell_type": "markdown",
   "id": "f60afedc",
   "metadata": {},
   "source": [
    "Just as with strings, we can concatenate two lists. Here is an example:"
   ]
  },
  {
   "cell_type": "code",
   "execution_count": null,
   "id": "97d6ad6e",
   "metadata": {},
   "outputs": [],
   "source": [
    "#first we specify two lists of strings:\n",
    "good_reads = [\"The Hunger games\", \"A Clockwork Orange\", \n",
    "              \"Pride and Prejudice\", \"Water for Elephants\",\n",
    "              \"The Shadow of the Wind\", \"Bel Canto\"]\n",
    "\n",
    "bad_reads = [\"Fifty Shades of Grey\", \"Twilight\"]\n",
    "\n",
    "all_reads = good_reads + bad_reads\n",
    "print(all_reads)"
   ]
  },
  {
   "cell_type": "markdown",
   "id": "a4c4ad38",
   "metadata": {},
   "source": [
    "#### sort()"
   ]
  },
  {
   "cell_type": "markdown",
   "id": "1a6ba38d",
   "metadata": {},
   "source": [
    "It is always nice to organise your bookshelf. We can sort our collection with the following expression:"
   ]
  },
  {
   "cell_type": "code",
   "execution_count": null,
   "id": "207e8e56",
   "metadata": {},
   "outputs": [],
   "source": [
    "good_reads.sort()\n",
    "print(good_reads)"
   ]
  },
  {
   "cell_type": "markdown",
   "id": "22fd098c",
   "metadata": {},
   "source": [
    "#### nested lists"
   ]
  },
  {
   "cell_type": "markdown",
   "id": "7b1ab4fb",
   "metadata": {},
   "source": [
    "Up to this point, our lists only have consisted of strings. However, a list can contain all kinds of data types, such as integers and even lists! Do you understand what is happening in the following example?"
   ]
  },
  {
   "cell_type": "code",
   "execution_count": null,
   "id": "de3a3f1c",
   "metadata": {},
   "outputs": [],
   "source": [
    "nested_list = [[1, 2, 3, 4], [5, 6, 7, 8]]\n",
    "print(nested_list[0])\n",
    "print(nested_list[0][0])"
   ]
  },
  {
   "cell_type": "markdown",
   "id": "1a731147",
   "metadata": {},
   "source": [
    "We can put this to use to enhance our good read collection with a score for every book we have. An entry in our collection will consist of a score within the range of 1 and 10 and the title of our book. The first element is the title; the second the score: `[title, score]`. We initialize an empty list:"
   ]
  },
  {
   "cell_type": "code",
   "execution_count": null,
   "id": "90b923e0",
   "metadata": {},
   "outputs": [],
   "source": [
    "good_reads = []"
   ]
  },
  {
   "cell_type": "markdown",
   "id": "d90e6ce3",
   "metadata": {},
   "source": [
    "And add two books to it:"
   ]
  },
  {
   "cell_type": "code",
   "execution_count": null,
   "id": "6279bd19",
   "metadata": {},
   "outputs": [],
   "source": [
    "good_reads.append([\"Pride and Prejudice\", 8])\n",
    "good_reads.append([\"A Clockwork Orange\", 9])"
   ]
  },
  {
   "cell_type": "markdown",
   "id": "047c3002",
   "metadata": {},
   "source": [
    "---"
   ]
  },
  {
   "cell_type": "markdown",
   "id": "915b5968",
   "metadata": {},
   "source": [
    "#### Quiz!"
   ]
  },
  {
   "cell_type": "markdown",
   "id": "55d3e69f",
   "metadata": {},
   "source": [
    "Update the `good_reads` collection with some of your own books and give them all a score. Can you print out the score you gave to the first book in the list? (Tip: you can pile up indexes)"
   ]
  },
  {
   "cell_type": "markdown",
   "id": "c6755df7",
   "metadata": {},
   "source": [
    "---"
   ]
  },
  {
   "cell_type": "markdown",
   "id": "488d5dbf",
   "metadata": {},
   "source": [
    "##### What we have learnt"
   ]
  },
  {
   "cell_type": "markdown",
   "id": "183f0a70",
   "metadata": {},
   "source": [
    "To finish this section, here is an overview of the new concepts and functions you have learnt. Go through them and make sure you understand them all.\n",
    "\n",
    "-  list\n",
    "-  *mutable* versus *immutable*\n",
    "-  `.split()`\n",
    "-  `.append()`\n",
    "-  nested lists\n",
    "-  `.remove()`\n",
    "-  `.sort()`"
   ]
  },
  {
   "cell_type": "markdown",
   "id": "00c512c2",
   "metadata": {},
   "source": [
    "---"
   ]
  }
 ],
 "metadata": {
  "kernelspec": {
   "display_name": "Python 2.7.16 64-bit",
   "language": "python",
   "name": "python3"
  },
  "language_info": {
   "codemirror_mode": {
    "name": "ipython",
    "version": 3
   },
   "file_extension": ".py",
   "mimetype": "text/x-python",
   "name": "python",
   "nbconvert_exporter": "python",
   "pygments_lexer": "ipython3",
   "version": "2.7.16"
  },
  "vscode": {
   "interpreter": {
    "hash": "767d51c1340bd893661ea55ea3124f6de3c7a262a8b4abca0554b478b1e2ff90"
   }
  }
 },
 "nbformat": 4,
 "nbformat_minor": 5
}
