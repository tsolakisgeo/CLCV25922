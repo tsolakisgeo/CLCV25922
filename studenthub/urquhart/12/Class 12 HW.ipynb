{
 "cells": [
  {
   "cell_type": "code",
   "execution_count": 63,
   "id": "44c20317",
   "metadata": {},
   "outputs": [],
   "source": [
    "import json\n",
    "import urllib.request\n",
    "import pandas as pd"
   ]
  },
  {
   "cell_type": "code",
   "execution_count": 82,
   "id": "ba645cc3",
   "metadata": {},
   "outputs": [
    {
     "name": "stdout",
     "output_type": "stream",
     "text": [
      "579885\n",
      "697622\n"
     ]
    }
   ],
   "source": [
    "mypleiadesplaces = [['Athens', '579885'], ['Abila', '697622']]\n",
    "\n",
    "for i in mypleiadesplaces:\n",
    "    print(i[1])"
   ]
  },
  {
   "cell_type": "code",
   "execution_count": 65,
   "id": "046b5930",
   "metadata": {},
   "outputs": [],
   "source": [
    "def getjson(pleiadesID):\n",
    "    url = f\"https://pleiades.stoa.org/places/{pleiadesID}/json\"\n",
    "    \n",
    "    with urllib.request.urlopen(url) as f:\n",
    "        pleiades_geojson = json.loads(f.read().decode())\n",
    "    \n",
    "    return pleiades_geojson"
   ]
  },
  {
   "cell_type": "code",
   "execution_count": 79,
   "id": "bd0b57a0",
   "metadata": {},
   "outputs": [
    {
     "data": {
      "text/plain": [
       "[23.726268222011864, 37.972453602957316]"
      ]
     },
     "execution_count": 79,
     "metadata": {},
     "output_type": "execute_result"
    }
   ],
   "source": [
    "def coordinates(pleiades_geojson):\n",
    "    try:    \n",
    "        pleiades_geojson['features'][0]['geometry']['coordinates']\n",
    "        return pleiades_geojson['features'][0]['geometry']['coordinates']\n",
    "  \n",
    "    except:\n",
    "        return pleiades_geojson['reprPoint']\n",
    "coordinates(getjson(579885))"
   ]
  },
  {
   "cell_type": "code",
   "execution_count": 67,
   "id": "895edce3",
   "metadata": {},
   "outputs": [
    {
     "data": {
      "text/plain": [
       "'Athenae'"
      ]
     },
     "execution_count": 67,
     "metadata": {},
     "output_type": "execute_result"
    }
   ],
   "source": [
    "def name(pleiades_geojson):\n",
    "    try:    \n",
    "        pleiades_geojson['names'][0]['romanized']\n",
    "        return pleiades_geojson['names'][0]['romanized']\n",
    "  \n",
    "    except:\n",
    "        return pleiades_geojson['names']['romanized']\n",
    "    \n",
    "name(getjson(579885))"
   ]
  },
  {
   "cell_type": "code",
   "execution_count": 93,
   "id": "61140efa",
   "metadata": {},
   "outputs": [],
   "source": [
    "ti = []\n",
    "lo = []\n",
    "la = []\n",
    "for i in mypleiadesplaces:\n",
    "    ti.append(name(getjson(i[1])))\n",
    "    lo.append(coordinates(getjson(i[1]))[0])\n",
    "    la.append(coordinates(getjson(i[1]))[1])\n",
    "    \n",
    "df = pd.DataFrame({'name': ti, 'long': lo, 'lat': la})\n",
    "df.assign(Index=range(len(df))).set_index('Index')\n",
    "df.to_csv('ActualHW12CSV')"
   ]
  },
  {
   "cell_type": "code",
   "execution_count": null,
   "id": "ef67938c",
   "metadata": {},
   "outputs": [],
   "source": []
  }
 ],
 "metadata": {
  "kernelspec": {
   "display_name": "Python 3 (ipykernel)",
   "language": "python",
   "name": "python3"
  },
  "language_info": {
   "codemirror_mode": {
    "name": "ipython",
    "version": 3
   },
   "file_extension": ".py",
   "mimetype": "text/x-python",
   "name": "python",
   "nbconvert_exporter": "python",
   "pygments_lexer": "ipython3",
   "version": "3.9.12"
  }
 },
 "nbformat": 4,
 "nbformat_minor": 5
}
