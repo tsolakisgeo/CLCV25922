{
 "cells": [
  {
   "cell_type": "code",
   "execution_count": 1,
   "id": "44c20317",
   "metadata": {},
   "outputs": [],
   "source": [
    "import json\n",
    "import urllib.request\n",
    "import pandas as pd"
   ]
  },
  {
   "cell_type": "code",
   "execution_count": 20,
   "id": "ba645cc3",
   "metadata": {},
   "outputs": [],
   "source": [
    "mypleiadesplaces = [['Athens', '579885'], ['Abila', '697622']]"
   ]
  },
  {
   "cell_type": "code",
   "execution_count": 34,
   "id": "046b5930",
   "metadata": {},
   "outputs": [],
   "source": [
    "def getjson(pleiadesID):\n",
    "    url = f\"https://pleiades.stoa.org/places/{pleiadesID}/json\"\n",
    "    \n",
    "    with urllib.request.urlopen(url) as f:\n",
    "        pleiades_geojson = json.loads(f.read().decode())\n",
    "    \n",
    "    return pleiades_geojson\n",
    "getjson(579885)"
   ]
  },
  {
   "cell_type": "code",
   "execution_count": 39,
   "id": "bd0b57a0",
   "metadata": {},
   "outputs": [
    {
     "data": {
      "text/plain": [
       "[35.635409, 31.858619]"
      ]
     },
     "execution_count": 39,
     "metadata": {},
     "output_type": "execute_result"
    }
   ],
   "source": [
    "def coordinates(pleiades_geojson):\n",
    "    try:    \n",
    "        pleiades_geojson['features'][0]['geometry']['coordinates']\n",
    "        return pleiades_geojson['features'][0]['geometry']['coordinates']\n",
    "  \n",
    "    except:\n",
    "        return pleiades_geojson['reprPoint']\n",
    "coordinates(getjson(697622))"
   ]
  },
  {
   "cell_type": "code",
   "execution_count": 33,
   "id": "895edce3",
   "metadata": {},
   "outputs": [
    {
     "data": {
      "text/plain": [
       "'Athenae'"
      ]
     },
     "execution_count": 33,
     "metadata": {},
     "output_type": "execute_result"
    }
   ],
   "source": [
    "def name(pleiades_geojson):\n",
    "    try:    \n",
    "        pleiades_geojson['names'][0]['romanized']\n",
    "        return pleiades_geojson['names'][0]['romanized']\n",
    "  \n",
    "    except:\n",
    "        return pleiades_geojson['names']['romanized']\n",
    "    \n",
    "name(getjson(579885))"
   ]
  },
  {
   "cell_type": "code",
   "execution_count": 41,
   "id": "ba872518",
   "metadata": {},
   "outputs": [],
   "source": [
    "def createcsv(pleiadesID):\n",
    "    df = pd.DataFrame(columns = [\"name\", \"long\", \"lat\"])\n",
    "    info = pd.DataFrame(\n",
    "        {'name': [name(getjson(pleiadesID))],\n",
    "        'long': [coordinates(getjson(pleiadesID))[0]],\n",
    "        'lat': [coordinates(getjson(pleiadesID))[1]]})\n",
    "    df = df.append(info).set_index('name')\n",
    "    df.to_csv('hw12.csv')"
   ]
  },
  {
   "cell_type": "code",
   "execution_count": 44,
   "id": "1994fcfc",
   "metadata": {},
   "outputs": [
    {
     "name": "stderr",
     "output_type": "stream",
     "text": [
      "/var/folders/d7/8lvrqbpn5g78xm_60yv4v7xh0000gn/T/ipykernel_64995/1730093680.py:7: FutureWarning: The frame.append method is deprecated and will be removed from pandas in a future version. Use pandas.concat instead.\n",
      "  df = df.append(info).set_index('name')\n"
     ]
    }
   ],
   "source": [
    "createcsv(697622)"
   ]
  },
  {
   "cell_type": "code",
   "execution_count": 43,
   "id": "61140efa",
   "metadata": {},
   "outputs": [
    {
     "name": "stderr",
     "output_type": "stream",
     "text": [
      "/var/folders/d7/8lvrqbpn5g78xm_60yv4v7xh0000gn/T/ipykernel_64995/1730093680.py:7: FutureWarning: The frame.append method is deprecated and will be removed from pandas in a future version. Use pandas.concat instead.\n",
      "  df = df.append(info).set_index('name')\n"
     ]
    }
   ],
   "source": [
    "createcsv(579885)"
   ]
  },
  {
   "cell_type": "code",
   "execution_count": null,
   "id": "ef67938c",
   "metadata": {},
   "outputs": [],
   "source": []
  }
 ],
 "metadata": {
  "kernelspec": {
   "display_name": "Python 3 (ipykernel)",
   "language": "python",
   "name": "python3"
  },
  "language_info": {
   "codemirror_mode": {
    "name": "ipython",
    "version": 3
   },
   "file_extension": ".py",
   "mimetype": "text/x-python",
   "name": "python",
   "nbconvert_exporter": "python",
   "pygments_lexer": "ipython3",
   "version": "3.9.12"
  }
 },
 "nbformat": 4,
 "nbformat_minor": 5
}
