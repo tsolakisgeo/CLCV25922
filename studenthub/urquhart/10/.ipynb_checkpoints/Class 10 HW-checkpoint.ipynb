{
 "cells": [
  {
   "cell_type": "code",
   "execution_count": 1,
   "id": "20746eb1",
   "metadata": {},
   "outputs": [],
   "source": [
    "import pandas as pd\n",
    "from random import randint\n",
    "pd.set_option('display.max_rows', 500)\n",
    "pd.set_option('display.max_columns', 500)\n",
    "pd.set_option('display.width', 1000)"
   ]
  },
  {
   "cell_type": "code",
   "execution_count": 3,
   "id": "42b311a5",
   "metadata": {},
   "outputs": [],
   "source": [
    "df = pd.read_csv('pleiades-places-latest.csv')"
   ]
  },
  {
   "cell_type": "code",
   "execution_count": 4,
   "id": "3d52d940",
   "metadata": {},
   "outputs": [],
   "source": [
    "# Text Box:\n",
    "# Bassae = 570148\n",
    "# Olympia = 570531\n",
    "# Messene = 570479\n",
    "# Lykosoura = 570444\n",
    "# Nestor = 156116232\n",
    "# Lykaion = 570441\n",
    "# Megalopolis = 570467\n",
    "# Pylos = 570640\n",
    "# Kalamata = 570323\n",
    "# Athens (Acropolis) = 638356144\n",
    "newdf = df[(df['id'] == 570148) | (df['id'] == 570531) | (df['id'] == 570479) | (df['id'] == 570444) | (df['id'] == 156116232) | (df['id'] == 570441) | (df['id'] == 570467) | (df['id'] == 570640) | (df['id'] == 570323) | (df['id'] == 638356144)]\n",
    "newdf.to_csv('class10hwmaps.csv')"
   ]
  },
  {
   "cell_type": "code",
   "execution_count": null,
   "id": "22a198d0",
   "metadata": {},
   "outputs": [],
   "source": []
  }
 ],
 "metadata": {
  "kernelspec": {
   "display_name": "Python 3 (ipykernel)",
   "language": "python",
   "name": "python3"
  },
  "language_info": {
   "codemirror_mode": {
    "name": "ipython",
    "version": 3
   },
   "file_extension": ".py",
   "mimetype": "text/x-python",
   "name": "python",
   "nbconvert_exporter": "python",
   "pygments_lexer": "ipython3",
   "version": "3.9.12"
  }
 },
 "nbformat": 4,
 "nbformat_minor": 5
}
