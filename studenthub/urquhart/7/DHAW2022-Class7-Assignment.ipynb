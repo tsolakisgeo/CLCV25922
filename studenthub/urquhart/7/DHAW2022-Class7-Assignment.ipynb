{
 "cells": [
  {
   "cell_type": "markdown",
   "id": "aa0e8fff",
   "metadata": {},
   "source": [
    "#### Open and read the file `Hawking-Questioning-the-Universe.txt`."
   ]
  },
  {
   "cell_type": "code",
   "execution_count": 1,
   "id": "b90bb97e",
   "metadata": {},
   "outputs": [],
   "source": [
    "file = open(\"Hawking-Questioning-the-Universe.txt\", \"r\")\n",
    "f = file.read()\n",
    "file.close()"
   ]
  },
  {
   "cell_type": "code",
   "execution_count": null,
   "id": "e526a363",
   "metadata": {},
   "outputs": [],
   "source": []
  },
  {
   "cell_type": "markdown",
   "id": "47cbdd3f",
   "metadata": {},
   "source": [
    "#### Print the first 50 characters."
   ]
  },
  {
   "cell_type": "code",
   "execution_count": 3,
   "id": "47076f41",
   "metadata": {},
   "outputs": [
    {
     "name": "stdout",
     "output_type": "stream",
     "text": [
      "There is nothing bigger or older than the universe.\n"
     ]
    }
   ],
   "source": [
    "print(f[0:51])"
   ]
  },
  {
   "cell_type": "markdown",
   "id": "ea983c9d",
   "metadata": {},
   "source": [
    "#### Print from the 52nd to the 163rd character."
   ]
  },
  {
   "cell_type": "code",
   "execution_count": 4,
   "id": "269fa327",
   "metadata": {},
   "outputs": [
    {
     "name": "stdout",
     "output_type": "stream",
     "text": [
      "The questions I would like to talk about are: one, where did we come from? How did the universe come into being?\n"
     ]
    }
   ],
   "source": [
    "print(f[52:164])"
   ]
  },
  {
   "cell_type": "markdown",
   "id": "87597c50",
   "metadata": {},
   "source": [
    "---"
   ]
  },
  {
   "cell_type": "markdown",
   "id": "ade631c5",
   "metadata": {},
   "source": [
    "#### Open the file `Hawking-Questioning-the-Universe.txt` and create a list named `text_as_list` where every word is an element of the list. \n",
    "\n",
    "Hint: there are two ways to do it. Either with `.readlines()` or with `.split()`. I encourage you to google how both work, but I suggest to adopt the latter.\n",
    "\n",
    "Hint: if you want to split the text so every word is an element of a list, what should be the parameter of the `split()` method? Read more [here](https://www.w3schools.com/python/ref_string_split.asp)."
   ]
  },
  {
   "cell_type": "code",
   "execution_count": 24,
   "id": "f5bbb61c",
   "metadata": {},
   "outputs": [
    {
     "name": "stdout",
     "output_type": "stream",
     "text": [
      "['There', 'is', 'nothing', 'bigger', 'or', 'older', 'than', 'the', 'universe.', 'The', 'questions', 'I', 'would', 'like', 'to', 'talk', 'about', 'are:', 'one,', 'where', 'did', 'we', 'come', 'from?', 'How', 'did', 'the', 'universe', 'come', 'into', 'being?', 'Are', 'we', 'alone', 'in', 'the', 'universe?', 'Is', 'there', 'alien', 'life', 'out', 'there?', 'What', 'is', 'the', 'future', 'of', 'the', 'human', 'race?', 'Up', 'until', 'the', '1920s,', 'everyone', 'thought', 'the', 'universe', 'was', 'essentially', 'static', 'and', 'unchanging', 'in', 'time.', 'Then', 'it', 'was', 'discovered', 'that', 'the', 'universe', 'was', 'expanding.', 'Distant', 'galaxies', 'were', 'moving', 'away', 'from', 'us.', 'This', 'meant', 'they', 'must', 'have', 'been', 'closer', 'together', 'in', 'the', 'past.', 'If', 'we', 'extrapolate', 'back,', 'we', 'find', 'we', 'must', 'have', 'all', 'been', 'on', 'top', 'of', 'each', 'other', 'about', '15', 'billion', 'years', 'ago.', 'This', 'was', 'the', 'Big', 'Bang,', 'the', 'beginning', 'of', 'the', 'universe.', 'But', 'was', 'there', 'anything', 'before', 'the', 'Big', 'Bang?', 'If', 'not,', 'what', 'created', 'the', 'universe?', 'Why', 'did', 'the', 'universe', 'emerge', 'from', 'the', 'Big', 'Bang', 'the', 'way', 'it', 'did?', 'We', 'used', 'to', 'think', 'that', 'the', 'theory', 'of', 'the', 'universe', 'could', 'be', 'divided', 'into', 'two', 'parts.', 'First,', 'there', 'were', 'the', 'laws', 'like', 'Maxwell’s', 'equations', 'and', 'general', 'relativity', 'that', 'determined', 'the', 'evolution', 'of', 'the', 'universe,', 'given', 'its', 'state', 'over', 'all', 'of', 'space', 'at', 'one', 'time.', 'And', 'second,', 'there', 'was', 'no', 'question', 'of', 'the', 'initial', 'state', 'of', 'the', 'universe.', 'We', 'have', 'made', 'good', 'progress', 'on', 'the', 'first', 'part,', 'and', 'now', 'have', 'the', 'knowledge', 'of', 'the', 'laws', 'of', 'evolution', 'in', 'all', 'but', 'the', 'most', 'extreme', 'conditions.', 'But', 'until', 'recently,', 'we', 'have', 'had', 'little', 'idea', 'about', 'the', 'initial', 'conditions', 'for', 'the', 'universe.', 'However,', 'this', 'division', 'into', 'laws', 'of', 'evolution', 'and', 'initial', 'conditions', 'depends', 'on', 'time', 'and', 'space', 'being', 'separate', 'and', 'distinct.', 'Under', 'extreme', 'conditions,', 'general', 'relativity', 'and', 'quantum', 'theory', 'allow', 'time', 'to', 'behave', 'like', 'another', 'dimension', 'of', 'space.', 'This', 'removes', 'the', 'distinction', 'between', 'time', 'and', 'space,', 'and', 'means', 'the', 'laws', 'of', 'evolution', 'can', 'also', 'determine', 'the', 'initial', 'state.', 'The', 'universe', 'can', 'spontaneously', 'create', 'itself', 'out', 'of', 'nothing.', 'Moreover,', 'we', 'can', 'calculate', 'a', 'probability', 'that', 'the', 'universe', 'was', 'created', 'in', 'different', 'states.', 'These', 'predictions', 'are', 'in', 'excellent', 'agreement', 'with', 'observations', 'by', 'the', 'WMAP', 'satellite', 'of', 'the', 'cosmic', 'microwave', 'background,', 'which', 'is', 'an', 'imprint', 'of', 'the', 'very', 'early', 'universe.', 'We', 'think', 'we', 'have', 'solved', 'the', 'mystery', 'of', 'creation.', 'Maybe', 'we', 'should', 'patent', 'the', 'universe', 'and', 'charge', 'everyone', 'royalties', 'for', 'their', 'existence.', 'I', 'now', 'turn', 'to', 'the', 'second', 'big', 'question:', 'are', 'we', 'alone,', 'or', 'is', 'there', 'other', 'life', 'in', 'the', 'universe?', 'We', 'believe', 'that', 'life', 'arose', 'spontaneously', 'on', 'the', 'Earth,', 'so', 'it', 'must', 'be', 'possible', 'for', 'life', 'to', 'appear', 'on', 'other', 'suitable', 'planets,', 'of', 'which', 'there', 'seem', 'to', 'be', 'a', 'large', 'number', 'in', 'the', 'galaxy.', 'But', 'we', 'don’t', 'know', 'how', 'life', 'first', 'appeared.', 'We', 'have', 'two', 'pieces', 'of', 'observational', 'evidence', 'on', 'the', 'probability', 'of', 'life', 'appearing.', 'The', 'first', 'is', 'that', 'we', 'have', 'fossils', 'of', 'algae', 'from', '3.5', 'billion', 'years', 'ago.', 'The', 'Earth', 'was', 'formed', '4.6', 'billion', 'years', 'ago', 'and', 'was', 'probably', 'too', 'hot', 'for', 'about', 'the', 'first', 'half', 'billion', 'years.', 'So', 'life', 'appeared', 'on', 'Earth', 'within', 'half', 'a', 'billion', 'years', 'of', 'it', 'being', 'possible,', 'which', 'is', 'short', 'compared', 'to', 'the', '10-billion-year', 'lifetime', 'of', 'a', 'planet', 'of', 'Earth', 'type.', 'This', 'suggests', 'that', 'the', 'probability', 'of', 'life', 'appearing', 'is', 'reasonably', 'high.', 'If', 'it', 'was', 'very', 'low,', 'one', 'would', 'have', 'expected', 'it', 'to', 'take', 'most', 'of', 'the', 'ten', 'billion', 'years', 'available.', 'On', 'the', 'other', 'hand,', 'we', 'don’t', 'seem', 'to', 'have', 'been', 'visited', 'by', 'aliens.', 'I', 'am', 'discounting', 'the', 'reports', 'of', 'UFOs.', 'Why', 'would', 'they', 'appear', 'only', 'to', 'cranks', 'and', 'weirdos?', 'If', 'there', 'is', 'a', 'government', 'conspiracy', 'to', 'suppress', 'the', 'reports', 'and', 'keep', 'for', 'itself', 'the', 'scientific', 'knowledge', 'the', 'aliens', 'bring,', 'it', 'seems', 'to', 'have', 'been', 'a', 'singularly', 'ineffective', 'policy', 'so', 'far.', 'Furthermore,', 'despite', 'an', 'extensive', 'search', 'by', 'the', 'SETI', 'project,', 'we', 'haven’t', 'heard', 'any', 'alien', 'television', 'quiz', 'shows.', 'This', 'probably', 'indicates', 'that', 'there', 'are', 'no', 'alien', 'civilizations', 'at', 'our', 'stage', 'of', 'development', 'within', 'a', 'radius', 'of', 'a', 'few', 'hundred', 'light', 'years.', 'Issuing', 'an', 'insurance', 'policy', 'against', 'abduction', 'by', 'aliens', 'seems', 'a', 'pretty', 'safe', 'bet.', 'This', 'brings', 'me', 'to', 'the', 'last', 'of', 'the', 'big', 'questions:', 'the', 'future', 'of', 'the', 'human', 'race.', 'If', 'we', 'are', 'the', 'only', 'intelligent', 'beings', 'in', 'the', 'galaxy,', 'we', 'should', 'make', 'sure', 'we', 'survive', 'and', 'continue.', 'But', 'we', 'are', 'entering', 'an', 'increasingly', 'dangerous', 'period', 'of', 'our', 'history.', 'Our', 'population', 'and', 'our', 'use', 'of', 'the', 'finite', 'resources', 'of', 'planet', 'Earth', 'are', 'growing', 'exponentially,', 'along', 'with', 'our', 'technical', 'ability', 'to', 'change', 'the', 'environment', 'for', 'good', 'or', 'ill.', 'But', 'our', 'genetic', 'code', 'still', 'carries', 'the', 'selfish', 'and', 'aggressive', 'instincts', 'that', 'were', 'of', 'survival', 'advantage', 'in', 'the', 'past.', 'It', 'will', 'be', 'difficult', 'enough', 'to', 'avoid', 'disaster', 'in', 'the', 'next', 'hundred', 'years,', 'let', 'alone', 'the', 'next', 'thousand', 'or', 'million.', 'Our', 'only', 'chance', 'of', 'long-term', 'survival', 'is', 'not', 'to', 'remain', 'inward-looking', 'on', 'planet', 'Earth,', 'but', 'to', 'spread', 'out', 'into', 'space.', 'The', 'answers', 'to', 'these', 'big', 'questions', 'show', 'that', 'we', 'have', 'made', 'remarkable', 'progress', 'in', 'the', 'last', 'hundred', 'years.', 'But', 'if', 'we', 'want', 'to', 'continue', 'beyond', 'the', 'next', 'hundred', 'years,', 'our', 'future', 'is', 'in', 'space.', 'That', 'is', 'why', 'I', 'am', 'in', 'favor', 'of', 'manned', '–', 'or', 'should', 'I', 'say,', 'personned', '–', 'space', 'flight.', 'All', 'of', 'my', 'life', 'I', 'have', 'sought', 'to', 'understand', 'the', 'universe', 'and', 'find', 'answers', 'to', 'these', 'questions.', 'I', 'have', 'been', 'very', 'lucky', 'that', 'my', 'disability', 'has', 'not', 'been', 'a', 'serious', 'handicap.', 'Indeed,', 'it', 'has', 'probably', 'given', 'me', 'more', 'time', 'than', 'most', 'people', 'to', 'pursue', 'the', 'quest', 'for', 'knowledge.', 'The', 'ultimate', 'goal', 'is', 'a', 'complete', 'theory', 'of', 'the', 'universe,', 'and', 'we', 'are', 'making', 'good', 'progress.', 'Thank', 'you', 'for', 'listening.']\n"
     ]
    }
   ],
   "source": [
    "with open('Hawking-Questioning-the-Universe.txt') as f:\n",
    "    text_as_list=[word for line in f for word in line.split()]\n",
    "print(text_as_list)"
   ]
  },
  {
   "cell_type": "markdown",
   "id": "e810560f",
   "metadata": {},
   "source": [
    "#### This code will remove the punctuation from your list and applies the lower() method that returns a string where all characters are lower case. Simple run the cell."
   ]
  },
  {
   "cell_type": "code",
   "execution_count": 25,
   "id": "3fc5de89",
   "metadata": {},
   "outputs": [
    {
     "name": "stdout",
     "output_type": "stream",
     "text": [
      "['there', 'is', 'nothing', 'bigger', 'or', 'older', 'than', 'the', 'universe', 'the', 'questions', 'i', 'would', 'like', 'to', 'talk', 'about', 'are', 'one', 'where', 'did', 'we', 'come', 'from', 'how', 'did', 'the', 'universe', 'come', 'into', 'being', 'are', 'we', 'alone', 'in', 'the', 'universe', 'is', 'there', 'alien', 'life', 'out', 'there', 'what', 'is', 'the', 'future', 'of', 'the', 'human', 'race', 'up', 'until', 'the', '1920s', 'everyone', 'thought', 'the', 'universe', 'was', 'essentially', 'static', 'and', 'unchanging', 'in', 'time', 'then', 'it', 'was', 'discovered', 'that', 'the', 'universe', 'was', 'expanding', 'distant', 'galaxies', 'were', 'moving', 'away', 'from', 'us', 'this', 'meant', 'they', 'must', 'have', 'been', 'closer', 'together', 'in', 'the', 'past', 'if', 'we', 'extrapolate', 'back', 'we', 'find', 'we', 'must', 'have', 'all', 'been', 'on', 'top', 'of', 'each', 'other', 'about', '15', 'billion', 'years', 'ago', 'this', 'was', 'the', 'big', 'bang', 'the', 'beginning', 'of', 'the', 'universe', 'but', 'was', 'there', 'anything', 'before', 'the', 'big', 'bang', 'if', 'not', 'what', 'created', 'the', 'universe', 'why', 'did', 'the', 'universe', 'emerge', 'from', 'the', 'big', 'bang', 'the', 'way', 'it', 'did', 'we', 'used', 'to', 'think', 'that', 'the', 'theory', 'of', 'the', 'universe', 'could', 'be', 'divided', 'into', 'two', 'parts', 'first', 'there', 'were', 'the', 'laws', 'like', 'maxwell’s', 'equations', 'and', 'general', 'relativity', 'that', 'determined', 'the', 'evolution', 'of', 'the', 'universe', 'given', 'its', 'state', 'over', 'all', 'of', 'space', 'at', 'one', 'time', 'and', 'second', 'there', 'was', 'no', 'question', 'of', 'the', 'initial', 'state', 'of', 'the', 'universe', 'we', 'have', 'made', 'good', 'progress', 'on', 'the', 'first', 'part', 'and', 'now', 'have', 'the', 'knowledge', 'of', 'the', 'laws', 'of', 'evolution', 'in', 'all', 'but', 'the', 'most', 'extreme', 'conditions', 'but', 'until', 'recently', 'we', 'have', 'had', 'little', 'idea', 'about', 'the', 'initial', 'conditions', 'for', 'the', 'universe', 'however', 'this', 'division', 'into', 'laws', 'of', 'evolution', 'and', 'initial', 'conditions', 'depends', 'on', 'time', 'and', 'space', 'being', 'separate', 'and', 'distinct', 'under', 'extreme', 'conditions', 'general', 'relativity', 'and', 'quantum', 'theory', 'allow', 'time', 'to', 'behave', 'like', 'another', 'dimension', 'of', 'space', 'this', 'removes', 'the', 'distinction', 'between', 'time', 'and', 'space', 'and', 'means', 'the', 'laws', 'of', 'evolution', 'can', 'also', 'determine', 'the', 'initial', 'state', 'the', 'universe', 'can', 'spontaneously', 'create', 'itself', 'out', 'of', 'nothing', 'moreover', 'we', 'can', 'calculate', 'a', 'probability', 'that', 'the', 'universe', 'was', 'created', 'in', 'different', 'states', 'these', 'predictions', 'are', 'in', 'excellent', 'agreement', 'with', 'observations', 'by', 'the', 'wmap', 'satellite', 'of', 'the', 'cosmic', 'microwave', 'background', 'which', 'is', 'an', 'imprint', 'of', 'the', 'very', 'early', 'universe', 'we', 'think', 'we', 'have', 'solved', 'the', 'mystery', 'of', 'creation', 'maybe', 'we', 'should', 'patent', 'the', 'universe', 'and', 'charge', 'everyone', 'royalties', 'for', 'their', 'existence', 'i', 'now', 'turn', 'to', 'the', 'second', 'big', 'question', 'are', 'we', 'alone', 'or', 'is', 'there', 'other', 'life', 'in', 'the', 'universe', 'we', 'believe', 'that', 'life', 'arose', 'spontaneously', 'on', 'the', 'earth', 'so', 'it', 'must', 'be', 'possible', 'for', 'life', 'to', 'appear', 'on', 'other', 'suitable', 'planets', 'of', 'which', 'there', 'seem', 'to', 'be', 'a', 'large', 'number', 'in', 'the', 'galaxy', 'but', 'we', 'don’t', 'know', 'how', 'life', 'first', 'appeared', 'we', 'have', 'two', 'pieces', 'of', 'observational', 'evidence', 'on', 'the', 'probability', 'of', 'life', 'appearing', 'the', 'first', 'is', 'that', 'we', 'have', 'fossils', 'of', 'algae', 'from', '35', 'billion', 'years', 'ago', 'the', 'earth', 'was', 'formed', '46', 'billion', 'years', 'ago', 'and', 'was', 'probably', 'too', 'hot', 'for', 'about', 'the', 'first', 'half', 'billion', 'years', 'so', 'life', 'appeared', 'on', 'earth', 'within', 'half', 'a', 'billion', 'years', 'of', 'it', 'being', 'possible', 'which', 'is', 'short', 'compared', 'to', 'the', '10billionyear', 'lifetime', 'of', 'a', 'planet', 'of', 'earth', 'type', 'this', 'suggests', 'that', 'the', 'probability', 'of', 'life', 'appearing', 'is', 'reasonably', 'high', 'if', 'it', 'was', 'very', 'low', 'one', 'would', 'have', 'expected', 'it', 'to', 'take', 'most', 'of', 'the', 'ten', 'billion', 'years', 'available', 'on', 'the', 'other', 'hand', 'we', 'don’t', 'seem', 'to', 'have', 'been', 'visited', 'by', 'aliens', 'i', 'am', 'discounting', 'the', 'reports', 'of', 'ufos', 'why', 'would', 'they', 'appear', 'only', 'to', 'cranks', 'and', 'weirdos', 'if', 'there', 'is', 'a', 'government', 'conspiracy', 'to', 'suppress', 'the', 'reports', 'and', 'keep', 'for', 'itself', 'the', 'scientific', 'knowledge', 'the', 'aliens', 'bring', 'it', 'seems', 'to', 'have', 'been', 'a', 'singularly', 'ineffective', 'policy', 'so', 'far', 'furthermore', 'despite', 'an', 'extensive', 'search', 'by', 'the', 'seti', 'project', 'we', 'haven’t', 'heard', 'any', 'alien', 'television', 'quiz', 'shows', 'this', 'probably', 'indicates', 'that', 'there', 'are', 'no', 'alien', 'civilizations', 'at', 'our', 'stage', 'of', 'development', 'within', 'a', 'radius', 'of', 'a', 'few', 'hundred', 'light', 'years', 'issuing', 'an', 'insurance', 'policy', 'against', 'abduction', 'by', 'aliens', 'seems', 'a', 'pretty', 'safe', 'bet', 'this', 'brings', 'me', 'to', 'the', 'last', 'of', 'the', 'big', 'questions', 'the', 'future', 'of', 'the', 'human', 'race', 'if', 'we', 'are', 'the', 'only', 'intelligent', 'beings', 'in', 'the', 'galaxy', 'we', 'should', 'make', 'sure', 'we', 'survive', 'and', 'continue', 'but', 'we', 'are', 'entering', 'an', 'increasingly', 'dangerous', 'period', 'of', 'our', 'history', 'our', 'population', 'and', 'our', 'use', 'of', 'the', 'finite', 'resources', 'of', 'planet', 'earth', 'are', 'growing', 'exponentially', 'along', 'with', 'our', 'technical', 'ability', 'to', 'change', 'the', 'environment', 'for', 'good', 'or', 'ill', 'but', 'our', 'genetic', 'code', 'still', 'carries', 'the', 'selfish', 'and', 'aggressive', 'instincts', 'that', 'were', 'of', 'survival', 'advantage', 'in', 'the', 'past', 'it', 'will', 'be', 'difficult', 'enough', 'to', 'avoid', 'disaster', 'in', 'the', 'next', 'hundred', 'years', 'let', 'alone', 'the', 'next', 'thousand', 'or', 'million', 'our', 'only', 'chance', 'of', 'longterm', 'survival', 'is', 'not', 'to', 'remain', 'inwardlooking', 'on', 'planet', 'earth', 'but', 'to', 'spread', 'out', 'into', 'space', 'the', 'answers', 'to', 'these', 'big', 'questions', 'show', 'that', 'we', 'have', 'made', 'remarkable', 'progress', 'in', 'the', 'last', 'hundred', 'years', 'but', 'if', 'we', 'want', 'to', 'continue', 'beyond', 'the', 'next', 'hundred', 'years', 'our', 'future', 'is', 'in', 'space', 'that', 'is', 'why', 'i', 'am', 'in', 'favor', 'of', 'manned', '–', 'or', 'should', 'i', 'say', 'personned', '–', 'space', 'flight', 'all', 'of', 'my', 'life', 'i', 'have', 'sought', 'to', 'understand', 'the', 'universe', 'and', 'find', 'answers', 'to', 'these', 'questions', 'i', 'have', 'been', 'very', 'lucky', 'that', 'my', 'disability', 'has', 'not', 'been', 'a', 'serious', 'handicap', 'indeed', 'it', 'has', 'probably', 'given', 'me', 'more', 'time', 'than', 'most', 'people', 'to', 'pursue', 'the', 'quest', 'for', 'knowledge', 'the', 'ultimate', 'goal', 'is', 'a', 'complete', 'theory', 'of', 'the', 'universe', 'and', 'we', 'are', 'making', 'good', 'progress', 'thank', 'you', 'for', 'listening']\n"
     ]
    }
   ],
   "source": [
    "import string\n",
    "text_as_list = [i.translate(str.maketrans('', '', string.punctuation)).lower() for i in text_as_list]\n",
    "print(text_as_list)"
   ]
  },
  {
   "cell_type": "markdown",
   "id": "555565af",
   "metadata": {},
   "source": [
    "#### Create a new list `words_begin_with_a` and append all words of the `text_as_list` that begin with a small _a_.\n",
    "\n",
    "Hint: you have to define first an empty list.\n",
    "\n",
    "Hint: in order to find if a string starts with one or more letters, you should use the method `.startswith()`. Read more [here](https://www.w3schools.com/python/ref_string_startswith.asp)."
   ]
  },
  {
   "cell_type": "code",
   "execution_count": 31,
   "id": "ef97035e",
   "metadata": {},
   "outputs": [
    {
     "name": "stdout",
     "output_type": "stream",
     "text": [
      "['about', 'are', 'are', 'alone', 'alien', 'and', 'away', 'all', 'about', 'ago', 'anything', 'and', 'all', 'at', 'and', 'and', 'all', 'about', 'and', 'and', 'and', 'and', 'allow', 'another', 'and', 'and', 'also', 'a', 'are', 'agreement', 'an', 'and', 'are', 'alone', 'arose', 'appear', 'a', 'appeared', 'appearing', 'algae', 'ago', 'ago', 'and', 'about', 'appeared', 'a', 'a', 'appearing', 'available', 'aliens', 'am', 'appear', 'and', 'a', 'and', 'aliens', 'a', 'an', 'any', 'alien', 'are', 'alien', 'at', 'a', 'a', 'an', 'against', 'abduction', 'aliens', 'a', 'are', 'and', 'are', 'an', 'and', 'are', 'along', 'ability', 'and', 'aggressive', 'advantage', 'avoid', 'alone', 'answers', 'am', 'all', 'and', 'answers', 'a', 'a', 'and', 'are']\n"
     ]
    }
   ],
   "source": [
    "words_begin_with_a = []\n",
    "for word in text_as_list:\n",
    "    if word.startswith(\"a\"):\n",
    "        words_begin_with_a.append(word)\n",
    "print(words_begin_with_a)\n",
    "\n",
    "# i = 0\n",
    "# counter = 0\n",
    "\n",
    "# while i<len(text_as_list):\n",
    "#     if text_as_list[i].startswith('a'):\n",
    "#         counter += 1\n",
    "#     i += 1\n",
    "# print(counter)"
   ]
  },
  {
   "cell_type": "markdown",
   "id": "d3062e30",
   "metadata": {},
   "source": [
    "Answer: 310"
   ]
  },
  {
   "cell_type": "markdown",
   "id": "015adc25",
   "metadata": {},
   "source": [
    "#### Create a counter and use a while loop to counter how many words starts with a _u_."
   ]
  },
  {
   "cell_type": "code",
   "execution_count": 28,
   "id": "f87dba32",
   "metadata": {},
   "outputs": [
    {
     "name": "stdout",
     "output_type": "stream",
     "text": [
      "30\n"
     ]
    }
   ],
   "source": [
    "i = 0\n",
    "counter = 0\n",
    "\n",
    "while i<len(text_as_list):\n",
    "    if text_as_list[i].startswith('u'):\n",
    "        counter += 1\n",
    "    i += 1\n",
    "print(counter)"
   ]
  },
  {
   "cell_type": "markdown",
   "id": "032371cb",
   "metadata": {},
   "source": [
    "Answer: 30"
   ]
  },
  {
   "cell_type": "markdown",
   "id": "57461070",
   "metadata": {},
   "source": [
    "#### Create a counter and use a while loop to counter how many words do NOT start with a _u_."
   ]
  },
  {
   "cell_type": "code",
   "execution_count": 29,
   "id": "2bfcc6d7",
   "metadata": {},
   "outputs": [
    {
     "name": "stdout",
     "output_type": "stream",
     "text": [
      "877\n"
     ]
    }
   ],
   "source": [
    "i = 0\n",
    "counter = 0\n",
    "while i<len(text_as_list):\n",
    "    if not text_as_list[i].startswith('u'):\n",
    "        counter += 1\n",
    "    i += 1\n",
    "print(counter)"
   ]
  },
  {
   "cell_type": "markdown",
   "id": "47e0008d",
   "metadata": {},
   "source": [
    "Answer: 877"
   ]
  },
  {
   "cell_type": "markdown",
   "id": "52679f74",
   "metadata": {},
   "source": [
    "#### Write an if statement that checkes if the word \"universe\" appears in the text. Feel free to google how we test if a word is _in_ a Python list."
   ]
  },
  {
   "cell_type": "code",
   "execution_count": 34,
   "id": "38e92923",
   "metadata": {},
   "outputs": [
    {
     "name": "stdout",
     "output_type": "stream",
     "text": [
      "Yes, universe appears in the text.\n"
     ]
    }
   ],
   "source": [
    "if \"universe\" in text_as_list:\n",
    "    print(\"Yes, universe appears in the text.\")"
   ]
  },
  {
   "cell_type": "markdown",
   "id": "00f3acdf",
   "metadata": {},
   "source": [
    "#### Write an if statement that checkes if the word \"alliens\" appears in the text. If not print \"the word does not appear\""
   ]
  },
  {
   "cell_type": "code",
   "execution_count": 39,
   "id": "03093ef3",
   "metadata": {},
   "outputs": [],
   "source": [
    "if not \"aliens\" in text_as_list:\n",
    "    print(\"the word does not appear\")"
   ]
  },
  {
   "cell_type": "markdown",
   "id": "0d5f2002",
   "metadata": {},
   "source": [
    "#### Write an if statement that checkes if the word \"alliens\" appears in the text. If not, check if the word \"International Space Station\" appears in the text. If neither is in the text, print \"I didn't find the words\"."
   ]
  },
  {
   "cell_type": "markdown",
   "id": "c01d9304",
   "metadata": {},
   "source": []
  },
  {
   "cell_type": "code",
   "execution_count": 41,
   "id": "ea11f19e",
   "metadata": {},
   "outputs": [
    {
     "name": "stdout",
     "output_type": "stream",
     "text": [
      "\n"
     ]
    }
   ],
   "source": [
    "if \"aliens\" in text_as_list:\n",
    "    print()\n",
    "elif \"International Space Station\" in text_as_list:\n",
    "    print()\n",
    "else:\n",
    "    print(\"I didn't find the words\")"
   ]
  },
  {
   "cell_type": "markdown",
   "id": "5b8b465d",
   "metadata": {},
   "source": [
    "#### Take the text_as_list and create a dictionary named `mydictionary`. The words of the text should be the keys of the dictionary and the index of the word the values of the keys.\n",
    "\n",
    "Hint: there is a method in Python that adds a counter to an iterable."
   ]
  },
  {
   "cell_type": "code",
   "execution_count": null,
   "id": "c2ca15dd",
   "metadata": {},
   "outputs": [],
   "source": [
    "mydictionary = "
   ]
  },
  {
   "cell_type": "markdown",
   "id": "8faf3c45",
   "metadata": {},
   "source": [
    "#### Create the same dictonary but now index of  words in the text should be the dictionary's keys and the words should be the key's values."
   ]
  },
  {
   "cell_type": "code",
   "execution_count": null,
   "id": "9d54fada",
   "metadata": {},
   "outputs": [],
   "source": []
  },
  {
   "cell_type": "markdown",
   "id": "8e48403e",
   "metadata": {},
   "source": [
    "#### Why the lenghts of the two dictionaries are not the same?"
   ]
  },
  {
   "cell_type": "markdown",
   "id": "e4473cd2",
   "metadata": {},
   "source": []
  },
  {
   "cell_type": "markdown",
   "id": "c902a269",
   "metadata": {},
   "source": [
    "#### Create a dictionary `dict_counter` that takes as keys the words of text_as_list. The values of each key should be the number that each words is attested in the list.\n",
    "\n",
    "Hint: Check the [`count()` method](https://www.w3schools.com/python/ref_list_count.asp)."
   ]
  },
  {
   "cell_type": "code",
   "execution_count": null,
   "id": "c0c7eb56",
   "metadata": {},
   "outputs": [],
   "source": []
  },
  {
   "cell_type": "code",
   "execution_count": null,
   "id": "dbfd1b28",
   "metadata": {},
   "outputs": [],
   "source": [
    "print(mydictionary)"
   ]
  },
  {
   "cell_type": "markdown",
   "id": "a3baa175",
   "metadata": {},
   "source": [
    "#### Without printing the whole dictionary, find how many times the word \"question\" appears in the list by using your new dictiornary"
   ]
  },
  {
   "cell_type": "code",
   "execution_count": null,
   "id": "a7e6a088",
   "metadata": {},
   "outputs": [],
   "source": []
  },
  {
   "cell_type": "markdown",
   "id": "0bf6c425",
   "metadata": {},
   "source": [
    "#### Create a pandas dataframe from the items of the dictionary"
   ]
  },
  {
   "cell_type": "code",
   "execution_count": null,
   "id": "b642dabd",
   "metadata": {},
   "outputs": [],
   "source": []
  },
  {
   "cell_type": "markdown",
   "id": "cf243050",
   "metadata": {},
   "source": [
    "#### Get the first row of your dataframe"
   ]
  },
  {
   "cell_type": "code",
   "execution_count": null,
   "id": "595fb43a",
   "metadata": {},
   "outputs": [],
   "source": []
  },
  {
   "cell_type": "markdown",
   "id": "6404c70e",
   "metadata": {},
   "source": [
    "#### Get the first column of your dataframe"
   ]
  },
  {
   "cell_type": "code",
   "execution_count": null,
   "id": "05d6c34f",
   "metadata": {},
   "outputs": [],
   "source": []
  },
  {
   "cell_type": "markdown",
   "id": "e54d289e",
   "metadata": {},
   "source": [
    "#### By using the `pandas.DataFrame.loc`, find how many times the words galaxies and galaxies appear in the dataframe"
   ]
  },
  {
   "cell_type": "code",
   "execution_count": null,
   "id": "20833ca3",
   "metadata": {},
   "outputs": [],
   "source": []
  },
  {
   "cell_type": "markdown",
   "id": "fc9540e5",
   "metadata": {},
   "source": [
    "#### Write a recursion in a function that prints 5! (i.e., the factorial of 5)."
   ]
  },
  {
   "cell_type": "code",
   "execution_count": null,
   "id": "76832032",
   "metadata": {},
   "outputs": [],
   "source": [
    "def fact(n):\n",
    "    "
   ]
  },
  {
   "cell_type": "code",
   "execution_count": null,
   "id": "80ed0772",
   "metadata": {},
   "outputs": [],
   "source": [
    "print(fact(n))"
   ]
  },
  {
   "cell_type": "markdown",
   "id": "814d4090",
   "metadata": {},
   "source": [
    "#### Write a recursion in a function that prints the $n^{th}$ [Fibonacci number](https://en.wikipedia.org/wiki/Fibonacci_number):\n",
    "\n",
    "1, 1, 2, 3, 5, 8, 13, 21, 34"
   ]
  },
  {
   "cell_type": "code",
   "execution_count": null,
   "id": "c2100ad9",
   "metadata": {},
   "outputs": [],
   "source": [
    "def fib(n):\n",
    "    "
   ]
  },
  {
   "cell_type": "markdown",
   "id": "be45e165",
   "metadata": {},
   "source": [
    "#### Which is the $20^{th}$ Fibonacci number?"
   ]
  },
  {
   "cell_type": "code",
   "execution_count": null,
   "id": "b7b9e432",
   "metadata": {},
   "outputs": [],
   "source": [
    "fib(20)"
   ]
  },
  {
   "cell_type": "markdown",
   "id": "78def8f1",
   "metadata": {},
   "source": [
    "_We will try together tail recursion._"
   ]
  }
 ],
 "metadata": {
  "kernelspec": {
   "display_name": "Python 3 (ipykernel)",
   "language": "python",
   "name": "python3"
  },
  "language_info": {
   "codemirror_mode": {
    "name": "ipython",
    "version": 3
   },
   "file_extension": ".py",
   "mimetype": "text/x-python",
   "name": "python",
   "nbconvert_exporter": "python",
   "pygments_lexer": "ipython3",
   "version": "3.9.12"
  }
 },
 "nbformat": 4,
 "nbformat_minor": 5
}
