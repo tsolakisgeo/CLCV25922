{
 "cells": [
  {
   "cell_type": "code",
   "execution_count": 1,
   "id": "8b885567",
   "metadata": {},
   "outputs": [],
   "source": [
    "import pandas as pd\n",
    "from random import randint\n",
    "pd.set_option('display.max_rows', 500)\n",
    "pd.set_option('display.max_columns', 500)\n",
    "pd.set_option('display.width', 1000)"
   ]
  },
  {
   "cell_type": "code",
   "execution_count": 14,
   "id": "41a6fa8c",
   "metadata": {},
   "outputs": [],
   "source": [
    "df = pd.read_csv('pleiades-places-latest.csv')"
   ]
  },
  {
   "cell_type": "code",
   "execution_count": 15,
   "id": "7ef598da",
   "metadata": {},
   "outputs": [
    {
     "data": {
      "text/html": [
       "<div>\n",
       "<style scoped>\n",
       "    .dataframe tbody tr th:only-of-type {\n",
       "        vertical-align: middle;\n",
       "    }\n",
       "\n",
       "    .dataframe tbody tr th {\n",
       "        vertical-align: top;\n",
       "    }\n",
       "\n",
       "    .dataframe thead th {\n",
       "        text-align: right;\n",
       "    }\n",
       "</style>\n",
       "<table border=\"1\" class=\"dataframe\">\n",
       "  <thead>\n",
       "    <tr style=\"text-align: right;\">\n",
       "      <th></th>\n",
       "      <th>authors</th>\n",
       "      <th>bbox</th>\n",
       "      <th>connectsWith</th>\n",
       "      <th>created</th>\n",
       "      <th>creators</th>\n",
       "      <th>currentVersion</th>\n",
       "      <th>description</th>\n",
       "      <th>extent</th>\n",
       "      <th>featureTypes</th>\n",
       "      <th>geoContext</th>\n",
       "      <th>hasConnectionsWith</th>\n",
       "      <th>id</th>\n",
       "      <th>locationPrecision</th>\n",
       "      <th>maxDate</th>\n",
       "      <th>minDate</th>\n",
       "      <th>modified</th>\n",
       "      <th>path</th>\n",
       "      <th>reprLat</th>\n",
       "      <th>reprLatLong</th>\n",
       "      <th>reprLong</th>\n",
       "      <th>tags</th>\n",
       "      <th>timePeriods</th>\n",
       "      <th>timePeriodsKeys</th>\n",
       "      <th>timePeriodsRange</th>\n",
       "      <th>title</th>\n",
       "      <th>uid</th>\n",
       "    </tr>\n",
       "  </thead>\n",
       "  <tbody>\n",
       "    <tr>\n",
       "      <th>0</th>\n",
       "      <td>Becker, J., T. Elliott</td>\n",
       "      <td>13.4119837, 42.082885, 13.4119837, 42.082885</td>\n",
       "      <td>413005</td>\n",
       "      <td>2016-11-04T16:36:09Z</td>\n",
       "      <td>jbecker, thomase</td>\n",
       "      <td>1.0</td>\n",
       "      <td>The post-Roman settlement at Alba Fucens becam...</td>\n",
       "      <td>{\"type\": \"Point\", \"coordinates\": [13.4119837, ...</td>\n",
       "      <td>settlement</td>\n",
       "      <td>NaN</td>\n",
       "      <td>NaN</td>\n",
       "      <td>48210385</td>\n",
       "      <td>precise</td>\n",
       "      <td>1453.0</td>\n",
       "      <td>640.0</td>\n",
       "      <td>2016-11-08T21:58:28Z</td>\n",
       "      <td>/places/48210385</td>\n",
       "      <td>42.082885</td>\n",
       "      <td>42.082885,13.4119837</td>\n",
       "      <td>13.411984</td>\n",
       "      <td>NaN</td>\n",
       "      <td>M</td>\n",
       "      <td>mediaeval-byzantine</td>\n",
       "      <td>640.0,1453.0</td>\n",
       "      <td>Borgo Medievale</td>\n",
       "      <td>ece5760c4c6d42c1a331aad543c4ecc4</td>\n",
       "    </tr>\n",
       "    <tr>\n",
       "      <th>1</th>\n",
       "      <td>Becker, J., T. Elliott</td>\n",
       "      <td>11.6285463, 42.4193742, 11.6285463, 42.4193742</td>\n",
       "      <td>413393</td>\n",
       "      <td>2016-11-04T16:39:09Z</td>\n",
       "      <td>jbecker, thomase</td>\n",
       "      <td>2.0</td>\n",
       "      <td>A major urban sanctuary at Vulci with a long p...</td>\n",
       "      <td>{\"type\": \"Point\", \"coordinates\": [11.6285463, ...</td>\n",
       "      <td>temple-2</td>\n",
       "      <td>NaN</td>\n",
       "      <td>NaN</td>\n",
       "      <td>48210386</td>\n",
       "      <td>precise</td>\n",
       "      <td>300.0</td>\n",
       "      <td>-750.0</td>\n",
       "      <td>2016-12-05T11:47:10Z</td>\n",
       "      <td>/places/48210386</td>\n",
       "      <td>42.419374</td>\n",
       "      <td>42.4193742,11.6285463</td>\n",
       "      <td>11.628546</td>\n",
       "      <td>sanctuary, extant remains, temple</td>\n",
       "      <td>ACHR</td>\n",
       "      <td>archaic,classical,hellenistic-republican,roman</td>\n",
       "      <td>-750.0,300.0</td>\n",
       "      <td>Tempio Grande at Vulci</td>\n",
       "      <td>4e06898f2de74dbc9f3a3bdba6d74ba2</td>\n",
       "    </tr>\n",
       "  </tbody>\n",
       "</table>\n",
       "</div>"
      ],
      "text/plain": [
       "                  authors                                            bbox connectsWith               created          creators  currentVersion                                        description                                             extent featureTypes geoContext hasConnectionsWith        id locationPrecision  maxDate  minDate              modified              path    reprLat            reprLatLong   reprLong                               tags timePeriods                                 timePeriodsKeys timePeriodsRange                   title                               uid\n",
       "0  Becker, J., T. Elliott    13.4119837, 42.082885, 13.4119837, 42.082885       413005  2016-11-04T16:36:09Z  jbecker, thomase             1.0  The post-Roman settlement at Alba Fucens becam...  {\"type\": \"Point\", \"coordinates\": [13.4119837, ...   settlement        NaN                NaN  48210385           precise   1453.0    640.0  2016-11-08T21:58:28Z  /places/48210385  42.082885   42.082885,13.4119837  13.411984                                NaN           M                             mediaeval-byzantine     640.0,1453.0         Borgo Medievale  ece5760c4c6d42c1a331aad543c4ecc4\n",
       "1  Becker, J., T. Elliott  11.6285463, 42.4193742, 11.6285463, 42.4193742       413393  2016-11-04T16:39:09Z  jbecker, thomase             2.0  A major urban sanctuary at Vulci with a long p...  {\"type\": \"Point\", \"coordinates\": [11.6285463, ...     temple-2        NaN                NaN  48210386           precise    300.0   -750.0  2016-12-05T11:47:10Z  /places/48210386  42.419374  42.4193742,11.6285463  11.628546  sanctuary, extant remains, temple        ACHR  archaic,classical,hellenistic-republican,roman     -750.0,300.0  Tempio Grande at Vulci  4e06898f2de74dbc9f3a3bdba6d74ba2"
      ]
     },
     "execution_count": 15,
     "metadata": {},
     "output_type": "execute_result"
    }
   ],
   "source": [
    "df.head(2)"
   ]
  },
  {
   "cell_type": "code",
   "execution_count": 23,
   "id": "5487e185",
   "metadata": {},
   "outputs": [],
   "source": [
    "# Text Box:\n",
    "# Bassae = 570148\n",
    "# Olympia = 570531\n",
    "# Messene = 570479\n",
    "# Lykosoura = 570444\n",
    "# Nestor = 156116232\n",
    "newdf = df[(df['id'] == 570148) | (df['id'] == 570531) | (df['id'] == 570479) | (df['id'] == 570444) | (df['id'] == 156116232)]\n",
    "newdf.to_csv('mymaps.csv')"
   ]
  },
  {
   "cell_type": "code",
   "execution_count": 22,
   "id": "5aea6a2e",
   "metadata": {},
   "outputs": [],
   "source": []
  },
  {
   "cell_type": "code",
   "execution_count": null,
   "id": "7b98ed84",
   "metadata": {},
   "outputs": [],
   "source": []
  }
 ],
 "metadata": {
  "kernelspec": {
   "display_name": "Python 3 (ipykernel)",
   "language": "python",
   "name": "python3"
  },
  "language_info": {
   "codemirror_mode": {
    "name": "ipython",
    "version": 3
   },
   "file_extension": ".py",
   "mimetype": "text/x-python",
   "name": "python",
   "nbconvert_exporter": "python",
   "pygments_lexer": "ipython3",
   "version": "3.9.12"
  }
 },
 "nbformat": 4,
 "nbformat_minor": 5
}
