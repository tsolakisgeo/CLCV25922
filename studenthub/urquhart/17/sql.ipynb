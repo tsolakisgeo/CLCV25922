{
 "cells": [
  {
   "cell_type": "markdown",
   "id": "29bfea10",
   "metadata": {},
   "source": [
    "#### Imports"
   ]
  },
  {
   "cell_type": "code",
   "execution_count": null,
   "id": "160c04d2",
   "metadata": {},
   "outputs": [],
   "source": [
    "import pandas as pd\n",
    "import sqlite3\n",
    "pd.set_option('max_colwidth', None)"
   ]
  },
  {
   "cell_type": "markdown",
   "id": "5988f9dc",
   "metadata": {},
   "source": [
    "#### Initiate an empty database"
   ]
  },
  {
   "cell_type": "code",
   "execution_count": null,
   "id": "3462e416",
   "metadata": {},
   "outputs": [],
   "source": [
    "connection = sqlite3.connect(\":memory:\")"
   ]
  },
  {
   "cell_type": "markdown",
   "id": "4707f406",
   "metadata": {},
   "source": [
    "#### Create a table"
   ]
  },
  {
   "cell_type": "code",
   "execution_count": null,
   "id": "058e10d4",
   "metadata": {},
   "outputs": [],
   "source": [
    "# CREATE A TABLE\n",
    "connection.execute('''CREATE TABLE faculty\n",
    "             (\n",
    "             \n",
    "             )''')"
   ]
  },
  {
   "cell_type": "markdown",
   "id": "ba877795",
   "metadata": {},
   "source": [
    "#### Insert some data"
   ]
  },
  {
   "cell_type": "code",
   "execution_count": null,
   "id": "fa7f2c71",
   "metadata": {},
   "outputs": [],
   "source": [
    "# INSERT DATA\n",
    "connection.execute('''\n",
    "INSERT INTO faculty\n",
    "VALUES (\n",
    ")\n",
    "''')"
   ]
  },
  {
   "cell_type": "code",
   "execution_count": null,
   "id": "83f76f73",
   "metadata": {},
   "outputs": [],
   "source": [
    "# TRIVIAL TEST VIA SELECT\n",
    "result = connection.execute(\n",
    "\"\"\n",
    ")\n",
    "result.fetchall()"
   ]
  },
  {
   "cell_type": "markdown",
   "id": "9d90dd2a",
   "metadata": {},
   "source": [
    "#### Make the SQL database to a pandas DataFrame"
   ]
  },
  {
   "cell_type": "code",
   "execution_count": null,
   "id": "61f204ee",
   "metadata": {},
   "outputs": [],
   "source": []
  },
  {
   "cell_type": "markdown",
   "id": "15e9b494",
   "metadata": {},
   "source": [
    "---"
   ]
  },
  {
   "cell_type": "markdown",
   "id": "d0781520",
   "metadata": {},
   "source": [
    "## Cities Database\n",
    "\n",
    "Download the [Cities Database](http://oxrep.classics.ox.ac.uk/oxrep/docs/Hanson2016/Hanson2016_CitiesDatabase_OxREP.xlsx) of Hanson, J. W. (2016) _Cities Database_ (OXREP databases). Version 1.0. Accessed (date): <http://oxrep.classics.ox.ac.uk/databases/cities/>. DOI: <https://doi.org/10.5287/bodleian:eqapevAn8>\n",
    "\n",
    "In titles, replace all spaces with underscores and convert case to lowercase."
   ]
  },
  {
   "cell_type": "code",
   "execution_count": null,
   "id": "4f10201f",
   "metadata": {},
   "outputs": [],
   "source": [
    "# This line resets the memory.\n",
    "connection = sqlite3.connect(\":memory:\")\n",
    "\n",
    "# Read the excel as pandas DataFrame\n",
    "cities_df = pd.read_excel('Hanson2016_citiesDatabase_OxREP.xlsx', sheet_name = 'cities')\n",
    "\n",
    "# Turn the DataFrame to SQL\n",
    "cities_df.to_sql('cities', con = connection, index = False) # Why False?"
   ]
  },
  {
   "cell_type": "markdown",
   "id": "1e7480cc",
   "metadata": {},
   "source": [
    "#### Let's perform a query"
   ]
  },
  {
   "cell_type": "code",
   "execution_count": null,
   "id": "38af9882",
   "metadata": {},
   "outputs": [],
   "source": [
    "pd.read_sql(\"SELECT * FROM cities\", connection).head()"
   ]
  },
  {
   "cell_type": "markdown",
   "id": "197d5ec2",
   "metadata": {},
   "source": [
    "#### `WHERE`"
   ]
  },
  {
   "cell_type": "code",
   "execution_count": null,
   "id": "aba895d1",
   "metadata": {},
   "outputs": [],
   "source": [
    "pd.read_sql(\"\"\"\n",
    "\n",
    "\n",
    "\"\"\", connection)"
   ]
  },
  {
   "cell_type": "markdown",
   "id": "148332af",
   "metadata": {},
   "source": [
    "#### `AND`"
   ]
  },
  {
   "cell_type": "code",
   "execution_count": null,
   "id": "4ec5c970",
   "metadata": {},
   "outputs": [],
   "source": [
    "pd.read_sql(\"\"\"\n",
    "\n",
    "\n",
    "\"\"\", connection)"
   ]
  },
  {
   "cell_type": "markdown",
   "id": "8632ac16",
   "metadata": {},
   "source": [
    "#### What is NULL?"
   ]
  },
  {
   "cell_type": "code",
   "execution_count": null,
   "id": "36b41217",
   "metadata": {},
   "outputs": [],
   "source": [
    "pd.read_sql(\"\"\"\n",
    "\n",
    "\"\"\", connection).head()"
   ]
  },
  {
   "cell_type": "markdown",
   "id": "434bc9c3",
   "metadata": {},
   "source": [
    "#### Subquery: Find all cities older than Torone in Macedonia"
   ]
  },
  {
   "cell_type": "code",
   "execution_count": null,
   "id": "8471b42f",
   "metadata": {},
   "outputs": [],
   "source": [
    "pd.read_sql(\"\"\"\n",
    "\n",
    "\n",
    "\n",
    "\"\"\", connection)"
   ]
  },
  {
   "cell_type": "markdown",
   "id": "b03c046f",
   "metadata": {},
   "source": [
    "#### Let's select all counties where there were ancient cities"
   ]
  },
  {
   "cell_type": "code",
   "execution_count": null,
   "id": "0b454752",
   "metadata": {},
   "outputs": [],
   "source": [
    "pd.read_sql(\"\"\"\n",
    "\n",
    "\n",
    "\n",
    "\"\"\", connection)"
   ]
  },
  {
   "cell_type": "markdown",
   "id": "b04ad53f",
   "metadata": {},
   "source": [
    "#### ` ORDER BY`"
   ]
  },
  {
   "cell_type": "code",
   "execution_count": null,
   "id": "c04f6907",
   "metadata": {},
   "outputs": [],
   "source": [
    "pd.read_sql(\"\"\"\n",
    "\n",
    "\n",
    "\n",
    "\"\"\", connection)"
   ]
  },
  {
   "cell_type": "markdown",
   "id": "3692a092",
   "metadata": {},
   "source": [
    "#### `DISTINCT`"
   ]
  },
  {
   "cell_type": "code",
   "execution_count": null,
   "id": "4da93e4a",
   "metadata": {
    "scrolled": true
   },
   "outputs": [],
   "source": [
    "pd.read_sql(\"\"\"\n",
    "\n",
    "\n",
    "\n",
    "\"\"\", connection)"
   ]
  },
  {
   "cell_type": "markdown",
   "id": "01d5aad5",
   "metadata": {},
   "source": [
    "#### Exercise: Find all the countries that have cities on ancient Macedonia"
   ]
  },
  {
   "cell_type": "code",
   "execution_count": null,
   "id": "0075025b",
   "metadata": {},
   "outputs": [],
   "source": [
    "pd.read_sql(\"\"\"\n",
    "\n",
    "\"\"\", connection)"
   ]
  },
  {
   "cell_type": "markdown",
   "id": "d1531d0d",
   "metadata": {},
   "source": [
    "#### Exercise: Find all provinces eastern than Athens (Athenae) that have cities are older than Athens"
   ]
  },
  {
   "cell_type": "code",
   "execution_count": null,
   "id": "f97a747c",
   "metadata": {},
   "outputs": [],
   "source": [
    "pd.read_sql(\"\"\"\n",
    "\n",
    "\"\"\", connection)"
   ]
  },
  {
   "cell_type": "markdown",
   "id": "06ddd7e5",
   "metadata": {},
   "source": [
    "#### Exercise: Count all provinces eastern than Athens (Athenae) that have cities are older than Athens"
   ]
  },
  {
   "cell_type": "code",
   "execution_count": null,
   "id": "57abb893",
   "metadata": {},
   "outputs": [],
   "source": [
    "pd.read_sql(\"\"\"\n",
    "\n",
    "\n",
    "\"\"\", connection)"
   ]
  },
  {
   "cell_type": "markdown",
   "id": "1c601e79",
   "metadata": {},
   "source": [
    "#### Read the sheet _monuments_ of Hanson2016_citiesDatabase_OxREP"
   ]
  },
  {
   "cell_type": "code",
   "execution_count": null,
   "id": "3f5180d4",
   "metadata": {},
   "outputs": [],
   "source": [
    "monuments_df = pd.read_excel('Hanson2016_citiesDatabase_OxREP.xlsx', sheet_name = 'monuments')\n",
    "\n",
    "monuments_df.to_sql('monuments', con = connection, index = False)\n",
    "\n",
    "pd.read_sql(\"SELECT * FROM monuments\", connection).head(2)"
   ]
  },
  {
   "cell_type": "markdown",
   "id": "f656794a",
   "metadata": {},
   "source": [
    "Notice that we are not creating a new connection"
   ]
  },
  {
   "cell_type": "code",
   "execution_count": null,
   "id": "ce4525a4",
   "metadata": {},
   "outputs": [],
   "source": [
    "pd.read_sql(\"\"\"\n",
    "\n",
    "\n",
    "\"\"\", connection)"
   ]
  },
  {
   "cell_type": "markdown",
   "id": "6dc77817",
   "metadata": {},
   "source": [
    "#### Exercise create an ordered list with the city of each province that has the most monuments along with the counts of the monuments"
   ]
  },
  {
   "cell_type": "code",
   "execution_count": null,
   "id": "5e9f9ae0",
   "metadata": {},
   "outputs": [],
   "source": []
  },
  {
   "cell_type": "markdown",
   "id": "d2edf9e4",
   "metadata": {},
   "source": [
    "#### What about `iloc` and `loc`?"
   ]
  },
  {
   "cell_type": "code",
   "execution_count": null,
   "id": "7e9b57eb",
   "metadata": {},
   "outputs": [],
   "source": []
  }
 ],
 "metadata": {
  "kernelspec": {
   "display_name": "Python 3",
   "language": "python",
   "name": "python3"
  },
  "language_info": {
   "codemirror_mode": {
    "name": "ipython",
    "version": 3
   },
   "file_extension": ".py",
   "mimetype": "text/x-python",
   "name": "python",
   "nbconvert_exporter": "python",
   "pygments_lexer": "ipython3",
   "version": "3.9.12"
  }
 },
 "nbformat": 4,
 "nbformat_minor": 5
}
