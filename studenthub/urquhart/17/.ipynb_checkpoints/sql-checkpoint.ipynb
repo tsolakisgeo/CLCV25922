{
 "cells": [
  {
   "cell_type": "markdown",
   "id": "29bfea10",
   "metadata": {},
   "source": [
    "#### Imports"
   ]
  },
  {
   "cell_type": "code",
   "execution_count": 1,
   "id": "160c04d2",
   "metadata": {},
   "outputs": [],
   "source": [
    "import pandas as pd\n",
    "import sqlite3\n",
    "pd.set_option('max_colwidth', None)"
   ]
  },
  {
   "cell_type": "markdown",
   "id": "5988f9dc",
   "metadata": {},
   "source": [
    "#### Initiate an empty database"
   ]
  },
  {
   "cell_type": "code",
   "execution_count": 2,
   "id": "3462e416",
   "metadata": {},
   "outputs": [],
   "source": [
    "connection = sqlite3.connect(\":memory:\")"
   ]
  },
  {
   "cell_type": "markdown",
   "id": "4707f406",
   "metadata": {},
   "source": [
    "#### Create a table"
   ]
  },
  {
   "cell_type": "code",
   "execution_count": 3,
   "id": "058e10d4",
   "metadata": {},
   "outputs": [
    {
     "data": {
      "text/plain": [
       "<sqlite3.Cursor at 0x7ff35a552260>"
      ]
     },
     "execution_count": 3,
     "metadata": {},
     "output_type": "execute_result"
    }
   ],
   "source": [
    "# CREATE A TABLE\n",
    "connection.execute('''CREATE TABLE faculty\n",
    "             (\n",
    "             id int,\n",
    "             first_name text,\n",
    "             last_name text,\n",
    "             date_of_birth date\n",
    "             )''')"
   ]
  },
  {
   "cell_type": "markdown",
   "id": "ba877795",
   "metadata": {},
   "source": [
    "#### Insert some data"
   ]
  },
  {
   "cell_type": "code",
   "execution_count": 4,
   "id": "fa7f2c71",
   "metadata": {},
   "outputs": [
    {
     "data": {
      "text/plain": [
       "<sqlite3.Cursor at 0x7ff35a5522d0>"
      ]
     },
     "execution_count": 4,
     "metadata": {},
     "output_type": "execute_result"
    }
   ],
   "source": [
    "# INSERT DATA\n",
    "connection.execute('''\n",
    "INSERT INTO faculty\n",
    "VALUES (\"1\", \"John\", \"Smith\", \"1970-01-02\"\n",
    "\n",
    ")\n",
    "''')"
   ]
  },
  {
   "cell_type": "code",
   "execution_count": 5,
   "id": "83f76f73",
   "metadata": {},
   "outputs": [
    {
     "data": {
      "text/plain": [
       "[('Smith', '1970-01-02')]"
      ]
     },
     "execution_count": 5,
     "metadata": {},
     "output_type": "execute_result"
    }
   ],
   "source": [
    "# TRIVIAL TEST VIA SELECT\n",
    "result = connection.execute(\"\"\"\n",
    "SELECT last_name, date_of_birth\n",
    "\n",
    "FROM faculty\n",
    "\n",
    "\"\"\")\n",
    "result.fetchall()"
   ]
  },
  {
   "cell_type": "markdown",
   "id": "9d90dd2a",
   "metadata": {},
   "source": [
    "#### Make the SQL database to a pandas DataFrame"
   ]
  },
  {
   "cell_type": "code",
   "execution_count": 6,
   "id": "61f204ee",
   "metadata": {},
   "outputs": [
    {
     "data": {
      "text/html": [
       "<div>\n",
       "<style scoped>\n",
       "    .dataframe tbody tr th:only-of-type {\n",
       "        vertical-align: middle;\n",
       "    }\n",
       "\n",
       "    .dataframe tbody tr th {\n",
       "        vertical-align: top;\n",
       "    }\n",
       "\n",
       "    .dataframe thead th {\n",
       "        text-align: right;\n",
       "    }\n",
       "</style>\n",
       "<table border=\"1\" class=\"dataframe\">\n",
       "  <thead>\n",
       "    <tr style=\"text-align: right;\">\n",
       "      <th></th>\n",
       "      <th>id</th>\n",
       "      <th>first_name</th>\n",
       "      <th>last_name</th>\n",
       "      <th>date_of_birth</th>\n",
       "    </tr>\n",
       "  </thead>\n",
       "  <tbody>\n",
       "    <tr>\n",
       "      <th>0</th>\n",
       "      <td>1</td>\n",
       "      <td>John</td>\n",
       "      <td>Smith</td>\n",
       "      <td>1970-01-02</td>\n",
       "    </tr>\n",
       "  </tbody>\n",
       "</table>\n",
       "</div>"
      ],
      "text/plain": [
       "   id first_name last_name date_of_birth\n",
       "0   1       John     Smith    1970-01-02"
      ]
     },
     "execution_count": 6,
     "metadata": {},
     "output_type": "execute_result"
    }
   ],
   "source": [
    "pd.read_sql(\"\"\"SELECT * FROM faculty\"\"\", connection)"
   ]
  },
  {
   "cell_type": "markdown",
   "id": "15e9b494",
   "metadata": {},
   "source": [
    "---"
   ]
  },
  {
   "cell_type": "markdown",
   "id": "d0781520",
   "metadata": {},
   "source": [
    "## Cities Database\n",
    "\n",
    "Download the [Cities Database](http://oxrep.classics.ox.ac.uk/oxrep/docs/Hanson2016/Hanson2016_CitiesDatabase_OxREP.xlsx) of Hanson, J. W. (2016) _Cities Database_ (OXREP databases). Version 1.0. Accessed (date): <http://oxrep.classics.ox.ac.uk/databases/cities/>. DOI: <https://doi.org/10.5287/bodleian:eqapevAn8>\n",
    "\n",
    "In titles, replace all spaces with underscores and convert case to lowercase."
   ]
  },
  {
   "cell_type": "code",
   "execution_count": 7,
   "id": "a073763a",
   "metadata": {},
   "outputs": [
    {
     "ename": "NameError",
     "evalue": "name 'cities_df' is not defined",
     "output_type": "error",
     "traceback": [
      "\u001b[0;31m---------------------------------------------------------------------------\u001b[0m",
      "\u001b[0;31mNameError\u001b[0m                                 Traceback (most recent call last)",
      "Input \u001b[0;32mIn [7]\u001b[0m, in \u001b[0;36m<cell line: 1>\u001b[0;34m()\u001b[0m\n\u001b[0;32m----> 1\u001b[0m \u001b[43mcities_df\u001b[49m\n",
      "\u001b[0;31mNameError\u001b[0m: name 'cities_df' is not defined"
     ]
    }
   ],
   "source": [
    "cities_df"
   ]
  },
  {
   "cell_type": "code",
   "execution_count": 10,
   "id": "4f10201f",
   "metadata": {},
   "outputs": [
    {
     "data": {
      "text/plain": [
       "1388"
      ]
     },
     "execution_count": 10,
     "metadata": {},
     "output_type": "execute_result"
    }
   ],
   "source": [
    "# This line resets the memory.\n",
    "connection = sqlite3.connect(\":memory:\")\n",
    "\n",
    "# Read the excel as pandas DataFrame\n",
    "cities_df = pd.read_excel('Hanson2016_citiesDatabase_OxREP.xlsx', sheet_name = 'cities')\n",
    "\n",
    "# Turn the DataFrame to SQL\n",
    "cities_df.to_sql('cities', con = connection, index = False) # Why False?"
   ]
  },
  {
   "cell_type": "markdown",
   "id": "1e7480cc",
   "metadata": {},
   "source": [
    "#### Let's perform a query"
   ]
  },
  {
   "cell_type": "code",
   "execution_count": null,
   "id": "38af9882",
   "metadata": {},
   "outputs": [],
   "source": [
    "pd.read_sql(\"SELECT * FROM cities\", connection).head()"
   ]
  },
  {
   "cell_type": "markdown",
   "id": "197d5ec2",
   "metadata": {},
   "source": [
    "#### `WHERE`"
   ]
  },
  {
   "cell_type": "code",
   "execution_count": null,
   "id": "aba895d1",
   "metadata": {},
   "outputs": [],
   "source": [
    "pd.read_sql(\"\"\"\n",
    "\n",
    "SELECT id, ancient_toponym, modern_toponym, province, country, start_date, end_date\n",
    "\n",
    "FROM cities\n",
    "\n",
    "WHERE province LIKE '%Maced%'\n",
    "\n",
    "\"\"\", connection)"
   ]
  },
  {
   "cell_type": "markdown",
   "id": "148332af",
   "metadata": {},
   "source": [
    "#### `AND`"
   ]
  },
  {
   "cell_type": "code",
   "execution_count": null,
   "id": "4ec5c970",
   "metadata": {},
   "outputs": [],
   "source": [
    "pd.read_sql(\"\"\"\n",
    "\n",
    "SELECT id, ancient_toponym, modern_toponym, province, country, start_date, end_date\n",
    "\n",
    "FROM cities\n",
    "\n",
    "WHERE province = 'Macedonia'\n",
    "\n",
    "AND start_date > -323\n",
    "\n",
    "\n",
    "\n",
    "\"\"\", connection)"
   ]
  },
  {
   "cell_type": "markdown",
   "id": "8632ac16",
   "metadata": {},
   "source": [
    "#### What is NULL?"
   ]
  },
  {
   "cell_type": "code",
   "execution_count": null,
   "id": "36b41217",
   "metadata": {},
   "outputs": [],
   "source": [
    "pd.read_sql(\"\"\"\n",
    "\n",
    "SELECT id, ancient_toponym, modern_toponym, province, country, start_date, end_date\n",
    "\n",
    "FROM cities\n",
    "\n",
    "WHERE province = 'Macedonia'\n",
    "\n",
    "AND end_date IS NULL\n",
    "\n",
    "\n",
    "\"\"\", connection).head()"
   ]
  },
  {
   "cell_type": "markdown",
   "id": "434bc9c3",
   "metadata": {},
   "source": [
    "#### Subquery: Find all cities older than Torone in Macedonia"
   ]
  },
  {
   "cell_type": "code",
   "execution_count": null,
   "id": "8471b42f",
   "metadata": {},
   "outputs": [],
   "source": [
    "pd.read_sql(\"\"\"\n",
    "\n",
    "SELECT id, ancient_toponym, modern_toponym, province, country, start_date, end_date\n",
    "\n",
    "FROM cities\n",
    "\n",
    "WHERE province = 'Macedonia'\n",
    "\n",
    "AND start_date <= (\n",
    "\n",
    "SELECT start_date\n",
    "\n",
    "FROM cities\n",
    "\n",
    "WHERE ancient_toponym = \"Torone\"\n",
    "\n",
    ")\n",
    "\n",
    "\"\"\", connection)"
   ]
  },
  {
   "cell_type": "markdown",
   "id": "b03c046f",
   "metadata": {},
   "source": [
    "#### Let's select all countries where there were ancient cities"
   ]
  },
  {
   "cell_type": "code",
   "execution_count": null,
   "id": "0b454752",
   "metadata": {},
   "outputs": [],
   "source": [
    "pd.read_sql(\"\"\"\n",
    "\n",
    "SELECT country\n",
    "\n",
    "FROM cities\n",
    "\n",
    "\n",
    "\n",
    "\"\"\", connection)"
   ]
  },
  {
   "cell_type": "markdown",
   "id": "b04ad53f",
   "metadata": {},
   "source": [
    "#### ` ORDER BY`"
   ]
  },
  {
   "cell_type": "code",
   "execution_count": null,
   "id": "c04f6907",
   "metadata": {},
   "outputs": [],
   "source": [
    "pd.read_sql(\"\"\"\n",
    "\n",
    "SELECT country\n",
    "\n",
    "FROM cities\n",
    "\n",
    "ORDER BY country\n",
    "\n",
    "\"\"\", connection)"
   ]
  },
  {
   "cell_type": "markdown",
   "id": "3692a092",
   "metadata": {},
   "source": [
    "#### `DISTINCT`"
   ]
  },
  {
   "cell_type": "code",
   "execution_count": null,
   "id": "4da93e4a",
   "metadata": {
    "scrolled": true
   },
   "outputs": [],
   "source": [
    "pd.read_sql(\"\"\"\n",
    "\n",
    "SELECT DISTINCT country\n",
    "\n",
    "FROM cities\n",
    "\n",
    "ORDER BY country\n",
    "\n",
    "\"\"\", connection)"
   ]
  },
  {
   "cell_type": "markdown",
   "id": "01d5aad5",
   "metadata": {},
   "source": [
    "#### Exercise: Find all the countries that have cities on ancient Macedonia"
   ]
  },
  {
   "cell_type": "code",
   "execution_count": null,
   "id": "0075025b",
   "metadata": {},
   "outputs": [],
   "source": [
    "pd.read_sql(\"\"\"\n",
    "\n",
    "SELECT DISTINCT country\n",
    "\n",
    "FROM cities\n",
    "\n",
    "WHERE province = 'Macedonia'\n",
    "\n",
    "\n",
    "\"\"\", connection)"
   ]
  },
  {
   "cell_type": "markdown",
   "id": "d1531d0d",
   "metadata": {},
   "source": [
    "#### Exercise: Find all provinces eastern than Athens (Athenae) that have cities are newer than Athens"
   ]
  },
  {
   "cell_type": "code",
   "execution_count": null,
   "id": "f97a747c",
   "metadata": {},
   "outputs": [],
   "source": [
    "pd.read_sql(\"\"\"\n",
    "\n",
    "SELECT DISTINCT province\n",
    "\n",
    "FROM cities\n",
    "\n",
    "WHERE latitude < (\n",
    "\n",
    "SELECT latitude\n",
    "\n",
    "FROM cities\n",
    "\n",
    "WHERE ancient_toponym = 'Athenae'\n",
    "\n",
    ")\n",
    "\n",
    "AND start_date > (\n",
    "\n",
    "SELECT start_date\n",
    "\n",
    "FROM cities\n",
    "\n",
    "WHERE ancient_toponym = 'Athenae'\n",
    "\n",
    ")\n",
    "\n",
    "\"\"\", connection)"
   ]
  },
  {
   "cell_type": "markdown",
   "id": "06ddd7e5",
   "metadata": {},
   "source": [
    "#### Exercise: Count all provinces eastern than Athens (Athenae) that have cities are newer than Athens"
   ]
  },
  {
   "cell_type": "code",
   "execution_count": null,
   "id": "57abb893",
   "metadata": {},
   "outputs": [],
   "source": [
    "pd.read_sql(\"\"\"\n",
    "\n",
    "SELECT DISTINCT province, count(*) as count\n",
    "\n",
    "FROM cities\n",
    "\n",
    "WHERE latitude < (\n",
    "\n",
    "SELECT latitude\n",
    "\n",
    "FROM cities\n",
    "\n",
    "WHERE ancient_toponym = 'Athenae'\n",
    "\n",
    ")\n",
    "\n",
    "AND start_date > (\n",
    "\n",
    "SELECT start_date\n",
    "\n",
    "FROM cities\n",
    "\n",
    "WHERE ancient_toponym = 'Athenae'\n",
    "\n",
    ")\n",
    "\n",
    "GROUP BY province\n",
    "\n",
    "\n",
    "\"\"\", connection)"
   ]
  },
  {
   "cell_type": "markdown",
   "id": "1c601e79",
   "metadata": {},
   "source": [
    "#### Read the sheet _monuments_ of Hanson2016_citiesDatabase_OxREP"
   ]
  },
  {
   "cell_type": "code",
   "execution_count": 12,
   "id": "3f5180d4",
   "metadata": {},
   "outputs": [
    {
     "data": {
      "text/html": [
       "<div>\n",
       "<style scoped>\n",
       "    .dataframe tbody tr th:only-of-type {\n",
       "        vertical-align: middle;\n",
       "    }\n",
       "\n",
       "    .dataframe tbody tr th {\n",
       "        vertical-align: top;\n",
       "    }\n",
       "\n",
       "    .dataframe thead th {\n",
       "        text-align: right;\n",
       "    }\n",
       "</style>\n",
       "<table border=\"1\" class=\"dataframe\">\n",
       "  <thead>\n",
       "    <tr style=\"text-align: right;\">\n",
       "      <th></th>\n",
       "      <th>id</th>\n",
       "      <th>structure</th>\n",
       "    </tr>\n",
       "  </thead>\n",
       "  <tbody>\n",
       "    <tr>\n",
       "      <th>0</th>\n",
       "      <td>Hanson2016_1</td>\n",
       "      <td>Acropolis</td>\n",
       "    </tr>\n",
       "    <tr>\n",
       "      <th>1</th>\n",
       "      <td>Hanson2016_1</td>\n",
       "      <td>Agora</td>\n",
       "    </tr>\n",
       "  </tbody>\n",
       "</table>\n",
       "</div>"
      ],
      "text/plain": [
       "             id  structure\n",
       "0  Hanson2016_1  Acropolis\n",
       "1  Hanson2016_1      Agora"
      ]
     },
     "execution_count": 12,
     "metadata": {},
     "output_type": "execute_result"
    }
   ],
   "source": [
    "monuments_df = pd.read_excel('Hanson2016_citiesDatabase_OxREP.xlsx', sheet_name = 'monuments')\n",
    "\n",
    "monuments_df.to_sql('monuments', con = connection, index = False)\n",
    "\n",
    "pd.read_sql(\"SELECT * FROM monuments\", connection).head(2)"
   ]
  },
  {
   "cell_type": "markdown",
   "id": "f656794a",
   "metadata": {},
   "source": [
    "Notice that we are not creating a new connection"
   ]
  },
  {
   "cell_type": "code",
   "execution_count": 13,
   "id": "ce4525a4",
   "metadata": {},
   "outputs": [
    {
     "data": {
      "text/html": [
       "<div>\n",
       "<style scoped>\n",
       "    .dataframe tbody tr th:only-of-type {\n",
       "        vertical-align: middle;\n",
       "    }\n",
       "\n",
       "    .dataframe tbody tr th {\n",
       "        vertical-align: top;\n",
       "    }\n",
       "\n",
       "    .dataframe thead th {\n",
       "        text-align: right;\n",
       "    }\n",
       "</style>\n",
       "<table border=\"1\" class=\"dataframe\">\n",
       "  <thead>\n",
       "    <tr style=\"text-align: right;\">\n",
       "      <th></th>\n",
       "      <th>ancient_toponym</th>\n",
       "      <th>structure</th>\n",
       "    </tr>\n",
       "  </thead>\n",
       "  <tbody>\n",
       "    <tr>\n",
       "      <th>0</th>\n",
       "      <td>Abae</td>\n",
       "      <td>Acropolis</td>\n",
       "    </tr>\n",
       "    <tr>\n",
       "      <th>1</th>\n",
       "      <td>Abae</td>\n",
       "      <td>Agora</td>\n",
       "    </tr>\n",
       "    <tr>\n",
       "      <th>2</th>\n",
       "      <td>Abae</td>\n",
       "      <td>Temple of Apollo</td>\n",
       "    </tr>\n",
       "    <tr>\n",
       "      <th>3</th>\n",
       "      <td>Abae</td>\n",
       "      <td>Theatre</td>\n",
       "    </tr>\n",
       "    <tr>\n",
       "      <th>4</th>\n",
       "      <td>Abae</td>\n",
       "      <td>Walls</td>\n",
       "    </tr>\n",
       "    <tr>\n",
       "      <th>...</th>\n",
       "      <td>...</td>\n",
       "      <td>...</td>\n",
       "    </tr>\n",
       "    <tr>\n",
       "      <th>9466</th>\n",
       "      <td>Seuthopolis</td>\n",
       "      <td>Temple of Dionysus</td>\n",
       "    </tr>\n",
       "    <tr>\n",
       "      <th>9467</th>\n",
       "      <td>Seuthopolis</td>\n",
       "      <td>Urban grid</td>\n",
       "    </tr>\n",
       "    <tr>\n",
       "      <th>9468</th>\n",
       "      <td>Seuthopolis</td>\n",
       "      <td>Walls</td>\n",
       "    </tr>\n",
       "    <tr>\n",
       "      <th>9469</th>\n",
       "      <td>Bararus</td>\n",
       "      <td>Theatre</td>\n",
       "    </tr>\n",
       "    <tr>\n",
       "      <th>9470</th>\n",
       "      <td>Aventicum</td>\n",
       "      <td>Theatre</td>\n",
       "    </tr>\n",
       "  </tbody>\n",
       "</table>\n",
       "<p>9471 rows × 2 columns</p>\n",
       "</div>"
      ],
      "text/plain": [
       "     ancient_toponym           structure\n",
       "0               Abae           Acropolis\n",
       "1               Abae               Agora\n",
       "2               Abae    Temple of Apollo\n",
       "3               Abae             Theatre\n",
       "4               Abae               Walls\n",
       "...              ...                 ...\n",
       "9466     Seuthopolis  Temple of Dionysus\n",
       "9467     Seuthopolis          Urban grid\n",
       "9468     Seuthopolis               Walls\n",
       "9469         Bararus             Theatre\n",
       "9470       Aventicum             Theatre\n",
       "\n",
       "[9471 rows x 2 columns]"
      ]
     },
     "execution_count": 13,
     "metadata": {},
     "output_type": "execute_result"
    }
   ],
   "source": [
    "pd.read_sql(\"\"\"\n",
    "\n",
    "SELECT cities.ancient_toponym, monuments.structure\n",
    "\n",
    "FROM monuments\n",
    "\n",
    "JOIN cities ON cities.id = monuments.id\n",
    "\n",
    "\n",
    "\"\"\", connection)"
   ]
  },
  {
   "cell_type": "markdown",
   "id": "6dc77817",
   "metadata": {},
   "source": [
    "#### Exercise create an ordered list with the city of each province that has the most monuments along with the counts of the monuments"
   ]
  },
  {
   "cell_type": "code",
   "execution_count": null,
   "id": "5e9f9ae0",
   "metadata": {},
   "outputs": [],
   "source": []
  },
  {
   "cell_type": "markdown",
   "id": "d2edf9e4",
   "metadata": {},
   "source": [
    "#### What about `iloc` and `loc`?"
   ]
  },
  {
   "cell_type": "code",
   "execution_count": null,
   "id": "7e9b57eb",
   "metadata": {},
   "outputs": [],
   "source": []
  }
 ],
 "metadata": {
  "kernelspec": {
   "display_name": "Python 3 (ipykernel)",
   "language": "python",
   "name": "python3"
  },
  "language_info": {
   "codemirror_mode": {
    "name": "ipython",
    "version": 3
   },
   "file_extension": ".py",
   "mimetype": "text/x-python",
   "name": "python",
   "nbconvert_exporter": "python",
   "pygments_lexer": "ipython3",
   "version": "3.9.12"
  }
 },
 "nbformat": 4,
 "nbformat_minor": 5
}
