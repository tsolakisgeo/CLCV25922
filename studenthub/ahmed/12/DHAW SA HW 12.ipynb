{
 "cells": [
  {
   "cell_type": "code",
   "execution_count": 2,
   "id": "df9bdbb7",
   "metadata": {},
   "outputs": [],
   "source": [
    "import json\n",
    "import urllib.request\n",
    "import pandas as pd"
   ]
  },
  {
   "cell_type": "code",
   "execution_count": 3,
   "id": "a2119e0e",
   "metadata": {},
   "outputs": [],
   "source": [
    "mypleiadesplaces = [['Athens', '579885'], ['Abila', '697622']]"
   ]
  },
  {
   "cell_type": "code",
   "execution_count": 4,
   "id": "05e5e424",
   "metadata": {},
   "outputs": [],
   "source": [
    "def getjson(pleiadesID):\n",
    "    url = f\"https://pleiades.stoa.org/places/{pleiadesID}/json\"\n",
    "    \n",
    "    with urllib.request.urlopen(url) as f:\n",
    "        pleiades_geojson = json.loads(f.read().decode())\n",
    "    \n",
    "    return pleiades_geojson"
   ]
  },
  {
   "cell_type": "code",
   "execution_count": 40,
   "id": "6d7c8760",
   "metadata": {},
   "outputs": [
    {
     "data": {
      "text/plain": [
       "'Abila'"
      ]
     },
     "execution_count": 40,
     "metadata": {},
     "output_type": "execute_result"
    }
   ],
   "source": [
    "def name(pleiades_geojson):\n",
    "    try:    \n",
    "        pleiades_geojson['names'][1]['attested']\n",
    "        return pleiades_geojson['names'][1]['attested']\n",
    "  \n",
    "    except:\n",
    "        return pleiades_geojson['title']\n",
    "name(getjson(697622))"
   ]
  },
  {
   "cell_type": "code",
   "execution_count": 13,
   "id": "60aa26cf",
   "metadata": {},
   "outputs": [
    {
     "data": {
      "text/plain": [
       "[23.726268222011864, 37.972453602957316]"
      ]
     },
     "execution_count": 13,
     "metadata": {},
     "output_type": "execute_result"
    }
   ],
   "source": [
    "def coordinates(pleiades_geojson):\n",
    "    try:    \n",
    "        pleiades_geojson['features'][0]['geometry']['coordinates']\n",
    "        return pleiades_geojson['features'][0]['geometry']['coordinates']\n",
    "  \n",
    "    except:\n",
    "        return pleiades_geojson['reprPoint']\n",
    "coordinates(getjson(579885))"
   ]
  },
  {
   "cell_type": "code",
   "execution_count": 97,
   "id": "28d3019f",
   "metadata": {},
   "outputs": [],
   "source": [
    "def makecsv(pleiadesID):\n",
    "    pleiades_df = pd.DataFrame(columns = ['name', 'long', 'lat'])\n",
    "    info_df = pd.DataFrame(\n",
    "        {'name': [name(getjson(pleiadesID))],\n",
    "         'long': [coordinates(getjson(pleiadesID))[0]],\n",
    "         'lat': [coordinates(getjson(pleiadesID))[1]]})\n",
    "    pleiades_df = pleiades_df.append(info_df).set_index('name')\n",
    "    pleiades_df.to_csv('sulsplaces.csv')"
   ]
  },
  {
   "cell_type": "code",
   "execution_count": 93,
   "id": "779d0706",
   "metadata": {},
   "outputs": [],
   "source": [
    "def makecsvlist(pleiadesIDlist):\n",
    "    for pleiadesID in pleiadesIDlist:\n",
    "        return makecsv(pleiadesID)"
   ]
  },
  {
   "cell_type": "code",
   "execution_count": 100,
   "id": "c69671d0",
   "metadata": {},
   "outputs": [
    {
     "name": "stderr",
     "output_type": "stream",
     "text": [
      "/var/folders/7w/0p4xs8rx5csdcvzthg89dph80000gn/T/ipykernel_49924/2737140841.py:7: FutureWarning: The frame.append method is deprecated and will be removed from pandas in a future version. Use pandas.concat instead.\n",
      "  pleiades_df = pleiades_df.append(info_df).set_index('name')\n"
     ]
    }
   ],
   "source": [
    "makecsv(541138)"
   ]
  },
  {
   "cell_type": "code",
   "execution_count": 95,
   "id": "ccc5f8ac",
   "metadata": {},
   "outputs": [
    {
     "ename": "IndexError",
     "evalue": "list index out of range",
     "output_type": "error",
     "traceback": [
      "\u001b[0;31m---------------------------------------------------------------------------\u001b[0m",
      "\u001b[0;31mIndexError\u001b[0m                                Traceback (most recent call last)",
      "Input \u001b[0;32mIn [95]\u001b[0m, in \u001b[0;36m<cell line: 1>\u001b[0;34m()\u001b[0m\n\u001b[0;32m----> 1\u001b[0m \u001b[43mmakecsvlist\u001b[49m\u001b[43m(\u001b[49m\u001b[43mIDlist\u001b[49m\u001b[43m)\u001b[49m\n",
      "Input \u001b[0;32mIn [93]\u001b[0m, in \u001b[0;36mmakecsvlist\u001b[0;34m(pleiadesIDlist)\u001b[0m\n\u001b[1;32m      1\u001b[0m \u001b[38;5;28;01mdef\u001b[39;00m \u001b[38;5;21mmakecsvlist\u001b[39m(pleiadesIDlist):\n\u001b[1;32m      2\u001b[0m     \u001b[38;5;28;01mfor\u001b[39;00m pleiadesID \u001b[38;5;129;01min\u001b[39;00m pleiadesIDlist:\n\u001b[0;32m----> 3\u001b[0m         \u001b[38;5;28;01mreturn\u001b[39;00m \u001b[43mmakecsv\u001b[49m\u001b[43m(\u001b[49m\u001b[43mpleiadesID\u001b[49m\u001b[43m)\u001b[49m\n",
      "Input \u001b[0;32mIn [75]\u001b[0m, in \u001b[0;36mmakecsv\u001b[0;34m(pleiadesID)\u001b[0m\n\u001b[1;32m      1\u001b[0m \u001b[38;5;28;01mdef\u001b[39;00m \u001b[38;5;21mmakecsv\u001b[39m(pleiadesID):\n\u001b[1;32m      2\u001b[0m     pleiades_df \u001b[38;5;241m=\u001b[39m pd\u001b[38;5;241m.\u001b[39mDataFrame(columns \u001b[38;5;241m=\u001b[39m [\u001b[38;5;124m'\u001b[39m\u001b[38;5;124mname\u001b[39m\u001b[38;5;124m'\u001b[39m, \u001b[38;5;124m'\u001b[39m\u001b[38;5;124mlong\u001b[39m\u001b[38;5;124m'\u001b[39m, \u001b[38;5;124m'\u001b[39m\u001b[38;5;124mlat\u001b[39m\u001b[38;5;124m'\u001b[39m])\n\u001b[1;32m      3\u001b[0m     info_df \u001b[38;5;241m=\u001b[39m pd\u001b[38;5;241m.\u001b[39mDataFrame(\n\u001b[1;32m      4\u001b[0m         {\u001b[38;5;124m'\u001b[39m\u001b[38;5;124mname\u001b[39m\u001b[38;5;124m'\u001b[39m: [name(getjson(pleiadesID))],\n\u001b[1;32m      5\u001b[0m          \u001b[38;5;124m'\u001b[39m\u001b[38;5;124mlong\u001b[39m\u001b[38;5;124m'\u001b[39m: [coordinates(getjson(pleiadesID))[\u001b[38;5;241m0\u001b[39m]],\n\u001b[0;32m----> 6\u001b[0m          \u001b[38;5;124m'\u001b[39m\u001b[38;5;124mlat\u001b[39m\u001b[38;5;124m'\u001b[39m: [\u001b[43mcoordinates\u001b[49m\u001b[43m(\u001b[49m\u001b[43mgetjson\u001b[49m\u001b[43m(\u001b[49m\u001b[43mpleiadesID\u001b[49m\u001b[43m)\u001b[49m\u001b[43m)\u001b[49m\u001b[43m[\u001b[49m\u001b[38;5;241;43m1\u001b[39;49m\u001b[43m]\u001b[49m]})\n\u001b[1;32m      7\u001b[0m     pleiades_df \u001b[38;5;241m=\u001b[39m pleiades_df\u001b[38;5;241m.\u001b[39mappend(info_df)\u001b[38;5;241m.\u001b[39mset_index(\u001b[38;5;124m'\u001b[39m\u001b[38;5;124mname\u001b[39m\u001b[38;5;124m'\u001b[39m)\n\u001b[1;32m      8\u001b[0m     pleiades_df\u001b[38;5;241m.\u001b[39mto_csv(\u001b[38;5;124m'\u001b[39m\u001b[38;5;124msulsplaces.csv\u001b[39m\u001b[38;5;124m'\u001b[39m)\n",
      "\u001b[0;31mIndexError\u001b[0m: list index out of range"
     ]
    }
   ],
   "source": [
    "csvlist(IDlist)"
   ]
  },
  {
   "cell_type": "code",
   "execution_count": 98,
   "id": "9b945cfb",
   "metadata": {},
   "outputs": [
    {
     "name": "stderr",
     "output_type": "stream",
     "text": [
      "/var/folders/7w/0p4xs8rx5csdcvzthg89dph80000gn/T/ipykernel_49924/2737140841.py:7: FutureWarning: The frame.append method is deprecated and will be removed from pandas in a future version. Use pandas.concat instead.\n",
      "  pleiades_df = pleiades_df.append(info_df).set_index('name')\n"
     ]
    }
   ],
   "source": [
    "makecsv(579885)"
   ]
  },
  {
   "cell_type": "code",
   "execution_count": 99,
   "id": "9ebe6463",
   "metadata": {},
   "outputs": [
    {
     "name": "stderr",
     "output_type": "stream",
     "text": [
      "/var/folders/7w/0p4xs8rx5csdcvzthg89dph80000gn/T/ipykernel_49924/2737140841.py:7: FutureWarning: The frame.append method is deprecated and will be removed from pandas in a future version. Use pandas.concat instead.\n",
      "  pleiades_df = pleiades_df.append(info_df).set_index('name')\n"
     ]
    }
   ],
   "source": [
    "makecsv(697622)"
   ]
  },
  {
   "cell_type": "code",
   "execution_count": null,
   "id": "f0bfe707",
   "metadata": {},
   "outputs": [],
   "source": []
  }
 ],
 "metadata": {
  "kernelspec": {
   "display_name": "Python 3 (ipykernel)",
   "language": "python",
   "name": "python3"
  },
  "language_info": {
   "codemirror_mode": {
    "name": "ipython",
    "version": 3
   },
   "file_extension": ".py",
   "mimetype": "text/x-python",
   "name": "python",
   "nbconvert_exporter": "python",
   "pygments_lexer": "ipython3",
   "version": "3.9.12"
  }
 },
 "nbformat": 4,
 "nbformat_minor": 5
}
