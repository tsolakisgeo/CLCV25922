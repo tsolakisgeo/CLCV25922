{
 "cells": [
  {
   "cell_type": "code",
   "execution_count": 2,
   "id": "c1039b60",
   "metadata": {},
   "outputs": [],
   "source": [
    "def move(f, t):\n",
    "    print(f\"Move {f} to {t}.\")"
   ]
  },
  {
   "cell_type": "code",
   "execution_count": 3,
   "id": "9983efac",
   "metadata": {},
   "outputs": [
    {
     "name": "stdout",
     "output_type": "stream",
     "text": [
      "Move A to B.\n"
     ]
    }
   ],
   "source": [
    "move(\"A\", \"B\")"
   ]
  },
  {
   "cell_type": "code",
   "execution_count": 6,
   "id": "cb0be73e",
   "metadata": {},
   "outputs": [],
   "source": [
    "def hanoi(f, v, t, n): \n",
    "    if n>0:\n",
    "        hanoi(f, t, v, n-1)\n",
    "        move(f, t)\n",
    "        hanoi(v, f, t, n-1)"
   ]
  },
  {
   "cell_type": "code",
   "execution_count": 7,
   "id": "d704536c",
   "metadata": {},
   "outputs": [
    {
     "name": "stdout",
     "output_type": "stream",
     "text": [
      "Move A to C.\n",
      "Move A to B.\n",
      "Move C to B.\n",
      "Move A to C.\n",
      "Move B to A.\n",
      "Move B to C.\n",
      "Move A to C.\n"
     ]
    }
   ],
   "source": [
    "hanoi(\"A\",\"B\",\"C\", 3)"
   ]
  },
  {
   "cell_type": "code",
   "execution_count": null,
   "id": "e39ed714",
   "metadata": {},
   "outputs": [],
   "source": []
  }
 ],
 "metadata": {
  "kernelspec": {
   "display_name": "Python 3 (ipykernel)",
   "language": "python",
   "name": "python3"
  },
  "language_info": {
   "codemirror_mode": {
    "name": "ipython",
    "version": 3
   },
   "file_extension": ".py",
   "mimetype": "text/x-python",
   "name": "python",
   "nbconvert_exporter": "python",
   "pygments_lexer": "ipython3",
   "version": "3.9.12"
  }
 },
 "nbformat": 4,
 "nbformat_minor": 5
}
