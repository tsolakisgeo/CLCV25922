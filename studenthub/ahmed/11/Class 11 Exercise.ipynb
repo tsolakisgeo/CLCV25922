{
 "cells": [
  {
   "cell_type": "code",
   "execution_count": null,
   "id": "7b4300e4",
   "metadata": {},
   "outputs": [],
   "source": [
    "with open ('text.txt') as f:\n",
    "    f.read()"
   ]
  },
  {
   "cell_type": "code",
   "execution_count": 10,
   "id": "df9bdbb7",
   "metadata": {},
   "outputs": [],
   "source": [
    "import json\n",
    "import urllib.request\n",
    "import pandas as pd"
   ]
  },
  {
   "cell_type": "code",
   "execution_count": 3,
   "id": "0ee69ec4",
   "metadata": {},
   "outputs": [
    {
     "name": "stdout",
     "output_type": "stream",
     "text": [
      "2.0.9\n"
     ]
    }
   ],
   "source": [
    "print(json.__version__)"
   ]
  },
  {
   "cell_type": "code",
   "execution_count": 4,
   "id": "94a61d75",
   "metadata": {},
   "outputs": [
    {
     "name": "stdout",
     "output_type": "stream",
     "text": [
      "3.9\n"
     ]
    }
   ],
   "source": [
    "print(urllib.request.__version__)"
   ]
  },
  {
   "cell_type": "code",
   "execution_count": 6,
   "id": "42d40d48",
   "metadata": {},
   "outputs": [],
   "source": [
    "def getjson(pleiadesID):\n",
    "    url = f\"https://pleiades.stoa.org/places/{pleiadesID}/json\"\n",
    "    \n",
    "    with urllib.request.urlopen(url) as f:\n",
    "        pleiades_geojson = json.loads(f.read().decode())\n",
    "    \n",
    "    return pleiades_geojson"
   ]
  },
  {
   "cell_type": "code",
   "execution_count": 8,
   "id": "e5a3264b",
   "metadata": {},
   "outputs": [
    {
     "data": {
      "text/plain": [
       "[23.726268222011864, 37.972453602957316]"
      ]
     },
     "execution_count": 8,
     "metadata": {},
     "output_type": "execute_result"
    }
   ],
   "source": [
    "def coordinates(pleiades_geojson):\n",
    "    try:    \n",
    "        pleiades_geojson['features'][0]['geometry']['coordinates']\n",
    "        return pleiades_geojson['features'][0]['geometry']['coordinates']\n",
    "  \n",
    "    except:\n",
    "        return pleiades_geojson['reprPoint']\n",
    "\n",
    "coordinates(myfile)"
   ]
  },
  {
   "cell_type": "code",
   "execution_count": 11,
   "id": "62c7286b",
   "metadata": {
    "scrolled": true
   },
   "outputs": [
    {
     "name": "stdout",
     "output_type": "stream",
     "text": [
      "[23.726268222011864, 37.972453602957316]\n",
      "[35.635409, 31.858619]\n"
     ]
    }
   ],
   "source": [
    "for i in mypleiadesplaces:\n",
    "    tempid = getjson(i[1])\n",
    "    print(coordinates(tempid))"
   ]
  },
  {
   "cell_type": "code",
   "execution_count": 42,
   "id": "4e107cfd",
   "metadata": {},
   "outputs": [
    {
     "name": "stdout",
     "output_type": "stream",
     "text": [
      "Athens [23.726268222011864, 37.972453602957316]\n",
      "Abila [35.635409, 31.858619]\n"
     ]
    }
   ],
   "source": [
    "for i in mypleiadesplaces:\n",
    "    print(i[0], coordinates(getjson(i[1])))"
   ]
  },
  {
   "cell_type": "code",
   "execution_count": null,
   "id": "1b172708",
   "metadata": {},
   "outputs": [],
   "source": []
  }
 ],
 "metadata": {
  "kernelspec": {
   "display_name": "Python 3 (ipykernel)",
   "language": "python",
   "name": "python3"
  },
  "language_info": {
   "codemirror_mode": {
    "name": "ipython",
    "version": 3
   },
   "file_extension": ".py",
   "mimetype": "text/x-python",
   "name": "python",
   "nbconvert_exporter": "python",
   "pygments_lexer": "ipython3",
   "version": "3.9.12"
  }
 },
 "nbformat": 4,
 "nbformat_minor": 5
}
