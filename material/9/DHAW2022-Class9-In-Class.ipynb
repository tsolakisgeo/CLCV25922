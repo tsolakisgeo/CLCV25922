{
 "cells": [
  {
   "cell_type": "markdown",
   "id": "1dea4bf9",
   "metadata": {},
   "source": [
    "#### Imports"
   ]
  },
  {
   "cell_type": "code",
   "execution_count": 27,
   "id": "e98139ba",
   "metadata": {},
   "outputs": [],
   "source": [
    "import pandas as pd\n",
    "import json\n",
    "import urllib.request\n",
    "from random import randint\n",
    "pd.set_option('display.max_rows', 500)\n",
    "pd.set_option('display.max_columns', 500)\n",
    "pd.set_option('display.width', 1000)"
   ]
  },
  {
   "cell_type": "markdown",
   "id": "398d45c3",
   "metadata": {},
   "source": [
    "#### Download the latest [Pleiades names](https://atlantides.org/downloads/pleiades/dumps/pleiades-places-latest.csv.gz), extract the compressed file, and read the csv file."
   ]
  },
  {
   "cell_type": "code",
   "execution_count": 28,
   "id": "e5af4645",
   "metadata": {},
   "outputs": [],
   "source": [
    "df = pd.read_csv('pleiades-places-latest.csv')"
   ]
  },
  {
   "cell_type": "code",
   "execution_count": 29,
   "id": "88ec92c0",
   "metadata": {},
   "outputs": [],
   "source": [
    "mypleiadesplaces = [['Athens', '579885'], ['Abila', '697622']]"
   ]
  },
  {
   "cell_type": "code",
   "execution_count": 30,
   "id": "81c1e6a6",
   "metadata": {},
   "outputs": [],
   "source": [
    "def getjson(pleiadesID):\n",
    "    url = f\"https://pleiades.stoa.org/places/{pleiadesID}/json\"\n",
    "    \n",
    "    with urllib.request.urlopen(url) as f:\n",
    "        pleiades_geojson = json.loads(f.read().decode())\n",
    "    \n",
    "    return pleiades_geojson"
   ]
  },
  {
   "cell_type": "code",
   "execution_count": 31,
   "id": "7ebf97cd",
   "metadata": {},
   "outputs": [],
   "source": [
    "def coordinates(pleiades_geojson):\n",
    "    try:    \n",
    "        pleiades_geojson['features'][0]['geometry']['coordinates']\n",
    "        return pleiades_geojson['features'][0]['geometry']['coordinates']\n",
    "  \n",
    "    except:\n",
    "        return pleiades_geojson['reprPoint']\n"
   ]
  },
  {
   "cell_type": "code",
   "execution_count": 32,
   "id": "08edb962",
   "metadata": {},
   "outputs": [],
   "source": []
  },
  {
   "cell_type": "code",
   "execution_count": 34,
   "id": "077b9514",
   "metadata": {},
   "outputs": [],
   "source": []
  },
  {
   "cell_type": "code",
   "execution_count": null,
   "id": "b6e7b6b4",
   "metadata": {},
   "outputs": [],
   "source": []
  }
 ],
 "metadata": {
  "kernelspec": {
   "display_name": "Python 3",
   "language": "python",
   "name": "python3"
  },
  "language_info": {
   "codemirror_mode": {
    "name": "ipython",
    "version": 3
   },
   "file_extension": ".py",
   "mimetype": "text/x-python",
   "name": "python",
   "nbconvert_exporter": "python",
   "pygments_lexer": "ipython3",
   "version": "3.9.12"
  }
 },
 "nbformat": 4,
 "nbformat_minor": 5
}
