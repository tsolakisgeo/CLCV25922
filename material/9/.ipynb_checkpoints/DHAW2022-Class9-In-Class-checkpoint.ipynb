{
 "cells": [
  {
   "cell_type": "markdown",
   "id": "1dea4bf9",
   "metadata": {},
   "source": [
    "#### Imports"
   ]
  },
  {
   "cell_type": "code",
   "execution_count": 6,
   "id": "e98139ba",
   "metadata": {},
   "outputs": [],
   "source": [
    "import pandas as pd\n",
    "import json\n",
    "import urllib.request\n",
    "# from random import randint\n",
    "pd.set_option('display.max_rows', 500)\n",
    "pd.set_option('display.max_columns', 500)\n",
    "pd.set_option('display.width', 1000)"
   ]
  },
  {
   "cell_type": "markdown",
   "id": "398d45c3",
   "metadata": {},
   "source": [
    "#### Download the latest [Pleiades names](https://atlantides.org/downloads/pleiades/dumps/pleiades-places-latest.csv.gz), extract the compressed file, and read the csv file."
   ]
  },
  {
   "cell_type": "code",
   "execution_count": 2,
   "id": "e5af4645",
   "metadata": {},
   "outputs": [],
   "source": [
    "df = pd.read_csv('pleiades-places-latest.csv')"
   ]
  },
  {
   "cell_type": "code",
   "execution_count": 3,
   "id": "88ec92c0",
   "metadata": {},
   "outputs": [],
   "source": [
    "mypleiadesplaces = [['Athens', '579885'], ['Abila', '697622']]"
   ]
  },
  {
   "cell_type": "code",
   "execution_count": 4,
   "id": "81c1e6a6",
   "metadata": {},
   "outputs": [],
   "source": [
    "def getjson(pleiadesID):\n",
    "    url = f\"https://pleiades.stoa.org/places/{pleiadesID}/json\"\n",
    "    \n",
    "    with urllib.request.urlopen(url) as f:\n",
    "        pleiades_geojson = json.loads(f.read().decode())\n",
    "    \n",
    "    return pleiades_geojson"
   ]
  },
  {
   "cell_type": "code",
   "execution_count": 5,
   "id": "7ebf97cd",
   "metadata": {},
   "outputs": [],
   "source": [
    "def coordinates(pleiades_geojson):\n",
    "    try:    \n",
    "        pleiades_geojson['features'][0]['geometry']['coordinates']\n",
    "        return pleiades_geojson['features'][0]['geometry']['coordinates']\n",
    "  \n",
    "    except:\n",
    "        return pleiades_geojson['reprPoint']\n"
   ]
  },
  {
   "cell_type": "code",
   "execution_count": 15,
   "id": "08edb962",
   "metadata": {},
   "outputs": [],
   "source": [
    "allplace = []\n",
    "\n",
    "for i in mypleiadesplaces:\n",
    "#     print(i[0])\n",
    "\n",
    "    long, lat = coordinates(getjson(i[1]))\n",
    "#     print(lat)\n",
    "#     print(long)\n",
    "    \n",
    "    templist = [i[0], lat, long]\n",
    "    allplace.append(templist)"
   ]
  },
  {
   "cell_type": "code",
   "execution_count": 16,
   "id": "077b9514",
   "metadata": {},
   "outputs": [
    {
     "data": {
      "text/plain": [
       "[['Athens', 37.972453602957316, 23.726268222011864],\n",
       " ['Abila', 31.858619, 35.635409]]"
      ]
     },
     "execution_count": 16,
     "metadata": {},
     "output_type": "execute_result"
    }
   ],
   "source": [
    "allplace"
   ]
  },
  {
   "cell_type": "code",
   "execution_count": 18,
   "id": "b6e7b6b4",
   "metadata": {},
   "outputs": [],
   "source": [
    "df = pd.DataFrame(allplace, columns = ['place', 'lat', 'long'])\n"
   ]
  },
  {
   "cell_type": "code",
   "execution_count": 19,
   "id": "75411de8",
   "metadata": {},
   "outputs": [
    {
     "data": {
      "text/html": [
       "<div>\n",
       "<style scoped>\n",
       "    .dataframe tbody tr th:only-of-type {\n",
       "        vertical-align: middle;\n",
       "    }\n",
       "\n",
       "    .dataframe tbody tr th {\n",
       "        vertical-align: top;\n",
       "    }\n",
       "\n",
       "    .dataframe thead th {\n",
       "        text-align: right;\n",
       "    }\n",
       "</style>\n",
       "<table border=\"1\" class=\"dataframe\">\n",
       "  <thead>\n",
       "    <tr style=\"text-align: right;\">\n",
       "      <th></th>\n",
       "      <th>place</th>\n",
       "      <th>lat</th>\n",
       "      <th>long</th>\n",
       "    </tr>\n",
       "  </thead>\n",
       "  <tbody>\n",
       "    <tr>\n",
       "      <th>0</th>\n",
       "      <td>Athens</td>\n",
       "      <td>37.972454</td>\n",
       "      <td>23.726268</td>\n",
       "    </tr>\n",
       "    <tr>\n",
       "      <th>1</th>\n",
       "      <td>Abila</td>\n",
       "      <td>31.858619</td>\n",
       "      <td>35.635409</td>\n",
       "    </tr>\n",
       "  </tbody>\n",
       "</table>\n",
       "</div>"
      ],
      "text/plain": [
       "    place        lat       long\n",
       "0  Athens  37.972454  23.726268\n",
       "1   Abila  31.858619  35.635409"
      ]
     },
     "execution_count": 19,
     "metadata": {},
     "output_type": "execute_result"
    }
   ],
   "source": [
    "df"
   ]
  },
  {
   "cell_type": "code",
   "execution_count": 20,
   "id": "f502108b",
   "metadata": {},
   "outputs": [],
   "source": [
    "df.to_csv(\"place.csv\")"
   ]
  },
  {
   "cell_type": "code",
   "execution_count": null,
   "id": "e52c1d9e",
   "metadata": {},
   "outputs": [],
   "source": []
  }
 ],
 "metadata": {
  "kernelspec": {
   "display_name": "Python 3",
   "language": "python",
   "name": "python3"
  },
  "language_info": {
   "codemirror_mode": {
    "name": "ipython",
    "version": 3
   },
   "file_extension": ".py",
   "mimetype": "text/x-python",
   "name": "python",
   "nbconvert_exporter": "python",
   "pygments_lexer": "ipython3",
   "version": "3.9.12"
  }
 },
 "nbformat": 4,
 "nbformat_minor": 5
}
