{
 "cells": [
  {
   "cell_type": "markdown",
   "id": "1dea4bf9",
   "metadata": {},
   "source": [
    "#### Imports"
   ]
  },
  {
   "cell_type": "code",
   "execution_count": 53,
   "id": "e98139ba",
   "metadata": {},
   "outputs": [],
   "source": [
    "import pandas as pd\n",
    "from random import randint\n",
    "pd.set_option('display.max_rows', 500)\n",
    "pd.set_option('display.max_columns', 500)\n",
    "pd.set_option('display.width', 1000)"
   ]
  },
  {
   "cell_type": "markdown",
   "id": "398d45c3",
   "metadata": {},
   "source": [
    "#### Download the latest [Pleiades names csv file](https://atlantides.org/downloads/pleiades/dumps/) and read it."
   ]
  },
  {
   "cell_type": "code",
   "execution_count": null,
   "id": "e5af4645",
   "metadata": {},
   "outputs": [],
   "source": []
  },
  {
   "cell_type": "markdown",
   "id": "5bb50b08",
   "metadata": {},
   "source": [
    "#### Print the first two rows"
   ]
  },
  {
   "cell_type": "code",
   "execution_count": null,
   "id": "fbb0a7a0",
   "metadata": {},
   "outputs": [],
   "source": []
  },
  {
   "cell_type": "markdown",
   "id": "5d8a57f6",
   "metadata": {},
   "source": [
    "#### Print the name of the columns"
   ]
  },
  {
   "cell_type": "code",
   "execution_count": null,
   "id": "a4faa2fd",
   "metadata": {},
   "outputs": [],
   "source": []
  },
  {
   "cell_type": "markdown",
   "id": "080a80c4",
   "metadata": {},
   "source": [
    "#### Find how many uniques values are in the featureTypes column."
   ]
  },
  {
   "cell_type": "code",
   "execution_count": null,
   "id": "7e8ccf48",
   "metadata": {},
   "outputs": [],
   "source": []
  },
  {
   "cell_type": "markdown",
   "id": "6aade5c1",
   "metadata": {},
   "source": [
    "#### Find all sanctuaries.\n",
    "Hint: Have a look first in column \"featureTypes\". There are more than one piece of information in some cells. How does this affect your code?"
   ]
  },
  {
   "cell_type": "code",
   "execution_count": null,
   "id": "dce2294e",
   "metadata": {},
   "outputs": [],
   "source": []
  },
  {
   "cell_type": "markdown",
   "id": "474cb0ed",
   "metadata": {},
   "source": [
    "You may get an error 'ValueError: Cannot mask with non-boolean array containing NA / NaN values'. If yes, then use the argument `na=False` within the `str.contains()` function."
   ]
  },
  {
   "cell_type": "markdown",
   "id": "5b76896f",
   "metadata": {},
   "source": [
    "#### Find all temples and sanctuaries\n",
    "Hint: Have a look first in column \"featureTypes\". There are more than one piece of information in some cells. How does this affect your code?"
   ]
  },
  {
   "cell_type": "code",
   "execution_count": null,
   "id": "1637cfce",
   "metadata": {},
   "outputs": [],
   "source": []
  },
  {
   "cell_type": "markdown",
   "id": "6bc2534c",
   "metadata": {},
   "source": [
    "#### Find which is the northernest, southernest, easternest, and westernest sanctuary of the database."
   ]
  },
  {
   "cell_type": "markdown",
   "id": "935a2043",
   "metadata": {},
   "source": [
    "##### northernest"
   ]
  },
  {
   "cell_type": "code",
   "execution_count": null,
   "id": "9a0df0ae",
   "metadata": {},
   "outputs": [],
   "source": []
  },
  {
   "cell_type": "markdown",
   "id": "8cb9f953",
   "metadata": {},
   "source": [
    "##### southernest"
   ]
  },
  {
   "cell_type": "code",
   "execution_count": null,
   "id": "1af0b74c",
   "metadata": {},
   "outputs": [],
   "source": []
  },
  {
   "cell_type": "markdown",
   "id": "936c1a2e",
   "metadata": {},
   "source": [
    "##### easternest"
   ]
  },
  {
   "cell_type": "code",
   "execution_count": null,
   "id": "2e338475",
   "metadata": {},
   "outputs": [],
   "source": []
  },
  {
   "cell_type": "markdown",
   "id": "231bad55",
   "metadata": {},
   "source": [
    "##### westernest"
   ]
  },
  {
   "cell_type": "code",
   "execution_count": null,
   "id": "eb178759",
   "metadata": {},
   "outputs": [],
   "source": []
  },
  {
   "cell_type": "markdown",
   "id": "7bd26c15",
   "metadata": {},
   "source": [
    "---"
   ]
  },
  {
   "cell_type": "markdown",
   "id": "5427902d",
   "metadata": {},
   "source": [
    "#### By using the methin `isin()`, check which items of list1 are not in list2.\n",
    "The following code creates two list of numbers from 1 to 100, removes randomly one number from each of them, and transforms the lists to Series."
   ]
  },
  {
   "cell_type": "code",
   "execution_count": 65,
   "id": "dd952685",
   "metadata": {},
   "outputs": [],
   "source": [
    "list1 = [i for i in range(1,101)]\n",
    "list1.pop(randint(1, 101))\n",
    "ser1 = pd.Series(list1)\n",
    "list2 = [i for i in range(1,101)]\n",
    "list2.pop(randint(1, 101))\n",
    "ser2 = pd.Series(list2)"
   ]
  },
  {
   "cell_type": "code",
   "execution_count": null,
   "id": "f266c589",
   "metadata": {},
   "outputs": [],
   "source": []
  },
  {
   "cell_type": "markdown",
   "id": "b929a9db",
   "metadata": {},
   "source": [
    "---"
   ]
  }
 ],
 "metadata": {
  "kernelspec": {
   "display_name": "Python 3",
   "language": "python",
   "name": "python3"
  },
  "language_info": {
   "codemirror_mode": {
    "name": "ipython",
    "version": 3
   },
   "file_extension": ".py",
   "mimetype": "text/x-python",
   "name": "python",
   "nbconvert_exporter": "python",
   "pygments_lexer": "ipython3",
   "version": "3.9.7"
  }
 },
 "nbformat": 4,
 "nbformat_minor": 5
}
