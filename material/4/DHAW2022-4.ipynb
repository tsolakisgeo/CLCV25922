{
 "cells": [
  {
   "cell_type": "markdown",
   "id": "d909fab2",
   "metadata": {},
   "source": []
  },
  {
   "cell_type": "markdown",
   "id": "ecfc9cc3",
   "metadata": {},
   "source": [
    "# Introduction to Python <a class=\"anchor\" id=\"Introduction_to_Python\"></a>\n",
    "* [Arithmetic operators](#Arithmetic_operators)\n",
    "* [Python types](#Python_types)\n",
    "* [Variables, expressions and statements](#Variables_expressions_and_statements)\n",
    "* [Strings](#Strings)\n",
    "* [Lists](#Lists)\n",
    "* [Functions](#imports)\n",
    "* [if, else, elif, while](#if_else_elif_while)"
   ]
  },
  {
   "cell_type": "markdown",
   "id": "86066f22",
   "metadata": {},
   "source": [
    "#### Print statement"
   ]
  },
  {
   "cell_type": "code",
   "execution_count": 1,
   "id": "9b511578",
   "metadata": {},
   "outputs": [
    {
     "name": "stdout",
     "output_type": "stream",
     "text": [
      "Hello, World!\n"
     ]
    }
   ],
   "source": [
    "print('Hello, World!')"
   ]
  },
  {
   "cell_type": "markdown",
   "id": "637746b0",
   "metadata": {},
   "source": [
    "## [Arithmetic operators](#Introduction_to_Python) <a class=\"anchor\" id=\"Arithmetic_operators\"></a>"
   ]
  },
  {
   "cell_type": "code",
   "execution_count": 2,
   "id": "801bad20",
   "metadata": {},
   "outputs": [
    {
     "data": {
      "text/plain": [
       "58"
      ]
     },
     "execution_count": 2,
     "metadata": {},
     "output_type": "execute_result"
    }
   ],
   "source": [
    "50+8"
   ]
  },
  {
   "cell_type": "code",
   "execution_count": 3,
   "id": "b9338368",
   "metadata": {},
   "outputs": [
    {
     "data": {
      "text/plain": [
       "41"
      ]
     },
     "execution_count": 3,
     "metadata": {},
     "output_type": "execute_result"
    }
   ],
   "source": [
    "50-9"
   ]
  },
  {
   "cell_type": "code",
   "execution_count": 4,
   "id": "3d1557e7",
   "metadata": {},
   "outputs": [
    {
     "data": {
      "text/plain": [
       "1100"
      ]
     },
     "execution_count": 4,
     "metadata": {},
     "output_type": "execute_result"
    }
   ],
   "source": [
    "50*22"
   ]
  },
  {
   "cell_type": "code",
   "execution_count": 5,
   "id": "d5341f3e",
   "metadata": {},
   "outputs": [
    {
     "data": {
      "text/plain": [
       "5.0"
      ]
     },
     "execution_count": 5,
     "metadata": {},
     "output_type": "execute_result"
    }
   ],
   "source": [
    "30/6"
   ]
  },
  {
   "cell_type": "markdown",
   "id": "55d70100",
   "metadata": {},
   "source": [
    "Notice that the result is 5.0 and not 5."
   ]
  },
  {
   "cell_type": "markdown",
   "id": "362a265a",
   "metadata": {},
   "source": [
    "You may want to check [this video](https://www.youtube.com/watch?v=PZRI1IfStY0&ab_channel=Computerphile) of Tom Scott in Computerphile to see who computers treat floating point numbers"
   ]
  },
  {
   "cell_type": "code",
   "execution_count": 6,
   "id": "bba3785b",
   "metadata": {},
   "outputs": [
    {
     "data": {
      "text/plain": [
       "144"
      ]
     },
     "execution_count": 6,
     "metadata": {},
     "output_type": "execute_result"
    }
   ],
   "source": [
    "12*12"
   ]
  },
  {
   "cell_type": "markdown",
   "id": "4221eafc",
   "metadata": {},
   "source": [
    "## [Python types](#Introduction_to_Python) <a class=\"anchor\" id=\"Python_types\"></a>"
   ]
  },
  {
   "cell_type": "markdown",
   "id": "f17ec0d9",
   "metadata": {},
   "source": [
    "### [Setting the Data Type](https://www.w3schools.com/python/python_datatypes.asp)"
   ]
  },
  {
   "cell_type": "markdown",
   "id": "cf576b03",
   "metadata": {},
   "source": [
    "|Category||Types|\n",
    "|:---|---|:---|\n",
    "|Text Type||str|\n",
    "Numeric Types||int, float, complex\n",
    "Sequence Types||list, tuple, range\n",
    "Mapping Type||dict\n",
    "Set Types||set, frozenset\n",
    "Boolean Type||bool\n",
    "Binary Types||bytes, bytearray, memoryview\n",
    "None Type||NoneType"
   ]
  },
  {
   "cell_type": "markdown",
   "id": "f23ddf6f",
   "metadata": {},
   "source": [
    "#### String `str()`"
   ]
  },
  {
   "cell_type": "code",
   "execution_count": 9,
   "id": "e4e4af94",
   "metadata": {},
   "outputs": [
    {
     "name": "stdout",
     "output_type": "stream",
     "text": [
      "<class 'str'>\n"
     ]
    }
   ],
   "source": [
    "x = \"Hello World\"\n",
    "print(type(x))"
   ]
  },
  {
   "cell_type": "markdown",
   "id": "2f5c6c35",
   "metadata": {},
   "source": [
    "#### Integer `int()`"
   ]
  },
  {
   "cell_type": "code",
   "execution_count": 7,
   "id": "0e82b028",
   "metadata": {},
   "outputs": [
    {
     "name": "stdout",
     "output_type": "stream",
     "text": [
      "<class 'int'>\n"
     ]
    }
   ],
   "source": [
    "x = 20\n",
    "print(type(x))"
   ]
  },
  {
   "cell_type": "markdown",
   "id": "64650b1b",
   "metadata": {},
   "source": [
    "#### Floating point number `float()`"
   ]
  },
  {
   "cell_type": "code",
   "execution_count": 8,
   "id": "1c421e9e",
   "metadata": {},
   "outputs": [
    {
     "name": "stdout",
     "output_type": "stream",
     "text": [
      "<class 'float'>\n"
     ]
    }
   ],
   "source": [
    "x = 20.5\n",
    "print(type(x))"
   ]
  },
  {
   "cell_type": "markdown",
   "id": "8bc1b77f",
   "metadata": {},
   "source": [
    "#### Complex number `complex()`"
   ]
  },
  {
   "cell_type": "code",
   "execution_count": null,
   "id": "676632c2",
   "metadata": {},
   "outputs": [],
   "source": [
    "# x = 1j\n",
    "# print(type(x))"
   ]
  },
  {
   "cell_type": "markdown",
   "id": "9d3ccb78",
   "metadata": {},
   "source": [
    "#### List `list()`"
   ]
  },
  {
   "cell_type": "code",
   "execution_count": null,
   "id": "c77db0ed",
   "metadata": {},
   "outputs": [],
   "source": [
    "x = [\"apple\", \"banana\", \"cherry\"]\n",
    "print(type(x))"
   ]
  },
  {
   "cell_type": "markdown",
   "id": "f975953f",
   "metadata": {},
   "source": [
    "#### Tuple `tuple()`"
   ]
  },
  {
   "cell_type": "code",
   "execution_count": null,
   "id": "3481145e",
   "metadata": {},
   "outputs": [],
   "source": [
    "x = (\"apple\", \"banana\", \"cherry\")\n",
    "print(type(x))"
   ]
  },
  {
   "cell_type": "markdown",
   "id": "ae6514a1",
   "metadata": {},
   "source": [
    "#### Range `range()`"
   ]
  },
  {
   "cell_type": "code",
   "execution_count": null,
   "id": "9aa3069e",
   "metadata": {},
   "outputs": [],
   "source": [
    "x = range(6)\n",
    "print(type(x))"
   ]
  },
  {
   "cell_type": "markdown",
   "id": "04a531a4",
   "metadata": {},
   "source": [
    "#### Dictionary `dict()`"
   ]
  },
  {
   "cell_type": "code",
   "execution_count": null,
   "id": "3a86e75d",
   "metadata": {},
   "outputs": [],
   "source": [
    "x = {\"name\" : \"John\", \"age\" : 36}\n",
    "print(type(x))"
   ]
  },
  {
   "cell_type": "markdown",
   "id": "62d75f48",
   "metadata": {},
   "source": [
    "#### Set `set()`"
   ]
  },
  {
   "cell_type": "code",
   "execution_count": null,
   "id": "82b21de6",
   "metadata": {},
   "outputs": [],
   "source": [
    "x = {\"apple\", \"banana\", \"cherry\"}\n",
    "print(type(x))"
   ]
  },
  {
   "cell_type": "markdown",
   "id": "69fc903a",
   "metadata": {},
   "source": [
    "#### Frozenset `frozenset()`"
   ]
  },
  {
   "cell_type": "code",
   "execution_count": null,
   "id": "3de0b8f5",
   "metadata": {},
   "outputs": [],
   "source": [
    "# x = frozenset({\"apple\", \"banana\", \"cherry\"})\n",
    "# print(type(x))"
   ]
  },
  {
   "cell_type": "markdown",
   "id": "b31b5998",
   "metadata": {},
   "source": [
    "#### String"
   ]
  },
  {
   "cell_type": "code",
   "execution_count": null,
   "id": "6c98d12d",
   "metadata": {},
   "outputs": [],
   "source": [
    "x = True\n",
    "print(type(x))"
   ]
  },
  {
   "cell_type": "markdown",
   "id": "1510bf8c",
   "metadata": {},
   "source": [
    "#### Bytes `bytes()`"
   ]
  },
  {
   "cell_type": "code",
   "execution_count": null,
   "id": "c1ecad82",
   "metadata": {},
   "outputs": [],
   "source": [
    "# x = b\"Hello\"\n",
    "# print(type(x))"
   ]
  },
  {
   "cell_type": "markdown",
   "id": "4a464194",
   "metadata": {},
   "source": [
    "#### Byte array `bytearray()`"
   ]
  },
  {
   "cell_type": "code",
   "execution_count": 11,
   "id": "1bc0eca4",
   "metadata": {},
   "outputs": [],
   "source": [
    "# x = bytearray(5)\n",
    "# print(type(x))"
   ]
  },
  {
   "cell_type": "markdown",
   "id": "8d9f7b95",
   "metadata": {},
   "source": [
    "#### MemoryView `memoryview`"
   ]
  },
  {
   "cell_type": "code",
   "execution_count": null,
   "id": "f6cc10ce",
   "metadata": {},
   "outputs": [],
   "source": [
    "# x = memoryview(bytes(5))\n",
    "# print(type(x))"
   ]
  },
  {
   "cell_type": "markdown",
   "id": "3561a836",
   "metadata": {},
   "source": [
    "#### NoneType"
   ]
  },
  {
   "cell_type": "code",
   "execution_count": null,
   "id": "c949f2d7",
   "metadata": {},
   "outputs": [],
   "source": [
    "x = None\n",
    "print(type(x))"
   ]
  },
  {
   "cell_type": "markdown",
   "id": "eae21219",
   "metadata": {},
   "source": [
    "---"
   ]
  },
  {
   "cell_type": "markdown",
   "id": "e81f23c2",
   "metadata": {},
   "source": [
    "## [Variables, expressions and statements](#Introduction_to_Python) <a class=\"anchor\" id=\"Variables_expressions_and_statements\"></a>"
   ]
  },
  {
   "cell_type": "markdown",
   "id": "7c1d2859",
   "metadata": {},
   "source": [
    "An <span style=\"color:red\">__assignment statement__</span> stores a <span style=\"color:red\">__value__</span> to a <span style=\"color:red\">__variable__</span>."
   ]
  },
  {
   "cell_type": "code",
   "execution_count": null,
   "id": "5ab762fa",
   "metadata": {},
   "outputs": [],
   "source": [
    "n = '1'"
   ]
  },
  {
   "cell_type": "code",
   "execution_count": null,
   "id": "b9f5d8a1",
   "metadata": {},
   "outputs": [],
   "source": [
    "mynameis = "
   ]
  },
  {
   "cell_type": "code",
   "execution_count": null,
   "id": "c156cd0d",
   "metadata": {},
   "outputs": [],
   "source": [
    "myageis = "
   ]
  },
  {
   "cell_type": "code",
   "execution_count": null,
   "id": "29196fbf",
   "metadata": {},
   "outputs": [],
   "source": [
    "1pie = 'test'"
   ]
  },
  {
   "cell_type": "markdown",
   "id": "0aadb449",
   "metadata": {},
   "source": [
    "- __Syntax error__: Something is not according to the rules (syntax of python)"
   ]
  },
  {
   "cell_type": "markdown",
   "id": "48272fa3",
   "metadata": {},
   "source": [
    "- __Runtime error__: The program has started running, but something has happened and it had to stop."
   ]
  },
  {
   "cell_type": "markdown",
   "id": "8559c525",
   "metadata": {},
   "source": [
    "---"
   ]
  },
  {
   "cell_type": "markdown",
   "id": "19b2caa2",
   "metadata": {},
   "source": [
    "## [Strings](#Introduction_to_Python) <a class=\"anchor\" id=\"Strings\"></a>"
   ]
  },
  {
   "cell_type": "code",
   "execution_count": 13,
   "id": "6a407250",
   "metadata": {},
   "outputs": [],
   "source": [
    "name = \"Georgios\""
   ]
  },
  {
   "cell_type": "code",
   "execution_count": 15,
   "id": "452c5d5a",
   "metadata": {},
   "outputs": [
    {
     "data": {
      "text/plain": [
       "'i'"
      ]
     },
     "execution_count": 15,
     "metadata": {},
     "output_type": "execute_result"
    }
   ],
   "source": [
    "name[5]"
   ]
  },
  {
   "cell_type": "code",
   "execution_count": 16,
   "id": "86652a6d",
   "metadata": {},
   "outputs": [
    {
     "data": {
      "text/plain": [
       "'s'"
      ]
     },
     "execution_count": 16,
     "metadata": {},
     "output_type": "execute_result"
    }
   ],
   "source": [
    "name[-1]"
   ]
  },
  {
   "cell_type": "code",
   "execution_count": 17,
   "id": "1b057daf",
   "metadata": {},
   "outputs": [
    {
     "data": {
      "text/plain": [
       "'Ge'"
      ]
     },
     "execution_count": 17,
     "metadata": {},
     "output_type": "execute_result"
    }
   ],
   "source": [
    "name[0:2]"
   ]
  },
  {
   "cell_type": "code",
   "execution_count": 18,
   "id": "05ba451a",
   "metadata": {},
   "outputs": [
    {
     "data": {
      "text/plain": [
       "'gi'"
      ]
     },
     "execution_count": 18,
     "metadata": {},
     "output_type": "execute_result"
    }
   ],
   "source": [
    "name[-4:-2]"
   ]
  },
  {
   "cell_type": "code",
   "execution_count": 19,
   "id": "3fa8f59d",
   "metadata": {},
   "outputs": [
    {
     "data": {
      "text/plain": [
       "8"
      ]
     },
     "execution_count": 19,
     "metadata": {},
     "output_type": "execute_result"
    }
   ],
   "source": [
    "len(name)"
   ]
  },
  {
   "cell_type": "markdown",
   "id": "d4627604",
   "metadata": {},
   "source": [
    "#### Concatenation"
   ]
  },
  {
   "cell_type": "code",
   "execution_count": 20,
   "id": "1da82db2",
   "metadata": {},
   "outputs": [],
   "source": [
    "lastname = \"Tsolakis\""
   ]
  },
  {
   "cell_type": "code",
   "execution_count": 26,
   "id": "8ac82d62",
   "metadata": {},
   "outputs": [
    {
     "name": "stdout",
     "output_type": "stream",
     "text": [
      "Georgios Tsolakis\n",
      "Georgios Tsolakis\n"
     ]
    }
   ],
   "source": [
    "fullname = name + \" \" + lastname\n",
    "print(fullname)\n",
    "print(f\"{name} {lastname}\")"
   ]
  },
  {
   "cell_type": "markdown",
   "id": "39f7c7f0",
   "metadata": {},
   "source": [
    "#### Can we concatenate strings and numbers?"
   ]
  },
  {
   "cell_type": "code",
   "execution_count": 28,
   "id": "6dfe20ce",
   "metadata": {},
   "outputs": [],
   "source": [
    "x = \"class\" + \"3\""
   ]
  },
  {
   "cell_type": "markdown",
   "id": "186130c6",
   "metadata": {},
   "source": [
    "#### How can we go around this problem?"
   ]
  },
  {
   "cell_type": "code",
   "execution_count": 30,
   "id": "334cc411",
   "metadata": {},
   "outputs": [
    {
     "name": "stdout",
     "output_type": "stream",
     "text": [
      "class3\n"
     ]
    }
   ],
   "source": [
    "x = \"class\" + str(3)\n",
    "print(x)"
   ]
  },
  {
   "cell_type": "markdown",
   "id": "cbe75fbc",
   "metadata": {},
   "source": [
    "---"
   ]
  },
  {
   "cell_type": "markdown",
   "id": "3abb2369",
   "metadata": {},
   "source": [
    "## [Lists](#Introduction_to_Python) <a class=\"anchor\" id=\"Lists\"></a>"
   ]
  },
  {
   "cell_type": "code",
   "execution_count": 31,
   "id": "74383318",
   "metadata": {},
   "outputs": [],
   "source": [
    "roster1 = ['Suleiman', 'Alex', 'Shama']"
   ]
  },
  {
   "cell_type": "code",
   "execution_count": 34,
   "id": "d62c71b2",
   "metadata": {},
   "outputs": [
    {
     "data": {
      "text/plain": [
       "'Shama'"
      ]
     },
     "execution_count": 34,
     "metadata": {},
     "output_type": "execute_result"
    }
   ],
   "source": [
    "roster1[-1]"
   ]
  },
  {
   "cell_type": "code",
   "execution_count": 33,
   "id": "e003dc96",
   "metadata": {},
   "outputs": [
    {
     "data": {
      "text/plain": [
       "3"
      ]
     },
     "execution_count": 33,
     "metadata": {},
     "output_type": "execute_result"
    }
   ],
   "source": [
    "len(roster1)"
   ]
  },
  {
   "cell_type": "code",
   "execution_count": 35,
   "id": "16239990",
   "metadata": {},
   "outputs": [
    {
     "name": "stdout",
     "output_type": "stream",
     "text": [
      "21\n"
     ]
    }
   ],
   "source": [
    "roster2 = [['John', 21], ['Maria', 19], ['Tracy', 19]]\n",
    "print(roster2[0][1])"
   ]
  },
  {
   "cell_type": "markdown",
   "id": "5852bd78",
   "metadata": {},
   "source": [
    "#### Sorting"
   ]
  },
  {
   "cell_type": "code",
   "execution_count": 37,
   "id": "3df44b50",
   "metadata": {},
   "outputs": [],
   "source": [
    "roster1.sort()"
   ]
  },
  {
   "cell_type": "code",
   "execution_count": 38,
   "id": "9bde58ea",
   "metadata": {},
   "outputs": [
    {
     "data": {
      "text/plain": [
       "['Alex', 'Shama', 'Suleiman']"
      ]
     },
     "execution_count": 38,
     "metadata": {},
     "output_type": "execute_result"
    }
   ],
   "source": [
    "roster1"
   ]
  },
  {
   "cell_type": "code",
   "execution_count": 39,
   "id": "49310e50",
   "metadata": {},
   "outputs": [
    {
     "data": {
      "text/plain": [
       "['Suleiman', 'Shama', 'Alex']"
      ]
     },
     "execution_count": 39,
     "metadata": {},
     "output_type": "execute_result"
    }
   ],
   "source": [
    "roster1.sort(reverse=True) # True is a keyword\n",
    "roster1"
   ]
  },
  {
   "cell_type": "code",
   "execution_count": null,
   "id": "7100cf92",
   "metadata": {},
   "outputs": [],
   "source": [
    "print(list(name))"
   ]
  },
  {
   "cell_type": "markdown",
   "id": "8efcc9b9",
   "metadata": {},
   "source": [
    "#### Strings are ummutable, while lists are mutable\n",
    "Try to change a string by assigning a specifix character to a specifix index."
   ]
  },
  {
   "cell_type": "code",
   "execution_count": 40,
   "id": "19ac8510",
   "metadata": {},
   "outputs": [],
   "source": [
    "roster1[0] = \"Takis\""
   ]
  },
  {
   "cell_type": "code",
   "execution_count": 41,
   "id": "2b7aa635",
   "metadata": {},
   "outputs": [
    {
     "data": {
      "text/plain": [
       "['Takis', 'Shama', 'Alex']"
      ]
     },
     "execution_count": 41,
     "metadata": {},
     "output_type": "execute_result"
    }
   ],
   "source": [
    "roster1"
   ]
  },
  {
   "cell_type": "markdown",
   "id": "254969cf",
   "metadata": {},
   "source": [
    "---"
   ]
  },
  {
   "cell_type": "code",
   "execution_count": 43,
   "id": "8b5a86c0",
   "metadata": {},
   "outputs": [
    {
     "ename": "TypeError",
     "evalue": "'str' object does not support item assignment",
     "output_type": "error",
     "traceback": [
      "\u001b[0;31m---------------------------------------------------------------------------\u001b[0m",
      "\u001b[0;31mTypeError\u001b[0m                                 Traceback (most recent call last)",
      "Input \u001b[0;32mIn [43]\u001b[0m, in \u001b[0;36m<cell line: 2>\u001b[0;34m()\u001b[0m\n\u001b[1;32m      1\u001b[0m name \u001b[38;5;241m=\u001b[39m \u001b[38;5;124m\"\u001b[39m\u001b[38;5;124mGeorgios\u001b[39m\u001b[38;5;124m\"\u001b[39m\n\u001b[0;32m----> 2\u001b[0m name[\u001b[38;5;241m0\u001b[39m] \u001b[38;5;241m=\u001b[39m \u001b[38;5;124m\"\u001b[39m\u001b[38;5;124mJ\u001b[39m\u001b[38;5;124m\"\u001b[39m\n",
      "\u001b[0;31mTypeError\u001b[0m: 'str' object does not support item assignment"
     ]
    }
   ],
   "source": [
    "name = \"Georgios\"\n",
    "name[0] = \"J\"\n"
   ]
  },
  {
   "cell_type": "markdown",
   "id": "711359b7",
   "metadata": {},
   "source": [
    "## [Functions](#Introduction_to_Python) <a class=\"anchor\" id=\"Functions\"></a>"
   ]
  },
  {
   "cell_type": "markdown",
   "id": "e5f12538",
   "metadata": {},
   "source": [
    "__\"In the context of programming, a function is a named sequence of statements that performs\n",
    "a computation\"__ (Downey 2015, 17)\n",
    "\n",
    "__function definition__: A statement that creates a new function, specifying its name, parameters,\n",
    "and the statements it contains (Downey 2015, 25)\n",
    "\n",
    "__parameter__: A name used inside a function to refer to the value passed as an argument. (Downey 2015, 26)\n",
    "\n",
    "__argument__: A value provided to a function when the function is called. This value is assigned\n",
    "to the corresponding parameter in the function. (Downey 2015, 26)"
   ]
  },
  {
   "cell_type": "raw",
   "id": "87abf726",
   "metadata": {},
   "source": [
    "def add(x):\n",
    "    return x+1"
   ]
  },
  {
   "cell_type": "raw",
   "id": "7b573310",
   "metadata": {},
   "source": [
    "def: type\n",
    "x: argument\n",
    "x+1: return value"
   ]
  },
  {
   "cell_type": "code",
   "execution_count": null,
   "id": "e63bac94",
   "metadata": {},
   "outputs": [],
   "source": [
    "def add(x):\n",
    "    return x+1"
   ]
  },
  {
   "cell_type": "code",
   "execution_count": null,
   "id": "340239f2",
   "metadata": {},
   "outputs": [],
   "source": [
    "add(3)"
   ]
  },
  {
   "cell_type": "markdown",
   "id": "9eba8aba",
   "metadata": {},
   "source": [
    "Notice how important is the __syntax__ and the __indentation__."
   ]
  },
  {
   "cell_type": "markdown",
   "id": "988a068d",
   "metadata": {},
   "source": [
    "## [if, else, elif, while](#Introduction_to_Python) <a class=\"anchor\" id=\"if_else_elif_while\"></a>"
   ]
  },
  {
   "cell_type": "code",
   "execution_count": null,
   "id": "8b790e60",
   "metadata": {},
   "outputs": [],
   "source": [
    "if len(roster1)>2:\n",
    "    print(\"OK\")"
   ]
  },
  {
   "cell_type": "code",
   "execution_count": 3,
   "id": "ca225a0a",
   "metadata": {},
   "outputs": [
    {
     "name": "stdout",
     "output_type": "stream",
     "text": [
      "2\n",
      "You may need more students\n"
     ]
    }
   ],
   "source": [
    "myclass = ['John', 'Maria']\n",
    "print(len(myclass))\n",
    "\n",
    "if len(myclass) >2:\n",
    "    print(\"Enough students\")\n",
    "elif len(myclass) == 2:\n",
    "    print(\"You may need more students\")\n",
    "else:\n",
    "    print(\"You need more students\")"
   ]
  },
  {
   "cell_type": "code",
   "execution_count": 8,
   "id": "2783f319",
   "metadata": {},
   "outputs": [
    {
     "name": "stdout",
     "output_type": "stream",
     "text": [
      "10\n",
      "12\n",
      "14\n",
      "16\n",
      "18\n"
     ]
    }
   ],
   "source": [
    "x = 2\n",
    "\n",
    "for i in range(10,20,2):\n",
    "    print(i)"
   ]
  },
  {
   "cell_type": "markdown",
   "id": "d10350a0",
   "metadata": {},
   "source": [
    "---"
   ]
  },
  {
   "cell_type": "code",
   "execution_count": null,
   "id": "945968cf",
   "metadata": {},
   "outputs": [],
   "source": [
    "for i, j in enumerate(myclass):\n",
    "    print(i)\n",
    "    print(j)\n",
    "    "
   ]
  }
 ],
 "metadata": {
  "kernelspec": {
   "display_name": "Python 3 (ipykernel)",
   "language": "python",
   "name": "python3"
  },
  "language_info": {
   "codemirror_mode": {
    "name": "ipython",
    "version": 3
   },
   "file_extension": ".py",
   "mimetype": "text/x-python",
   "name": "python",
   "nbconvert_exporter": "python",
   "pygments_lexer": "ipython3",
   "version": "3.9.12"
  }
 },
 "nbformat": 4,
 "nbformat_minor": 5
}
