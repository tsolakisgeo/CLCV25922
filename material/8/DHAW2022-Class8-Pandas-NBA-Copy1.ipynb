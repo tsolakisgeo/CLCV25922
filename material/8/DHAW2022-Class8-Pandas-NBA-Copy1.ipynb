{
 "cells": [
  {
   "cell_type": "code",
   "execution_count": null,
   "id": "a20ab521",
   "metadata": {},
   "outputs": [],
   "source": [
    "import pandas as pd\n",
    "pd.set_option('display.max_rows', 500)\n",
    "pd.set_option('display.max_columns', 500)\n",
    "pd.set_option('display.width', 1000)"
   ]
  },
  {
   "cell_type": "markdown",
   "id": "f1fc31e0",
   "metadata": {},
   "source": [
    "#### Read the file 'NBA Stats 202122 All Player Statistics in one Page.xlsx'. I downloaded the excel from [nbastuffer.com](https://www.nbastuffer.com/2021-2022-nba-player-stats/) and I removed the first column and the first row."
   ]
  },
  {
   "cell_type": "code",
   "execution_count": null,
   "id": "ed060efd",
   "metadata": {
    "scrolled": true
   },
   "outputs": [],
   "source": [
    "df = pd.read_excel('NBA Stats 202122 All Player Statistics in one Page.xlsx')"
   ]
  },
  {
   "cell_type": "markdown",
   "id": "51954acb",
   "metadata": {},
   "source": [
    "#### Print the first five lines"
   ]
  },
  {
   "cell_type": "code",
   "execution_count": null,
   "id": "8df96757",
   "metadata": {},
   "outputs": [],
   "source": [
    "df.head(5)"
   ]
  },
  {
   "cell_type": "markdown",
   "id": "2aadd1dd",
   "metadata": {},
   "source": [
    "#### Get the name of the columns"
   ]
  },
  {
   "cell_type": "code",
   "execution_count": null,
   "id": "5f991c73",
   "metadata": {},
   "outputs": [],
   "source": []
  },
  {
   "cell_type": "markdown",
   "id": "a9cf516e",
   "metadata": {},
   "source": [
    "#### Get the stats of \"Giannis Antetokounmpo\""
   ]
  },
  {
   "cell_type": "code",
   "execution_count": null,
   "id": "101c3820",
   "metadata": {},
   "outputs": [],
   "source": []
  },
  {
   "cell_type": "markdown",
   "id": "99b68a0f",
   "metadata": {},
   "source": [
    "#### How many players are over 30 years old?"
   ]
  },
  {
   "cell_type": "code",
   "execution_count": null,
   "id": "85a6d54c",
   "metadata": {},
   "outputs": [],
   "source": []
  },
  {
   "cell_type": "markdown",
   "id": "7bf4001d",
   "metadata": {},
   "source": [
    "#### How many players of Milwaukee Bucks are in this DataFrame?"
   ]
  },
  {
   "cell_type": "code",
   "execution_count": null,
   "id": "e17898dd",
   "metadata": {},
   "outputs": [],
   "source": []
  },
  {
   "cell_type": "markdown",
   "id": "95204302",
   "metadata": {},
   "source": [
    "#### How many players of Milwaukee Bucks are over 30 years old?"
   ]
  },
  {
   "cell_type": "code",
   "execution_count": null,
   "id": "1b71efb0",
   "metadata": {},
   "outputs": [],
   "source": []
  },
  {
   "cell_type": "markdown",
   "id": "3f37b00a",
   "metadata": {},
   "source": [
    "#### Which players of Milwaukee Bucks were shooting with average over 50% in either 2P% or 3P%"
   ]
  },
  {
   "cell_type": "code",
   "execution_count": null,
   "id": "5c85e592",
   "metadata": {},
   "outputs": [],
   "source": []
  },
  {
   "cell_type": "markdown",
   "id": "3b9f2bda",
   "metadata": {},
   "source": [
    "#### Get Milwaukee Bucks' average free throws (FT%) "
   ]
  },
  {
   "cell_type": "code",
   "execution_count": null,
   "id": "6a089a98",
   "metadata": {},
   "outputs": [],
   "source": []
  },
  {
   "cell_type": "markdown",
   "id": "599c8581",
   "metadata": {},
   "source": [
    "#### Get the average free throws per team"
   ]
  },
  {
   "cell_type": "code",
   "execution_count": null,
   "id": "690676fb",
   "metadata": {},
   "outputs": [],
   "source": []
  },
  {
   "cell_type": "markdown",
   "id": "7a48b958",
   "metadata": {},
   "source": [
    "#### Guess the result of the next code: True or False?"
   ]
  },
  {
   "cell_type": "code",
   "execution_count": null,
   "id": "ff5d5785",
   "metadata": {},
   "outputs": [],
   "source": [
    "simpsons = pd.Series(\n",
    "['Homer', 'Marge', 'Bart', 'Lisa', 'Maggie'])\n",
    "print('Bart' in simpsons)"
   ]
  },
  {
   "cell_type": "code",
   "execution_count": null,
   "id": "d9a31e99",
   "metadata": {},
   "outputs": [],
   "source": [
    "simpsons = pd.Series(\n",
    "['Homer', 'Marge', 'Bart', 'Lisa', 'Maggie'])\n",
    "print('Bart' in simpsons.values)"
   ]
  },
  {
   "cell_type": "markdown",
   "id": "d38b4e99",
   "metadata": {},
   "source": [
    "#### Round in pandas. `round()` function is used to round a DataFrame to a variable number of decimal places. Yet, run the cell below to see a weird behavior. "
   ]
  },
  {
   "cell_type": "code",
   "execution_count": null,
   "id": "0b5e1310",
   "metadata": {},
   "outputs": [],
   "source": [
    "s = pd.Series([-2.5, -1.5, -0.5, 0.5, 1.5, 2.5])\n",
    "print(s.round())"
   ]
  },
  {
   "cell_type": "markdown",
   "id": "56df7865",
   "metadata": {},
   "source": [
    "Bankers’ rounding. Odd numbers are rounded up, even numbers are rounded down."
   ]
  },
  {
   "cell_type": "markdown",
   "id": "2bb2734a",
   "metadata": {},
   "source": [
    "#### Correct the mistake in order to get numbers larger than two and small than five"
   ]
  },
  {
   "cell_type": "code",
   "execution_count": null,
   "id": "93113269",
   "metadata": {},
   "outputs": [],
   "source": [
    "nums = pd.Series([1, 2, 3, 4, 5, 6])\n",
    "print(nums[nums > 2 AND nums < 5])"
   ]
  },
  {
   "cell_type": "markdown",
   "id": "67d4b4c2",
   "metadata": {},
   "source": [
    "#### Change the df in order to reflect an 20% increase in the prices. "
   ]
  },
  {
   "cell_type": "code",
   "execution_count": null,
   "id": "b8f07f50",
   "metadata": {},
   "outputs": [],
   "source": [
    "df = pd.DataFrame([\n",
    "['T-shirt', 70],\n",
    "['Pants', 80],\n",
    "['Coat', 250],\n",
    "['Shirt', 95]], columns=['item', 'price'])"
   ]
  },
  {
   "cell_type": "code",
   "execution_count": null,
   "id": "c2a934b7",
   "metadata": {},
   "outputs": [],
   "source": []
  },
  {
   "cell_type": "code",
   "execution_count": null,
   "id": "eeaeea5a",
   "metadata": {},
   "outputs": [],
   "source": []
  },
  {
   "cell_type": "code",
   "execution_count": null,
   "id": "6f3c7690",
   "metadata": {},
   "outputs": [],
   "source": []
  },
  {
   "cell_type": "markdown",
   "id": "c0e42f8d",
   "metadata": {},
   "source": [
    "#### Change the df below so it reflects a 35% increase in the price of the vegetables and a 25% decrease in the price of fruits."
   ]
  },
  {
   "cell_type": "code",
   "execution_count": null,
   "id": "f8aea217",
   "metadata": {},
   "outputs": [],
   "source": [
    "df = pd.DataFrame([\n",
    "['Carrots', 'vegetable', 6],\n",
    "['Apple', 'fruit', 5],\n",
    "['Banana', 'fruit', 4],\n",
    "['Spinach', 'vegetable', 2]], columns=['item', 'type', 'price'])"
   ]
  },
  {
   "cell_type": "code",
   "execution_count": null,
   "id": "7d2f68fd",
   "metadata": {},
   "outputs": [],
   "source": []
  },
  {
   "cell_type": "code",
   "execution_count": null,
   "id": "1ff4e673",
   "metadata": {},
   "outputs": [],
   "source": [
    "df"
   ]
  },
  {
   "cell_type": "code",
   "execution_count": null,
   "id": "d5ccb3c2",
   "metadata": {},
   "outputs": [],
   "source": []
  },
  {
   "cell_type": "markdown",
   "id": "b17c0c0b",
   "metadata": {},
   "source": [
    "#### There is a DataFrame with products. If the products are going to turn bad soon, their condition is described as False. Else, their condition is True. Create a new df that gives a 40% discount if the product might turn bad and 15% increase if they are still in good condition."
   ]
  },
  {
   "cell_type": "code",
   "execution_count": null,
   "id": "abac3838",
   "metadata": {},
   "outputs": [],
   "source": [
    "df = pd.DataFrame([\n",
    "['Egg', False, 6],\n",
    "['Watermelon', True, 5],\n",
    "['Milk', False, 4],\n",
    "['Water', True, 2]], columns=['item', 'condition', 'price'])"
   ]
  },
  {
   "cell_type": "code",
   "execution_count": null,
   "id": "e34b1161",
   "metadata": {},
   "outputs": [],
   "source": []
  },
  {
   "cell_type": "code",
   "execution_count": null,
   "id": "0abf2b93",
   "metadata": {},
   "outputs": [],
   "source": []
  },
  {
   "cell_type": "code",
   "execution_count": null,
   "id": "5b080741",
   "metadata": {},
   "outputs": [],
   "source": []
  },
  {
   "cell_type": "code",
   "execution_count": null,
   "id": "5baa8f98",
   "metadata": {},
   "outputs": [],
   "source": [
    "df"
   ]
  },
  {
   "cell_type": "markdown",
   "id": "e5a01d4c",
   "metadata": {},
   "source": [
    "---"
   ]
  }
 ],
 "metadata": {
  "kernelspec": {
   "display_name": "Python 3",
   "language": "python",
   "name": "python3"
  },
  "language_info": {
   "codemirror_mode": {
    "name": "ipython",
    "version": 3
   },
   "file_extension": ".py",
   "mimetype": "text/x-python",
   "name": "python",
   "nbconvert_exporter": "python",
   "pygments_lexer": "ipython3",
   "version": "3.9.12"
  }
 },
 "nbformat": 4,
 "nbformat_minor": 5
}
