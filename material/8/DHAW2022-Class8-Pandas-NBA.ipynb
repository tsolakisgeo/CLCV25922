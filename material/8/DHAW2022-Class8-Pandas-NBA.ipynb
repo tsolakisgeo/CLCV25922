{
 "cells": [
  {
   "cell_type": "code",
   "execution_count": 1,
   "id": "a20ab521",
   "metadata": {},
   "outputs": [],
   "source": [
    "import pandas as pd\n",
    "pd.set_option('display.max_rows', 500)\n",
    "pd.set_option('display.max_columns', 500)\n",
    "pd.set_option('display.width', 1000)"
   ]
  },
  {
   "cell_type": "markdown",
   "id": "f1fc31e0",
   "metadata": {},
   "source": [
    "#### Read the file 'NBA Stats 202122 All Player Statistics in one Page.xlsx'. I downloaded the excel from [nbastuffer.com](https://www.nbastuffer.com/2021-2022-nba-player-stats/) and I removed the first column and the first row."
   ]
  },
  {
   "cell_type": "code",
   "execution_count": 2,
   "id": "ed060efd",
   "metadata": {
    "scrolled": true
   },
   "outputs": [],
   "source": [
    "df = pd.read_excel('NBA Stats 202122 All Player Statistics in one Page.xlsx')"
   ]
  },
  {
   "cell_type": "markdown",
   "id": "51954acb",
   "metadata": {},
   "source": [
    "#### Print the first five lines"
   ]
  },
  {
   "cell_type": "code",
   "execution_count": 6,
   "id": "8df96757",
   "metadata": {},
   "outputs": [
    {
     "data": {
      "text/html": [
       "<div>\n",
       "<style scoped>\n",
       "    .dataframe tbody tr th:only-of-type {\n",
       "        vertical-align: middle;\n",
       "    }\n",
       "\n",
       "    .dataframe tbody tr th {\n",
       "        vertical-align: top;\n",
       "    }\n",
       "\n",
       "    .dataframe thead th {\n",
       "        text-align: right;\n",
       "    }\n",
       "</style>\n",
       "<table border=\"1\" class=\"dataframe\">\n",
       "  <thead>\n",
       "    <tr style=\"text-align: right;\">\n",
       "      <th></th>\n",
       "      <th>FULL NAME</th>\n",
       "      <th>TEAM</th>\n",
       "      <th>POS</th>\n",
       "      <th>AGE</th>\n",
       "      <th>GP</th>\n",
       "      <th>MPG</th>\n",
       "      <th>MIN%Minutes PercentagePercentage of team minutes used by a player while he was on the floor</th>\n",
       "      <th>USG%Usage RateUsage rate, a.k.a., usage percentage is an estimate of the percentage of team plays used by a player while he was on the floor</th>\n",
       "      <th>TO%Turnover RateA metric that estimates the number of turnovers a player commits per 100 possessions</th>\n",
       "      <th>FTA</th>\n",
       "      <th>FT%</th>\n",
       "      <th>2PA</th>\n",
       "      <th>2P%</th>\n",
       "      <th>3PA</th>\n",
       "      <th>3P%</th>\n",
       "      <th>eFG%Effective Shooting PercentageWith eFG%, three-point shots made are worth 50% more than two-point shots made. eFG% Formula=(FGM+ (0.5 x 3PM))/FGA</th>\n",
       "      <th>TS%True Shooting PercentageTrue shooting percentage is a measure of shooting efficiency that takes into account field goals, 3-point field goals, and free throws.</th>\n",
       "      <th>PPGPointsPoints per game.</th>\n",
       "      <th>RPGReboundsRebounds per game.</th>\n",
       "      <th>TRB%Total Rebound PercentageTotal rebound percentage is estimated percentage of available rebounds grabbed by the player while the player is on the court.</th>\n",
       "      <th>APGAssistsAssists per game.</th>\n",
       "      <th>AST%Assist PercentageAssist percentage is an estimated percentage of teammate field goals a player assisted while the player is on the court</th>\n",
       "      <th>SPGStealsSteals per game.</th>\n",
       "      <th>BPGBlocksBlocks per game.</th>\n",
       "      <th>TOPGTurnoversTurnovers per game.</th>\n",
       "      <th>VIVersatility IndexVersatility index is a metric that measures a player’s ability to produce in points, assists, and rebounds. The average player will score around a five on the index, while top players score above 10</th>\n",
       "      <th>ORTGOffensive RatingIndividual offensive rating is the number of points produced by a player per 100 total individual possessions.</th>\n",
       "      <th>DRTGDefensive RatingIndividual defensive rating estimates how many points the player allowed per 100 possessions he individually faced while staying on the court.</th>\n",
       "    </tr>\n",
       "  </thead>\n",
       "  <tbody>\n",
       "    <tr>\n",
       "      <th>0</th>\n",
       "      <td>Precious Achiuwa</td>\n",
       "      <td>Tor</td>\n",
       "      <td>F</td>\n",
       "      <td>22.74</td>\n",
       "      <td>6</td>\n",
       "      <td>27.8</td>\n",
       "      <td>57.8</td>\n",
       "      <td>18.2</td>\n",
       "      <td>13.8</td>\n",
       "      <td>10</td>\n",
       "      <td>0.600</td>\n",
       "      <td>36</td>\n",
       "      <td>0.556</td>\n",
       "      <td>16</td>\n",
       "      <td>0.313</td>\n",
       "      <td>0.529</td>\n",
       "      <td>0.541</td>\n",
       "      <td>10.2</td>\n",
       "      <td>4.8</td>\n",
       "      <td>10.7</td>\n",
       "      <td>1.0</td>\n",
       "      <td>5.7</td>\n",
       "      <td>0.17</td>\n",
       "      <td>0.83</td>\n",
       "      <td>1.50</td>\n",
       "      <td>5.3</td>\n",
       "      <td>103.3</td>\n",
       "      <td>107.9</td>\n",
       "    </tr>\n",
       "    <tr>\n",
       "      <th>1</th>\n",
       "      <td>Steven Adams</td>\n",
       "      <td>Mem</td>\n",
       "      <td>C</td>\n",
       "      <td>28.91</td>\n",
       "      <td>7</td>\n",
       "      <td>16.2</td>\n",
       "      <td>33.8</td>\n",
       "      <td>10.8</td>\n",
       "      <td>13.4</td>\n",
       "      <td>11</td>\n",
       "      <td>0.545</td>\n",
       "      <td>21</td>\n",
       "      <td>0.429</td>\n",
       "      <td>0</td>\n",
       "      <td>0.000</td>\n",
       "      <td>0.429</td>\n",
       "      <td>0.464</td>\n",
       "      <td>3.4</td>\n",
       "      <td>6.4</td>\n",
       "      <td>20.9</td>\n",
       "      <td>2.1</td>\n",
       "      <td>17.6</td>\n",
       "      <td>0.14</td>\n",
       "      <td>0.14</td>\n",
       "      <td>0.57</td>\n",
       "      <td>8.8</td>\n",
       "      <td>120.1</td>\n",
       "      <td>100.4</td>\n",
       "    </tr>\n",
       "    <tr>\n",
       "      <th>2</th>\n",
       "      <td>Bam Adebayo</td>\n",
       "      <td>Mia</td>\n",
       "      <td>C-F</td>\n",
       "      <td>24.92</td>\n",
       "      <td>18</td>\n",
       "      <td>34.1</td>\n",
       "      <td>71.0</td>\n",
       "      <td>17.9</td>\n",
       "      <td>15.4</td>\n",
       "      <td>76</td>\n",
       "      <td>0.763</td>\n",
       "      <td>174</td>\n",
       "      <td>0.598</td>\n",
       "      <td>1</td>\n",
       "      <td>0.000</td>\n",
       "      <td>0.594</td>\n",
       "      <td>0.638</td>\n",
       "      <td>14.8</td>\n",
       "      <td>8.0</td>\n",
       "      <td>13.8</td>\n",
       "      <td>2.7</td>\n",
       "      <td>12.6</td>\n",
       "      <td>1.00</td>\n",
       "      <td>0.72</td>\n",
       "      <td>2.11</td>\n",
       "      <td>8.0</td>\n",
       "      <td>119.8</td>\n",
       "      <td>101.2</td>\n",
       "    </tr>\n",
       "    <tr>\n",
       "      <th>3</th>\n",
       "      <td>Nickeil Alexander-Walker</td>\n",
       "      <td>Uta</td>\n",
       "      <td>G</td>\n",
       "      <td>23.79</td>\n",
       "      <td>1</td>\n",
       "      <td>4.7</td>\n",
       "      <td>9.8</td>\n",
       "      <td>24.4</td>\n",
       "      <td>0.0</td>\n",
       "      <td>1</td>\n",
       "      <td>1.000</td>\n",
       "      <td>2</td>\n",
       "      <td>1.000</td>\n",
       "      <td>0</td>\n",
       "      <td>0.000</td>\n",
       "      <td>1.000</td>\n",
       "      <td>1.025</td>\n",
       "      <td>5.0</td>\n",
       "      <td>1.0</td>\n",
       "      <td>12.4</td>\n",
       "      <td>1.0</td>\n",
       "      <td>70.1</td>\n",
       "      <td>1.00</td>\n",
       "      <td>0.00</td>\n",
       "      <td>0.00</td>\n",
       "      <td>14.6</td>\n",
       "      <td>214.3</td>\n",
       "      <td>100.3</td>\n",
       "    </tr>\n",
       "    <tr>\n",
       "      <th>4</th>\n",
       "      <td>Grayson Allen</td>\n",
       "      <td>Mil</td>\n",
       "      <td>G</td>\n",
       "      <td>26.69</td>\n",
       "      <td>12</td>\n",
       "      <td>25.4</td>\n",
       "      <td>53.0</td>\n",
       "      <td>13.6</td>\n",
       "      <td>9.4</td>\n",
       "      <td>11</td>\n",
       "      <td>0.636</td>\n",
       "      <td>34</td>\n",
       "      <td>0.529</td>\n",
       "      <td>48</td>\n",
       "      <td>0.396</td>\n",
       "      <td>0.567</td>\n",
       "      <td>0.576</td>\n",
       "      <td>8.3</td>\n",
       "      <td>2.9</td>\n",
       "      <td>5.9</td>\n",
       "      <td>1.3</td>\n",
       "      <td>7.2</td>\n",
       "      <td>0.67</td>\n",
       "      <td>0.33</td>\n",
       "      <td>0.75</td>\n",
       "      <td>5.0</td>\n",
       "      <td>112.0</td>\n",
       "      <td>107.6</td>\n",
       "    </tr>\n",
       "  </tbody>\n",
       "</table>\n",
       "</div>"
      ],
      "text/plain": [
       "                  FULL NAME TEAM  POS    AGE  GP   MPG  MIN%Minutes PercentagePercentage of team minutes used by a player while he was on the floor  USG%Usage RateUsage rate, a.k.a., usage percentage is an estimate of the percentage of team plays used by a player while he was on the floor  TO%Turnover RateA metric that estimates the number of turnovers a player commits per 100 possessions  FTA    FT%  2PA    2P%  3PA    3P%  eFG%Effective Shooting PercentageWith eFG%, three-point shots made are worth 50% more than two-point shots made. eFG% Formula=(FGM+ (0.5 x 3PM))/FGA  TS%True Shooting PercentageTrue shooting percentage is a measure of shooting efficiency that takes into account field goals, 3-point field goals, and free throws.  PPGPointsPoints per game.  RPGReboundsRebounds per game.  TRB%Total Rebound PercentageTotal rebound percentage is estimated percentage of available rebounds grabbed by the player while the player is on the court.  APGAssistsAssists per game.  \\\n",
       "0          Precious Achiuwa  Tor    F  22.74   6  27.8                                               57.8                                                                                         18.2                                                                                                                                          13.8                                                      10  0.600   36  0.556   16  0.313                                              0.529                                                                                                                                                 0.541                                                                                                                                        10.2                            4.8                                               10.7                                                                                                                                   1.0   \n",
       "1              Steven Adams  Mem    C  28.91   7  16.2                                               33.8                                                                                         10.8                                                                                                                                          13.4                                                      11  0.545   21  0.429    0  0.000                                              0.429                                                                                                                                                 0.464                                                                                                                                         3.4                            6.4                                               20.9                                                                                                                                   2.1   \n",
       "2               Bam Adebayo  Mia  C-F  24.92  18  34.1                                               71.0                                                                                         17.9                                                                                                                                          15.4                                                      76  0.763  174  0.598    1  0.000                                              0.594                                                                                                                                                 0.638                                                                                                                                        14.8                            8.0                                               13.8                                                                                                                                   2.7   \n",
       "3  Nickeil Alexander-Walker  Uta    G  23.79   1   4.7                                                9.8                                                                                         24.4                                                                                                                                           0.0                                                       1  1.000    2  1.000    0  0.000                                              1.000                                                                                                                                                 1.025                                                                                                                                         5.0                            1.0                                               12.4                                                                                                                                   1.0   \n",
       "4             Grayson Allen  Mil    G  26.69  12  25.4                                               53.0                                                                                         13.6                                                                                                                                           9.4                                                      11  0.636   34  0.529   48  0.396                                              0.567                                                                                                                                                 0.576                                                                                                                                         8.3                            2.9                                                5.9                                                                                                                                   1.3   \n",
       "\n",
       "   AST%Assist PercentageAssist percentage is an estimated percentage of teammate field goals a player assisted while the player is on the court  SPGStealsSteals per game.  BPGBlocksBlocks per game.  TOPGTurnoversTurnovers per game.  VIVersatility IndexVersatility index is a metric that measures a player’s ability to produce in points, assists, and rebounds. The average player will score around a five on the index, while top players score above 10  ORTGOffensive RatingIndividual offensive rating is the number of points produced by a player per 100 total individual possessions.  DRTGDefensive RatingIndividual defensive rating estimates how many points the player allowed per 100 possessions he individually faced while staying on the court.  \n",
       "0                                                5.7                                                                                                                  0.17                       0.83                              1.50                                                5.3                                                                                                                                                                                                                      103.3                                                                                                                               107.9                                                                                                                   \n",
       "1                                               17.6                                                                                                                  0.14                       0.14                              0.57                                                8.8                                                                                                                                                                                                                      120.1                                                                                                                               100.4                                                                                                                   \n",
       "2                                               12.6                                                                                                                  1.00                       0.72                              2.11                                                8.0                                                                                                                                                                                                                      119.8                                                                                                                               101.2                                                                                                                   \n",
       "3                                               70.1                                                                                                                  1.00                       0.00                              0.00                                               14.6                                                                                                                                                                                                                      214.3                                                                                                                               100.3                                                                                                                   \n",
       "4                                                7.2                                                                                                                  0.67                       0.33                              0.75                                                5.0                                                                                                                                                                                                                      112.0                                                                                                                               107.6                                                                                                                   "
      ]
     },
     "execution_count": 6,
     "metadata": {},
     "output_type": "execute_result"
    }
   ],
   "source": [
    "df.head(5)"
   ]
  },
  {
   "cell_type": "markdown",
   "id": "2aadd1dd",
   "metadata": {},
   "source": [
    "#### Get the name of the columns"
   ]
  },
  {
   "cell_type": "code",
   "execution_count": 7,
   "id": "5f991c73",
   "metadata": {},
   "outputs": [
    {
     "data": {
      "text/plain": [
       "Index(['FULL NAME', 'TEAM', 'POS', 'AGE', 'GP', 'MPG', 'MIN%Minutes PercentagePercentage of team minutes used by a player while he was on the floor', 'USG%Usage RateUsage rate, a.k.a., usage percentage is an estimate of the percentage of team plays used by a player while he was on the floor', 'TO%Turnover RateA metric that estimates the number of turnovers a player commits per 100 possessions', 'FTA', 'FT%', '2PA', '2P%', '3PA', '3P%', 'eFG%Effective Shooting PercentageWith eFG%, three-point shots made are worth 50% more than two-point shots made. eFG% Formula=(FGM+ (0.5 x 3PM))/FGA', 'TS%True Shooting PercentageTrue shooting percentage is a measure of shooting efficiency that takes into account field goals, 3-point field goals, and free throws.', 'PPGPointsPoints per game.', 'RPGReboundsRebounds per game.', 'TRB%Total Rebound PercentageTotal rebound percentage is estimated percentage of available rebounds grabbed by the player while the player is on the court.',\n",
       "       'APGAssistsAssists per game.', 'AST%Assist PercentageAssist percentage is an estimated percentage of teammate field goals a player assisted while the player is on the court', 'SPGStealsSteals per game.', 'BPGBlocksBlocks per game.', 'TOPGTurnoversTurnovers per game.', 'VIVersatility IndexVersatility index is a metric that measures a player’s ability to produce in points, assists, and rebounds. The average player will score around a five on the index, while top players score above 10', 'ORTGOffensive RatingIndividual offensive rating is the number of points produced by a player per 100 total individual possessions.', 'DRTGDefensive RatingIndividual defensive rating estimates how many points the player allowed per 100 possessions he individually faced while staying on the court.'],\n",
       "      dtype='object')"
      ]
     },
     "execution_count": 7,
     "metadata": {},
     "output_type": "execute_result"
    }
   ],
   "source": [
    "df.columns"
   ]
  },
  {
   "cell_type": "markdown",
   "id": "a9cf516e",
   "metadata": {},
   "source": [
    "#### Get the stats of \"Giannis Antetokounmpo\""
   ]
  },
  {
   "cell_type": "code",
   "execution_count": 9,
   "id": "101c3820",
   "metadata": {},
   "outputs": [
    {
     "data": {
      "text/html": [
       "<div>\n",
       "<style scoped>\n",
       "    .dataframe tbody tr th:only-of-type {\n",
       "        vertical-align: middle;\n",
       "    }\n",
       "\n",
       "    .dataframe tbody tr th {\n",
       "        vertical-align: top;\n",
       "    }\n",
       "\n",
       "    .dataframe thead th {\n",
       "        text-align: right;\n",
       "    }\n",
       "</style>\n",
       "<table border=\"1\" class=\"dataframe\">\n",
       "  <thead>\n",
       "    <tr style=\"text-align: right;\">\n",
       "      <th></th>\n",
       "      <th>FULL NAME</th>\n",
       "      <th>TEAM</th>\n",
       "      <th>POS</th>\n",
       "      <th>AGE</th>\n",
       "      <th>GP</th>\n",
       "      <th>MPG</th>\n",
       "      <th>MIN%Minutes PercentagePercentage of team minutes used by a player while he was on the floor</th>\n",
       "      <th>USG%Usage RateUsage rate, a.k.a., usage percentage is an estimate of the percentage of team plays used by a player while he was on the floor</th>\n",
       "      <th>TO%Turnover RateA metric that estimates the number of turnovers a player commits per 100 possessions</th>\n",
       "      <th>FTA</th>\n",
       "      <th>FT%</th>\n",
       "      <th>2PA</th>\n",
       "      <th>2P%</th>\n",
       "      <th>3PA</th>\n",
       "      <th>3P%</th>\n",
       "      <th>eFG%Effective Shooting PercentageWith eFG%, three-point shots made are worth 50% more than two-point shots made. eFG% Formula=(FGM+ (0.5 x 3PM))/FGA</th>\n",
       "      <th>TS%True Shooting PercentageTrue shooting percentage is a measure of shooting efficiency that takes into account field goals, 3-point field goals, and free throws.</th>\n",
       "      <th>PPGPointsPoints per game.</th>\n",
       "      <th>RPGReboundsRebounds per game.</th>\n",
       "      <th>TRB%Total Rebound PercentageTotal rebound percentage is estimated percentage of available rebounds grabbed by the player while the player is on the court.</th>\n",
       "      <th>APGAssistsAssists per game.</th>\n",
       "      <th>AST%Assist PercentageAssist percentage is an estimated percentage of teammate field goals a player assisted while the player is on the court</th>\n",
       "      <th>SPGStealsSteals per game.</th>\n",
       "      <th>BPGBlocksBlocks per game.</th>\n",
       "      <th>TOPGTurnoversTurnovers per game.</th>\n",
       "      <th>VIVersatility IndexVersatility index is a metric that measures a player’s ability to produce in points, assists, and rebounds. The average player will score around a five on the index, while top players score above 10</th>\n",
       "      <th>ORTGOffensive RatingIndividual offensive rating is the number of points produced by a player per 100 total individual possessions.</th>\n",
       "      <th>DRTGDefensive RatingIndividual defensive rating estimates how many points the player allowed per 100 possessions he individually faced while staying on the court.</th>\n",
       "    </tr>\n",
       "  </thead>\n",
       "  <tbody>\n",
       "    <tr>\n",
       "      <th>7</th>\n",
       "      <td>Giannis Antetokounmpo</td>\n",
       "      <td>Mil</td>\n",
       "      <td>F</td>\n",
       "      <td>27.53</td>\n",
       "      <td>12</td>\n",
       "      <td>37.3</td>\n",
       "      <td>77.7</td>\n",
       "      <td>38.5</td>\n",
       "      <td>13.6</td>\n",
       "      <td>134</td>\n",
       "      <td>0.679</td>\n",
       "      <td>244</td>\n",
       "      <td>0.537</td>\n",
       "      <td>41</td>\n",
       "      <td>0.22</td>\n",
       "      <td>0.507</td>\n",
       "      <td>0.552</td>\n",
       "      <td>31.7</td>\n",
       "      <td>14.2</td>\n",
       "      <td>19.5</td>\n",
       "      <td>6.8</td>\n",
       "      <td>37.0</td>\n",
       "      <td>0.67</td>\n",
       "      <td>1.33</td>\n",
       "      <td>4.5</td>\n",
       "      <td>15.6</td>\n",
       "      <td>107.9</td>\n",
       "      <td>99.6</td>\n",
       "    </tr>\n",
       "  </tbody>\n",
       "</table>\n",
       "</div>"
      ],
      "text/plain": [
       "               FULL NAME TEAM POS    AGE  GP   MPG  MIN%Minutes PercentagePercentage of team minutes used by a player while he was on the floor  USG%Usage RateUsage rate, a.k.a., usage percentage is an estimate of the percentage of team plays used by a player while he was on the floor  TO%Turnover RateA metric that estimates the number of turnovers a player commits per 100 possessions  FTA    FT%  2PA    2P%  3PA   3P%  eFG%Effective Shooting PercentageWith eFG%, three-point shots made are worth 50% more than two-point shots made. eFG% Formula=(FGM+ (0.5 x 3PM))/FGA  TS%True Shooting PercentageTrue shooting percentage is a measure of shooting efficiency that takes into account field goals, 3-point field goals, and free throws.  PPGPointsPoints per game.  RPGReboundsRebounds per game.  TRB%Total Rebound PercentageTotal rebound percentage is estimated percentage of available rebounds grabbed by the player while the player is on the court.  APGAssistsAssists per game.  \\\n",
       "7  Giannis Antetokounmpo  Mil   F  27.53  12  37.3                                               77.7                                                                                         38.5                                                                                                                                          13.6                                                     134  0.679  244  0.537   41  0.22                                              0.507                                                                                                                                                 0.552                                                                                                                                        31.7                           14.2                                               19.5                                                                                                                                   6.8   \n",
       "\n",
       "   AST%Assist PercentageAssist percentage is an estimated percentage of teammate field goals a player assisted while the player is on the court  SPGStealsSteals per game.  BPGBlocksBlocks per game.  TOPGTurnoversTurnovers per game.  VIVersatility IndexVersatility index is a metric that measures a player’s ability to produce in points, assists, and rebounds. The average player will score around a five on the index, while top players score above 10  ORTGOffensive RatingIndividual offensive rating is the number of points produced by a player per 100 total individual possessions.  DRTGDefensive RatingIndividual defensive rating estimates how many points the player allowed per 100 possessions he individually faced while staying on the court.  \n",
       "7                                               37.0                                                                                                                  0.67                       1.33                               4.5                                               15.6                                                                                                                                                                                                                      107.9                                                                                                                                99.6                                                                                                                   "
      ]
     },
     "execution_count": 9,
     "metadata": {},
     "output_type": "execute_result"
    }
   ],
   "source": [
    "df[df['FULL NAME'] == 'Giannis Antetokounmpo']"
   ]
  },
  {
   "cell_type": "markdown",
   "id": "99b68a0f",
   "metadata": {},
   "source": [
    "#### How many players are over 30 years old?"
   ]
  },
  {
   "cell_type": "code",
   "execution_count": 14,
   "id": "85a6d54c",
   "metadata": {},
   "outputs": [
    {
     "data": {
      "text/plain": [
       "58"
      ]
     },
     "execution_count": 14,
     "metadata": {},
     "output_type": "execute_result"
    }
   ],
   "source": [
    "len(df[df['AGE'] > 30])"
   ]
  },
  {
   "cell_type": "markdown",
   "id": "7bf4001d",
   "metadata": {},
   "source": [
    "#### How many players of Milwaukee Bucks are in this DataFrame?"
   ]
  },
  {
   "cell_type": "code",
   "execution_count": 15,
   "id": "e17898dd",
   "metadata": {},
   "outputs": [
    {
     "data": {
      "text/plain": [
       "15"
      ]
     },
     "execution_count": 15,
     "metadata": {},
     "output_type": "execute_result"
    }
   ],
   "source": [
    "len(df[df['TEAM'] == 'Mil'])"
   ]
  },
  {
   "cell_type": "markdown",
   "id": "95204302",
   "metadata": {},
   "source": [
    "#### How many players of Milwaukee Bucks are over 30 years old?"
   ]
  },
  {
   "cell_type": "code",
   "execution_count": 18,
   "id": "1b71efb0",
   "metadata": {},
   "outputs": [
    {
     "data": {
      "text/plain": [
       "6"
      ]
     },
     "execution_count": 18,
     "metadata": {},
     "output_type": "execute_result"
    }
   ],
   "source": [
    "len(df   [ (df['TEAM'] == 'Mil')   &  (df['AGE'] > 30)   ]  )"
   ]
  },
  {
   "cell_type": "markdown",
   "id": "3f37b00a",
   "metadata": {},
   "source": [
    "#### Which players of Milwaukee Bucks were shooting with average over 50% in either 2P% or 3P%"
   ]
  },
  {
   "cell_type": "code",
   "execution_count": 21,
   "id": "5c85e592",
   "metadata": {},
   "outputs": [
    {
     "data": {
      "text/html": [
       "<div>\n",
       "<style scoped>\n",
       "    .dataframe tbody tr th:only-of-type {\n",
       "        vertical-align: middle;\n",
       "    }\n",
       "\n",
       "    .dataframe tbody tr th {\n",
       "        vertical-align: top;\n",
       "    }\n",
       "\n",
       "    .dataframe thead th {\n",
       "        text-align: right;\n",
       "    }\n",
       "</style>\n",
       "<table border=\"1\" class=\"dataframe\">\n",
       "  <thead>\n",
       "    <tr style=\"text-align: right;\">\n",
       "      <th></th>\n",
       "      <th>FULL NAME</th>\n",
       "      <th>TEAM</th>\n",
       "      <th>POS</th>\n",
       "      <th>AGE</th>\n",
       "      <th>GP</th>\n",
       "      <th>MPG</th>\n",
       "      <th>MIN%Minutes PercentagePercentage of team minutes used by a player while he was on the floor</th>\n",
       "      <th>USG%Usage RateUsage rate, a.k.a., usage percentage is an estimate of the percentage of team plays used by a player while he was on the floor</th>\n",
       "      <th>TO%Turnover RateA metric that estimates the number of turnovers a player commits per 100 possessions</th>\n",
       "      <th>FTA</th>\n",
       "      <th>FT%</th>\n",
       "      <th>2PA</th>\n",
       "      <th>2P%</th>\n",
       "      <th>3PA</th>\n",
       "      <th>3P%</th>\n",
       "      <th>eFG%Effective Shooting PercentageWith eFG%, three-point shots made are worth 50% more than two-point shots made. eFG% Formula=(FGM+ (0.5 x 3PM))/FGA</th>\n",
       "      <th>TS%True Shooting PercentageTrue shooting percentage is a measure of shooting efficiency that takes into account field goals, 3-point field goals, and free throws.</th>\n",
       "      <th>PPGPointsPoints per game.</th>\n",
       "      <th>RPGReboundsRebounds per game.</th>\n",
       "      <th>TRB%Total Rebound PercentageTotal rebound percentage is estimated percentage of available rebounds grabbed by the player while the player is on the court.</th>\n",
       "      <th>APGAssistsAssists per game.</th>\n",
       "      <th>AST%Assist PercentageAssist percentage is an estimated percentage of teammate field goals a player assisted while the player is on the court</th>\n",
       "      <th>SPGStealsSteals per game.</th>\n",
       "      <th>BPGBlocksBlocks per game.</th>\n",
       "      <th>TOPGTurnoversTurnovers per game.</th>\n",
       "      <th>VIVersatility IndexVersatility index is a metric that measures a player’s ability to produce in points, assists, and rebounds. The average player will score around a five on the index, while top players score above 10</th>\n",
       "      <th>ORTGOffensive RatingIndividual offensive rating is the number of points produced by a player per 100 total individual possessions.</th>\n",
       "      <th>DRTGDefensive RatingIndividual defensive rating estimates how many points the player allowed per 100 possessions he individually faced while staying on the court.</th>\n",
       "    </tr>\n",
       "  </thead>\n",
       "  <tbody>\n",
       "    <tr>\n",
       "      <th>4</th>\n",
       "      <td>Grayson Allen</td>\n",
       "      <td>Mil</td>\n",
       "      <td>G</td>\n",
       "      <td>26.69</td>\n",
       "      <td>12</td>\n",
       "      <td>25.4</td>\n",
       "      <td>53.0</td>\n",
       "      <td>13.6</td>\n",
       "      <td>9.4</td>\n",
       "      <td>11</td>\n",
       "      <td>0.636</td>\n",
       "      <td>34</td>\n",
       "      <td>0.529</td>\n",
       "      <td>48</td>\n",
       "      <td>0.396</td>\n",
       "      <td>0.567</td>\n",
       "      <td>0.576</td>\n",
       "      <td>8.3</td>\n",
       "      <td>2.9</td>\n",
       "      <td>5.9</td>\n",
       "      <td>1.3</td>\n",
       "      <td>7.2</td>\n",
       "      <td>0.67</td>\n",
       "      <td>0.33</td>\n",
       "      <td>0.75</td>\n",
       "      <td>5.0</td>\n",
       "      <td>112.0</td>\n",
       "      <td>107.6</td>\n",
       "    </tr>\n",
       "    <tr>\n",
       "      <th>7</th>\n",
       "      <td>Giannis Antetokounmpo</td>\n",
       "      <td>Mil</td>\n",
       "      <td>F</td>\n",
       "      <td>27.53</td>\n",
       "      <td>12</td>\n",
       "      <td>37.3</td>\n",
       "      <td>77.7</td>\n",
       "      <td>38.5</td>\n",
       "      <td>13.6</td>\n",
       "      <td>134</td>\n",
       "      <td>0.679</td>\n",
       "      <td>244</td>\n",
       "      <td>0.537</td>\n",
       "      <td>41</td>\n",
       "      <td>0.220</td>\n",
       "      <td>0.507</td>\n",
       "      <td>0.552</td>\n",
       "      <td>31.7</td>\n",
       "      <td>14.2</td>\n",
       "      <td>19.5</td>\n",
       "      <td>6.8</td>\n",
       "      <td>37.0</td>\n",
       "      <td>0.67</td>\n",
       "      <td>1.33</td>\n",
       "      <td>4.50</td>\n",
       "      <td>15.6</td>\n",
       "      <td>107.9</td>\n",
       "      <td>99.6</td>\n",
       "    </tr>\n",
       "    <tr>\n",
       "      <th>8</th>\n",
       "      <td>Thanasis Antetokounmpo</td>\n",
       "      <td>Mil</td>\n",
       "      <td>F</td>\n",
       "      <td>29.91</td>\n",
       "      <td>8</td>\n",
       "      <td>2.6</td>\n",
       "      <td>5.3</td>\n",
       "      <td>9.2</td>\n",
       "      <td>0.0</td>\n",
       "      <td>3</td>\n",
       "      <td>0.333</td>\n",
       "      <td>3</td>\n",
       "      <td>0.667</td>\n",
       "      <td>0</td>\n",
       "      <td>0.000</td>\n",
       "      <td>0.667</td>\n",
       "      <td>0.579</td>\n",
       "      <td>0.6</td>\n",
       "      <td>0.5</td>\n",
       "      <td>10.0</td>\n",
       "      <td>0.1</td>\n",
       "      <td>7.0</td>\n",
       "      <td>0.13</td>\n",
       "      <td>0.00</td>\n",
       "      <td>0.00</td>\n",
       "      <td>4.8</td>\n",
       "      <td>NaN</td>\n",
       "      <td>NaN</td>\n",
       "    </tr>\n",
       "    <tr>\n",
       "      <th>51</th>\n",
       "      <td>Pat Connaughton</td>\n",
       "      <td>Mil</td>\n",
       "      <td>G</td>\n",
       "      <td>29.44</td>\n",
       "      <td>12</td>\n",
       "      <td>26.5</td>\n",
       "      <td>55.2</td>\n",
       "      <td>13.2</td>\n",
       "      <td>7.2</td>\n",
       "      <td>5</td>\n",
       "      <td>1.000</td>\n",
       "      <td>24</td>\n",
       "      <td>0.708</td>\n",
       "      <td>64</td>\n",
       "      <td>0.391</td>\n",
       "      <td>0.619</td>\n",
       "      <td>0.632</td>\n",
       "      <td>9.5</td>\n",
       "      <td>4.3</td>\n",
       "      <td>8.2</td>\n",
       "      <td>0.9</td>\n",
       "      <td>5.2</td>\n",
       "      <td>0.42</td>\n",
       "      <td>0.33</td>\n",
       "      <td>0.58</td>\n",
       "      <td>5.0</td>\n",
       "      <td>120.4</td>\n",
       "      <td>109.9</td>\n",
       "    </tr>\n",
       "    <tr>\n",
       "      <th>123</th>\n",
       "      <td>Brook Lopez</td>\n",
       "      <td>Mil</td>\n",
       "      <td>C</td>\n",
       "      <td>34.21</td>\n",
       "      <td>12</td>\n",
       "      <td>27.7</td>\n",
       "      <td>57.6</td>\n",
       "      <td>16.1</td>\n",
       "      <td>8.9</td>\n",
       "      <td>23</td>\n",
       "      <td>0.913</td>\n",
       "      <td>74</td>\n",
       "      <td>0.595</td>\n",
       "      <td>28</td>\n",
       "      <td>0.214</td>\n",
       "      <td>0.520</td>\n",
       "      <td>0.566</td>\n",
       "      <td>10.6</td>\n",
       "      <td>5.9</td>\n",
       "      <td>11.0</td>\n",
       "      <td>0.7</td>\n",
       "      <td>3.7</td>\n",
       "      <td>0.50</td>\n",
       "      <td>1.50</td>\n",
       "      <td>0.92</td>\n",
       "      <td>5.1</td>\n",
       "      <td>117.3</td>\n",
       "      <td>104.4</td>\n",
       "    </tr>\n",
       "    <tr>\n",
       "      <th>200</th>\n",
       "      <td>Luca Vildoza</td>\n",
       "      <td>Mil</td>\n",
       "      <td>G</td>\n",
       "      <td>20.00</td>\n",
       "      <td>7</td>\n",
       "      <td>2.4</td>\n",
       "      <td>5.0</td>\n",
       "      <td>15.4</td>\n",
       "      <td>0.0</td>\n",
       "      <td>0</td>\n",
       "      <td>0.000</td>\n",
       "      <td>1</td>\n",
       "      <td>1.000</td>\n",
       "      <td>5</td>\n",
       "      <td>0.200</td>\n",
       "      <td>0.417</td>\n",
       "      <td>0.417</td>\n",
       "      <td>0.7</td>\n",
       "      <td>0.3</td>\n",
       "      <td>6.1</td>\n",
       "      <td>0.6</td>\n",
       "      <td>34.6</td>\n",
       "      <td>0.29</td>\n",
       "      <td>0.00</td>\n",
       "      <td>0.00</td>\n",
       "      <td>8.4</td>\n",
       "      <td>NaN</td>\n",
       "      <td>NaN</td>\n",
       "    </tr>\n",
       "  </tbody>\n",
       "</table>\n",
       "</div>"
      ],
      "text/plain": [
       "                  FULL NAME TEAM POS    AGE  GP   MPG  MIN%Minutes PercentagePercentage of team minutes used by a player while he was on the floor  USG%Usage RateUsage rate, a.k.a., usage percentage is an estimate of the percentage of team plays used by a player while he was on the floor  TO%Turnover RateA metric that estimates the number of turnovers a player commits per 100 possessions  FTA    FT%  2PA    2P%  3PA    3P%  eFG%Effective Shooting PercentageWith eFG%, three-point shots made are worth 50% more than two-point shots made. eFG% Formula=(FGM+ (0.5 x 3PM))/FGA  TS%True Shooting PercentageTrue shooting percentage is a measure of shooting efficiency that takes into account field goals, 3-point field goals, and free throws.  PPGPointsPoints per game.  RPGReboundsRebounds per game.  TRB%Total Rebound PercentageTotal rebound percentage is estimated percentage of available rebounds grabbed by the player while the player is on the court.  APGAssistsAssists per game.  \\\n",
       "4             Grayson Allen  Mil   G  26.69  12  25.4                                               53.0                                                                                         13.6                                                                                                                                           9.4                                                      11  0.636   34  0.529   48  0.396                                              0.567                                                                                                                                                 0.576                                                                                                                                         8.3                            2.9                                                5.9                                                                                                                                   1.3   \n",
       "7     Giannis Antetokounmpo  Mil   F  27.53  12  37.3                                               77.7                                                                                         38.5                                                                                                                                          13.6                                                     134  0.679  244  0.537   41  0.220                                              0.507                                                                                                                                                 0.552                                                                                                                                        31.7                           14.2                                               19.5                                                                                                                                   6.8   \n",
       "8    Thanasis Antetokounmpo  Mil   F  29.91   8   2.6                                                5.3                                                                                          9.2                                                                                                                                           0.0                                                       3  0.333    3  0.667    0  0.000                                              0.667                                                                                                                                                 0.579                                                                                                                                         0.6                            0.5                                               10.0                                                                                                                                   0.1   \n",
       "51          Pat Connaughton  Mil   G  29.44  12  26.5                                               55.2                                                                                         13.2                                                                                                                                           7.2                                                       5  1.000   24  0.708   64  0.391                                              0.619                                                                                                                                                 0.632                                                                                                                                         9.5                            4.3                                                8.2                                                                                                                                   0.9   \n",
       "123             Brook Lopez  Mil   C  34.21  12  27.7                                               57.6                                                                                         16.1                                                                                                                                           8.9                                                      23  0.913   74  0.595   28  0.214                                              0.520                                                                                                                                                 0.566                                                                                                                                        10.6                            5.9                                               11.0                                                                                                                                   0.7   \n",
       "200            Luca Vildoza  Mil   G  20.00   7   2.4                                                5.0                                                                                         15.4                                                                                                                                           0.0                                                       0  0.000    1  1.000    5  0.200                                              0.417                                                                                                                                                 0.417                                                                                                                                         0.7                            0.3                                                6.1                                                                                                                                   0.6   \n",
       "\n",
       "     AST%Assist PercentageAssist percentage is an estimated percentage of teammate field goals a player assisted while the player is on the court  SPGStealsSteals per game.  BPGBlocksBlocks per game.  TOPGTurnoversTurnovers per game.  VIVersatility IndexVersatility index is a metric that measures a player’s ability to produce in points, assists, and rebounds. The average player will score around a five on the index, while top players score above 10  ORTGOffensive RatingIndividual offensive rating is the number of points produced by a player per 100 total individual possessions.  DRTGDefensive RatingIndividual defensive rating estimates how many points the player allowed per 100 possessions he individually faced while staying on the court.  \n",
       "4                                                  7.2                                                                                                                  0.67                       0.33                              0.75                                                5.0                                                                                                                                                                                                                      112.0                                                                                                                               107.6                                                                                                                   \n",
       "7                                                 37.0                                                                                                                  0.67                       1.33                              4.50                                               15.6                                                                                                                                                                                                                      107.9                                                                                                                                99.6                                                                                                                   \n",
       "8                                                  7.0                                                                                                                  0.13                       0.00                              0.00                                                4.8                                                                                                                                                                                                                        NaN                                                                                                                                 NaN                                                                                                                   \n",
       "51                                                 5.2                                                                                                                  0.42                       0.33                              0.58                                                5.0                                                                                                                                                                                                                      120.4                                                                                                                               109.9                                                                                                                   \n",
       "123                                                3.7                                                                                                                  0.50                       1.50                              0.92                                                5.1                                                                                                                                                                                                                      117.3                                                                                                                               104.4                                                                                                                   \n",
       "200                                               34.6                                                                                                                  0.29                       0.00                              0.00                                                8.4                                                                                                                                                                                                                        NaN                                                                                                                                 NaN                                                                                                                   "
      ]
     },
     "execution_count": 21,
     "metadata": {},
     "output_type": "execute_result"
    }
   ],
   "source": [
    "df   [ (df['TEAM'] == 'Mil')   &  ((df['2P%'] > .5 )  | (df['3P%'] > .5)) ]"
   ]
  },
  {
   "cell_type": "markdown",
   "id": "3b9f2bda",
   "metadata": {},
   "source": [
    "#### Get Milwaukee Bucks' average free throws (FT%) "
   ]
  },
  {
   "cell_type": "code",
   "execution_count": 24,
   "id": "6a089a98",
   "metadata": {},
   "outputs": [
    {
     "data": {
      "text/plain": [
       "0.6226666666666667"
      ]
     },
     "execution_count": 24,
     "metadata": {},
     "output_type": "execute_result"
    }
   ],
   "source": [
    "df[df['TEAM'] == 'Mil']['FT%'].mean()"
   ]
  },
  {
   "cell_type": "markdown",
   "id": "599c8581",
   "metadata": {},
   "source": [
    "#### Get the average free throws per team"
   ]
  },
  {
   "cell_type": "code",
   "execution_count": 29,
   "id": "690676fb",
   "metadata": {},
   "outputs": [
    {
     "data": {
      "text/plain": [
       "TEAM\n",
       "Atl    0.578929\n",
       "Bos    0.689267\n",
       "Bro    0.512000\n",
       "Chi    0.524500\n",
       "Dal    0.781500\n",
       "Den    0.628385\n",
       "Gol    0.687500\n",
       "Mem    0.725231\n",
       "Mia    0.628786\n",
       "Mil    0.622667\n",
       "Min    0.622231\n",
       "Nor    0.663500\n",
       "Phi    0.481400\n",
       "Pho    0.595643\n",
       "Tor    0.560133\n",
       "Uta    0.670333\n",
       "Name: FT%, dtype: float64"
      ]
     },
     "execution_count": 29,
     "metadata": {},
     "output_type": "execute_result"
    }
   ],
   "source": [
    "df.groupby(['TEAM']).mean()['FT%']"
   ]
  },
  {
   "cell_type": "markdown",
   "id": "7a48b958",
   "metadata": {},
   "source": [
    "#### Guess the result of the next code: True or False?"
   ]
  },
  {
   "cell_type": "code",
   "execution_count": 30,
   "id": "ff5d5785",
   "metadata": {},
   "outputs": [
    {
     "name": "stdout",
     "output_type": "stream",
     "text": [
      "False\n"
     ]
    }
   ],
   "source": [
    "simpsons = pd.Series(\n",
    "['Homer', 'Marge', 'Bart', 'Lisa', 'Maggie'])\n",
    "print('Bart' in simpsons)"
   ]
  },
  {
   "cell_type": "code",
   "execution_count": 31,
   "id": "d9a31e99",
   "metadata": {},
   "outputs": [
    {
     "name": "stdout",
     "output_type": "stream",
     "text": [
      "True\n"
     ]
    }
   ],
   "source": [
    "simpsons = pd.Series(\n",
    "['Homer', 'Marge', 'Bart', 'Lisa', 'Maggie'])\n",
    "print('Bart' in simpsons.values)"
   ]
  },
  {
   "cell_type": "markdown",
   "id": "d38b4e99",
   "metadata": {},
   "source": [
    "#### Round in pandas. `round()` function is used to round a DataFrame to a variable number of decimal places. Yet, run the cell below to see a weird behavior. "
   ]
  },
  {
   "cell_type": "code",
   "execution_count": 32,
   "id": "0b5e1310",
   "metadata": {},
   "outputs": [
    {
     "name": "stdout",
     "output_type": "stream",
     "text": [
      "0   -2.0\n",
      "1   -2.0\n",
      "2   -0.0\n",
      "3    0.0\n",
      "4    2.0\n",
      "5    2.0\n",
      "dtype: float64\n"
     ]
    }
   ],
   "source": [
    "s = pd.Series([-2.5, -1.5, -0.5, 0.5, 1.5, 2.5])\n",
    "print(s.round())"
   ]
  },
  {
   "cell_type": "markdown",
   "id": "56df7865",
   "metadata": {},
   "source": [
    "Bankers’ rounding. Odd numbers are rounded up, even numbers are rounded down."
   ]
  },
  {
   "cell_type": "markdown",
   "id": "2bb2734a",
   "metadata": {},
   "source": [
    "#### Correct the mistake in order to get numbers larger than two and small than five"
   ]
  },
  {
   "cell_type": "code",
   "execution_count": 34,
   "id": "93113269",
   "metadata": {},
   "outputs": [
    {
     "name": "stdout",
     "output_type": "stream",
     "text": [
      "2    3\n",
      "3    4\n",
      "dtype: int64\n"
     ]
    }
   ],
   "source": [
    "nums = pd.Series([1, 2, 3, 4, 5, 6])\n",
    "print(nums[(nums > 2) & (nums < 5)])"
   ]
  },
  {
   "cell_type": "markdown",
   "id": "67d4b4c2",
   "metadata": {},
   "source": [
    "#### Change the df in order to reflect an 20% increase in the prices. "
   ]
  },
  {
   "cell_type": "code",
   "execution_count": 43,
   "id": "b8f07f50",
   "metadata": {},
   "outputs": [],
   "source": [
    "df = pd.DataFrame([\n",
    "['T-shirt', 70],\n",
    "['Pants', 80],\n",
    "['Coat', 250],\n",
    "['Shirt', 95]], columns=['item', 'price'])"
   ]
  },
  {
   "cell_type": "code",
   "execution_count": 40,
   "id": "c2a934b7",
   "metadata": {},
   "outputs": [
    {
     "data": {
      "text/html": [
       "<div>\n",
       "<style scoped>\n",
       "    .dataframe tbody tr th:only-of-type {\n",
       "        vertical-align: middle;\n",
       "    }\n",
       "\n",
       "    .dataframe tbody tr th {\n",
       "        vertical-align: top;\n",
       "    }\n",
       "\n",
       "    .dataframe thead th {\n",
       "        text-align: right;\n",
       "    }\n",
       "</style>\n",
       "<table border=\"1\" class=\"dataframe\">\n",
       "  <thead>\n",
       "    <tr style=\"text-align: right;\">\n",
       "      <th></th>\n",
       "      <th>item</th>\n",
       "      <th>price</th>\n",
       "      <th>prices</th>\n",
       "    </tr>\n",
       "  </thead>\n",
       "  <tbody>\n",
       "    <tr>\n",
       "      <th>0</th>\n",
       "      <td>T-shirt</td>\n",
       "      <td>70</td>\n",
       "      <td>84.0</td>\n",
       "    </tr>\n",
       "    <tr>\n",
       "      <th>1</th>\n",
       "      <td>Pants</td>\n",
       "      <td>80</td>\n",
       "      <td>96.0</td>\n",
       "    </tr>\n",
       "    <tr>\n",
       "      <th>2</th>\n",
       "      <td>Coat</td>\n",
       "      <td>250</td>\n",
       "      <td>300.0</td>\n",
       "    </tr>\n",
       "    <tr>\n",
       "      <th>3</th>\n",
       "      <td>Shirt</td>\n",
       "      <td>95</td>\n",
       "      <td>114.0</td>\n",
       "    </tr>\n",
       "  </tbody>\n",
       "</table>\n",
       "</div>"
      ],
      "text/plain": [
       "      item  price  prices\n",
       "0  T-shirt     70    84.0\n",
       "1    Pants     80    96.0\n",
       "2     Coat    250   300.0\n",
       "3    Shirt     95   114.0"
      ]
     },
     "execution_count": 40,
     "metadata": {},
     "output_type": "execute_result"
    }
   ],
   "source": [
    "df['prices'] = df['price']*1.2\n",
    "df"
   ]
  },
  {
   "cell_type": "code",
   "execution_count": 44,
   "id": "eeaeea5a",
   "metadata": {},
   "outputs": [
    {
     "data": {
      "text/html": [
       "<div>\n",
       "<style scoped>\n",
       "    .dataframe tbody tr th:only-of-type {\n",
       "        vertical-align: middle;\n",
       "    }\n",
       "\n",
       "    .dataframe tbody tr th {\n",
       "        vertical-align: top;\n",
       "    }\n",
       "\n",
       "    .dataframe thead th {\n",
       "        text-align: right;\n",
       "    }\n",
       "</style>\n",
       "<table border=\"1\" class=\"dataframe\">\n",
       "  <thead>\n",
       "    <tr style=\"text-align: right;\">\n",
       "      <th></th>\n",
       "      <th>item</th>\n",
       "      <th>price</th>\n",
       "    </tr>\n",
       "  </thead>\n",
       "  <tbody>\n",
       "    <tr>\n",
       "      <th>0</th>\n",
       "      <td>T-shirt</td>\n",
       "      <td>84.0</td>\n",
       "    </tr>\n",
       "    <tr>\n",
       "      <th>1</th>\n",
       "      <td>Pants</td>\n",
       "      <td>96.0</td>\n",
       "    </tr>\n",
       "    <tr>\n",
       "      <th>2</th>\n",
       "      <td>Coat</td>\n",
       "      <td>300.0</td>\n",
       "    </tr>\n",
       "    <tr>\n",
       "      <th>3</th>\n",
       "      <td>Shirt</td>\n",
       "      <td>114.0</td>\n",
       "    </tr>\n",
       "  </tbody>\n",
       "</table>\n",
       "</div>"
      ],
      "text/plain": [
       "      item  price\n",
       "0  T-shirt   84.0\n",
       "1    Pants   96.0\n",
       "2     Coat  300.0\n",
       "3    Shirt  114.0"
      ]
     },
     "execution_count": 44,
     "metadata": {},
     "output_type": "execute_result"
    }
   ],
   "source": [
    "df['price']*=1.2\n",
    "df"
   ]
  },
  {
   "cell_type": "code",
   "execution_count": null,
   "id": "6f3c7690",
   "metadata": {},
   "outputs": [],
   "source": [
    "x = x +1\n",
    "\n",
    "x +=1"
   ]
  },
  {
   "cell_type": "markdown",
   "id": "c0e42f8d",
   "metadata": {},
   "source": [
    "#### Change the df below so it reflects a 35% increase in the price of the vegetables and a 25% decrease in the price of fruits."
   ]
  },
  {
   "cell_type": "code",
   "execution_count": 71,
   "id": "f8aea217",
   "metadata": {},
   "outputs": [],
   "source": [
    "df = pd.DataFrame([\n",
    "['Carrots', 'vegetable', 6],\n",
    "['Apple', 'fruit', 5],\n",
    "['Banana', 'fruit', 4],\n",
    "['Spinach', 'vegetable', 2]], columns=['item', 'type', 'price'])"
   ]
  },
  {
   "cell_type": "code",
   "execution_count": 72,
   "id": "7d2f68fd",
   "metadata": {},
   "outputs": [],
   "source": [
    "df.loc[df['type'] == 'vegetable', 'price'] = df.loc[df['type'] == 'vegetable', 'price'] * 0.75\n",
    "df.loc[df['type'] == 'fruit', 'price'] = df.loc[df['type'] == 'fruit', 'price']* 1.35"
   ]
  },
  {
   "cell_type": "code",
   "execution_count": 73,
   "id": "1ff4e673",
   "metadata": {},
   "outputs": [
    {
     "data": {
      "text/html": [
       "<div>\n",
       "<style scoped>\n",
       "    .dataframe tbody tr th:only-of-type {\n",
       "        vertical-align: middle;\n",
       "    }\n",
       "\n",
       "    .dataframe tbody tr th {\n",
       "        vertical-align: top;\n",
       "    }\n",
       "\n",
       "    .dataframe thead th {\n",
       "        text-align: right;\n",
       "    }\n",
       "</style>\n",
       "<table border=\"1\" class=\"dataframe\">\n",
       "  <thead>\n",
       "    <tr style=\"text-align: right;\">\n",
       "      <th></th>\n",
       "      <th>item</th>\n",
       "      <th>type</th>\n",
       "      <th>price</th>\n",
       "    </tr>\n",
       "  </thead>\n",
       "  <tbody>\n",
       "    <tr>\n",
       "      <th>0</th>\n",
       "      <td>Carrots</td>\n",
       "      <td>vegetable</td>\n",
       "      <td>4.50</td>\n",
       "    </tr>\n",
       "    <tr>\n",
       "      <th>1</th>\n",
       "      <td>Apple</td>\n",
       "      <td>fruit</td>\n",
       "      <td>6.75</td>\n",
       "    </tr>\n",
       "    <tr>\n",
       "      <th>2</th>\n",
       "      <td>Banana</td>\n",
       "      <td>fruit</td>\n",
       "      <td>5.40</td>\n",
       "    </tr>\n",
       "    <tr>\n",
       "      <th>3</th>\n",
       "      <td>Spinach</td>\n",
       "      <td>vegetable</td>\n",
       "      <td>1.50</td>\n",
       "    </tr>\n",
       "  </tbody>\n",
       "</table>\n",
       "</div>"
      ],
      "text/plain": [
       "      item       type  price\n",
       "0  Carrots  vegetable   4.50\n",
       "1    Apple      fruit   6.75\n",
       "2   Banana      fruit   5.40\n",
       "3  Spinach  vegetable   1.50"
      ]
     },
     "execution_count": 73,
     "metadata": {},
     "output_type": "execute_result"
    }
   ],
   "source": [
    "df"
   ]
  },
  {
   "cell_type": "code",
   "execution_count": 78,
   "id": "d5ccb3c2",
   "metadata": {},
   "outputs": [
    {
     "data": {
      "text/plain": [
       "0    4.5\n",
       "3    1.5\n",
       "Name: price, dtype: float64"
      ]
     },
     "execution_count": 78,
     "metadata": {},
     "output_type": "execute_result"
    }
   ],
   "source": [
    "df.loc[df['type'] == 'vegetable', 'price']"
   ]
  },
  {
   "cell_type": "markdown",
   "id": "b17c0c0b",
   "metadata": {},
   "source": [
    "#### There is a DataFrame with products. If the products are going to turn bad soon, their condition is described as False. Else, their condition is True. Create a new df that gives a 40% discount if the product might turn bad and 15% increase if they are still in good condition."
   ]
  },
  {
   "cell_type": "code",
   "execution_count": null,
   "id": "abac3838",
   "metadata": {},
   "outputs": [],
   "source": [
    "df = pd.DataFrame([\n",
    "['Egg', False, 6],\n",
    "['Watermelon', True, 5],\n",
    "['Milk', False, 4],\n",
    "['Water', True, 2]], columns=['item', 'condition', 'price'])"
   ]
  },
  {
   "cell_type": "code",
   "execution_count": null,
   "id": "e34b1161",
   "metadata": {},
   "outputs": [],
   "source": []
  },
  {
   "cell_type": "code",
   "execution_count": null,
   "id": "0abf2b93",
   "metadata": {},
   "outputs": [],
   "source": []
  },
  {
   "cell_type": "code",
   "execution_count": null,
   "id": "5b080741",
   "metadata": {},
   "outputs": [],
   "source": []
  },
  {
   "cell_type": "code",
   "execution_count": null,
   "id": "5baa8f98",
   "metadata": {},
   "outputs": [],
   "source": [
    "df"
   ]
  },
  {
   "cell_type": "markdown",
   "id": "e5a01d4c",
   "metadata": {},
   "source": [
    "---"
   ]
  }
 ],
 "metadata": {
  "kernelspec": {
   "display_name": "Python 3",
   "language": "python",
   "name": "python3"
  },
  "language_info": {
   "codemirror_mode": {
    "name": "ipython",
    "version": 3
   },
   "file_extension": ".py",
   "mimetype": "text/x-python",
   "name": "python",
   "nbconvert_exporter": "python",
   "pygments_lexer": "ipython3",
   "version": "3.9.7"
  }
 },
 "nbformat": 4,
 "nbformat_minor": 5
}
