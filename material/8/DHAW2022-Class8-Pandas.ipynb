{
 "cells": [
  {
   "cell_type": "markdown",
   "id": "ad882e02",
   "metadata": {},
   "source": [
    "#### Download the latest dataset of Pleiades as in [csv](https://atlantides.org/downloads/pleiades/dumps/pleiades-places-latest.csv.gz), extract the file, and store the csv in the same directory with the notebook."
   ]
  },
  {
   "cell_type": "markdown",
   "id": "e09ae07f",
   "metadata": {},
   "source": [
    "#### Imports\n",
    "We import pandas and we change three options."
   ]
  },
  {
   "cell_type": "code",
   "execution_count": null,
   "id": "fd9e2312",
   "metadata": {},
   "outputs": [],
   "source": [
    "import pandas as pd\n",
    "pd.set_option('display.max_rows', 500)\n",
    "pd.set_option('display.max_columns', 500)\n",
    "pd.set_option('display.width', 1000)"
   ]
  },
  {
   "cell_type": "markdown",
   "id": "fb5fe6d7",
   "metadata": {},
   "source": [
    "#### Let's read the Pleades csv file and create a DataFrame."
   ]
  },
  {
   "cell_type": "code",
   "execution_count": null,
   "id": "31d88685",
   "metadata": {},
   "outputs": [],
   "source": [
    "df = pd.read_csv('pleiades-places.csv')"
   ]
  },
  {
   "cell_type": "code",
   "execution_count": null,
   "id": "5840b154",
   "metadata": {},
   "outputs": [],
   "source": [
    "df.head(2)"
   ]
  },
  {
   "cell_type": "markdown",
   "id": "895f60a5",
   "metadata": {},
   "source": [
    "## iloc vs loc"
   ]
  },
  {
   "cell_type": "markdown",
   "id": "3915f42b",
   "metadata": {},
   "source": [
    "Run the following to cells. Is there any difference in the result?"
   ]
  },
  {
   "cell_type": "code",
   "execution_count": null,
   "id": "459e0cee",
   "metadata": {},
   "outputs": [],
   "source": [
    "df = pd.read_csv('pleiades-places.csv')\n",
    "df.head(2)"
   ]
  },
  {
   "cell_type": "code",
   "execution_count": null,
   "id": "8e006701",
   "metadata": {},
   "outputs": [],
   "source": [
    "df.iloc[0]"
   ]
  },
  {
   "cell_type": "code",
   "execution_count": null,
   "id": "87ecb49a",
   "metadata": {},
   "outputs": [],
   "source": [
    "df.loc[0]"
   ]
  },
  {
   "cell_type": "markdown",
   "id": "4f8d308a",
   "metadata": {},
   "source": [
    "The answer is no because in the first case the `iloc` was looking for the $0^{th}$ row while the `loc` was looking for the row that its index has the _label_ 0. In our example, the the result is the same row.\n",
    "\n",
    "Let us read again the csv file but this time we are going to assign an index out of the existing columns and not let Pandas assign its own index. The csv file has a column entitled \"id\" which I will use as an index."
   ]
  },
  {
   "cell_type": "code",
   "execution_count": null,
   "id": "66011979",
   "metadata": {},
   "outputs": [],
   "source": [
    "df = pd.read_csv('pleiades-places.csv', index_col='id')\n",
    "df.head(2)"
   ]
  },
  {
   "cell_type": "markdown",
   "id": "ac52483b",
   "metadata": {},
   "source": [
    "Run again the following two cells."
   ]
  },
  {
   "cell_type": "code",
   "execution_count": null,
   "id": "9510bc78",
   "metadata": {},
   "outputs": [],
   "source": [
    "df.iloc[0]"
   ]
  },
  {
   "cell_type": "markdown",
   "id": "72a1cd58",
   "metadata": {},
   "source": [
    "As you might expected, the `iloc` will find the $0^{th}$ row. Let us run now the `loc[0]`"
   ]
  },
  {
   "cell_type": "code",
   "execution_count": null,
   "id": "af0ecda0",
   "metadata": {},
   "outputs": [],
   "source": [
    "df.loc[0]"
   ]
  },
  {
   "cell_type": "markdown",
   "id": "d73f1c77",
   "metadata": {},
   "source": [
    "You are getting an error message because the `loc` cannot find a row with an index \"0\". Since we changed the indices with Pleiades ids, there is no 0 in the indices. Notice now what is happening if we search for a row that has a Pleiades id as index."
   ]
  },
  {
   "cell_type": "code",
   "execution_count": null,
   "id": "d1080408",
   "metadata": {},
   "outputs": [],
   "source": [
    "df.loc[48210385]"
   ]
  },
  {
   "cell_type": "markdown",
   "id": "d6e2cf37",
   "metadata": {},
   "source": [
    "As you see the `loc` can find a row that has as an index the Pleiades ID we were searching."
   ]
  },
  {
   "cell_type": "markdown",
   "id": "0c01bd37",
   "metadata": {},
   "source": [
    "---"
   ]
  },
  {
   "cell_type": "markdown",
   "id": "e6a73586",
   "metadata": {},
   "source": [
    "## Search in Pandas"
   ]
  },
  {
   "cell_type": "markdown",
   "id": "b189f4b4",
   "metadata": {},
   "source": [
    "There are multiple ways that we can query a pandas DataFrame. Let's start by reading the speech of Hawking."
   ]
  },
  {
   "cell_type": "code",
   "execution_count": null,
   "id": "6f4f9b24",
   "metadata": {},
   "outputs": [],
   "source": [
    "with open('Hawking-Questioning-the-Universe.txt', 'r') as f:\n",
    "    text_as_list = f.read().split(' ')\n",
    "    \n",
    "# and remove the punctuation    \n",
    "import string\n",
    "text_as_list = [i.translate(str.maketrans('', '', string.punctuation)).lower() for i in text_as_list]    "
   ]
  },
  {
   "cell_type": "markdown",
   "id": "42b79ed7",
   "metadata": {},
   "source": [
    "Let us create a dictionary `dict_counter` that takes as keys the words of text_as_list. The values of each key should be the number that each words is attested in the list.\n",
    "\n",
    "Hint: Check the [`count()` method](https://www.w3schools.com/python/ref_list_count.asp)."
   ]
  },
  {
   "cell_type": "code",
   "execution_count": null,
   "id": "0361bafd",
   "metadata": {},
   "outputs": [],
   "source": [
    "dict_counter = {}\n",
    "\n",
    "for i in text_as_list:\n",
    "    dict_counter[i] = text_as_list.count(i)"
   ]
  },
  {
   "cell_type": "markdown",
   "id": "45d9c101",
   "metadata": {},
   "source": [
    "and now we will create a DataFrame with the dictionary dict_counter."
   ]
  },
  {
   "cell_type": "code",
   "execution_count": null,
   "id": "5bcfc666",
   "metadata": {},
   "outputs": [],
   "source": [
    "df = pd.DataFrame(dict_counter.items())"
   ]
  },
  {
   "cell_type": "markdown",
   "id": "ee6c07ad",
   "metadata": {},
   "source": [
    "before you run the next line, can you predict how many columns does the dataframe have and what is its index?"
   ]
  },
  {
   "cell_type": "code",
   "execution_count": null,
   "id": "e9d19bda",
   "metadata": {},
   "outputs": [],
   "source": [
    "df.head(5)"
   ]
  },
  {
   "cell_type": "markdown",
   "id": "cde1c023",
   "metadata": {},
   "source": [
    "It is fair to conclude that having 0 and 1 as titles for the dataframe is not very helful. Let us change this. In the DataFrame below, I am making two columns. One with the words and one with their occurances. I name the columns accordingly."
   ]
  },
  {
   "cell_type": "code",
   "execution_count": null,
   "id": "170e446d",
   "metadata": {},
   "outputs": [],
   "source": [
    "df = pd.DataFrame({'words': dict_counter.keys(), 'occurances': dict_counter.values()})\n",
    "df.head(3)"
   ]
  },
  {
   "cell_type": "markdown",
   "id": "8afaef9b",
   "metadata": {},
   "source": [
    "Notice that we did not write `dict_counter.items()` but I imported two columns, the keys and the values.\n",
    "\n",
    "Now, let's search in the words the item galaxy. What I wrote below is a filter that checks for the word \"galaxy.\""
   ]
  },
  {
   "cell_type": "code",
   "execution_count": null,
   "id": "047541f4",
   "metadata": {},
   "outputs": [],
   "source": [
    "df['words'] == \"galaxy\""
   ]
  },
  {
   "cell_type": "markdown",
   "id": "bfca0f2e",
   "metadata": {},
   "source": [
    "Now I will create a new dataframe `df[]` and inside the square brackets I am going to put the filter `df['words'] == \"galaxy\"`."
   ]
  },
  {
   "cell_type": "code",
   "execution_count": null,
   "id": "38185617",
   "metadata": {},
   "outputs": [],
   "source": [
    "df[df['words'] == \"galaxy\"]"
   ]
  },
  {
   "cell_type": "markdown",
   "id": "c336775f",
   "metadata": {},
   "source": [
    "That's great! Yet let's say that I am not interesting in getting a DataFrame but just the occurances. "
   ]
  },
  {
   "cell_type": "code",
   "execution_count": null,
   "id": "47ed1b23",
   "metadata": {},
   "outputs": [],
   "source": [
    "df[df['words'] == \"galaxy\"]['occurances']"
   ]
  },
  {
   "cell_type": "markdown",
   "id": "9839284a",
   "metadata": {},
   "source": [
    "Let's put all this inside a `int()` in order to present it as an integer."
   ]
  },
  {
   "cell_type": "code",
   "execution_count": null,
   "id": "bfa7952d",
   "metadata": {},
   "outputs": [],
   "source": [
    "int(df[df['words'] == \"galaxy\"]['occurances'])"
   ]
  },
  {
   "cell_type": "markdown",
   "id": "84901183",
   "metadata": {},
   "source": [
    "Great! The word galaxy is attested two times!"
   ]
  },
  {
   "cell_type": "markdown",
   "id": "d20c5795",
   "metadata": {},
   "source": [
    "Apropos, notice that the two lines below produce the same result. I simply moved the ['occurances'] after the first df:\n",
    "- `df[df['words'] == \"galaxy\"]['occurances']`\n",
    "- `df['occurances'][df['words'] == \"galaxy\"]`\n",
    "\n",
    "The former first makes a dataframe based on a filter and then checks for the columns occurances. The latter first gets the column occurances on which it applies later the filter."
   ]
  },
  {
   "cell_type": "markdown",
   "id": "110e8d7c",
   "metadata": {},
   "source": [
    "This line of code `int(df[df['words'] == \"galaxy\"]['occurances'])`is efficient but we can query our DataFrame in another way."
   ]
  },
  {
   "cell_type": "markdown",
   "id": "7ac8e0d0",
   "metadata": {},
   "source": [
    "### Looking for galaxies with `loc[]`"
   ]
  },
  {
   "cell_type": "markdown",
   "id": "eb04dd55",
   "metadata": {},
   "source": [
    "As we saw above, the `loc[]` is looking for an index with the specific parameter. For example the `loc['galaxy']` is searching for the index named \"galaxy\". Yet, before we do that, let us see first what's the index of the DataFrame and how we can change it."
   ]
  },
  {
   "cell_type": "code",
   "execution_count": null,
   "id": "3da98dd6",
   "metadata": {},
   "outputs": [],
   "source": [
    "df.head()"
   ]
  },
  {
   "cell_type": "markdown",
   "id": "374814a2",
   "metadata": {},
   "source": [
    "The index is a number. Let's change that. The line below says make the column words as the index of the DataFrame.\n",
    "\n",
    "Note: if you run this code more than once, you will get an error message. If this is the case create a new cell and run `df.reset_index(inplace=True)`."
   ]
  },
  {
   "cell_type": "code",
   "execution_count": null,
   "id": "4aad1c83",
   "metadata": {},
   "outputs": [],
   "source": [
    "df.set_index(\"words\")"
   ]
  },
  {
   "cell_type": "markdown",
   "id": "c1a93ef3",
   "metadata": {},
   "source": [
    "Yet, run the DataFrame again. "
   ]
  },
  {
   "cell_type": "code",
   "execution_count": null,
   "id": "bbc712bc",
   "metadata": {},
   "outputs": [],
   "source": [
    "df.head(2)"
   ]
  },
  {
   "cell_type": "markdown",
   "id": "f268a6fa",
   "metadata": {},
   "source": [
    "The index changed back to the automatic index of pandas. Or actually, when we tried to make the column words as the index, we did it only temporarily. If we want to change the index permanently, we have to pass the parameter `inplace=True` that changes the original DataFrame."
   ]
  },
  {
   "cell_type": "code",
   "execution_count": null,
   "id": "d9f6b372",
   "metadata": {},
   "outputs": [],
   "source": [
    "df.set_index(\"words\", inplace=True)\n",
    "df.head(2)"
   ]
  },
  {
   "cell_type": "markdown",
   "id": "595ef3f9",
   "metadata": {},
   "source": [
    "As you see, now no matter how many times you run `df.head(2)` the column \"words\" remains the index."
   ]
  },
  {
   "cell_type": "markdown",
   "id": "a172fcf1",
   "metadata": {},
   "source": [
    "Let's return to the original question, how can we find the occurances of \"galaxy\" with `loc`?"
   ]
  },
  {
   "cell_type": "code",
   "execution_count": null,
   "id": "1d2ae1ca",
   "metadata": {},
   "outputs": [],
   "source": [
    "df.loc['galaxy']"
   ]
  },
  {
   "cell_type": "markdown",
   "id": "0ace95e3",
   "metadata": {},
   "source": [
    "Let's put that inside an int()"
   ]
  },
  {
   "cell_type": "code",
   "execution_count": null,
   "id": "84fd1560",
   "metadata": {},
   "outputs": [],
   "source": [
    "int(df.loc['galaxy'])"
   ]
  },
  {
   "cell_type": "markdown",
   "id": "87111ed1",
   "metadata": {},
   "source": [
    "Great! Two galaxies!"
   ]
  },
  {
   "cell_type": "markdown",
   "id": "c3cb0226",
   "metadata": {},
   "source": [
    "Let's reset the index..."
   ]
  },
  {
   "cell_type": "code",
   "execution_count": null,
   "id": "edbe29c8",
   "metadata": {},
   "outputs": [],
   "source": [
    "df.reset_index(inplace=True)"
   ]
  },
  {
   "cell_type": "markdown",
   "id": "4e4b1c9e",
   "metadata": {},
   "source": [
    " and let's see which code is more efficient. Is this better?"
   ]
  },
  {
   "cell_type": "code",
   "execution_count": null,
   "id": "e6a6df36",
   "metadata": {},
   "outputs": [],
   "source": [
    "int(df[df['words'] == \"galaxy\"]['occurances'])"
   ]
  },
  {
   "cell_type": "markdown",
   "id": "43c102b2",
   "metadata": {},
   "source": [
    "or is this better?"
   ]
  },
  {
   "cell_type": "code",
   "execution_count": null,
   "id": "64d1c328",
   "metadata": {},
   "outputs": [],
   "source": [
    "df.set_index(\"words\", inplace=True)\n",
    "int(df.loc['galaxy'])"
   ]
  },
  {
   "cell_type": "markdown",
   "id": "648f5787",
   "metadata": {},
   "source": [
    "What do you prefer? There is no right or wrong answer here. It's just a matter of preference."
   ]
  },
  {
   "cell_type": "markdown",
   "id": "d92b2fff",
   "metadata": {},
   "source": [
    "Let's now search for \"galaxy\" or \"galaxies\". I think that the `loc` property is not very efficient in this example."
   ]
  },
  {
   "cell_type": "markdown",
   "id": "b1474585",
   "metadata": {},
   "source": [
    "First we have to reset the index."
   ]
  },
  {
   "cell_type": "code",
   "execution_count": null,
   "id": "5a71a3cd",
   "metadata": {},
   "outputs": [],
   "source": [
    "df.reset_index(inplace=True)"
   ]
  },
  {
   "cell_type": "markdown",
   "id": "84a013bb",
   "metadata": {},
   "source": [
    "Then let's write clearly our filters.\n",
    "- `df['words'] == \"galaxy\"`\n",
    "- `df['words'] == \"galaxies\"`\n",
    "\n",
    "Since the new dataframe has two filters we have to put them in parentheses with are connected with an OR (`|`). Now let's put it inside a `df[ ]`."
   ]
  },
  {
   "cell_type": "code",
   "execution_count": null,
   "id": "8c56b988",
   "metadata": {},
   "outputs": [],
   "source": [
    "df[(df['words'] == \"galaxy\") | (df['words'] == \"galaxies\")]"
   ]
  },
  {
   "cell_type": "markdown",
   "id": "bebdf9b4",
   "metadata": {},
   "source": [
    "At the end of the above code, I will add a `.sum()`."
   ]
  },
  {
   "cell_type": "code",
   "execution_count": null,
   "id": "ded1c044",
   "metadata": {},
   "outputs": [],
   "source": [
    "df[(df['words'] == \"galaxy\") | (df['words'] == \"galaxies\")].sum()"
   ]
  },
  {
   "cell_type": "markdown",
   "id": "7e560ac9",
   "metadata": {},
   "source": [
    "As you see the `sum()` added the numbers but it concatenated the strings. Since we only need the column \"occurances,\" we have to add `['occurances']`:"
   ]
  },
  {
   "cell_type": "code",
   "execution_count": null,
   "id": "87215fbd",
   "metadata": {},
   "outputs": [],
   "source": [
    "df[(df['words'] == \"galaxy\") | (df['words'] == \"galaxies\")][\"occurances\"].sum()"
   ]
  },
  {
   "cell_type": "markdown",
   "id": "921a5b0e",
   "metadata": {},
   "source": [
    "---"
   ]
  }
 ],
 "metadata": {
  "kernelspec": {
   "display_name": "Python 3",
   "language": "python",
   "name": "python3"
  },
  "language_info": {
   "codemirror_mode": {
    "name": "ipython",
    "version": 3
   },
   "file_extension": ".py",
   "mimetype": "text/x-python",
   "name": "python",
   "nbconvert_exporter": "python",
   "pygments_lexer": "ipython3",
   "version": "3.9.7"
  }
 },
 "nbformat": 4,
 "nbformat_minor": 5
}
