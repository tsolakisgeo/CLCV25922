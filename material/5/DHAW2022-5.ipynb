{
 "cells": [
  {
   "cell_type": "markdown",
   "id": "2ba5c445",
   "metadata": {},
   "source": [
    "## Lists"
   ]
  },
  {
   "cell_type": "code",
<<<<<<< HEAD
   "execution_count": 1,
=======
   "execution_count": 2,
>>>>>>> dd08862f449c2568e43c06f7d06eded18f955034
   "id": "a8a2a2f8",
   "metadata": {},
   "outputs": [],
   "source": [
    "mylist = ['John', 'Maria', 'Ted', 'Nick', 'Albert', 'John', 'Catherine']"
   ]
  },
  {
   "cell_type": "markdown",
   "id": "d43b1b1c",
   "metadata": {},
   "source": [
    "#### Add the name Jim to the list"
   ]
  },
  {
   "cell_type": "code",
<<<<<<< HEAD
   "execution_count": 2,
=======
   "execution_count": 3,
>>>>>>> dd08862f449c2568e43c06f7d06eded18f955034
   "id": "a250a89d",
   "metadata": {},
   "outputs": [],
   "source": [
    "mylist.append('Georgios')"
   ]
  },
  {
   "cell_type": "code",
   "execution_count": 4,
<<<<<<< HEAD
   "id": "1fa150fd",
=======
   "id": "e091dfec",
>>>>>>> dd08862f449c2568e43c06f7d06eded18f955034
   "metadata": {},
   "outputs": [
    {
     "name": "stdout",
     "output_type": "stream",
     "text": [
      "['John', 'Maria', 'Ted', 'Nick', 'Albert', 'John', 'Catherine', 'Georgios']\n"
     ]
    }
   ],
   "source": [
    "print(mylist)"
   ]
  },
  {
   "cell_type": "markdown",
   "id": "877cb776",
   "metadata": {},
   "source": [
    "#### Insert the name Bod to the 2nd place in the list"
   ]
  },
  {
   "cell_type": "code",
<<<<<<< HEAD
   "execution_count": 9,
=======
   "execution_count": null,
>>>>>>> dd08862f449c2568e43c06f7d06eded18f955034
   "id": "0c82f73f",
   "metadata": {},
   "outputs": [
    {
     "name": "stdout",
     "output_type": "stream",
     "text": [
      "['John', 'Alex', 'Ted', 'Nick', 'Albert', 'John', 'Catherine', 'Georgios', 'Alex', 'l']\n"
     ]
    }
   ],
   "source": [
    "mylist[1] = ('Alex')\n",
    "print(mylist)"
   ]
  },
  {
   "cell_type": "markdown",
   "id": "efe22c7d",
   "metadata": {},
   "source": [
    "#### Remove Ted from the list "
   ]
  },
  {
   "cell_type": "code",
<<<<<<< HEAD
   "execution_count": 10,
   "id": "a9ec530e",
   "metadata": {},
   "outputs": [],
   "source": [
    "mylist.remove('Ted')"
   ]
  },
  {
   "cell_type": "code",
   "execution_count": 13,
   "id": "64830011",
   "metadata": {},
   "outputs": [
    {
     "name": "stdout",
     "output_type": "stream",
     "text": [
      "['John', 'Alex', 'Nick', 'Albert', 'John', 'Catherine', 'Georgios', 'Alex', 'l']\n"
=======
   "execution_count": 13,
   "id": "a9ec530e",
   "metadata": {},
   "outputs": [
    {
     "ename": "ValueError",
     "evalue": "list.remove(x): x not in list",
     "output_type": "error",
     "traceback": [
      "\u001b[0;31m---------------------------------------------------------------------------\u001b[0m",
      "\u001b[0;31mValueError\u001b[0m                                Traceback (most recent call last)",
      "Input \u001b[0;32mIn [13]\u001b[0m, in \u001b[0;36m<cell line: 1>\u001b[0;34m()\u001b[0m\n\u001b[0;32m----> 1\u001b[0m \u001b[43mmylist\u001b[49m\u001b[38;5;241;43m.\u001b[39;49m\u001b[43mremove\u001b[49m\u001b[43m(\u001b[49m\u001b[38;5;124;43m'\u001b[39;49m\u001b[38;5;124;43mTed\u001b[39;49m\u001b[38;5;124;43m'\u001b[39;49m\u001b[43m)\u001b[49m\n\u001b[1;32m      2\u001b[0m \u001b[38;5;28mprint\u001b[39m(mylist)\n",
      "\u001b[0;31mValueError\u001b[0m: list.remove(x): x not in list"
>>>>>>> dd08862f449c2568e43c06f7d06eded18f955034
     ]
    }
   ],
   "source": [
<<<<<<< HEAD
=======
    "mylist.remove('Ted')\n",
>>>>>>> dd08862f449c2568e43c06f7d06eded18f955034
    "print(mylist)"
   ]
  },
  {
   "cell_type": "markdown",
   "id": "52adde78",
   "metadata": {},
   "source": [
    "---"
   ]
  },
  {
   "cell_type": "markdown",
   "id": "65fd0cb4",
   "metadata": {},
   "source": [
    "## Tuples"
   ]
  },
  {
   "cell_type": "markdown",
   "id": "0b1bbd21",
   "metadata": {},
   "source": [
    "#### Make mylist a tuple"
   ]
  },
  {
   "cell_type": "code",
   "execution_count": 16,
   "id": "f950fa9c",
   "metadata": {},
   "outputs": [
    {
     "name": "stdout",
     "output_type": "stream",
     "text": [
<<<<<<< HEAD
      "('John', 'Alex', 'Nick', 'Albert', 'John', 'Catherine', 'Georgios', 'Alex', 'l')\n"
=======
      "('John', 'Alex', 'Nick', 'Albert', 'John', 'Catherine', 'Georgios')\n"
>>>>>>> dd08862f449c2568e43c06f7d06eded18f955034
     ]
    }
   ],
   "source": [
    "mytuple = tuple(mylist)\n",
    "print((mytuple))"
   ]
  },
  {
   "cell_type": "markdown",
   "id": "8ce10b02",
   "metadata": {},
   "source": [
    "#### Change the first element in the tuple"
   ]
  },
  {
   "cell_type": "code",
   "execution_count": 17,
   "id": "f344e124",
   "metadata": {},
   "outputs": [
    {
     "ename": "TypeError",
     "evalue": "'tuple' object does not support item assignment",
     "output_type": "error",
     "traceback": [
      "\u001b[1;31m---------------------------------------------------------------------------\u001b[0m",
      "\u001b[1;31mTypeError\u001b[0m                                 Traceback (most recent call last)",
      "\u001b[1;32m~\\AppData\\Local\\Temp/ipykernel_11484/3692841899.py\u001b[0m in \u001b[0;36m<module>\u001b[1;34m\u001b[0m\n\u001b[1;32m----> 1\u001b[1;33m \u001b[0mmytuple\u001b[0m\u001b[1;33m[\u001b[0m\u001b[1;36m0\u001b[0m\u001b[1;33m]\u001b[0m \u001b[1;33m=\u001b[0m \u001b[1;33m(\u001b[0m\u001b[1;34m'Alex'\u001b[0m\u001b[1;33m)\u001b[0m\u001b[1;33m\u001b[0m\u001b[1;33m\u001b[0m\u001b[0m\n\u001b[0m\u001b[0;32m      2\u001b[0m \u001b[0mprint\u001b[0m\u001b[1;33m(\u001b[0m\u001b[1;33m(\u001b[0m\u001b[0mmytuple\u001b[0m\u001b[1;33m)\u001b[0m\u001b[1;33m)\u001b[0m\u001b[1;33m\u001b[0m\u001b[1;33m\u001b[0m\u001b[0m\n",
      "\u001b[1;31mTypeError\u001b[0m: 'tuple' object does not support item assignment"
     ]
    }
   ],
   "source": [
    "mytuple[0] = ('Alex')\n",
    "print((mytuple))"
   ]
  },
  {
   "cell_type": "code",
   "execution_count": 19,
   "id": "7f8a2103",
   "metadata": {},
   "outputs": [
    {
     "data": {
      "text/plain": [
       "['John',\n",
       " 'Alex',\n",
       " 'Nick',\n",
       " 'Albert',\n",
       " 'John',\n",
       " 'Catherine',\n",
       " 'Georgios',\n",
       " 'Alex',\n",
       " 'l']"
      ]
     },
     "execution_count": 19,
     "metadata": {},
     "output_type": "execute_result"
    }
   ],
   "source": [
    "mynewlist = list(mytuple)\n",
    "mynewlist"
   ]
  },
  {
   "cell_type": "markdown",
   "id": "fb3440e2",
   "metadata": {},
   "source": [
    "__We have to create a new tuple as while lists are mutable, tuples are immutable.__"
   ]
  },
  {
   "cell_type": "markdown",
   "id": "c1181b53",
   "metadata": {},
   "source": [
    "---"
   ]
  },
  {
   "cell_type": "markdown",
   "id": "f268ea1f",
   "metadata": {},
   "source": [
    "## Dictionaries"
   ]
  },
  {
   "cell_type": "code",
<<<<<<< HEAD
   "execution_count": 21,
=======
   "execution_count": 19,
>>>>>>> dd08862f449c2568e43c06f7d06eded18f955034
   "id": "86494190",
   "metadata": {},
   "outputs": [],
   "source": [
    "persons = {\n",
    "    \"first\": \"John\",\n",
    "    \"last\": \"Smith\",\n",
    "    \"email\": \"johnsmith@gmail.com\"\n",
    "}"
   ]
  },
  {
   "cell_type": "code",
<<<<<<< HEAD
   "execution_count": 24,
=======
   "execution_count": 20,
>>>>>>> dd08862f449c2568e43c06f7d06eded18f955034
   "id": "742fdcbb",
   "metadata": {},
   "outputs": [
    {
<<<<<<< HEAD
     "ename": "KeyError",
     "evalue": "0",
     "output_type": "error",
     "traceback": [
      "\u001b[1;31m---------------------------------------------------------------------------\u001b[0m",
      "\u001b[1;31mKeyError\u001b[0m                                  Traceback (most recent call last)",
      "\u001b[1;32m~\\AppData\\Local\\Temp/ipykernel_11484/2479537952.py\u001b[0m in \u001b[0;36m<module>\u001b[1;34m\u001b[0m\n\u001b[1;32m----> 1\u001b[1;33m \u001b[0mprint\u001b[0m\u001b[1;33m(\u001b[0m\u001b[0mpersons\u001b[0m\u001b[1;33m[\u001b[0m\u001b[1;36m0\u001b[0m\u001b[1;33m]\u001b[0m\u001b[1;33m)\u001b[0m\u001b[1;33m\u001b[0m\u001b[1;33m\u001b[0m\u001b[0m\n\u001b[0m",
      "\u001b[1;31mKeyError\u001b[0m: 0"
=======
     "name": "stdout",
     "output_type": "stream",
     "text": [
      "\n"
>>>>>>> dd08862f449c2568e43c06f7d06eded18f955034
     ]
    }
   ],
   "source": [
<<<<<<< HEAD
    "print(persons[0])"
=======
    "print()"
>>>>>>> dd08862f449c2568e43c06f7d06eded18f955034
   ]
  },
  {
   "cell_type": "markdown",
   "id": "4aa57f4d",
   "metadata": {},
   "source": [
    "#### Add more people"
   ]
  },
  {
   "cell_type": "code",
<<<<<<< HEAD
   "execution_count": 25,
=======
   "execution_count": 23,
>>>>>>> dd08862f449c2568e43c06f7d06eded18f955034
   "id": "88796746",
   "metadata": {},
   "outputs": [],
   "source": [
    "persons = {\n",
    "    \"first\": [\"John\", \"Bob\"],\n",
    "    \"last\": [\"Smith\", \"Joe\"],\n",
    "    \"email\": [\"johnsmith@gmail.com\", \"bobjoe@gmail.com\"]\n",
<<<<<<< HEAD
    "}"
=======
    "}\n"
>>>>>>> dd08862f449c2568e43c06f7d06eded18f955034
   ]
  },
  {
   "cell_type": "code",
<<<<<<< HEAD
   "execution_count": 26,
   "id": "dbd5f622",
=======
   "execution_count": 22,
   "id": "2ba3c32c",
>>>>>>> dd08862f449c2568e43c06f7d06eded18f955034
   "metadata": {},
   "outputs": [
    {
     "name": "stdout",
     "output_type": "stream",
     "text": [
<<<<<<< HEAD
      "{'first': ['John', 'Bob'], 'last': ['Smith', 'Joe'], 'email': ['johnsmith@gmail.com', 'bobjoe@gmail.com']}\n"
=======
      "{'first': 'John', 'last': 'Smith', 'email': 'johnsmith@gmail.com'}\n"
>>>>>>> dd08862f449c2568e43c06f7d06eded18f955034
     ]
    }
   ],
   "source": [
    "print(persons)"
   ]
  },
  {
   "cell_type": "markdown",
   "id": "d45ad9c1",
   "metadata": {},
   "source": [
    "### items, keys, values"
   ]
  },
  {
   "cell_type": "code",
   "execution_count": 29,
   "id": "1c8cd219",
   "metadata": {},
   "outputs": [
    {
     "data": {
      "text/plain": [
       "dict_values([['John', 'Bob'], ['Smith', 'Joe'], ['johnsmith@gmail.com', 'bobjoe@gmail.com']])"
      ]
     },
     "execution_count": 29,
     "metadata": {},
     "output_type": "execute_result"
    }
   ],
   "source": [
    "persons.values()"
   ]
  },
  {
   "cell_type": "code",
   "execution_count": 40,
   "id": "f296e884",
   "metadata": {},
   "outputs": [
    {
     "name": "stdout",
     "output_type": "stream",
     "text": [
      "first\n",
      "John\n",
      "Bob\n",
      "\n",
      "\n",
      "last\n",
      "Smith\n",
      "Joe\n",
      "\n",
      "\n",
      "email\n",
      "johnsmith@gmail.com\n",
      "bobjoe@gmail.com\n",
      "\n",
      "\n"
     ]
    }
   ],
   "source": [
    "for keys,values in persons.items():\n",
    "    \n",
    "    print(keys)\n",
    "    for value in values:\n",
    "        print(value)\n",
    "    print('\\n')"
   ]
  },
  {
   "cell_type": "code",
   "execution_count": null,
   "id": "fa10f148",
   "metadata": {},
   "outputs": [],
   "source": [
    "persons.values()"
   ]
  },
  {
   "cell_type": "code",
   "execution_count": 24,
   "id": "5581c556",
   "metadata": {},
   "outputs": [
    {
     "name": "stdout",
     "output_type": "stream",
     "text": [
      "first\n",
      "John\n",
      "Bob\n",
      "\n",
      "\n",
      "last\n",
      "Smith\n",
      "Joe\n",
      "\n",
      "\n",
      "email\n",
      "johnsmith@gmail.com\n",
      "bobjoe@gmail.com\n",
      "\n",
      "\n"
     ]
    }
   ],
   "source": [
    "for keys,values in persons.items():\n",
    "    print(keys)\n",
    "    for value in values:\n",
    "        print(value)\n",
    "\n",
    "    print('\\n')"
   ]
  },
  {
   "cell_type": "markdown",
   "id": "c16d6dbd",
   "metadata": {},
   "source": [
    "---"
   ]
  },
  {
   "cell_type": "markdown",
   "id": "c951215e",
   "metadata": {},
   "source": [
    "## Set"
   ]
  },
  {
   "cell_type": "markdown",
   "id": "368252cf",
   "metadata": {},
   "source": [
    "#### Make mylist a set"
   ]
  },
  {
   "cell_type": "code",
<<<<<<< HEAD
   "execution_count": 53,
   "id": "8cd9e52d",
=======
   "execution_count": 26,
   "id": "3b76517c",
>>>>>>> dd08862f449c2568e43c06f7d06eded18f955034
   "metadata": {},
   "outputs": [
    {
     "name": "stdout",
     "output_type": "stream",
     "text": [
<<<<<<< HEAD
      "['Albert', 'Alex', 'Nick', 'l', 'John', 'Catherine', 'Georgios', 'Georgios']\n",
      "{'Albert', 'Alex', 'Nick', 'John', 'l', 'Catherine', 'Georgios'}\n"
=======
      "['John', 'Alex', 'Nick', 'Albert', 'John', 'Catherine', 'Georgios', 'Georgios', 'Georgios']\n",
      "\n",
      "\n",
      "{'Georgios', 'Nick', 'John', 'Albert', 'Catherine', 'Alex'}\n"
>>>>>>> dd08862f449c2568e43c06f7d06eded18f955034
     ]
    }
   ],
   "source": [
    "mylist.append('Georgios')\n",
    "print(mylist)\n",
    "\n",
<<<<<<< HEAD
=======
    "print(\"\\n\")\n",
    "\n",
>>>>>>> dd08862f449c2568e43c06f7d06eded18f955034
    "myset = set(mylist)\n",
    "print(myset)"
   ]
  },
  {
   "cell_type": "markdown",
   "id": "e7e2472d",
   "metadata": {},
   "source": [
    "#### Make mylist again a list"
   ]
  },
  {
   "cell_type": "code",
   "execution_count": 56,
   "id": "2b867118",
   "metadata": {},
   "outputs": [
    {
     "name": "stdout",
     "output_type": "stream",
     "text": [
      "['Albert', 'Alex', 'Nick', 'John', 'l', 'Catherine', 'Georgios']\n"
     ]
    }
   ],
   "source": [
    "mylist = list(set(mylist))\n",
    "print(mylist)"
   ]
  },
  {
   "cell_type": "markdown",
   "id": "e3a8751b",
   "metadata": {},
   "source": [
    "---"
   ]
  },
  {
   "cell_type": "markdown",
   "id": "f2d0e3fa",
   "metadata": {},
   "source": [
    "## Read and Write to files"
   ]
  },
  {
   "cell_type": "markdown",
   "id": "b3ce70b1",
   "metadata": {},
   "source": [
    "### Read"
   ]
  },
  {
   "cell_type": "code",
<<<<<<< HEAD
   "execution_count": 60,
=======
   "execution_count": 27,
>>>>>>> dd08862f449c2568e43c06f7d06eded18f955034
   "id": "daa0605c",
   "metadata": {},
   "outputs": [
    {
     "ename": "FileNotFoundError",
     "evalue": "[Errno 2] No such file or directory: 'myfile.txt'",
     "output_type": "error",
     "traceback": [
      "\u001b[0;31m---------------------------------------------------------------------------\u001b[0m",
      "\u001b[0;31mFileNotFoundError\u001b[0m                         Traceback (most recent call last)",
      "Input \u001b[0;32mIn [27]\u001b[0m, in \u001b[0;36m<cell line: 1>\u001b[0;34m()\u001b[0m\n\u001b[0;32m----> 1\u001b[0m file \u001b[38;5;241m=\u001b[39m \u001b[38;5;28;43mopen\u001b[39;49m\u001b[43m(\u001b[49m\u001b[38;5;124;43m\"\u001b[39;49m\u001b[38;5;124;43mmyfile.txt\u001b[39;49m\u001b[38;5;124;43m\"\u001b[39;49m\u001b[43m,\u001b[49m\u001b[38;5;124;43m\"\u001b[39;49m\u001b[38;5;124;43mr\u001b[39;49m\u001b[38;5;124;43m\"\u001b[39;49m\u001b[43m)\u001b[49m\n\u001b[1;32m      2\u001b[0m f \u001b[38;5;241m=\u001b[39m file\u001b[38;5;241m.\u001b[39mread()\n\u001b[1;32m      3\u001b[0m file\u001b[38;5;241m.\u001b[39mclose()\n",
      "\u001b[0;31mFileNotFoundError\u001b[0m: [Errno 2] No such file or directory: 'myfile.txt'"
     ]
    }
   ],
   "source": [
    "file = open(\"myfile.txt\",\"r\")\n",
    "f = file.read()\n",
    "file.close()\n",
    "print (f)"
   ]
  },
  {
   "cell_type": "code",
   "execution_count": null,
   "id": "d6bdf22b",
   "metadata": {},
   "outputs": [],
   "source": [
<<<<<<< HEAD
    "file = open(\"myfile.txt\", \"r\")\n",
    "f = file.read()\n",
    "file.close()"
=======
    "with open(\"myfile.txt\", \"r\", encoding='utf-8') as file:\n",
    "    f = file.read()\n",
    "print(f)"
>>>>>>> dd08862f449c2568e43c06f7d06eded18f955034
   ]
  },
  {
   "cell_type": "code",
   "execution_count": 61,
   "id": "ca9b3b2b",
   "metadata": {},
   "outputs": [
    {
     "name": "stdout",
     "output_type": "stream",
     "text": [
      "Hi!\n"
     ]
    }
   ],
   "source": [
    "print(f)"
   ]
  },
  {
   "cell_type": "code",
   "execution_count": 65,
   "id": "38f389b1",
   "metadata": {},
   "outputs": [
    {
     "name": "stdout",
     "output_type": "stream",
     "text": [
      "Hi, Γεώργιος!\n"
     ]
    }
   ],
   "source": [
    "with open(\"myfile.txt\", \"r\", encoding='utf-8') as file:\n",
    "    f = file.read()\n",
    "print(f)"
   ]
  },
  {
   "cell_type": "code",
   "execution_count": null,
   "id": "e4717831",
   "metadata": {},
   "outputs": [],
   "source": []
  },
  {
   "cell_type": "markdown",
   "id": "fb8d6c4a",
   "metadata": {},
   "source": [
    "### Write"
   ]
  },
  {
   "cell_type": "code",
   "execution_count": null,
   "id": "f0dfb439",
   "metadata": {},
   "outputs": [],
   "source": []
  },
  {
   "cell_type": "code",
   "execution_count": null,
   "id": "b4368ae1",
   "metadata": {},
   "outputs": [],
   "source": []
  },
  {
   "cell_type": "markdown",
   "id": "2932cf40",
   "metadata": {},
   "source": [
    "---"
   ]
  },
  {
   "cell_type": "markdown",
   "id": "1bd6b0ef",
   "metadata": {},
   "source": [
    "## Pandas and CSV/EXCEL"
   ]
  },
  {
   "cell_type": "markdown",
   "id": "0ccbb795",
   "metadata": {},
   "source": [
    "#### Libraries - Imports"
   ]
  },
  {
   "cell_type": "code",
   "execution_count": null,
   "id": "561cdaa1",
   "metadata": {},
   "outputs": [],
   "source": [
    "# pip install pandas"
   ]
  },
  {
   "cell_type": "code",
   "execution_count": null,
   "id": "9164ac25",
   "metadata": {},
   "outputs": [],
   "source": [
    "import os\n",
    "import pandas as pd # This is a convention in Python community."
   ]
  },
  {
   "cell_type": "markdown",
   "id": "fe98d784",
   "metadata": {},
   "source": [
    "#### Read"
   ]
  },
  {
   "cell_type": "markdown",
   "id": "b672a02d",
   "metadata": {},
   "source": [
    "Download the csv of [Roman Amphitheaters](https://github.com/roman-amphitheaters/roman-amphitheaters/blob/main/roman-amphitheaters.csv)"
   ]
  },
  {
   "cell_type": "code",
   "execution_count": null,
   "id": "3e56d419",
   "metadata": {},
   "outputs": [],
   "source": [
    "df = pd.read_csv('.csv') # df stands for dataframe, i.e., row and columns of data."
   ]
  },
  {
   "cell_type": "code",
   "execution_count": null,
   "id": "80f31cc7",
   "metadata": {},
   "outputs": [],
   "source": [
    "df"
   ]
  },
  {
   "cell_type": "code",
   "execution_count": null,
   "id": "30220904",
   "metadata": {},
   "outputs": [],
   "source": [
    "df.head()"
   ]
  },
  {
   "cell_type": "code",
   "execution_count": null,
   "id": "aa086c96",
   "metadata": {},
   "outputs": [],
   "source": [
    "df.tail()"
   ]
  },
  {
   "cell_type": "markdown",
   "id": "548e66df",
   "metadata": {},
   "source": [
    "#### Data types in our csv"
   ]
  },
  {
   "cell_type": "code",
   "execution_count": null,
   "id": "9f162b71",
   "metadata": {},
   "outputs": [],
   "source": [
    "df.shape # notice that this is an attribute so no parentheses"
   ]
  },
  {
   "cell_type": "code",
   "execution_count": null,
   "id": "2dd0695f",
   "metadata": {},
   "outputs": [],
   "source": [
    "df.info() # notice that this is a methon, so we need parentheses"
   ]
  },
  {
   "cell_type": "code",
   "execution_count": null,
   "id": "752d8e34",
   "metadata": {},
   "outputs": [],
   "source": [
    "pd.set_option('display.max_rows', 500)\n",
    "pd.set_option('display.max_columns', 500)\n",
    "pd.set_option('display.width', 1000)"
   ]
  },
  {
   "cell_type": "markdown",
   "id": "1a2e9b6a",
   "metadata": {},
   "source": [
    "### Example: Shipwrecks Database"
   ]
  },
  {
   "cell_type": "markdown",
   "id": "0afd2b42",
   "metadata": {},
   "source": [
    "Download the [Shipwrecks Database](http://oxrep.classics.ox.ac.uk/docs/StraussShipwrecks.zip) for the [The Oxford Roman Economy Project](http://oxrep.classics.ox.ac.uk/). "
   ]
  },
  {
   "cell_type": "code",
   "execution_count": null,
   "id": "693cde72",
   "metadata": {},
   "outputs": [],
   "source": [
    "df = pd.read_excel('StraussShipwrecks.xlsx')"
   ]
  },
  {
   "cell_type": "code",
   "execution_count": null,
   "id": "11015d36",
   "metadata": {},
   "outputs": [],
   "source": [
    "df"
   ]
  },
  {
   "cell_type": "markdown",
   "id": "83abfd67",
   "metadata": {},
   "source": [
    "#### Access one column"
   ]
  },
  {
   "cell_type": "code",
   "execution_count": null,
   "id": "5fddf223",
   "metadata": {},
   "outputs": [],
   "source": [
    "type(df['Sea area'])"
   ]
  },
  {
   "cell_type": "markdown",
   "id": "05bda08e",
   "metadata": {},
   "source": [
    "#### What datatype is this?"
   ]
  },
  {
   "cell_type": "code",
   "execution_count": null,
   "id": "f6f5d499",
   "metadata": {},
   "outputs": [],
   "source": []
  },
  {
   "cell_type": "markdown",
   "id": "3744a561",
   "metadata": {},
   "source": [
    "#### Access two columns"
   ]
  },
  {
   "cell_type": "code",
   "execution_count": null,
   "id": "d5759f78",
   "metadata": {},
   "outputs": [],
   "source": [
    "df[['Region', 'Sea area']]"
   ]
  },
  {
   "cell_type": "markdown",
   "id": "d357083d",
   "metadata": {},
   "source": [
    "Check [here](https://www.w3schools.com/python/pandas/pandas_series.asp)."
   ]
  },
  {
   "cell_type": "markdown",
   "id": "178c0770",
   "metadata": {},
   "source": [
    "#### What datatype is this now?"
   ]
  },
  {
   "cell_type": "code",
   "execution_count": null,
   "id": "d042f9a2",
   "metadata": {},
   "outputs": [],
   "source": []
  },
  {
   "cell_type": "markdown",
   "id": "b4e5017f",
   "metadata": {},
   "source": [
    "#### Get all columns"
   ]
  },
  {
   "cell_type": "code",
   "execution_count": null,
   "id": "489a19c9",
   "metadata": {},
   "outputs": [],
   "source": []
  },
  {
   "cell_type": "markdown",
   "id": "787daa53",
   "metadata": {},
   "source": [
    "### Get all rows\n",
    "- iloc (integer location)\n",
    "- loc"
   ]
  },
  {
   "cell_type": "markdown",
   "id": "e8c6c443",
   "metadata": {},
   "source": [
    "### 1) iloc"
   ]
  },
  {
   "cell_type": "code",
   "execution_count": null,
   "id": "f91a45e8",
   "metadata": {},
   "outputs": [],
   "source": [
    "df.iloc[0]"
   ]
  },
  {
   "cell_type": "markdown",
   "id": "711be109",
   "metadata": {},
   "source": [
    "#### How can we get the first two rows?"
   ]
  },
  {
   "cell_type": "code",
   "execution_count": null,
   "id": "059d6b48",
   "metadata": {},
   "outputs": [],
   "source": []
  },
  {
   "cell_type": "markdown",
   "id": "5bf7e060",
   "metadata": {},
   "source": [
    "#### How can we get the first column of the above df?"
   ]
  },
  {
   "cell_type": "code",
   "execution_count": null,
   "id": "a2235858",
   "metadata": {},
   "outputs": [],
   "source": []
  },
  {
   "cell_type": "markdown",
   "id": "72ef4655",
   "metadata": {},
   "source": [
    "### 2) loc\n",
    "In this way, we do not get the first, second, etc., row. We get the row that has the index we specify."
   ]
  },
  {
   "cell_type": "code",
   "execution_count": null,
   "id": "7c568c24",
   "metadata": {},
   "outputs": [],
   "source": []
  },
  {
   "cell_type": "markdown",
   "id": "71fa29f3",
   "metadata": {},
   "source": [
    "### Let's grab some data"
   ]
  },
  {
   "cell_type": "markdown",
   "id": "55e632dd",
   "metadata": {},
   "source": [
    "#### Get the Country column"
   ]
  },
  {
   "cell_type": "code",
   "execution_count": null,
   "id": "d6cd7950",
   "metadata": {},
   "outputs": [],
   "source": []
  },
  {
   "cell_type": "markdown",
   "id": "fe652d19",
   "metadata": {},
   "source": [
    "#### Count with `.value_counts()`"
   ]
  },
  {
   "cell_type": "code",
   "execution_count": null,
   "id": "f44662b0",
   "metadata": {},
   "outputs": [],
   "source": []
  },
  {
   "cell_type": "markdown",
   "id": "0f2eb2b1",
   "metadata": {},
   "source": [
    "### Set index `.set_index()`"
   ]
  },
  {
   "cell_type": "code",
   "execution_count": null,
   "id": "514d12cb",
   "metadata": {},
   "outputs": [],
   "source": []
  },
  {
   "cell_type": "markdown",
   "id": "0d81fa82",
   "metadata": {},
   "source": [
    "#### Did the original dataframe change?"
   ]
  },
  {
   "cell_type": "code",
   "execution_count": null,
   "id": "0520c843",
   "metadata": {},
   "outputs": [],
   "source": []
  },
  {
   "cell_type": "markdown",
   "id": "cca52b46",
   "metadata": {},
   "source": [
    "#### let's put the parameter `inplace=True`"
   ]
  },
  {
   "cell_type": "code",
   "execution_count": null,
   "id": "d3fd877f",
   "metadata": {},
   "outputs": [],
   "source": []
  },
  {
   "cell_type": "markdown",
   "id": "5752e06c",
   "metadata": {},
   "source": [
    "#### What will happen of I look for `df.loc[0]`?"
   ]
  },
  {
   "cell_type": "code",
   "execution_count": null,
   "id": "d3b3147c",
   "metadata": {},
   "outputs": [],
   "source": []
  },
  {
   "cell_type": "markdown",
   "id": "354f845a",
   "metadata": {},
   "source": [
    "#### Let's reset the index"
   ]
  },
  {
   "cell_type": "code",
   "execution_count": null,
   "id": "c44cd5be",
   "metadata": {},
   "outputs": [],
   "source": [
    "df.reset_index(inplace=True)"
   ]
  },
  {
   "cell_type": "code",
   "execution_count": null,
   "id": "b97d1ef6",
   "metadata": {},
   "outputs": [],
   "source": []
  },
  {
   "cell_type": "markdown",
   "id": "1d4d0353",
   "metadata": {},
   "source": [
    "### Sort `.sort_index(ascending=False)`"
   ]
  },
  {
   "cell_type": "code",
   "execution_count": null,
   "id": "00f7dcfd",
   "metadata": {},
   "outputs": [],
   "source": []
  },
  {
   "cell_type": "markdown",
   "id": "acaf68d7",
   "metadata": {},
   "source": [
    "## Filter"
   ]
  },
  {
   "cell_type": "markdown",
   "id": "0b006a5e",
   "metadata": {},
   "source": [
    "#### what's the result of the below statement?"
   ]
  },
  {
   "cell_type": "code",
   "execution_count": null,
   "id": "f5c8d1d8",
   "metadata": {},
   "outputs": [],
   "source": [
    "df['Country'] == 'Country'"
   ]
  },
  {
   "cell_type": "code",
   "execution_count": null,
   "id": "c29350c0",
   "metadata": {},
   "outputs": [],
   "source": []
  },
  {
   "cell_type": "markdown",
   "id": "0cd2d11d",
   "metadata": {},
   "source": [
    "#### Combine two filters with `&` = `and`"
   ]
  },
  {
   "cell_type": "code",
   "execution_count": null,
   "id": "37b37526",
   "metadata": {},
   "outputs": [],
   "source": []
  },
  {
   "cell_type": "markdown",
   "id": "c6e01855",
   "metadata": {},
   "source": [
    "#### Combine two filters with `|` = `or`"
   ]
  },
  {
   "cell_type": "code",
   "execution_count": null,
   "id": "8af99902",
   "metadata": {},
   "outputs": [],
   "source": []
  }
 ],
 "metadata": {
  "kernelspec": {
   "display_name": "Python 3 (ipykernel)",
   "language": "python",
   "name": "python3"
  },
  "language_info": {
   "codemirror_mode": {
    "name": "ipython",
    "version": 3
   },
   "file_extension": ".py",
   "mimetype": "text/x-python",
   "name": "python",
   "nbconvert_exporter": "python",
   "pygments_lexer": "ipython3",
   "version": "3.9.12"
  }
 },
 "nbformat": 4,
 "nbformat_minor": 5
}
