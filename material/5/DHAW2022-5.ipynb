{
 "cells": [
  {
   "cell_type": "markdown",
   "id": "2ba5c445",
   "metadata": {},
   "source": [
    "## Lists"
   ]
  },
  {
   "cell_type": "code",
   "execution_count": 1,
   "id": "a8a2a2f8",
   "metadata": {},
   "outputs": [],
   "source": [
    "mylist = ['John', 'Maria', 'Ted', 'Nick', 'Albert', 'John', 'Catherine']"
   ]
  },
  {
   "cell_type": "markdown",
   "id": "d43b1b1c",
   "metadata": {},
   "source": [
    "#### Add the name Jim to the list"
   ]
  },
  {
   "cell_type": "code",
   "execution_count": 2,
   "id": "a250a89d",
   "metadata": {},
   "outputs": [],
   "source": [
    "mylist.append('Georgios')"
   ]
  },
  {
   "cell_type": "code",
   "execution_count": 4,
   "id": "1fa150fd",
   "metadata": {},
   "outputs": [
    {
     "name": "stdout",
     "output_type": "stream",
     "text": [
      "['John', 'Maria', 'Ted', 'Nick', 'Albert', 'John', 'Catherine', 'Georgios']\n"
     ]
    }
   ],
   "source": [
    "print(mylist)"
   ]
  },
  {
   "cell_type": "markdown",
   "id": "877cb776",
   "metadata": {},
   "source": [
    "#### Insert the name Bod to the 2nd place in the list"
   ]
  },
  {
   "cell_type": "code",
   "execution_count": 9,
   "id": "0c82f73f",
   "metadata": {},
   "outputs": [
    {
     "name": "stdout",
     "output_type": "stream",
     "text": [
      "['John', 'Alex', 'Ted', 'Nick', 'Albert', 'John', 'Catherine', 'Georgios', 'Alex', 'l']\n"
     ]
    }
   ],
   "source": [
    "mylist[1] = ('Alex')\n",
    "print(mylist)"
   ]
  },
  {
   "cell_type": "markdown",
   "id": "efe22c7d",
   "metadata": {},
   "source": [
    "#### Remove Ted from the list "
   ]
  },
  {
   "cell_type": "code",
   "execution_count": 10,
   "id": "a9ec530e",
   "metadata": {},
   "outputs": [],
   "source": [
    "mylist.remove('Ted')"
   ]
  },
  {
   "cell_type": "code",
   "execution_count": 13,
   "id": "64830011",
   "metadata": {},
   "outputs": [
    {
     "name": "stdout",
     "output_type": "stream",
     "text": [
      "['John', 'Alex', 'Nick', 'Albert', 'John', 'Catherine', 'Georgios', 'Alex', 'l']\n"
     ]
    }
   ],
   "source": [
    "print(mylist)"
   ]
  },
  {
   "cell_type": "markdown",
   "id": "52adde78",
   "metadata": {},
   "source": [
    "---"
   ]
  },
  {
   "cell_type": "markdown",
   "id": "65fd0cb4",
   "metadata": {},
   "source": [
    "## Tuples"
   ]
  },
  {
   "cell_type": "markdown",
   "id": "0b1bbd21",
   "metadata": {},
   "source": [
    "#### Make mylist a tuple"
   ]
  },
  {
   "cell_type": "code",
   "execution_count": 16,
   "id": "f950fa9c",
   "metadata": {},
   "outputs": [
    {
     "name": "stdout",
     "output_type": "stream",
     "text": [
      "('John', 'Alex', 'Nick', 'Albert', 'John', 'Catherine', 'Georgios', 'Alex', 'l')\n"
     ]
    }
   ],
   "source": [
    "mytuple = tuple(mylist)\n",
    "print((mytuple))"
   ]
  },
  {
   "cell_type": "markdown",
   "id": "8ce10b02",
   "metadata": {},
   "source": [
    "#### Change the first element in the tuple"
   ]
  },
  {
   "cell_type": "code",
   "execution_count": 17,
   "id": "f344e124",
   "metadata": {},
   "outputs": [
    {
     "ename": "TypeError",
     "evalue": "'tuple' object does not support item assignment",
     "output_type": "error",
     "traceback": [
      "\u001b[1;31m---------------------------------------------------------------------------\u001b[0m",
      "\u001b[1;31mTypeError\u001b[0m                                 Traceback (most recent call last)",
      "\u001b[1;32m~\\AppData\\Local\\Temp/ipykernel_11484/3692841899.py\u001b[0m in \u001b[0;36m<module>\u001b[1;34m\u001b[0m\n\u001b[1;32m----> 1\u001b[1;33m \u001b[0mmytuple\u001b[0m\u001b[1;33m[\u001b[0m\u001b[1;36m0\u001b[0m\u001b[1;33m]\u001b[0m \u001b[1;33m=\u001b[0m \u001b[1;33m(\u001b[0m\u001b[1;34m'Alex'\u001b[0m\u001b[1;33m)\u001b[0m\u001b[1;33m\u001b[0m\u001b[1;33m\u001b[0m\u001b[0m\n\u001b[0m\u001b[0;32m      2\u001b[0m \u001b[0mprint\u001b[0m\u001b[1;33m(\u001b[0m\u001b[1;33m(\u001b[0m\u001b[0mmytuple\u001b[0m\u001b[1;33m)\u001b[0m\u001b[1;33m)\u001b[0m\u001b[1;33m\u001b[0m\u001b[1;33m\u001b[0m\u001b[0m\n",
      "\u001b[1;31mTypeError\u001b[0m: 'tuple' object does not support item assignment"
     ]
    }
   ],
   "source": [
    "mytuple[0] = ('Alex')\n",
    "print((mytuple))"
   ]
  },
  {
   "cell_type": "code",
   "execution_count": 19,
   "id": "7f8a2103",
   "metadata": {},
   "outputs": [
    {
     "data": {
      "text/plain": [
       "['John',\n",
       " 'Alex',\n",
       " 'Nick',\n",
       " 'Albert',\n",
       " 'John',\n",
       " 'Catherine',\n",
       " 'Georgios',\n",
       " 'Alex',\n",
       " 'l']"
      ]
     },
     "execution_count": 19,
     "metadata": {},
     "output_type": "execute_result"
    }
   ],
   "source": [
    "mynewlist = list(mytuple)\n",
    "mynewlist"
   ]
  },
  {
   "cell_type": "markdown",
   "id": "fb3440e2",
   "metadata": {},
   "source": [
    "__We have to create a new tuple as while lists are mutable, tuples are immutable.__"
   ]
  },
  {
   "cell_type": "markdown",
   "id": "c1181b53",
   "metadata": {},
   "source": [
    "---"
   ]
  },
  {
   "cell_type": "markdown",
   "id": "f268ea1f",
   "metadata": {},
   "source": [
    "## Dictionaries"
   ]
  },
  {
   "cell_type": "code",
   "execution_count": 21,
   "id": "86494190",
   "metadata": {},
   "outputs": [],
   "source": [
    "persons = {\n",
    "    \"first\": \"John\",\n",
    "    \"last\": \"Smith\",\n",
    "    \"email\": \"johnsmith@gmail.com\"\n",
    "}"
   ]
  },
  {
   "cell_type": "code",
   "execution_count": 24,
   "id": "742fdcbb",
   "metadata": {},
   "outputs": [
    {
     "ename": "KeyError",
     "evalue": "0",
     "output_type": "error",
     "traceback": [
      "\u001b[1;31m---------------------------------------------------------------------------\u001b[0m",
      "\u001b[1;31mKeyError\u001b[0m                                  Traceback (most recent call last)",
      "\u001b[1;32m~\\AppData\\Local\\Temp/ipykernel_11484/2479537952.py\u001b[0m in \u001b[0;36m<module>\u001b[1;34m\u001b[0m\n\u001b[1;32m----> 1\u001b[1;33m \u001b[0mprint\u001b[0m\u001b[1;33m(\u001b[0m\u001b[0mpersons\u001b[0m\u001b[1;33m[\u001b[0m\u001b[1;36m0\u001b[0m\u001b[1;33m]\u001b[0m\u001b[1;33m)\u001b[0m\u001b[1;33m\u001b[0m\u001b[1;33m\u001b[0m\u001b[0m\n\u001b[0m",
      "\u001b[1;31mKeyError\u001b[0m: 0"
     ]
    }
   ],
   "source": [
    "print(persons[0])"
   ]
  },
  {
   "cell_type": "markdown",
   "id": "4aa57f4d",
   "metadata": {},
   "source": [
    "#### Add more people"
   ]
  },
  {
   "cell_type": "code",
   "execution_count": 25,
   "id": "88796746",
   "metadata": {},
   "outputs": [],
   "source": [
    "persons = {\n",
    "    \"first\": [\"John\", \"Bob\"],\n",
    "    \"last\": [\"Smith\", \"Joe\"],\n",
    "    \"email\": [\"johnsmith@gmail.com\", \"bobjoe@gmail.com\"]\n",
    "}"
   ]
  },
  {
   "cell_type": "code",
   "execution_count": 26,
   "id": "dbd5f622",
   "metadata": {},
   "outputs": [
    {
     "name": "stdout",
     "output_type": "stream",
     "text": [
      "{'first': ['John', 'Bob'], 'last': ['Smith', 'Joe'], 'email': ['johnsmith@gmail.com', 'bobjoe@gmail.com']}\n"
     ]
    }
   ],
   "source": [
    "print(persons)"
   ]
  },
  {
   "cell_type": "markdown",
   "id": "d45ad9c1",
   "metadata": {},
   "source": [
    "### items, keys, values"
   ]
  },
  {
   "cell_type": "code",
   "execution_count": 29,
   "id": "1c8cd219",
   "metadata": {},
   "outputs": [
    {
     "data": {
      "text/plain": [
       "dict_values([['John', 'Bob'], ['Smith', 'Joe'], ['johnsmith@gmail.com', 'bobjoe@gmail.com']])"
      ]
     },
     "execution_count": 29,
     "metadata": {},
     "output_type": "execute_result"
    }
   ],
   "source": [
    "persons.values()"
   ]
  },
  {
   "cell_type": "code",
   "execution_count": 40,
   "id": "f296e884",
   "metadata": {},
   "outputs": [
    {
     "name": "stdout",
     "output_type": "stream",
     "text": [
      "first\n",
      "John\n",
      "Bob\n",
      "\n",
      "\n",
      "last\n",
      "Smith\n",
      "Joe\n",
      "\n",
      "\n",
      "email\n",
      "johnsmith@gmail.com\n",
      "bobjoe@gmail.com\n",
      "\n",
      "\n"
     ]
    }
   ],
   "source": [
    "for keys,values in persons.items():\n",
    "    \n",
    "    print(keys)\n",
    "    for value in values:\n",
    "        print(value)\n",
    "    print('\\n')"
   ]
  },
  {
   "cell_type": "code",
   "execution_count": null,
   "id": "fa10f148",
   "metadata": {},
   "outputs": [],
   "source": []
  },
  {
   "cell_type": "markdown",
   "id": "c16d6dbd",
   "metadata": {},
   "source": [
    "---"
   ]
  },
  {
   "cell_type": "markdown",
   "id": "c951215e",
   "metadata": {},
   "source": [
    "## Set"
   ]
  },
  {
   "cell_type": "markdown",
   "id": "368252cf",
   "metadata": {},
   "source": [
    "#### Make mylist a set"
   ]
  },
  {
   "cell_type": "code",
   "execution_count": 53,
   "id": "8cd9e52d",
   "metadata": {},
   "outputs": [
    {
     "name": "stdout",
     "output_type": "stream",
     "text": [
      "['Albert', 'Alex', 'Nick', 'l', 'John', 'Catherine', 'Georgios', 'Georgios']\n",
      "{'Albert', 'Alex', 'Nick', 'John', 'l', 'Catherine', 'Georgios'}\n"
     ]
    }
   ],
   "source": [
    "mylist.append('Georgios')\n",
    "print(mylist)\n",
    "\n",
    "myset = set(mylist)\n",
    "print(myset)"
   ]
  },
  {
   "cell_type": "markdown",
   "id": "e7e2472d",
   "metadata": {},
   "source": [
    "#### Make mylist again a list"
   ]
  },
  {
   "cell_type": "code",
   "execution_count": 56,
   "id": "2b867118",
   "metadata": {},
   "outputs": [
    {
     "name": "stdout",
     "output_type": "stream",
     "text": [
      "['Albert', 'Alex', 'Nick', 'John', 'l', 'Catherine', 'Georgios']\n"
     ]
    }
   ],
   "source": [
    "mylist = list(set(mylist))\n",
    "print(mylist)"
   ]
  },
  {
   "cell_type": "markdown",
   "id": "e3a8751b",
   "metadata": {},
   "source": [
    "---"
   ]
  },
  {
   "cell_type": "markdown",
   "id": "f2d0e3fa",
   "metadata": {},
   "source": [
    "## Read and Write to files"
   ]
  },
  {
   "cell_type": "markdown",
   "id": "b3ce70b1",
   "metadata": {},
   "source": [
    "### Read"
   ]
  },
  {
   "cell_type": "code",
   "execution_count": 60,
   "id": "daa0605c",
   "metadata": {},
   "outputs": [],
   "source": [
    "file = open(\"myfile.txt\", \"r\")\n",
    "f = file.read()\n",
    "file.close()"
   ]
  },
  {
   "cell_type": "code",
   "execution_count": 61,
   "id": "ca9b3b2b",
   "metadata": {},
   "outputs": [
    {
     "name": "stdout",
     "output_type": "stream",
     "text": [
      "Hi!\n"
     ]
    }
   ],
   "source": [
    "print(f)"
   ]
  },
  {
   "cell_type": "code",
   "execution_count": 65,
   "id": "38f389b1",
   "metadata": {},
   "outputs": [
    {
     "name": "stdout",
     "output_type": "stream",
     "text": [
      "Hi, Γεώργιος!\n"
     ]
    }
   ],
   "source": [
    "with open(\"myfile.txt\", \"r\", encoding='utf-8') as file:\n",
    "    f = file.read()\n",
    "print(f)"
   ]
  },
  {
   "cell_type": "code",
   "execution_count": null,
   "id": "e4717831",
   "metadata": {},
   "outputs": [],
   "source": []
  },
  {
   "cell_type": "markdown",
   "id": "fb8d6c4a",
   "metadata": {},
   "source": [
    "### Write"
   ]
  },
  {
   "cell_type": "code",
   "execution_count": null,
   "id": "b4368ae1",
   "metadata": {},
   "outputs": [],
   "source": [
    "with open(\"mynewtext.txt\", 'w', encoding='utf-8') as file:\n",
    "    for i in mylist:\n",
    "        # file.write(i + \"\\n\")\n",
    "        # file.write(\"%s\\n\" % i)\n",
    "        # file.write(\"{0}\\n\".format(i))\n",
    "        file.write(f\"{i}\\n\")"
   ]
  },
  {
   "cell_type": "markdown",
   "id": "2932cf40",
   "metadata": {},
   "source": [
    "---"
   ]
  },
  {
   "cell_type": "markdown",
   "id": "1bd6b0ef",
   "metadata": {},
   "source": [
    "## Pandas and CSV/EXCEL"
   ]
  },
  {
   "cell_type": "markdown",
   "id": "0ccbb795",
   "metadata": {},
   "source": [
    "#### Libraries - Imports"
   ]
  },
  {
   "cell_type": "code",
   "execution_count": 1,
   "id": "561cdaa1",
   "metadata": {},
   "outputs": [
    {
     "name": "stdout",
     "output_type": "stream",
     "text": [
      "Requirement already satisfied: pandas in /Users/shama/opt/anaconda3/lib/python3.9/site-packages (1.4.2)\n",
      "Requirement already satisfied: python-dateutil>=2.8.1 in /Users/shama/opt/anaconda3/lib/python3.9/site-packages (from pandas) (2.8.2)\n",
      "Requirement already satisfied: pytz>=2020.1 in /Users/shama/opt/anaconda3/lib/python3.9/site-packages (from pandas) (2021.3)\n",
      "Requirement already satisfied: numpy>=1.18.5 in /Users/shama/opt/anaconda3/lib/python3.9/site-packages (from pandas) (1.21.5)\n",
      "Requirement already satisfied: six>=1.5 in /Users/shama/opt/anaconda3/lib/python3.9/site-packages (from python-dateutil>=2.8.1->pandas) (1.16.0)\n",
      "Note: you may need to restart the kernel to use updated packages.\n"
     ]
    }
   ],
   "source": [
    "pip install pandas"
   ]
  },
  {
   "cell_type": "code",
   "execution_count": 2,
   "id": "9164ac25",
   "metadata": {},
   "outputs": [],
   "source": [
    "import os\n",
    "import pandas as pd # This is a convention in Python community."
   ]
  },
  {
   "cell_type": "markdown",
   "id": "fe98d784",
   "metadata": {},
   "source": [
    "#### Read"
   ]
  },
  {
   "cell_type": "markdown",
   "id": "b672a02d",
   "metadata": {},
   "source": [
    "Download the csv of [Roman Amphitheaters](https://github.com/roman-amphitheaters/roman-amphitheaters/blob/main/roman-amphitheaters.csv)"
   ]
  },
  {
   "cell_type": "code",
   "execution_count": 4,
   "id": "3e56d419",
   "metadata": {},
   "outputs": [],
   "source": [
    "df = pd.read_csv('roman-amphitheaters.csv') # df stands for dataframe, i.e., row and columns of data."
   ]
  },
  {
   "cell_type": "code",
   "execution_count": 5,
   "id": "80f31cc7",
   "metadata": {},
   "outputs": [
    {
     "data": {
      "text/html": [
       "<div>\n",
       "<style scoped>\n",
       "    .dataframe tbody tr th:only-of-type {\n",
       "        vertical-align: middle;\n",
       "    }\n",
       "\n",
       "    .dataframe tbody tr th {\n",
       "        vertical-align: top;\n",
       "    }\n",
       "\n",
       "    .dataframe thead th {\n",
       "        text-align: right;\n",
       "    }\n",
       "</style>\n",
       "<table border=\"1\" class=\"dataframe\">\n",
       "  <thead>\n",
       "    <tr style=\"text-align: right;\">\n",
       "      <th></th>\n",
       "      <th>id</th>\n",
       "      <th>title</th>\n",
       "      <th>label</th>\n",
       "      <th>latintoponym</th>\n",
       "      <th>pleiades</th>\n",
       "      <th>welchid</th>\n",
       "      <th>golvinid</th>\n",
       "      <th>buildingtype</th>\n",
       "      <th>chronogroup</th>\n",
       "      <th>secondcentury</th>\n",
       "      <th>...</th>\n",
       "      <th>zotero</th>\n",
       "      <th>dimensionsunknown</th>\n",
       "      <th>arenamajor</th>\n",
       "      <th>arenaminor</th>\n",
       "      <th>extmajor</th>\n",
       "      <th>extminor</th>\n",
       "      <th>exteriorheight</th>\n",
       "      <th>longitude</th>\n",
       "      <th>latitude</th>\n",
       "      <th>elevation</th>\n",
       "    </tr>\n",
       "  </thead>\n",
       "  <tbody>\n",
       "    <tr>\n",
       "      <th>0</th>\n",
       "      <td>duraEuroposAmphitheater</td>\n",
       "      <td>Amphitheater at Dura Europos</td>\n",
       "      <td>Dura</td>\n",
       "      <td>Dura Europus</td>\n",
       "      <td>https://pleiades.stoa.org/places/893989</td>\n",
       "      <td>NaN</td>\n",
       "      <td>129.0</td>\n",
       "      <td>amphitheater</td>\n",
       "      <td>severan</td>\n",
       "      <td>False</td>\n",
       "      <td>...</td>\n",
       "      <td>5ADZC245</td>\n",
       "      <td>False</td>\n",
       "      <td>31.0</td>\n",
       "      <td>25.0</td>\n",
       "      <td>50.0</td>\n",
       "      <td>44.0</td>\n",
       "      <td>NaN</td>\n",
       "      <td>40.728926</td>\n",
       "      <td>34.749855</td>\n",
       "      <td>223</td>\n",
       "    </tr>\n",
       "    <tr>\n",
       "      <th>1</th>\n",
       "      <td>arlesAmphitheater</td>\n",
       "      <td>Amphitheater at Arles</td>\n",
       "      <td>Arles</td>\n",
       "      <td>Arelate</td>\n",
       "      <td>https://pleiades.stoa.org/places/148217</td>\n",
       "      <td>NaN</td>\n",
       "      <td>154.0</td>\n",
       "      <td>amphitheater</td>\n",
       "      <td>flavian</td>\n",
       "      <td>True</td>\n",
       "      <td>...</td>\n",
       "      <td>LD7NNHSG</td>\n",
       "      <td>False</td>\n",
       "      <td>47.0</td>\n",
       "      <td>32.0</td>\n",
       "      <td>136.0</td>\n",
       "      <td>107.0</td>\n",
       "      <td>NaN</td>\n",
       "      <td>4.631111</td>\n",
       "      <td>43.677778</td>\n",
       "      <td>21</td>\n",
       "    </tr>\n",
       "    <tr>\n",
       "      <th>2</th>\n",
       "      <td>lyonAmphitheater</td>\n",
       "      <td>Amphitheater at Lyon</td>\n",
       "      <td>Lyon</td>\n",
       "      <td>Lugdunum</td>\n",
       "      <td>https://pleiades.stoa.org/places/167717</td>\n",
       "      <td>NaN</td>\n",
       "      <td>NaN</td>\n",
       "      <td>amphitheater</td>\n",
       "      <td>second-century</td>\n",
       "      <td>True</td>\n",
       "      <td>...</td>\n",
       "      <td>NaN</td>\n",
       "      <td>False</td>\n",
       "      <td>67.6</td>\n",
       "      <td>42.0</td>\n",
       "      <td>105.0</td>\n",
       "      <td>NaN</td>\n",
       "      <td>NaN</td>\n",
       "      <td>4.830556</td>\n",
       "      <td>45.770556</td>\n",
       "      <td>206</td>\n",
       "    </tr>\n",
       "    <tr>\n",
       "      <th>3</th>\n",
       "      <td>ludusMagnusArena</td>\n",
       "      <td>Ludus Magnus Arena</td>\n",
       "      <td>Ludus Magnus</td>\n",
       "      <td>Ludus Magnus</td>\n",
       "      <td>https://pleiades.stoa.org/places/423025</td>\n",
       "      <td>NaN</td>\n",
       "      <td>NaN</td>\n",
       "      <td>practice-arena</td>\n",
       "      <td>imperial</td>\n",
       "      <td>False</td>\n",
       "      <td>...</td>\n",
       "      <td>NaN</td>\n",
       "      <td>False</td>\n",
       "      <td>NaN</td>\n",
       "      <td>NaN</td>\n",
       "      <td>NaN</td>\n",
       "      <td>NaN</td>\n",
       "      <td>NaN</td>\n",
       "      <td>12.494913</td>\n",
       "      <td>41.889950</td>\n",
       "      <td>22</td>\n",
       "    </tr>\n",
       "    <tr>\n",
       "      <th>4</th>\n",
       "      <td>romeFlavianAmphitheater</td>\n",
       "      <td>Flavian Amphitheater at Rome</td>\n",
       "      <td>Colosseum</td>\n",
       "      <td>NaN</td>\n",
       "      <td>https://pleiades.stoa.org/places/423025</td>\n",
       "      <td>NaN</td>\n",
       "      <td>152.0</td>\n",
       "      <td>amphitheater</td>\n",
       "      <td>flavian</td>\n",
       "      <td>True</td>\n",
       "      <td>...</td>\n",
       "      <td>VKMRD8AT</td>\n",
       "      <td>False</td>\n",
       "      <td>83.0</td>\n",
       "      <td>48.0</td>\n",
       "      <td>189.0</td>\n",
       "      <td>156.0</td>\n",
       "      <td>52.0</td>\n",
       "      <td>12.492269</td>\n",
       "      <td>41.890169</td>\n",
       "      <td>22</td>\n",
       "    </tr>\n",
       "    <tr>\n",
       "      <th>...</th>\n",
       "      <td>...</td>\n",
       "      <td>...</td>\n",
       "      <td>...</td>\n",
       "      <td>...</td>\n",
       "      <td>...</td>\n",
       "      <td>...</td>\n",
       "      <td>...</td>\n",
       "      <td>...</td>\n",
       "      <td>...</td>\n",
       "      <td>...</td>\n",
       "      <td>...</td>\n",
       "      <td>...</td>\n",
       "      <td>...</td>\n",
       "      <td>...</td>\n",
       "      <td>...</td>\n",
       "      <td>...</td>\n",
       "      <td>...</td>\n",
       "      <td>...</td>\n",
       "      <td>...</td>\n",
       "      <td>...</td>\n",
       "      <td>...</td>\n",
       "    </tr>\n",
       "    <tr>\n",
       "      <th>263</th>\n",
       "      <td>avenchesAmphitheater</td>\n",
       "      <td>Amphitheater at Avenches</td>\n",
       "      <td>Avenches</td>\n",
       "      <td>Aventicum</td>\n",
       "      <td>https://pleiades.stoa.org/places/177495</td>\n",
       "      <td>NaN</td>\n",
       "      <td>104.0</td>\n",
       "      <td>amphitheater</td>\n",
       "      <td>second-century</td>\n",
       "      <td>True</td>\n",
       "      <td>...</td>\n",
       "      <td>LD7NNHSG</td>\n",
       "      <td>False</td>\n",
       "      <td>51.0</td>\n",
       "      <td>39.0</td>\n",
       "      <td>99.0</td>\n",
       "      <td>87.0</td>\n",
       "      <td>NaN</td>\n",
       "      <td>7.042646</td>\n",
       "      <td>46.880971</td>\n",
       "      <td>470</td>\n",
       "    </tr>\n",
       "    <tr>\n",
       "      <th>264</th>\n",
       "      <td>venafroAmphitheater</td>\n",
       "      <td>Amphitheater at Venafro</td>\n",
       "      <td>Venafro</td>\n",
       "      <td>Venafrum</td>\n",
       "      <td>https://pleiades.stoa.org/places/433185</td>\n",
       "      <td>NaN</td>\n",
       "      <td>87.0</td>\n",
       "      <td>amphitheater</td>\n",
       "      <td>imperial</td>\n",
       "      <td>True</td>\n",
       "      <td>...</td>\n",
       "      <td>HQ9QC3FS</td>\n",
       "      <td>False</td>\n",
       "      <td>60.0</td>\n",
       "      <td>35.0</td>\n",
       "      <td>110.0</td>\n",
       "      <td>85.0</td>\n",
       "      <td>NaN</td>\n",
       "      <td>14.046835</td>\n",
       "      <td>41.482550</td>\n",
       "      <td>176</td>\n",
       "    </tr>\n",
       "    <tr>\n",
       "      <th>265</th>\n",
       "      <td>saintGeorgesDuBoisAmphitheater</td>\n",
       "      <td>Amphitheater at Saint-Georges-du-Bois</td>\n",
       "      <td>Saint-Georges-du-Bois</td>\n",
       "      <td>NaN</td>\n",
       "      <td>NaN</td>\n",
       "      <td>NaN</td>\n",
       "      <td>103.0</td>\n",
       "      <td>amphitheater</td>\n",
       "      <td>first-century</td>\n",
       "      <td>True</td>\n",
       "      <td>...</td>\n",
       "      <td>ZSJDWT3E</td>\n",
       "      <td>False</td>\n",
       "      <td>54.0</td>\n",
       "      <td>30.0</td>\n",
       "      <td>65.0</td>\n",
       "      <td>50.0</td>\n",
       "      <td>NaN</td>\n",
       "      <td>-0.749919</td>\n",
       "      <td>46.142723</td>\n",
       "      <td>39</td>\n",
       "    </tr>\n",
       "    <tr>\n",
       "      <th>266</th>\n",
       "      <td>toledoAmphitheater</td>\n",
       "      <td>Amphitheater at Toledo</td>\n",
       "      <td>Toledo</td>\n",
       "      <td>Toletum</td>\n",
       "      <td>https://pleiades.stoa.org/places/266066</td>\n",
       "      <td>NaN</td>\n",
       "      <td>NaN</td>\n",
       "      <td>amphitheater</td>\n",
       "      <td>imperial</td>\n",
       "      <td>True</td>\n",
       "      <td>...</td>\n",
       "      <td>9JJW3LUE</td>\n",
       "      <td>True</td>\n",
       "      <td>NaN</td>\n",
       "      <td>NaN</td>\n",
       "      <td>NaN</td>\n",
       "      <td>NaN</td>\n",
       "      <td>NaN</td>\n",
       "      <td>-4.022888</td>\n",
       "      <td>39.865349</td>\n",
       "      <td>482</td>\n",
       "    </tr>\n",
       "    <tr>\n",
       "      <th>267</th>\n",
       "      <td>kaiseraugustAmphitheater</td>\n",
       "      <td>Amphitheater at Kaiseraugst</td>\n",
       "      <td>Kaiseraugst</td>\n",
       "      <td>Castrum Rauracense</td>\n",
       "      <td>https://pleiades.stoa.org/places/81716458</td>\n",
       "      <td>NaN</td>\n",
       "      <td>NaN</td>\n",
       "      <td>amphitheater</td>\n",
       "      <td>fourth-century</td>\n",
       "      <td>False</td>\n",
       "      <td>...</td>\n",
       "      <td>AUHQAHQB</td>\n",
       "      <td>False</td>\n",
       "      <td>NaN</td>\n",
       "      <td>NaN</td>\n",
       "      <td>50.0</td>\n",
       "      <td>40.0</td>\n",
       "      <td>NaN</td>\n",
       "      <td>7.721596</td>\n",
       "      <td>47.540822</td>\n",
       "      <td>482</td>\n",
       "    </tr>\n",
       "  </tbody>\n",
       "</table>\n",
       "<p>268 rows × 23 columns</p>\n",
       "</div>"
      ],
      "text/plain": [
       "                                 id                                  title  \\\n",
       "0           duraEuroposAmphitheater           Amphitheater at Dura Europos   \n",
       "1                 arlesAmphitheater                  Amphitheater at Arles   \n",
       "2                  lyonAmphitheater                   Amphitheater at Lyon   \n",
       "3                  ludusMagnusArena                     Ludus Magnus Arena   \n",
       "4           romeFlavianAmphitheater           Flavian Amphitheater at Rome   \n",
       "..                              ...                                    ...   \n",
       "263            avenchesAmphitheater               Amphitheater at Avenches   \n",
       "264             venafroAmphitheater                Amphitheater at Venafro   \n",
       "265  saintGeorgesDuBoisAmphitheater  Amphitheater at Saint-Georges-du-Bois   \n",
       "266              toledoAmphitheater                 Amphitheater at Toledo   \n",
       "267        kaiseraugustAmphitheater            Amphitheater at Kaiseraugst   \n",
       "\n",
       "                     label        latintoponym  \\\n",
       "0                     Dura        Dura Europus   \n",
       "1                    Arles             Arelate   \n",
       "2                     Lyon            Lugdunum   \n",
       "3             Ludus Magnus        Ludus Magnus   \n",
       "4                Colosseum                 NaN   \n",
       "..                     ...                 ...   \n",
       "263               Avenches           Aventicum   \n",
       "264                Venafro            Venafrum   \n",
       "265  Saint-Georges-du-Bois                 NaN   \n",
       "266                 Toledo             Toletum   \n",
       "267            Kaiseraugst  Castrum Rauracense   \n",
       "\n",
       "                                      pleiades  welchid  golvinid  \\\n",
       "0      https://pleiades.stoa.org/places/893989      NaN     129.0   \n",
       "1      https://pleiades.stoa.org/places/148217      NaN     154.0   \n",
       "2      https://pleiades.stoa.org/places/167717      NaN       NaN   \n",
       "3      https://pleiades.stoa.org/places/423025      NaN       NaN   \n",
       "4      https://pleiades.stoa.org/places/423025      NaN     152.0   \n",
       "..                                         ...      ...       ...   \n",
       "263    https://pleiades.stoa.org/places/177495      NaN     104.0   \n",
       "264    https://pleiades.stoa.org/places/433185      NaN      87.0   \n",
       "265                                        NaN      NaN     103.0   \n",
       "266    https://pleiades.stoa.org/places/266066      NaN       NaN   \n",
       "267  https://pleiades.stoa.org/places/81716458      NaN       NaN   \n",
       "\n",
       "       buildingtype     chronogroup  secondcentury  ...    zotero  \\\n",
       "0      amphitheater         severan          False  ...  5ADZC245   \n",
       "1      amphitheater         flavian           True  ...  LD7NNHSG   \n",
       "2      amphitheater  second-century           True  ...       NaN   \n",
       "3    practice-arena        imperial          False  ...       NaN   \n",
       "4      amphitheater         flavian           True  ...  VKMRD8AT   \n",
       "..              ...             ...            ...  ...       ...   \n",
       "263    amphitheater  second-century           True  ...  LD7NNHSG   \n",
       "264    amphitheater        imperial           True  ...  HQ9QC3FS   \n",
       "265    amphitheater   first-century           True  ...  ZSJDWT3E   \n",
       "266    amphitheater        imperial           True  ...  9JJW3LUE   \n",
       "267    amphitheater  fourth-century          False  ...  AUHQAHQB   \n",
       "\n",
       "    dimensionsunknown arenamajor arenaminor  extmajor  extminor  \\\n",
       "0               False       31.0       25.0      50.0      44.0   \n",
       "1               False       47.0       32.0     136.0     107.0   \n",
       "2               False       67.6       42.0     105.0       NaN   \n",
       "3               False        NaN        NaN       NaN       NaN   \n",
       "4               False       83.0       48.0     189.0     156.0   \n",
       "..                ...        ...        ...       ...       ...   \n",
       "263             False       51.0       39.0      99.0      87.0   \n",
       "264             False       60.0       35.0     110.0      85.0   \n",
       "265             False       54.0       30.0      65.0      50.0   \n",
       "266              True        NaN        NaN       NaN       NaN   \n",
       "267             False        NaN        NaN      50.0      40.0   \n",
       "\n",
       "     exteriorheight  longitude   latitude  elevation  \n",
       "0               NaN  40.728926  34.749855        223  \n",
       "1               NaN   4.631111  43.677778         21  \n",
       "2               NaN   4.830556  45.770556        206  \n",
       "3               NaN  12.494913  41.889950         22  \n",
       "4              52.0  12.492269  41.890169         22  \n",
       "..              ...        ...        ...        ...  \n",
       "263             NaN   7.042646  46.880971        470  \n",
       "264             NaN  14.046835  41.482550        176  \n",
       "265             NaN  -0.749919  46.142723         39  \n",
       "266             NaN  -4.022888  39.865349        482  \n",
       "267             NaN   7.721596  47.540822        482  \n",
       "\n",
       "[268 rows x 23 columns]"
      ]
     },
     "execution_count": 5,
     "metadata": {},
     "output_type": "execute_result"
    }
   ],
   "source": [
    "df"
   ]
  },
  {
   "cell_type": "code",
   "execution_count": 6,
   "id": "30220904",
   "metadata": {},
   "outputs": [
    {
     "data": {
      "text/html": [
       "<div>\n",
       "<style scoped>\n",
       "    .dataframe tbody tr th:only-of-type {\n",
       "        vertical-align: middle;\n",
       "    }\n",
       "\n",
       "    .dataframe tbody tr th {\n",
       "        vertical-align: top;\n",
       "    }\n",
       "\n",
       "    .dataframe thead th {\n",
       "        text-align: right;\n",
       "    }\n",
       "</style>\n",
       "<table border=\"1\" class=\"dataframe\">\n",
       "  <thead>\n",
       "    <tr style=\"text-align: right;\">\n",
       "      <th></th>\n",
       "      <th>id</th>\n",
       "      <th>title</th>\n",
       "      <th>label</th>\n",
       "      <th>latintoponym</th>\n",
       "      <th>pleiades</th>\n",
       "      <th>welchid</th>\n",
       "      <th>golvinid</th>\n",
       "      <th>buildingtype</th>\n",
       "      <th>chronogroup</th>\n",
       "      <th>secondcentury</th>\n",
       "      <th>...</th>\n",
       "      <th>zotero</th>\n",
       "      <th>dimensionsunknown</th>\n",
       "      <th>arenamajor</th>\n",
       "      <th>arenaminor</th>\n",
       "      <th>extmajor</th>\n",
       "      <th>extminor</th>\n",
       "      <th>exteriorheight</th>\n",
       "      <th>longitude</th>\n",
       "      <th>latitude</th>\n",
       "      <th>elevation</th>\n",
       "    </tr>\n",
       "  </thead>\n",
       "  <tbody>\n",
       "    <tr>\n",
       "      <th>0</th>\n",
       "      <td>duraEuroposAmphitheater</td>\n",
       "      <td>Amphitheater at Dura Europos</td>\n",
       "      <td>Dura</td>\n",
       "      <td>Dura Europus</td>\n",
       "      <td>https://pleiades.stoa.org/places/893989</td>\n",
       "      <td>NaN</td>\n",
       "      <td>129.0</td>\n",
       "      <td>amphitheater</td>\n",
       "      <td>severan</td>\n",
       "      <td>False</td>\n",
       "      <td>...</td>\n",
       "      <td>5ADZC245</td>\n",
       "      <td>False</td>\n",
       "      <td>31.0</td>\n",
       "      <td>25.0</td>\n",
       "      <td>50.0</td>\n",
       "      <td>44.0</td>\n",
       "      <td>NaN</td>\n",
       "      <td>40.728926</td>\n",
       "      <td>34.749855</td>\n",
       "      <td>223</td>\n",
       "    </tr>\n",
       "    <tr>\n",
       "      <th>1</th>\n",
       "      <td>arlesAmphitheater</td>\n",
       "      <td>Amphitheater at Arles</td>\n",
       "      <td>Arles</td>\n",
       "      <td>Arelate</td>\n",
       "      <td>https://pleiades.stoa.org/places/148217</td>\n",
       "      <td>NaN</td>\n",
       "      <td>154.0</td>\n",
       "      <td>amphitheater</td>\n",
       "      <td>flavian</td>\n",
       "      <td>True</td>\n",
       "      <td>...</td>\n",
       "      <td>LD7NNHSG</td>\n",
       "      <td>False</td>\n",
       "      <td>47.0</td>\n",
       "      <td>32.0</td>\n",
       "      <td>136.0</td>\n",
       "      <td>107.0</td>\n",
       "      <td>NaN</td>\n",
       "      <td>4.631111</td>\n",
       "      <td>43.677778</td>\n",
       "      <td>21</td>\n",
       "    </tr>\n",
       "    <tr>\n",
       "      <th>2</th>\n",
       "      <td>lyonAmphitheater</td>\n",
       "      <td>Amphitheater at Lyon</td>\n",
       "      <td>Lyon</td>\n",
       "      <td>Lugdunum</td>\n",
       "      <td>https://pleiades.stoa.org/places/167717</td>\n",
       "      <td>NaN</td>\n",
       "      <td>NaN</td>\n",
       "      <td>amphitheater</td>\n",
       "      <td>second-century</td>\n",
       "      <td>True</td>\n",
       "      <td>...</td>\n",
       "      <td>NaN</td>\n",
       "      <td>False</td>\n",
       "      <td>67.6</td>\n",
       "      <td>42.0</td>\n",
       "      <td>105.0</td>\n",
       "      <td>NaN</td>\n",
       "      <td>NaN</td>\n",
       "      <td>4.830556</td>\n",
       "      <td>45.770556</td>\n",
       "      <td>206</td>\n",
       "    </tr>\n",
       "    <tr>\n",
       "      <th>3</th>\n",
       "      <td>ludusMagnusArena</td>\n",
       "      <td>Ludus Magnus Arena</td>\n",
       "      <td>Ludus Magnus</td>\n",
       "      <td>Ludus Magnus</td>\n",
       "      <td>https://pleiades.stoa.org/places/423025</td>\n",
       "      <td>NaN</td>\n",
       "      <td>NaN</td>\n",
       "      <td>practice-arena</td>\n",
       "      <td>imperial</td>\n",
       "      <td>False</td>\n",
       "      <td>...</td>\n",
       "      <td>NaN</td>\n",
       "      <td>False</td>\n",
       "      <td>NaN</td>\n",
       "      <td>NaN</td>\n",
       "      <td>NaN</td>\n",
       "      <td>NaN</td>\n",
       "      <td>NaN</td>\n",
       "      <td>12.494913</td>\n",
       "      <td>41.889950</td>\n",
       "      <td>22</td>\n",
       "    </tr>\n",
       "    <tr>\n",
       "      <th>4</th>\n",
       "      <td>romeFlavianAmphitheater</td>\n",
       "      <td>Flavian Amphitheater at Rome</td>\n",
       "      <td>Colosseum</td>\n",
       "      <td>NaN</td>\n",
       "      <td>https://pleiades.stoa.org/places/423025</td>\n",
       "      <td>NaN</td>\n",
       "      <td>152.0</td>\n",
       "      <td>amphitheater</td>\n",
       "      <td>flavian</td>\n",
       "      <td>True</td>\n",
       "      <td>...</td>\n",
       "      <td>VKMRD8AT</td>\n",
       "      <td>False</td>\n",
       "      <td>83.0</td>\n",
       "      <td>48.0</td>\n",
       "      <td>189.0</td>\n",
       "      <td>156.0</td>\n",
       "      <td>52.0</td>\n",
       "      <td>12.492269</td>\n",
       "      <td>41.890169</td>\n",
       "      <td>22</td>\n",
       "    </tr>\n",
       "  </tbody>\n",
       "</table>\n",
       "<p>5 rows × 23 columns</p>\n",
       "</div>"
      ],
      "text/plain": [
       "                        id                         title         label  \\\n",
       "0  duraEuroposAmphitheater  Amphitheater at Dura Europos          Dura   \n",
       "1        arlesAmphitheater         Amphitheater at Arles         Arles   \n",
       "2         lyonAmphitheater          Amphitheater at Lyon          Lyon   \n",
       "3         ludusMagnusArena            Ludus Magnus Arena  Ludus Magnus   \n",
       "4  romeFlavianAmphitheater  Flavian Amphitheater at Rome     Colosseum   \n",
       "\n",
       "   latintoponym                                 pleiades  welchid  golvinid  \\\n",
       "0  Dura Europus  https://pleiades.stoa.org/places/893989      NaN     129.0   \n",
       "1       Arelate  https://pleiades.stoa.org/places/148217      NaN     154.0   \n",
       "2      Lugdunum  https://pleiades.stoa.org/places/167717      NaN       NaN   \n",
       "3  Ludus Magnus  https://pleiades.stoa.org/places/423025      NaN       NaN   \n",
       "4           NaN  https://pleiades.stoa.org/places/423025      NaN     152.0   \n",
       "\n",
       "     buildingtype     chronogroup  secondcentury  ...    zotero  \\\n",
       "0    amphitheater         severan          False  ...  5ADZC245   \n",
       "1    amphitheater         flavian           True  ...  LD7NNHSG   \n",
       "2    amphitheater  second-century           True  ...       NaN   \n",
       "3  practice-arena        imperial          False  ...       NaN   \n",
       "4    amphitheater         flavian           True  ...  VKMRD8AT   \n",
       "\n",
       "  dimensionsunknown arenamajor arenaminor  extmajor  extminor  exteriorheight  \\\n",
       "0             False       31.0       25.0      50.0      44.0             NaN   \n",
       "1             False       47.0       32.0     136.0     107.0             NaN   \n",
       "2             False       67.6       42.0     105.0       NaN             NaN   \n",
       "3             False        NaN        NaN       NaN       NaN             NaN   \n",
       "4             False       83.0       48.0     189.0     156.0            52.0   \n",
       "\n",
       "   longitude   latitude  elevation  \n",
       "0  40.728926  34.749855        223  \n",
       "1   4.631111  43.677778         21  \n",
       "2   4.830556  45.770556        206  \n",
       "3  12.494913  41.889950         22  \n",
       "4  12.492269  41.890169         22  \n",
       "\n",
       "[5 rows x 23 columns]"
      ]
     },
     "execution_count": 6,
     "metadata": {},
     "output_type": "execute_result"
    }
   ],
   "source": [
    "df.head()"
   ]
  },
  {
   "cell_type": "code",
   "execution_count": 7,
   "id": "aa086c96",
   "metadata": {},
   "outputs": [
    {
     "data": {
      "text/html": [
       "<div>\n",
       "<style scoped>\n",
       "    .dataframe tbody tr th:only-of-type {\n",
       "        vertical-align: middle;\n",
       "    }\n",
       "\n",
       "    .dataframe tbody tr th {\n",
       "        vertical-align: top;\n",
       "    }\n",
       "\n",
       "    .dataframe thead th {\n",
       "        text-align: right;\n",
       "    }\n",
       "</style>\n",
       "<table border=\"1\" class=\"dataframe\">\n",
       "  <thead>\n",
       "    <tr style=\"text-align: right;\">\n",
       "      <th></th>\n",
       "      <th>id</th>\n",
       "      <th>title</th>\n",
       "      <th>label</th>\n",
       "      <th>latintoponym</th>\n",
       "      <th>pleiades</th>\n",
       "      <th>welchid</th>\n",
       "      <th>golvinid</th>\n",
       "      <th>buildingtype</th>\n",
       "      <th>chronogroup</th>\n",
       "      <th>secondcentury</th>\n",
       "      <th>...</th>\n",
       "      <th>zotero</th>\n",
       "      <th>dimensionsunknown</th>\n",
       "      <th>arenamajor</th>\n",
       "      <th>arenaminor</th>\n",
       "      <th>extmajor</th>\n",
       "      <th>extminor</th>\n",
       "      <th>exteriorheight</th>\n",
       "      <th>longitude</th>\n",
       "      <th>latitude</th>\n",
       "      <th>elevation</th>\n",
       "    </tr>\n",
       "  </thead>\n",
       "  <tbody>\n",
       "    <tr>\n",
       "      <th>263</th>\n",
       "      <td>avenchesAmphitheater</td>\n",
       "      <td>Amphitheater at Avenches</td>\n",
       "      <td>Avenches</td>\n",
       "      <td>Aventicum</td>\n",
       "      <td>https://pleiades.stoa.org/places/177495</td>\n",
       "      <td>NaN</td>\n",
       "      <td>104.0</td>\n",
       "      <td>amphitheater</td>\n",
       "      <td>second-century</td>\n",
       "      <td>True</td>\n",
       "      <td>...</td>\n",
       "      <td>LD7NNHSG</td>\n",
       "      <td>False</td>\n",
       "      <td>51.0</td>\n",
       "      <td>39.0</td>\n",
       "      <td>99.0</td>\n",
       "      <td>87.0</td>\n",
       "      <td>NaN</td>\n",
       "      <td>7.042646</td>\n",
       "      <td>46.880971</td>\n",
       "      <td>470</td>\n",
       "    </tr>\n",
       "    <tr>\n",
       "      <th>264</th>\n",
       "      <td>venafroAmphitheater</td>\n",
       "      <td>Amphitheater at Venafro</td>\n",
       "      <td>Venafro</td>\n",
       "      <td>Venafrum</td>\n",
       "      <td>https://pleiades.stoa.org/places/433185</td>\n",
       "      <td>NaN</td>\n",
       "      <td>87.0</td>\n",
       "      <td>amphitheater</td>\n",
       "      <td>imperial</td>\n",
       "      <td>True</td>\n",
       "      <td>...</td>\n",
       "      <td>HQ9QC3FS</td>\n",
       "      <td>False</td>\n",
       "      <td>60.0</td>\n",
       "      <td>35.0</td>\n",
       "      <td>110.0</td>\n",
       "      <td>85.0</td>\n",
       "      <td>NaN</td>\n",
       "      <td>14.046835</td>\n",
       "      <td>41.482550</td>\n",
       "      <td>176</td>\n",
       "    </tr>\n",
       "    <tr>\n",
       "      <th>265</th>\n",
       "      <td>saintGeorgesDuBoisAmphitheater</td>\n",
       "      <td>Amphitheater at Saint-Georges-du-Bois</td>\n",
       "      <td>Saint-Georges-du-Bois</td>\n",
       "      <td>NaN</td>\n",
       "      <td>NaN</td>\n",
       "      <td>NaN</td>\n",
       "      <td>103.0</td>\n",
       "      <td>amphitheater</td>\n",
       "      <td>first-century</td>\n",
       "      <td>True</td>\n",
       "      <td>...</td>\n",
       "      <td>ZSJDWT3E</td>\n",
       "      <td>False</td>\n",
       "      <td>54.0</td>\n",
       "      <td>30.0</td>\n",
       "      <td>65.0</td>\n",
       "      <td>50.0</td>\n",
       "      <td>NaN</td>\n",
       "      <td>-0.749919</td>\n",
       "      <td>46.142723</td>\n",
       "      <td>39</td>\n",
       "    </tr>\n",
       "    <tr>\n",
       "      <th>266</th>\n",
       "      <td>toledoAmphitheater</td>\n",
       "      <td>Amphitheater at Toledo</td>\n",
       "      <td>Toledo</td>\n",
       "      <td>Toletum</td>\n",
       "      <td>https://pleiades.stoa.org/places/266066</td>\n",
       "      <td>NaN</td>\n",
       "      <td>NaN</td>\n",
       "      <td>amphitheater</td>\n",
       "      <td>imperial</td>\n",
       "      <td>True</td>\n",
       "      <td>...</td>\n",
       "      <td>9JJW3LUE</td>\n",
       "      <td>True</td>\n",
       "      <td>NaN</td>\n",
       "      <td>NaN</td>\n",
       "      <td>NaN</td>\n",
       "      <td>NaN</td>\n",
       "      <td>NaN</td>\n",
       "      <td>-4.022888</td>\n",
       "      <td>39.865349</td>\n",
       "      <td>482</td>\n",
       "    </tr>\n",
       "    <tr>\n",
       "      <th>267</th>\n",
       "      <td>kaiseraugustAmphitheater</td>\n",
       "      <td>Amphitheater at Kaiseraugst</td>\n",
       "      <td>Kaiseraugst</td>\n",
       "      <td>Castrum Rauracense</td>\n",
       "      <td>https://pleiades.stoa.org/places/81716458</td>\n",
       "      <td>NaN</td>\n",
       "      <td>NaN</td>\n",
       "      <td>amphitheater</td>\n",
       "      <td>fourth-century</td>\n",
       "      <td>False</td>\n",
       "      <td>...</td>\n",
       "      <td>AUHQAHQB</td>\n",
       "      <td>False</td>\n",
       "      <td>NaN</td>\n",
       "      <td>NaN</td>\n",
       "      <td>50.0</td>\n",
       "      <td>40.0</td>\n",
       "      <td>NaN</td>\n",
       "      <td>7.721596</td>\n",
       "      <td>47.540822</td>\n",
       "      <td>482</td>\n",
       "    </tr>\n",
       "  </tbody>\n",
       "</table>\n",
       "<p>5 rows × 23 columns</p>\n",
       "</div>"
      ],
      "text/plain": [
       "                                 id                                  title  \\\n",
       "263            avenchesAmphitheater               Amphitheater at Avenches   \n",
       "264             venafroAmphitheater                Amphitheater at Venafro   \n",
       "265  saintGeorgesDuBoisAmphitheater  Amphitheater at Saint-Georges-du-Bois   \n",
       "266              toledoAmphitheater                 Amphitheater at Toledo   \n",
       "267        kaiseraugustAmphitheater            Amphitheater at Kaiseraugst   \n",
       "\n",
       "                     label        latintoponym  \\\n",
       "263               Avenches           Aventicum   \n",
       "264                Venafro            Venafrum   \n",
       "265  Saint-Georges-du-Bois                 NaN   \n",
       "266                 Toledo             Toletum   \n",
       "267            Kaiseraugst  Castrum Rauracense   \n",
       "\n",
       "                                      pleiades  welchid  golvinid  \\\n",
       "263    https://pleiades.stoa.org/places/177495      NaN     104.0   \n",
       "264    https://pleiades.stoa.org/places/433185      NaN      87.0   \n",
       "265                                        NaN      NaN     103.0   \n",
       "266    https://pleiades.stoa.org/places/266066      NaN       NaN   \n",
       "267  https://pleiades.stoa.org/places/81716458      NaN       NaN   \n",
       "\n",
       "     buildingtype     chronogroup  secondcentury  ...    zotero  \\\n",
       "263  amphitheater  second-century           True  ...  LD7NNHSG   \n",
       "264  amphitheater        imperial           True  ...  HQ9QC3FS   \n",
       "265  amphitheater   first-century           True  ...  ZSJDWT3E   \n",
       "266  amphitheater        imperial           True  ...  9JJW3LUE   \n",
       "267  amphitheater  fourth-century          False  ...  AUHQAHQB   \n",
       "\n",
       "    dimensionsunknown arenamajor arenaminor  extmajor  extminor  \\\n",
       "263             False       51.0       39.0      99.0      87.0   \n",
       "264             False       60.0       35.0     110.0      85.0   \n",
       "265             False       54.0       30.0      65.0      50.0   \n",
       "266              True        NaN        NaN       NaN       NaN   \n",
       "267             False        NaN        NaN      50.0      40.0   \n",
       "\n",
       "     exteriorheight  longitude   latitude  elevation  \n",
       "263             NaN   7.042646  46.880971        470  \n",
       "264             NaN  14.046835  41.482550        176  \n",
       "265             NaN  -0.749919  46.142723         39  \n",
       "266             NaN  -4.022888  39.865349        482  \n",
       "267             NaN   7.721596  47.540822        482  \n",
       "\n",
       "[5 rows x 23 columns]"
      ]
     },
     "execution_count": 7,
     "metadata": {},
     "output_type": "execute_result"
    }
   ],
   "source": [
    "df.tail()"
   ]
  },
  {
   "cell_type": "markdown",
   "id": "548e66df",
   "metadata": {},
   "source": [
    "#### Data types in our csv"
   ]
  },
  {
   "cell_type": "code",
   "execution_count": 8,
   "id": "9f162b71",
   "metadata": {},
   "outputs": [
    {
     "data": {
      "text/plain": [
       "(268, 23)"
      ]
     },
     "execution_count": 8,
     "metadata": {},
     "output_type": "execute_result"
    }
   ],
   "source": [
    "df.shape # notice that this is an attribute so no parentheses"
   ]
  },
  {
   "cell_type": "code",
   "execution_count": 9,
   "id": "2dd0695f",
   "metadata": {},
   "outputs": [
    {
     "name": "stdout",
     "output_type": "stream",
     "text": [
      "<class 'pandas.core.frame.DataFrame'>\n",
      "RangeIndex: 268 entries, 0 to 267\n",
      "Data columns (total 23 columns):\n",
      " #   Column             Non-Null Count  Dtype  \n",
      "---  ------             --------------  -----  \n",
      " 0   id                 268 non-null    object \n",
      " 1   title              268 non-null    object \n",
      " 2   label              268 non-null    object \n",
      " 3   latintoponym       219 non-null    object \n",
      " 4   pleiades           267 non-null    object \n",
      " 5   welchid            18 non-null     float64\n",
      " 6   golvinid           134 non-null    float64\n",
      " 7   buildingtype       268 non-null    object \n",
      " 8   chronogroup        268 non-null    object \n",
      " 9   secondcentury      268 non-null    bool   \n",
      " 10  capacity           135 non-null    float64\n",
      " 11  modcountry         268 non-null    object \n",
      " 12  romanregion        268 non-null    object \n",
      " 13  zotero             56 non-null     object \n",
      " 14  dimensionsunknown  268 non-null    bool   \n",
      " 15  arenamajor         179 non-null    float64\n",
      " 16  arenaminor         175 non-null    float64\n",
      " 17  extmajor           214 non-null    float64\n",
      " 18  extminor           194 non-null    float64\n",
      " 19  exteriorheight     3 non-null      float64\n",
      " 20  longitude          268 non-null    float64\n",
      " 21  latitude           268 non-null    float64\n",
      " 22  elevation          268 non-null    int64  \n",
      "dtypes: bool(2), float64(10), int64(1), object(10)\n",
      "memory usage: 44.6+ KB\n"
     ]
    }
   ],
   "source": [
    "df.info() # notice that this is a methon, so we need parentheses"
   ]
  },
  {
   "cell_type": "code",
   "execution_count": 10,
   "id": "752d8e34",
   "metadata": {},
   "outputs": [],
   "source": [
    "pd.set_option('display.max_rows', 500)\n",
    "pd.set_option('display.max_columns', 500)\n",
    "pd.set_option('display.width', 1000)"
   ]
  },
  {
   "cell_type": "markdown",
   "id": "1a2e9b6a",
   "metadata": {},
   "source": [
    "### Example: Shipwrecks Database"
   ]
  },
  {
   "cell_type": "markdown",
   "id": "0afd2b42",
   "metadata": {},
   "source": [
    "Download the [Shipwrecks Database](http://oxrep.classics.ox.ac.uk/docs/StraussShipwrecks.zip) for the [The Oxford Roman Economy Project](http://oxrep.classics.ox.ac.uk/). "
   ]
  },
  {
   "cell_type": "code",
   "execution_count": 11,
   "id": "693cde72",
   "metadata": {},
   "outputs": [
    {
     "ename": "FileNotFoundError",
     "evalue": "[Errno 2] No such file or directory: 'StraussShipwrecks.xlsx'",
     "output_type": "error",
     "traceback": [
      "\u001b[0;31m---------------------------------------------------------------------------\u001b[0m",
      "\u001b[0;31mFileNotFoundError\u001b[0m                         Traceback (most recent call last)",
      "Input \u001b[0;32mIn [11]\u001b[0m, in \u001b[0;36m<cell line: 1>\u001b[0;34m()\u001b[0m\n\u001b[0;32m----> 1\u001b[0m df \u001b[38;5;241m=\u001b[39m \u001b[43mpd\u001b[49m\u001b[38;5;241;43m.\u001b[39;49m\u001b[43mread_excel\u001b[49m\u001b[43m(\u001b[49m\u001b[38;5;124;43m'\u001b[39;49m\u001b[38;5;124;43mStraussShipwrecks.xlsx\u001b[39;49m\u001b[38;5;124;43m'\u001b[39;49m\u001b[43m)\u001b[49m\n",
      "File \u001b[0;32m~/opt/anaconda3/lib/python3.9/site-packages/pandas/util/_decorators.py:311\u001b[0m, in \u001b[0;36mdeprecate_nonkeyword_arguments.<locals>.decorate.<locals>.wrapper\u001b[0;34m(*args, **kwargs)\u001b[0m\n\u001b[1;32m    305\u001b[0m \u001b[38;5;28;01mif\u001b[39;00m \u001b[38;5;28mlen\u001b[39m(args) \u001b[38;5;241m>\u001b[39m num_allow_args:\n\u001b[1;32m    306\u001b[0m     warnings\u001b[38;5;241m.\u001b[39mwarn(\n\u001b[1;32m    307\u001b[0m         msg\u001b[38;5;241m.\u001b[39mformat(arguments\u001b[38;5;241m=\u001b[39marguments),\n\u001b[1;32m    308\u001b[0m         \u001b[38;5;167;01mFutureWarning\u001b[39;00m,\n\u001b[1;32m    309\u001b[0m         stacklevel\u001b[38;5;241m=\u001b[39mstacklevel,\n\u001b[1;32m    310\u001b[0m     )\n\u001b[0;32m--> 311\u001b[0m \u001b[38;5;28;01mreturn\u001b[39;00m \u001b[43mfunc\u001b[49m\u001b[43m(\u001b[49m\u001b[38;5;241;43m*\u001b[39;49m\u001b[43margs\u001b[49m\u001b[43m,\u001b[49m\u001b[43m \u001b[49m\u001b[38;5;241;43m*\u001b[39;49m\u001b[38;5;241;43m*\u001b[39;49m\u001b[43mkwargs\u001b[49m\u001b[43m)\u001b[49m\n",
      "File \u001b[0;32m~/opt/anaconda3/lib/python3.9/site-packages/pandas/io/excel/_base.py:457\u001b[0m, in \u001b[0;36mread_excel\u001b[0;34m(io, sheet_name, header, names, index_col, usecols, squeeze, dtype, engine, converters, true_values, false_values, skiprows, nrows, na_values, keep_default_na, na_filter, verbose, parse_dates, date_parser, thousands, decimal, comment, skipfooter, convert_float, mangle_dupe_cols, storage_options)\u001b[0m\n\u001b[1;32m    455\u001b[0m \u001b[38;5;28;01mif\u001b[39;00m \u001b[38;5;129;01mnot\u001b[39;00m \u001b[38;5;28misinstance\u001b[39m(io, ExcelFile):\n\u001b[1;32m    456\u001b[0m     should_close \u001b[38;5;241m=\u001b[39m \u001b[38;5;28;01mTrue\u001b[39;00m\n\u001b[0;32m--> 457\u001b[0m     io \u001b[38;5;241m=\u001b[39m \u001b[43mExcelFile\u001b[49m\u001b[43m(\u001b[49m\u001b[43mio\u001b[49m\u001b[43m,\u001b[49m\u001b[43m \u001b[49m\u001b[43mstorage_options\u001b[49m\u001b[38;5;241;43m=\u001b[39;49m\u001b[43mstorage_options\u001b[49m\u001b[43m,\u001b[49m\u001b[43m \u001b[49m\u001b[43mengine\u001b[49m\u001b[38;5;241;43m=\u001b[39;49m\u001b[43mengine\u001b[49m\u001b[43m)\u001b[49m\n\u001b[1;32m    458\u001b[0m \u001b[38;5;28;01melif\u001b[39;00m engine \u001b[38;5;129;01mand\u001b[39;00m engine \u001b[38;5;241m!=\u001b[39m io\u001b[38;5;241m.\u001b[39mengine:\n\u001b[1;32m    459\u001b[0m     \u001b[38;5;28;01mraise\u001b[39;00m \u001b[38;5;167;01mValueError\u001b[39;00m(\n\u001b[1;32m    460\u001b[0m         \u001b[38;5;124m\"\u001b[39m\u001b[38;5;124mEngine should not be specified when passing \u001b[39m\u001b[38;5;124m\"\u001b[39m\n\u001b[1;32m    461\u001b[0m         \u001b[38;5;124m\"\u001b[39m\u001b[38;5;124man ExcelFile - ExcelFile already has the engine set\u001b[39m\u001b[38;5;124m\"\u001b[39m\n\u001b[1;32m    462\u001b[0m     )\n",
      "File \u001b[0;32m~/opt/anaconda3/lib/python3.9/site-packages/pandas/io/excel/_base.py:1376\u001b[0m, in \u001b[0;36mExcelFile.__init__\u001b[0;34m(self, path_or_buffer, engine, storage_options)\u001b[0m\n\u001b[1;32m   1374\u001b[0m     ext \u001b[38;5;241m=\u001b[39m \u001b[38;5;124m\"\u001b[39m\u001b[38;5;124mxls\u001b[39m\u001b[38;5;124m\"\u001b[39m\n\u001b[1;32m   1375\u001b[0m \u001b[38;5;28;01melse\u001b[39;00m:\n\u001b[0;32m-> 1376\u001b[0m     ext \u001b[38;5;241m=\u001b[39m \u001b[43minspect_excel_format\u001b[49m\u001b[43m(\u001b[49m\n\u001b[1;32m   1377\u001b[0m \u001b[43m        \u001b[49m\u001b[43mcontent_or_path\u001b[49m\u001b[38;5;241;43m=\u001b[39;49m\u001b[43mpath_or_buffer\u001b[49m\u001b[43m,\u001b[49m\u001b[43m \u001b[49m\u001b[43mstorage_options\u001b[49m\u001b[38;5;241;43m=\u001b[39;49m\u001b[43mstorage_options\u001b[49m\n\u001b[1;32m   1378\u001b[0m \u001b[43m    \u001b[49m\u001b[43m)\u001b[49m\n\u001b[1;32m   1379\u001b[0m     \u001b[38;5;28;01mif\u001b[39;00m ext \u001b[38;5;129;01mis\u001b[39;00m \u001b[38;5;28;01mNone\u001b[39;00m:\n\u001b[1;32m   1380\u001b[0m         \u001b[38;5;28;01mraise\u001b[39;00m \u001b[38;5;167;01mValueError\u001b[39;00m(\n\u001b[1;32m   1381\u001b[0m             \u001b[38;5;124m\"\u001b[39m\u001b[38;5;124mExcel file format cannot be determined, you must specify \u001b[39m\u001b[38;5;124m\"\u001b[39m\n\u001b[1;32m   1382\u001b[0m             \u001b[38;5;124m\"\u001b[39m\u001b[38;5;124man engine manually.\u001b[39m\u001b[38;5;124m\"\u001b[39m\n\u001b[1;32m   1383\u001b[0m         )\n",
      "File \u001b[0;32m~/opt/anaconda3/lib/python3.9/site-packages/pandas/io/excel/_base.py:1250\u001b[0m, in \u001b[0;36minspect_excel_format\u001b[0;34m(content_or_path, storage_options)\u001b[0m\n\u001b[1;32m   1247\u001b[0m \u001b[38;5;28;01mif\u001b[39;00m \u001b[38;5;28misinstance\u001b[39m(content_or_path, \u001b[38;5;28mbytes\u001b[39m):\n\u001b[1;32m   1248\u001b[0m     content_or_path \u001b[38;5;241m=\u001b[39m BytesIO(content_or_path)\n\u001b[0;32m-> 1250\u001b[0m \u001b[38;5;28;01mwith\u001b[39;00m \u001b[43mget_handle\u001b[49m\u001b[43m(\u001b[49m\n\u001b[1;32m   1251\u001b[0m \u001b[43m    \u001b[49m\u001b[43mcontent_or_path\u001b[49m\u001b[43m,\u001b[49m\u001b[43m \u001b[49m\u001b[38;5;124;43m\"\u001b[39;49m\u001b[38;5;124;43mrb\u001b[39;49m\u001b[38;5;124;43m\"\u001b[39;49m\u001b[43m,\u001b[49m\u001b[43m \u001b[49m\u001b[43mstorage_options\u001b[49m\u001b[38;5;241;43m=\u001b[39;49m\u001b[43mstorage_options\u001b[49m\u001b[43m,\u001b[49m\u001b[43m \u001b[49m\u001b[43mis_text\u001b[49m\u001b[38;5;241;43m=\u001b[39;49m\u001b[38;5;28;43;01mFalse\u001b[39;49;00m\n\u001b[1;32m   1252\u001b[0m \u001b[43m\u001b[49m\u001b[43m)\u001b[49m \u001b[38;5;28;01mas\u001b[39;00m handle:\n\u001b[1;32m   1253\u001b[0m     stream \u001b[38;5;241m=\u001b[39m handle\u001b[38;5;241m.\u001b[39mhandle\n\u001b[1;32m   1254\u001b[0m     stream\u001b[38;5;241m.\u001b[39mseek(\u001b[38;5;241m0\u001b[39m)\n",
      "File \u001b[0;32m~/opt/anaconda3/lib/python3.9/site-packages/pandas/io/common.py:798\u001b[0m, in \u001b[0;36mget_handle\u001b[0;34m(path_or_buf, mode, encoding, compression, memory_map, is_text, errors, storage_options)\u001b[0m\n\u001b[1;32m    789\u001b[0m         handle \u001b[38;5;241m=\u001b[39m \u001b[38;5;28mopen\u001b[39m(\n\u001b[1;32m    790\u001b[0m             handle,\n\u001b[1;32m    791\u001b[0m             ioargs\u001b[38;5;241m.\u001b[39mmode,\n\u001b[0;32m   (...)\u001b[0m\n\u001b[1;32m    794\u001b[0m             newline\u001b[38;5;241m=\u001b[39m\u001b[38;5;124m\"\u001b[39m\u001b[38;5;124m\"\u001b[39m,\n\u001b[1;32m    795\u001b[0m         )\n\u001b[1;32m    796\u001b[0m     \u001b[38;5;28;01melse\u001b[39;00m:\n\u001b[1;32m    797\u001b[0m         \u001b[38;5;66;03m# Binary mode\u001b[39;00m\n\u001b[0;32m--> 798\u001b[0m         handle \u001b[38;5;241m=\u001b[39m \u001b[38;5;28;43mopen\u001b[39;49m\u001b[43m(\u001b[49m\u001b[43mhandle\u001b[49m\u001b[43m,\u001b[49m\u001b[43m \u001b[49m\u001b[43mioargs\u001b[49m\u001b[38;5;241;43m.\u001b[39;49m\u001b[43mmode\u001b[49m\u001b[43m)\u001b[49m\n\u001b[1;32m    799\u001b[0m     handles\u001b[38;5;241m.\u001b[39mappend(handle)\n\u001b[1;32m    801\u001b[0m \u001b[38;5;66;03m# Convert BytesIO or file objects passed with an encoding\u001b[39;00m\n",
      "\u001b[0;31mFileNotFoundError\u001b[0m: [Errno 2] No such file or directory: 'StraussShipwrecks.xlsx'"
     ]
    }
   ],
   "source": [
    "df = pd.read_excel('StraussShipwrecks.xlsx')"
   ]
  },
  {
   "cell_type": "code",
   "execution_count": null,
   "id": "11015d36",
   "metadata": {},
   "outputs": [],
   "source": [
    "df"
   ]
  },
  {
   "cell_type": "markdown",
   "id": "83abfd67",
   "metadata": {},
   "source": [
    "#### Access one column"
   ]
  },
  {
   "cell_type": "code",
   "execution_count": null,
   "id": "5fddf223",
   "metadata": {},
   "outputs": [],
   "source": [
    "type(df['Sea area'])"
   ]
  },
  {
   "cell_type": "markdown",
   "id": "05bda08e",
   "metadata": {},
   "source": [
    "#### What datatype is this?"
   ]
  },
  {
   "cell_type": "code",
   "execution_count": null,
   "id": "f6f5d499",
   "metadata": {},
   "outputs": [],
   "source": []
  },
  {
   "cell_type": "markdown",
   "id": "3744a561",
   "metadata": {},
   "source": [
    "#### Access two columns"
   ]
  },
  {
   "cell_type": "code",
   "execution_count": null,
   "id": "d5759f78",
   "metadata": {},
   "outputs": [],
   "source": [
    "df[['Region', 'Sea area']]"
   ]
  },
  {
   "cell_type": "markdown",
   "id": "d357083d",
   "metadata": {},
   "source": [
    "Check [here](https://www.w3schools.com/python/pandas/pandas_series.asp)."
   ]
  },
  {
   "cell_type": "markdown",
   "id": "178c0770",
   "metadata": {},
   "source": [
    "#### What datatype is this now?"
   ]
  },
  {
   "cell_type": "code",
   "execution_count": null,
   "id": "d042f9a2",
   "metadata": {},
   "outputs": [],
   "source": []
  },
  {
   "cell_type": "markdown",
   "id": "b4e5017f",
   "metadata": {},
   "source": [
    "#### Get all columns"
   ]
  },
  {
   "cell_type": "code",
   "execution_count": null,
   "id": "489a19c9",
   "metadata": {},
   "outputs": [],
   "source": []
  },
  {
   "cell_type": "markdown",
   "id": "787daa53",
   "metadata": {},
   "source": [
    "### Get all rows\n",
    "- iloc (integer location)\n",
    "- loc"
   ]
  },
  {
   "cell_type": "markdown",
   "id": "e8c6c443",
   "metadata": {},
   "source": [
    "### 1) iloc"
   ]
  },
  {
   "cell_type": "code",
   "execution_count": null,
   "id": "f91a45e8",
   "metadata": {},
   "outputs": [],
   "source": [
    "df.iloc[0]"
   ]
  },
  {
   "cell_type": "markdown",
   "id": "711be109",
   "metadata": {},
   "source": [
    "#### How can we get the first two rows?"
   ]
  },
  {
   "cell_type": "code",
   "execution_count": 13,
   "id": "059d6b48",
   "metadata": {},
   "outputs": [
    {
     "data": {
      "text/html": [
       "<div>\n",
       "<style scoped>\n",
       "    .dataframe tbody tr th:only-of-type {\n",
       "        vertical-align: middle;\n",
       "    }\n",
       "\n",
       "    .dataframe tbody tr th {\n",
       "        vertical-align: top;\n",
       "    }\n",
       "\n",
       "    .dataframe thead th {\n",
       "        text-align: right;\n",
       "    }\n",
       "</style>\n",
       "<table border=\"1\" class=\"dataframe\">\n",
       "  <thead>\n",
       "    <tr style=\"text-align: right;\">\n",
       "      <th></th>\n",
       "      <th>id</th>\n",
       "      <th>title</th>\n",
       "      <th>label</th>\n",
       "      <th>latintoponym</th>\n",
       "      <th>pleiades</th>\n",
       "      <th>welchid</th>\n",
       "      <th>golvinid</th>\n",
       "      <th>buildingtype</th>\n",
       "      <th>chronogroup</th>\n",
       "      <th>secondcentury</th>\n",
       "      <th>capacity</th>\n",
       "      <th>modcountry</th>\n",
       "      <th>romanregion</th>\n",
       "      <th>zotero</th>\n",
       "      <th>dimensionsunknown</th>\n",
       "      <th>arenamajor</th>\n",
       "      <th>arenaminor</th>\n",
       "      <th>extmajor</th>\n",
       "      <th>extminor</th>\n",
       "      <th>exteriorheight</th>\n",
       "      <th>longitude</th>\n",
       "      <th>latitude</th>\n",
       "      <th>elevation</th>\n",
       "    </tr>\n",
       "  </thead>\n",
       "  <tbody>\n",
       "    <tr>\n",
       "      <th>0</th>\n",
       "      <td>duraEuroposAmphitheater</td>\n",
       "      <td>Amphitheater at Dura Europos</td>\n",
       "      <td>Dura</td>\n",
       "      <td>Dura Europus</td>\n",
       "      <td>https://pleiades.stoa.org/places/893989</td>\n",
       "      <td>NaN</td>\n",
       "      <td>129.0</td>\n",
       "      <td>amphitheater</td>\n",
       "      <td>severan</td>\n",
       "      <td>False</td>\n",
       "      <td>1000.0</td>\n",
       "      <td>Syria</td>\n",
       "      <td>syria</td>\n",
       "      <td>5ADZC245</td>\n",
       "      <td>False</td>\n",
       "      <td>31.0</td>\n",
       "      <td>25.0</td>\n",
       "      <td>50.0</td>\n",
       "      <td>44.0</td>\n",
       "      <td>NaN</td>\n",
       "      <td>40.728926</td>\n",
       "      <td>34.749855</td>\n",
       "      <td>223</td>\n",
       "    </tr>\n",
       "    <tr>\n",
       "      <th>1</th>\n",
       "      <td>arlesAmphitheater</td>\n",
       "      <td>Amphitheater at Arles</td>\n",
       "      <td>Arles</td>\n",
       "      <td>Arelate</td>\n",
       "      <td>https://pleiades.stoa.org/places/148217</td>\n",
       "      <td>NaN</td>\n",
       "      <td>154.0</td>\n",
       "      <td>amphitheater</td>\n",
       "      <td>flavian</td>\n",
       "      <td>True</td>\n",
       "      <td>23354.0</td>\n",
       "      <td>France</td>\n",
       "      <td>narbonensis</td>\n",
       "      <td>LD7NNHSG</td>\n",
       "      <td>False</td>\n",
       "      <td>47.0</td>\n",
       "      <td>32.0</td>\n",
       "      <td>136.0</td>\n",
       "      <td>107.0</td>\n",
       "      <td>NaN</td>\n",
       "      <td>4.631111</td>\n",
       "      <td>43.677778</td>\n",
       "      <td>21</td>\n",
       "    </tr>\n",
       "  </tbody>\n",
       "</table>\n",
       "</div>"
      ],
      "text/plain": [
       "                        id                         title  label  latintoponym                                 pleiades  welchid  golvinid  buildingtype chronogroup  secondcentury  capacity modcountry  romanregion    zotero  dimensionsunknown  arenamajor  arenaminor  extmajor  extminor  exteriorheight  longitude   latitude  elevation\n",
       "0  duraEuroposAmphitheater  Amphitheater at Dura Europos   Dura  Dura Europus  https://pleiades.stoa.org/places/893989      NaN     129.0  amphitheater     severan          False    1000.0      Syria        syria  5ADZC245              False        31.0        25.0      50.0      44.0             NaN  40.728926  34.749855        223\n",
       "1        arlesAmphitheater         Amphitheater at Arles  Arles       Arelate  https://pleiades.stoa.org/places/148217      NaN     154.0  amphitheater     flavian           True   23354.0     France  narbonensis  LD7NNHSG              False        47.0        32.0     136.0     107.0             NaN   4.631111  43.677778         21"
      ]
     },
     "execution_count": 13,
     "metadata": {},
     "output_type": "execute_result"
    }
   ],
   "source": [
    "df.iloc[0:2]"
   ]
  },
  {
   "cell_type": "markdown",
   "id": "5bf7e060",
   "metadata": {},
   "source": [
    "#### How can we get the first column of the above df?"
   ]
  },
  {
   "cell_type": "code",
   "execution_count": 17,
   "id": "a2235858",
   "metadata": {},
   "outputs": [
    {
     "data": {
      "text/plain": [
       "0    Amphitheater at Dura Europos\n",
       "1           Amphitheater at Arles\n",
       "Name: title, dtype: object"
      ]
     },
     "execution_count": 17,
     "metadata": {},
     "output_type": "execute_result"
    }
   ],
   "source": [
    "df.loc[0:1][\"title\"]"
   ]
  },
  {
   "cell_type": "markdown",
   "id": "72ef4655",
   "metadata": {},
   "source": [
    "### 2) loc\n",
    "In this way, we do not get the first, second, etc., row. We get the row that has the index we specify."
   ]
  },
  {
   "cell_type": "code",
   "execution_count": null,
   "id": "7c568c24",
   "metadata": {},
   "outputs": [],
   "source": []
  },
  {
   "cell_type": "markdown",
   "id": "71fa29f3",
   "metadata": {},
   "source": [
    "### Let's grab some data"
   ]
  },
  {
   "cell_type": "markdown",
   "id": "55e632dd",
   "metadata": {},
   "source": [
    "#### Get the Country column"
   ]
  },
  {
   "cell_type": "code",
   "execution_count": null,
   "id": "d6cd7950",
   "metadata": {},
   "outputs": [],
   "source": []
  },
  {
   "cell_type": "markdown",
   "id": "fe652d19",
   "metadata": {},
   "source": [
    "#### Count with `.value_counts()`"
   ]
  },
  {
   "cell_type": "code",
   "execution_count": null,
   "id": "f44662b0",
   "metadata": {},
   "outputs": [],
   "source": []
  },
  {
   "cell_type": "markdown",
   "id": "0f2eb2b1",
   "metadata": {},
   "source": [
    "### Set index `.set_index()`"
   ]
  },
  {
   "cell_type": "code",
   "execution_count": null,
   "id": "514d12cb",
   "metadata": {},
   "outputs": [],
   "source": []
  },
  {
   "cell_type": "markdown",
   "id": "0d81fa82",
   "metadata": {},
   "source": [
    "#### Did the original dataframe change?"
   ]
  },
  {
   "cell_type": "code",
   "execution_count": null,
   "id": "0520c843",
   "metadata": {},
   "outputs": [],
   "source": []
  },
  {
   "cell_type": "markdown",
   "id": "cca52b46",
   "metadata": {},
   "source": [
    "#### let's put the parameter `inplace=True`"
   ]
  },
  {
   "cell_type": "code",
   "execution_count": null,
   "id": "d3fd877f",
   "metadata": {},
   "outputs": [],
   "source": []
  },
  {
   "cell_type": "markdown",
   "id": "5752e06c",
   "metadata": {},
   "source": [
    "#### What will happen of I look for `df.loc[0]`?"
   ]
  },
  {
   "cell_type": "code",
   "execution_count": null,
   "id": "d3b3147c",
   "metadata": {},
   "outputs": [],
   "source": []
  },
  {
   "cell_type": "markdown",
   "id": "354f845a",
   "metadata": {},
   "source": [
    "#### Let's reset the index"
   ]
  },
  {
   "cell_type": "code",
   "execution_count": null,
   "id": "c44cd5be",
   "metadata": {},
   "outputs": [],
   "source": [
    "df.reset_index(inplace=True)"
   ]
  },
  {
   "cell_type": "code",
   "execution_count": null,
   "id": "b97d1ef6",
   "metadata": {},
   "outputs": [],
   "source": []
  },
  {
   "cell_type": "markdown",
   "id": "1d4d0353",
   "metadata": {},
   "source": [
    "### Sort `.sort_index(ascending=False)`"
   ]
  },
  {
   "cell_type": "code",
   "execution_count": null,
   "id": "00f7dcfd",
   "metadata": {},
   "outputs": [],
   "source": []
  },
  {
   "cell_type": "markdown",
   "id": "acaf68d7",
   "metadata": {},
   "source": [
    "## Filter"
   ]
  },
  {
   "cell_type": "markdown",
   "id": "0b006a5e",
   "metadata": {},
   "source": [
    "#### what's the result of the below statement?"
   ]
  },
  {
   "cell_type": "code",
   "execution_count": 18,
   "id": "f5c8d1d8",
   "metadata": {},
   "outputs": [
    {
     "ename": "KeyError",
     "evalue": "'Country'",
     "output_type": "error",
     "traceback": [
      "\u001b[0;31m---------------------------------------------------------------------------\u001b[0m",
      "\u001b[0;31mKeyError\u001b[0m                                  Traceback (most recent call last)",
      "File \u001b[0;32m~/opt/anaconda3/lib/python3.9/site-packages/pandas/core/indexes/base.py:3621\u001b[0m, in \u001b[0;36mIndex.get_loc\u001b[0;34m(self, key, method, tolerance)\u001b[0m\n\u001b[1;32m   3620\u001b[0m \u001b[38;5;28;01mtry\u001b[39;00m:\n\u001b[0;32m-> 3621\u001b[0m     \u001b[38;5;28;01mreturn\u001b[39;00m \u001b[38;5;28;43mself\u001b[39;49m\u001b[38;5;241;43m.\u001b[39;49m\u001b[43m_engine\u001b[49m\u001b[38;5;241;43m.\u001b[39;49m\u001b[43mget_loc\u001b[49m\u001b[43m(\u001b[49m\u001b[43mcasted_key\u001b[49m\u001b[43m)\u001b[49m\n\u001b[1;32m   3622\u001b[0m \u001b[38;5;28;01mexcept\u001b[39;00m \u001b[38;5;167;01mKeyError\u001b[39;00m \u001b[38;5;28;01mas\u001b[39;00m err:\n",
      "File \u001b[0;32m~/opt/anaconda3/lib/python3.9/site-packages/pandas/_libs/index.pyx:136\u001b[0m, in \u001b[0;36mpandas._libs.index.IndexEngine.get_loc\u001b[0;34m()\u001b[0m\n",
      "File \u001b[0;32m~/opt/anaconda3/lib/python3.9/site-packages/pandas/_libs/index.pyx:163\u001b[0m, in \u001b[0;36mpandas._libs.index.IndexEngine.get_loc\u001b[0;34m()\u001b[0m\n",
      "File \u001b[0;32mpandas/_libs/hashtable_class_helper.pxi:5198\u001b[0m, in \u001b[0;36mpandas._libs.hashtable.PyObjectHashTable.get_item\u001b[0;34m()\u001b[0m\n",
      "File \u001b[0;32mpandas/_libs/hashtable_class_helper.pxi:5206\u001b[0m, in \u001b[0;36mpandas._libs.hashtable.PyObjectHashTable.get_item\u001b[0;34m()\u001b[0m\n",
      "\u001b[0;31mKeyError\u001b[0m: 'Country'",
      "\nThe above exception was the direct cause of the following exception:\n",
      "\u001b[0;31mKeyError\u001b[0m                                  Traceback (most recent call last)",
      "Input \u001b[0;32mIn [18]\u001b[0m, in \u001b[0;36m<cell line: 1>\u001b[0;34m()\u001b[0m\n\u001b[0;32m----> 1\u001b[0m \u001b[43mdf\u001b[49m\u001b[43m[\u001b[49m\u001b[38;5;124;43m'\u001b[39;49m\u001b[38;5;124;43mCountry\u001b[39;49m\u001b[38;5;124;43m'\u001b[39;49m\u001b[43m]\u001b[49m \u001b[38;5;241m==\u001b[39m \u001b[38;5;124m'\u001b[39m\u001b[38;5;124mCroatia\u001b[39m\u001b[38;5;124m'\u001b[39m\n",
      "File \u001b[0;32m~/opt/anaconda3/lib/python3.9/site-packages/pandas/core/frame.py:3505\u001b[0m, in \u001b[0;36mDataFrame.__getitem__\u001b[0;34m(self, key)\u001b[0m\n\u001b[1;32m   3503\u001b[0m \u001b[38;5;28;01mif\u001b[39;00m \u001b[38;5;28mself\u001b[39m\u001b[38;5;241m.\u001b[39mcolumns\u001b[38;5;241m.\u001b[39mnlevels \u001b[38;5;241m>\u001b[39m \u001b[38;5;241m1\u001b[39m:\n\u001b[1;32m   3504\u001b[0m     \u001b[38;5;28;01mreturn\u001b[39;00m \u001b[38;5;28mself\u001b[39m\u001b[38;5;241m.\u001b[39m_getitem_multilevel(key)\n\u001b[0;32m-> 3505\u001b[0m indexer \u001b[38;5;241m=\u001b[39m \u001b[38;5;28;43mself\u001b[39;49m\u001b[38;5;241;43m.\u001b[39;49m\u001b[43mcolumns\u001b[49m\u001b[38;5;241;43m.\u001b[39;49m\u001b[43mget_loc\u001b[49m\u001b[43m(\u001b[49m\u001b[43mkey\u001b[49m\u001b[43m)\u001b[49m\n\u001b[1;32m   3506\u001b[0m \u001b[38;5;28;01mif\u001b[39;00m is_integer(indexer):\n\u001b[1;32m   3507\u001b[0m     indexer \u001b[38;5;241m=\u001b[39m [indexer]\n",
      "File \u001b[0;32m~/opt/anaconda3/lib/python3.9/site-packages/pandas/core/indexes/base.py:3623\u001b[0m, in \u001b[0;36mIndex.get_loc\u001b[0;34m(self, key, method, tolerance)\u001b[0m\n\u001b[1;32m   3621\u001b[0m     \u001b[38;5;28;01mreturn\u001b[39;00m \u001b[38;5;28mself\u001b[39m\u001b[38;5;241m.\u001b[39m_engine\u001b[38;5;241m.\u001b[39mget_loc(casted_key)\n\u001b[1;32m   3622\u001b[0m \u001b[38;5;28;01mexcept\u001b[39;00m \u001b[38;5;167;01mKeyError\u001b[39;00m \u001b[38;5;28;01mas\u001b[39;00m err:\n\u001b[0;32m-> 3623\u001b[0m     \u001b[38;5;28;01mraise\u001b[39;00m \u001b[38;5;167;01mKeyError\u001b[39;00m(key) \u001b[38;5;28;01mfrom\u001b[39;00m \u001b[38;5;21;01merr\u001b[39;00m\n\u001b[1;32m   3624\u001b[0m \u001b[38;5;28;01mexcept\u001b[39;00m \u001b[38;5;167;01mTypeError\u001b[39;00m:\n\u001b[1;32m   3625\u001b[0m     \u001b[38;5;66;03m# If we have a listlike key, _check_indexing_error will raise\u001b[39;00m\n\u001b[1;32m   3626\u001b[0m     \u001b[38;5;66;03m#  InvalidIndexError. Otherwise we fall through and re-raise\u001b[39;00m\n\u001b[1;32m   3627\u001b[0m     \u001b[38;5;66;03m#  the TypeError.\u001b[39;00m\n\u001b[1;32m   3628\u001b[0m     \u001b[38;5;28mself\u001b[39m\u001b[38;5;241m.\u001b[39m_check_indexing_error(key)\n",
      "\u001b[0;31mKeyError\u001b[0m: 'Country'"
     ]
    }
   ],
   "source": [
    "myfilter = df['Country'] == 'Croatia'\n",
    "df[myfilter]"
   ]
  },
  {
   "cell_type": "code",
   "execution_count": null,
   "id": "c29350c0",
   "metadata": {},
   "outputs": [],
   "source": []
  },
  {
   "cell_type": "markdown",
   "id": "0cd2d11d",
   "metadata": {},
   "source": [
    "#### Combine two filters with `&` = `and`"
   ]
  },
  {
   "cell_type": "code",
   "execution_count": null,
   "id": "37b37526",
   "metadata": {},
   "outputs": [],
   "source": []
  },
  {
   "cell_type": "markdown",
   "id": "c6e01855",
   "metadata": {},
   "source": [
    "#### Combine two filters with `|` = `or`"
   ]
  },
  {
   "cell_type": "code",
   "execution_count": null,
   "id": "8af99902",
   "metadata": {},
   "outputs": [],
   "source": [
    "df[(df['Country'] == 'Croatia') | (df['Country'] == 'Greece')"
   ]
  }
 ],
 "metadata": {
  "kernelspec": {
   "display_name": "Python 3 (ipykernel)",
   "language": "python",
   "name": "python3"
  },
  "language_info": {
   "codemirror_mode": {
    "name": "ipython",
    "version": 3
   },
   "file_extension": ".py",
   "mimetype": "text/x-python",
   "name": "python",
   "nbconvert_exporter": "python",
   "pygments_lexer": "ipython3",
   "version": "3.9.12"
  }
 },
 "nbformat": 4,
 "nbformat_minor": 5
}
