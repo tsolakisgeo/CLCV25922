{
 "cells": [
  {
   "cell_type": "markdown",
   "id": "2ba5c445",
   "metadata": {},
   "source": [
    "## Lists"
   ]
  },
  {
   "cell_type": "code",
   "execution_count": 2,
   "id": "a8a2a2f8",
   "metadata": {},
   "outputs": [],
   "source": [
    "mylist = ['John', 'Maria', 'Ted', 'Nick', 'Albert', 'John', 'Catherine']"
   ]
  },
  {
   "cell_type": "markdown",
   "id": "d43b1b1c",
   "metadata": {},
   "source": [
    "#### Add the name Jim to the list"
   ]
  },
  {
   "cell_type": "code",
   "execution_count": 3,
   "id": "a250a89d",
   "metadata": {},
   "outputs": [],
   "source": [
    "mylist.append('Georgios')"
   ]
  },
  {
   "cell_type": "code",
   "execution_count": 4,
   "id": "90ec29ae",
   "metadata": {},
   "outputs": [
    {
     "name": "stdout",
     "output_type": "stream",
     "text": [
      "['John', 'Maria', 'Ted', 'Nick', 'Albert', 'John', 'Catherine', 'Georgios']\n"
     ]
    }
   ],
   "source": [
    "print(mylist)"
   ]
  },
  {
   "cell_type": "markdown",
   "id": "877cb776",
   "metadata": {},
   "source": [
    "#### Insert the name Bod to the 2nd place in the list"
   ]
  },
  {
   "cell_type": "code",
   "execution_count": 35,
   "id": "0c82f73f",
   "metadata": {},
   "outputs": [],
   "source": [
    "mylist.append('Alex')[1]"
   ]
  },
  {
   "cell_type": "markdown",
   "id": "efe22c7d",
   "metadata": {},
   "source": [
    "#### Remove Ted from the list "
   ]
  },
  {
   "cell_type": "code",
   "execution_count": null,
   "id": "a9ec530e",
   "metadata": {},
   "outputs": [],
   "source": []
  },
  {
   "cell_type": "markdown",
   "id": "52adde78",
   "metadata": {},
   "source": [
    "---"
   ]
  },
  {
   "cell_type": "markdown",
   "id": "65fd0cb4",
   "metadata": {},
   "source": [
    "## Tuples"
   ]
  },
  {
   "cell_type": "markdown",
   "id": "0b1bbd21",
   "metadata": {},
   "source": [
    "#### Make mylist a tuple"
   ]
  },
  {
   "cell_type": "code",
   "execution_count": 19,
   "id": "f950fa9c",
   "metadata": {},
   "outputs": [],
   "source": []
  },
  {
   "cell_type": "markdown",
   "id": "8ce10b02",
   "metadata": {},
   "source": [
    "#### Change the first element in the tuple"
   ]
  },
  {
   "cell_type": "code",
   "execution_count": null,
   "id": "f344e124",
   "metadata": {},
   "outputs": [],
   "source": []
  },
  {
   "cell_type": "markdown",
   "id": "fb3440e2",
   "metadata": {},
   "source": [
    "__We have to create a new tuple as while lists are mutable, tuples are immutable.__"
   ]
  },
  {
   "cell_type": "code",
   "execution_count": null,
   "id": "efa3b220",
   "metadata": {},
   "outputs": [],
   "source": []
  },
  {
   "cell_type": "markdown",
   "id": "c1181b53",
   "metadata": {},
   "source": [
    "---"
   ]
  },
  {
   "cell_type": "markdown",
   "id": "f268ea1f",
   "metadata": {},
   "source": [
    "## Dictionaries"
   ]
  },
  {
   "cell_type": "code",
   "execution_count": 17,
   "id": "86494190",
   "metadata": {},
   "outputs": [],
   "source": [
    "persons = {\n",
    "    \"first\": \"John\",\n",
    "    \"last\": \"Smith\",\n",
    "    \"email\": \"johnsmith@gmail.com\"\n",
    "}"
   ]
  },
  {
   "cell_type": "code",
   "execution_count": null,
   "id": "742fdcbb",
   "metadata": {},
   "outputs": [],
   "source": []
  },
  {
   "cell_type": "markdown",
   "id": "4aa57f4d",
   "metadata": {},
   "source": [
    "#### Add more people"
   ]
  },
  {
   "cell_type": "code",
   "execution_count": null,
   "id": "88796746",
   "metadata": {},
   "outputs": [],
   "source": []
  },
  {
   "cell_type": "markdown",
   "id": "d45ad9c1",
   "metadata": {},
   "source": [
    "### items, keys, values"
   ]
  },
  {
   "cell_type": "code",
   "execution_count": null,
   "id": "1c8cd219",
   "metadata": {},
   "outputs": [],
   "source": []
  },
  {
   "cell_type": "markdown",
   "id": "c16d6dbd",
   "metadata": {},
   "source": [
    "---"
   ]
  },
  {
   "cell_type": "markdown",
   "id": "c951215e",
   "metadata": {},
   "source": [
    "## Set"
   ]
  },
  {
   "cell_type": "markdown",
   "id": "368252cf",
   "metadata": {},
   "source": [
    "#### Make mylist a set"
   ]
  },
  {
   "cell_type": "code",
   "execution_count": null,
   "id": "8cd9e52d",
   "metadata": {},
   "outputs": [],
   "source": []
  },
  {
   "cell_type": "markdown",
   "id": "e7e2472d",
   "metadata": {},
   "source": [
    "#### Make mylist again a list"
   ]
  },
  {
   "cell_type": "code",
   "execution_count": null,
   "id": "2b867118",
   "metadata": {},
   "outputs": [],
   "source": []
  },
  {
   "cell_type": "markdown",
   "id": "e3a8751b",
   "metadata": {},
   "source": [
    "---"
   ]
  },
  {
   "cell_type": "markdown",
   "id": "f2d0e3fa",
   "metadata": {},
   "source": [
    "## Read and Write to files"
   ]
  },
  {
   "cell_type": "markdown",
   "id": "b3ce70b1",
   "metadata": {},
   "source": [
    "### Read"
   ]
  },
  {
   "cell_type": "code",
   "execution_count": null,
   "id": "daa0605c",
   "metadata": {},
   "outputs": [],
   "source": [
    "file = open(\"myfile.txt\",\"r\")\n",
    "file.close()"
   ]
  },
  {
   "cell_type": "markdown",
   "id": "fb8d6c4a",
   "metadata": {},
   "source": [
    "### Write"
   ]
  },
  {
   "cell_type": "code",
   "execution_count": null,
   "id": "b4368ae1",
   "metadata": {},
   "outputs": [],
   "source": []
  },
  {
   "cell_type": "markdown",
   "id": "2932cf40",
   "metadata": {},
   "source": [
    "---"
   ]
  },
  {
   "cell_type": "markdown",
   "id": "1bd6b0ef",
   "metadata": {},
   "source": [
    "## Pandas and CSV/EXCEL"
   ]
  },
  {
   "cell_type": "markdown",
   "id": "0ccbb795",
   "metadata": {},
   "source": [
    "#### Libraries - Imports"
   ]
  },
  {
   "cell_type": "code",
   "execution_count": 4,
   "id": "561cdaa1",
   "metadata": {},
   "outputs": [],
   "source": [
    "# pip install pandas"
   ]
  },
  {
   "cell_type": "code",
   "execution_count": 6,
   "id": "9164ac25",
   "metadata": {},
   "outputs": [],
   "source": [
    "import os\n",
    "import pandas as pd # This is a convention in Python community."
   ]
  },
  {
   "cell_type": "markdown",
   "id": "fe98d784",
   "metadata": {},
   "source": [
    "#### Read"
   ]
  },
  {
   "cell_type": "markdown",
   "id": "b672a02d",
   "metadata": {},
   "source": [
    "Download the csv of [Roman Amphitheaters](https://github.com/roman-amphitheaters/roman-amphitheaters/blob/main/roman-amphitheaters.csv)"
   ]
  },
  {
   "cell_type": "code",
   "execution_count": null,
   "id": "3e56d419",
   "metadata": {},
   "outputs": [],
   "source": [
    "df = pd.read_csv('.csv') # df stands for dataframe, i.e., row and columns of data."
   ]
  },
  {
   "cell_type": "code",
   "execution_count": null,
   "id": "80f31cc7",
   "metadata": {},
   "outputs": [],
   "source": [
    "df"
   ]
  },
  {
   "cell_type": "code",
   "execution_count": null,
   "id": "30220904",
   "metadata": {},
   "outputs": [],
   "source": [
    "df.head()"
   ]
  },
  {
   "cell_type": "code",
   "execution_count": null,
   "id": "aa086c96",
   "metadata": {},
   "outputs": [],
   "source": [
    "df.tail()"
   ]
  },
  {
   "cell_type": "markdown",
   "id": "548e66df",
   "metadata": {},
   "source": [
    "#### Data types in our csv"
   ]
  },
  {
   "cell_type": "code",
   "execution_count": null,
   "id": "9f162b71",
   "metadata": {},
   "outputs": [],
   "source": [
    "df.shape # notice that this is an attribute so no parentheses"
   ]
  },
  {
   "cell_type": "code",
   "execution_count": null,
   "id": "2dd0695f",
   "metadata": {},
   "outputs": [],
   "source": [
    "df.info() # notice that this is a methon, so we need parentheses"
   ]
  },
  {
   "cell_type": "code",
   "execution_count": 7,
   "id": "752d8e34",
   "metadata": {},
   "outputs": [],
   "source": [
    "pd.set_option('display.max_rows', 500)\n",
    "pd.set_option('display.max_columns', 500)\n",
    "pd.set_option('display.width', 1000)"
   ]
  },
  {
   "cell_type": "markdown",
   "id": "1a2e9b6a",
   "metadata": {},
   "source": [
    "### Example: Shipwrecks Database"
   ]
  },
  {
   "cell_type": "markdown",
   "id": "0afd2b42",
   "metadata": {},
   "source": [
    "Download the [Shipwrecks Database](http://oxrep.classics.ox.ac.uk/docs/StraussShipwrecks.zip) for the [The Oxford Roman Economy Project](http://oxrep.classics.ox.ac.uk/). "
   ]
  },
  {
   "cell_type": "code",
   "execution_count": 13,
   "id": "693cde72",
   "metadata": {},
   "outputs": [],
   "source": [
    "df = pd.read_excel('StraussShipwrecks.xlsx')"
   ]
  },
  {
   "cell_type": "code",
   "execution_count": null,
   "id": "11015d36",
   "metadata": {},
   "outputs": [],
   "source": [
    "df"
   ]
  },
  {
   "cell_type": "markdown",
   "id": "83abfd67",
   "metadata": {},
   "source": [
    "#### Access one column"
   ]
  },
  {
   "cell_type": "code",
   "execution_count": 53,
   "id": "5fddf223",
   "metadata": {},
   "outputs": [
    {
     "data": {
      "text/plain": [
       "pandas.core.series.Series"
      ]
     },
     "execution_count": 53,
     "metadata": {},
     "output_type": "execute_result"
    }
   ],
   "source": [
    "type(df['Sea area'])"
   ]
  },
  {
   "cell_type": "markdown",
   "id": "05bda08e",
   "metadata": {},
   "source": [
    "#### What datatype is this?"
   ]
  },
  {
   "cell_type": "code",
   "execution_count": null,
   "id": "f6f5d499",
   "metadata": {},
   "outputs": [],
   "source": []
  },
  {
   "cell_type": "markdown",
   "id": "3744a561",
   "metadata": {},
   "source": [
    "#### Access two columns"
   ]
  },
  {
   "cell_type": "code",
   "execution_count": null,
   "id": "d5759f78",
   "metadata": {},
   "outputs": [],
   "source": [
    "df[['Region', 'Sea area']]"
   ]
  },
  {
   "cell_type": "markdown",
   "id": "d357083d",
   "metadata": {},
   "source": [
    "Check [here](https://www.w3schools.com/python/pandas/pandas_series.asp)."
   ]
  },
  {
   "cell_type": "markdown",
   "id": "178c0770",
   "metadata": {},
   "source": [
    "#### What datatype is this now?"
   ]
  },
  {
   "cell_type": "code",
   "execution_count": 55,
   "id": "d042f9a2",
   "metadata": {},
   "outputs": [
    {
     "name": "stdout",
     "output_type": "stream",
     "text": [
      "<class 'pandas.core.frame.DataFrame'>\n"
     ]
    }
   ],
   "source": []
  },
  {
   "cell_type": "markdown",
   "id": "b4e5017f",
   "metadata": {},
   "source": [
    "#### Get all columns"
   ]
  },
  {
   "cell_type": "code",
   "execution_count": null,
   "id": "489a19c9",
   "metadata": {},
   "outputs": [],
   "source": []
  },
  {
   "cell_type": "markdown",
   "id": "787daa53",
   "metadata": {},
   "source": [
    "### Get all rows\n",
    "- iloc (integer location)\n",
    "- loc"
   ]
  },
  {
   "cell_type": "markdown",
   "id": "e8c6c443",
   "metadata": {},
   "source": [
    "### 1) iloc"
   ]
  },
  {
   "cell_type": "code",
   "execution_count": null,
   "id": "f91a45e8",
   "metadata": {},
   "outputs": [],
   "source": [
    "df.iloc[0]"
   ]
  },
  {
   "cell_type": "markdown",
   "id": "711be109",
   "metadata": {},
   "source": [
    "#### How can we get the first two rows?"
   ]
  },
  {
   "cell_type": "code",
   "execution_count": null,
   "id": "059d6b48",
   "metadata": {},
   "outputs": [],
   "source": []
  },
  {
   "cell_type": "markdown",
   "id": "5bf7e060",
   "metadata": {},
   "source": [
    "#### How can we get the first column of the above df?"
   ]
  },
  {
   "cell_type": "code",
   "execution_count": null,
   "id": "a2235858",
   "metadata": {},
   "outputs": [],
   "source": []
  },
  {
   "cell_type": "markdown",
   "id": "72ef4655",
   "metadata": {},
   "source": [
    "### 2) loc\n",
    "In this way, we do not get the first, second, etc., row. We get the row that has the index we specify."
   ]
  },
  {
   "cell_type": "code",
   "execution_count": 69,
   "id": "7c568c24",
   "metadata": {},
   "outputs": [
    {
     "data": {
      "text/html": [
       "<div>\n",
       "<style scoped>\n",
       "    .dataframe tbody tr th:only-of-type {\n",
       "        vertical-align: middle;\n",
       "    }\n",
       "\n",
       "    .dataframe tbody tr th {\n",
       "        vertical-align: top;\n",
       "    }\n",
       "\n",
       "    .dataframe thead th {\n",
       "        text-align: right;\n",
       "    }\n",
       "</style>\n",
       "<table border=\"1\" class=\"dataframe\">\n",
       "  <thead>\n",
       "    <tr style=\"text-align: right;\">\n",
       "      <th></th>\n",
       "      <th>Sea area</th>\n",
       "      <th>Country</th>\n",
       "    </tr>\n",
       "  </thead>\n",
       "  <tbody>\n",
       "    <tr>\n",
       "      <th>0</th>\n",
       "      <td>Adriatic</td>\n",
       "      <td>Croatia</td>\n",
       "    </tr>\n",
       "    <tr>\n",
       "      <th>1</th>\n",
       "      <td>Adriatic</td>\n",
       "      <td>Croatia</td>\n",
       "    </tr>\n",
       "  </tbody>\n",
       "</table>\n",
       "</div>"
      ],
      "text/plain": [
       "   Sea area  Country\n",
       "0  Adriatic  Croatia\n",
       "1  Adriatic  Croatia"
      ]
     },
     "execution_count": 69,
     "metadata": {},
     "output_type": "execute_result"
    }
   ],
   "source": []
  },
  {
   "cell_type": "markdown",
   "id": "71fa29f3",
   "metadata": {},
   "source": [
    "### Let's grab some data"
   ]
  },
  {
   "cell_type": "markdown",
   "id": "55e632dd",
   "metadata": {},
   "source": [
    "#### Get the Country column"
   ]
  },
  {
   "cell_type": "code",
   "execution_count": null,
   "id": "d6cd7950",
   "metadata": {},
   "outputs": [],
   "source": []
  },
  {
   "cell_type": "markdown",
   "id": "fe652d19",
   "metadata": {},
   "source": [
    "#### Count with `.value_counts()`"
   ]
  },
  {
   "cell_type": "code",
   "execution_count": null,
   "id": "f44662b0",
   "metadata": {},
   "outputs": [],
   "source": []
  },
  {
   "cell_type": "markdown",
   "id": "0f2eb2b1",
   "metadata": {},
   "source": [
    "### Set index `.set_index()`"
   ]
  },
  {
   "cell_type": "code",
   "execution_count": null,
   "id": "514d12cb",
   "metadata": {},
   "outputs": [],
   "source": []
  },
  {
   "cell_type": "markdown",
   "id": "0d81fa82",
   "metadata": {},
   "source": [
    "#### Did the original dataframe change?"
   ]
  },
  {
   "cell_type": "code",
   "execution_count": null,
   "id": "0520c843",
   "metadata": {},
   "outputs": [],
   "source": []
  },
  {
   "cell_type": "markdown",
   "id": "cca52b46",
   "metadata": {},
   "source": [
    "#### let's put the parameter `inplace=True`"
   ]
  },
  {
   "cell_type": "code",
   "execution_count": null,
   "id": "d3fd877f",
   "metadata": {},
   "outputs": [],
   "source": []
  },
  {
   "cell_type": "markdown",
   "id": "5752e06c",
   "metadata": {},
   "source": [
    "#### What will happen of I look for `df.loc[0]`?"
   ]
  },
  {
   "cell_type": "code",
   "execution_count": null,
   "id": "d3b3147c",
   "metadata": {},
   "outputs": [],
   "source": []
  },
  {
   "cell_type": "markdown",
   "id": "354f845a",
   "metadata": {},
   "source": [
    "#### Let's reset the index"
   ]
  },
  {
   "cell_type": "code",
   "execution_count": null,
   "id": "c44cd5be",
   "metadata": {},
   "outputs": [],
   "source": [
    "df.reset_index(inplace=True)"
   ]
  },
  {
   "cell_type": "code",
   "execution_count": null,
   "id": "b97d1ef6",
   "metadata": {},
   "outputs": [],
   "source": []
  },
  {
   "cell_type": "markdown",
   "id": "1d4d0353",
   "metadata": {},
   "source": [
    "### Sort `.sort_index(ascending=False)`"
   ]
  },
  {
   "cell_type": "code",
   "execution_count": null,
   "id": "00f7dcfd",
   "metadata": {},
   "outputs": [],
   "source": []
  },
  {
   "cell_type": "markdown",
   "id": "acaf68d7",
   "metadata": {},
   "source": [
    "## Filter"
   ]
  },
  {
   "cell_type": "markdown",
   "id": "0b006a5e",
   "metadata": {},
   "source": [
    "#### what's the result of the below statement?"
   ]
  },
  {
   "cell_type": "code",
   "execution_count": 80,
   "id": "f5c8d1d8",
   "metadata": {},
   "outputs": [],
   "source": [
    "df['Country'] == 'Country'"
   ]
  },
  {
   "cell_type": "code",
   "execution_count": null,
   "id": "c29350c0",
   "metadata": {},
   "outputs": [],
   "source": []
  },
  {
   "cell_type": "markdown",
   "id": "0cd2d11d",
   "metadata": {},
   "source": [
    "#### Combine two filters with `&` = `and`"
   ]
  },
  {
   "cell_type": "code",
   "execution_count": null,
   "id": "37b37526",
   "metadata": {},
   "outputs": [],
   "source": []
  },
  {
   "cell_type": "markdown",
   "id": "c6e01855",
   "metadata": {},
   "source": [
    "#### Combine two filters with `|` = `or`"
   ]
  },
  {
   "cell_type": "code",
   "execution_count": null,
   "id": "8af99902",
   "metadata": {},
   "outputs": [],
   "source": []
  }
 ],
 "metadata": {
  "kernelspec": {
   "display_name": "Python 3 (ipykernel)",
   "language": "python",
   "name": "python3"
  },
  "language_info": {
   "codemirror_mode": {
    "name": "ipython",
    "version": 3
   },
   "file_extension": ".py",
   "mimetype": "text/x-python",
   "name": "python",
   "nbconvert_exporter": "python",
   "pygments_lexer": "ipython3",
   "version": "3.9.12"
  }
 },
 "nbformat": 4,
 "nbformat_minor": 5
}
