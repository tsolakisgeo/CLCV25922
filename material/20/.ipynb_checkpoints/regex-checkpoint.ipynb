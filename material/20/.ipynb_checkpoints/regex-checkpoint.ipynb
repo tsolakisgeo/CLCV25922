{
 "cells": [
  {
   "cell_type": "markdown",
   "id": "7b6bed8b",
   "metadata": {},
   "source": [
    "# [Regular expressions](https://www.regular-expressions.info/tutorial.html)\n",
    "\n",
    "\"a regular expression is a pattern describing a certain amount of text\""
   ]
  },
  {
   "cell_type": "markdown",
   "id": "3e79f126",
   "metadata": {},
   "source": [
    "#### There are special characters:\n",
    "\n",
    ". + * ? ^ $ ( ) [ ] { } | \\\n",
    "\n",
    "Each one of them has a specific meaning. If you want to search for those characters you need to use a backshash"
   ]
  },
  {
   "cell_type": "markdown",
   "id": "db1803b2",
   "metadata": {},
   "source": [
    "#### Import regex library"
   ]
  },
  {
   "cell_type": "code",
   "execution_count": null,
   "id": "13b713bc",
   "metadata": {},
   "outputs": [],
   "source": [
    "import re"
   ]
  },
  {
   "cell_type": "markdown",
   "id": "f711036b",
   "metadata": {},
   "source": [
    "#### Raw strings\n",
    "_An 'r' before a string tells the Python interpreter to treat backslashes as a literal (raw) character_"
   ]
  },
  {
   "cell_type": "code",
   "execution_count": null,
   "id": "05601bc7",
   "metadata": {},
   "outputs": [],
   "source": [
    "print('This is a line \\nand this is a new one')\n",
    "print(r'This is a line \\nand this is a new one')"
   ]
  },
  {
   "cell_type": "markdown",
   "id": "9d6a3781",
   "metadata": {},
   "source": [
    "#### How are regex useful?\n",
    "For example, imagine that you have a long list of dates one hunderd times larger that the above. How one can search for all dates in August? "
   ]
  },
  {
   "cell_type": "code",
   "execution_count": null,
   "id": "f11aacec",
   "metadata": {},
   "outputs": [],
   "source": [
    "dates = \"\"\"\n",
    "08-12-2012\n",
    "06-07-2015\n",
    "08/08/08\n",
    "04.08.08\n",
    "09.09.2019\n",
    "9.9.2019\n",
    "8.9.2019\n",
    "\"\"\""
   ]
  },
  {
   "cell_type": "code",
   "execution_count": null,
   "id": "7b5e9e8a",
   "metadata": {},
   "outputs": [],
   "source": [
    "results = re.findall(r'[\\d]?8[-\\/\\.][\\d]{1,2}[-/\\.][\\d]{2,4}', dates)\n",
    "print(results)"
   ]
  },
  {
   "cell_type": "markdown",
   "id": "8720e8b4",
   "metadata": {},
   "source": [
    "#### Text string"
   ]
  },
  {
   "cell_type": "code",
   "execution_count": null,
   "id": "412dd8a5",
   "metadata": {},
   "outputs": [],
   "source": [
    "with open(faketext) as f:\n",
    "    faketext = f.read()"
   ]
  },
  {
   "cell_type": "code",
   "execution_count": null,
   "id": "1073a491",
   "metadata": {},
   "outputs": [],
   "source": [
    "faketext = \"\"\"A\n",
    "\n",
    "Alex\n",
    "Georgios\n",
    "Shama\n",
    "Suleiman\n",
    "Liam\n",
    "Olivia\n",
    "Noah\n",
    "Emma\n",
    "Oliver\n",
    "Charlotte\n",
    "Elijah\n",
    "Amelia\n",
    "James\n",
    "Ava\n",
    "William\n",
    "Sophia\n",
    "Benjamin\n",
    "Isabella\n",
    "Lucas\n",
    "Mia\n",
    "Henry\n",
    "Evelyn\n",
    "Theodore\n",
    "Harper\n",
    "\n",
    "08-12-2012\n",
    "06-07-2015\n",
    "08/08/08\n",
    "04.08.08\n",
    "09.09.2019\n",
    "9.9.2019\n",
    "8.9.2019\n",
    "\n",
    "202-555-0166\n",
    "201*555*0177\n",
    "(202) 555-0128\n",
    "(201)555-0178\n",
    "202 555 0198\n",
    "900-555-0166\n",
    "800*555*0177\n",
    "(900) 555-0128\n",
    "(800)555-0178\n",
    "900 555 0198\n",
    "800.555.0199\n",
    "800.555.0152\n",
    "201.555.0199\n",
    "201.555.0152\n",
    "\n",
    "\n",
    "Mr. Darcy\n",
    "Dr. Tsolakis\n",
    "Prof. Cartledge\n",
    "Mr. T\n",
    "Mrs Robinson\n",
    "Mr. Bean\n",
    "Miss Piggy \n",
    "\n",
    "\n",
    "JohnDoe@gmail.com\n",
    "John_Doe@gmail.com\n",
    "JohnDoe@facebook.net\n",
    "john.doe@uchicago.edu\n",
    "sincere.jakubowski@gutkowski.com\n",
    "kerluke.cierra@bradtke.com\n",
    "nromaguera@yahoo.com\n",
    "john-doe@gmail.com\n",
    "johndoe1990@gmail.com\n",
    "\n",
    "Z\"\"\""
   ]
  },
  {
   "cell_type": "markdown",
   "id": "8373e439",
   "metadata": {},
   "source": [
    "#### finditer"
   ]
  },
  {
   "cell_type": "code",
   "execution_count": null,
   "id": "b5079d91",
   "metadata": {},
   "outputs": [],
   "source": []
  },
  {
   "cell_type": "markdown",
   "id": "90321d21",
   "metadata": {},
   "source": [
    "### Word Characters"
   ]
  },
  {
   "cell_type": "markdown",
   "id": "7c3cacca",
   "metadata": {},
   "source": [
    "#### . \n",
    "Any character except a new line"
   ]
  },
  {
   "cell_type": "code",
   "execution_count": null,
   "id": "8775d580",
   "metadata": {},
   "outputs": [],
   "source": []
  },
  {
   "cell_type": "markdown",
   "id": "dd25bd1b",
   "metadata": {},
   "source": [
    "#### \\d\n",
    "Digits"
   ]
  },
  {
   "cell_type": "code",
   "execution_count": null,
   "id": "aa75b8b0",
   "metadata": {},
   "outputs": [],
   "source": []
  },
  {
   "cell_type": "markdown",
   "id": "afbe900a",
   "metadata": {},
   "source": [
    "#### \\D\n",
    "Not a digit"
   ]
  },
  {
   "cell_type": "code",
   "execution_count": null,
   "id": "f346b755",
   "metadata": {},
   "outputs": [],
   "source": []
  },
  {
   "cell_type": "markdown",
   "id": "18433df8",
   "metadata": {},
   "source": [
    "#### \\w\n",
    "Word character (lowercase and uppercase letters, digits, or underscore)"
   ]
  },
  {
   "cell_type": "code",
   "execution_count": null,
   "id": "8181ea58",
   "metadata": {},
   "outputs": [],
   "source": []
  },
  {
   "cell_type": "markdown",
   "id": "c55a0a38",
   "metadata": {},
   "source": [
    "#### \\W\n",
    "Not a word character "
   ]
  },
  {
   "cell_type": "code",
   "execution_count": null,
   "id": "a2322cc0",
   "metadata": {},
   "outputs": [],
   "source": []
  },
  {
   "cell_type": "markdown",
   "id": "badcaa73",
   "metadata": {},
   "source": [
    "#### \\s\n",
    "Whitespace (space, tab, newline)"
   ]
  },
  {
   "cell_type": "code",
   "execution_count": null,
   "id": "19b7c85d",
   "metadata": {},
   "outputs": [],
   "source": []
  },
  {
   "cell_type": "markdown",
   "id": "6963541e",
   "metadata": {},
   "source": [
    "#### \\S\n",
    "Not whitespace"
   ]
  },
  {
   "cell_type": "code",
   "execution_count": null,
   "id": "c9649e16",
   "metadata": {},
   "outputs": [],
   "source": []
  },
  {
   "cell_type": "markdown",
   "id": "587a0974",
   "metadata": {},
   "source": [
    "### Anchors and Boundaries\n",
    "They do not match a character but positions"
   ]
  },
  {
   "cell_type": "markdown",
   "id": "bef0b9f7",
   "metadata": {},
   "source": [
    "#### \\b\n",
    "Word boundary "
   ]
  },
  {
   "cell_type": "code",
   "execution_count": null,
   "id": "f02eff8f",
   "metadata": {},
   "outputs": [],
   "source": []
  },
  {
   "cell_type": "markdown",
   "id": "b1c6e63d",
   "metadata": {},
   "source": [
    "#### \\B\n",
    "Not a word boundary "
   ]
  },
  {
   "cell_type": "markdown",
   "id": "fce573bc",
   "metadata": {},
   "source": [
    "#### ^\n",
    "Beginning of the string"
   ]
  },
  {
   "cell_type": "code",
   "execution_count": null,
   "id": "d7e8e65e",
   "metadata": {},
   "outputs": [],
   "source": []
  },
  {
   "cell_type": "markdown",
   "id": "03eafd79",
   "metadata": {},
   "source": [
    "#### $\n",
    "End of the string"
   ]
  },
  {
   "cell_type": "code",
   "execution_count": null,
   "id": "affef858",
   "metadata": {},
   "outputs": [],
   "source": []
  },
  {
   "cell_type": "markdown",
   "id": "fab7561c",
   "metadata": {},
   "source": [
    "#### Phone numbers"
   ]
  },
  {
   "cell_type": "code",
   "execution_count": null,
   "id": "3a2facea",
   "metadata": {},
   "outputs": [],
   "source": []
  },
  {
   "cell_type": "markdown",
   "id": "8a45a5b8",
   "metadata": {},
   "source": [
    "#### Quantifiers"
   ]
  },
  {
   "cell_type": "markdown",
   "id": "472a4b2b",
   "metadata": {},
   "source": [
    "| Quantifier | Meaning |\n",
    "| ----------- | ----------- \n",
    "| a? | Zero or one of a |\n",
    "| a* | Zero or more of a |\n",
    "| a+ | One or more of a |\n",
    "| [0-9]+ | One or more of 0-9 |\n",
    "| a{3} | Exactly 3 of a |\n",
    "| a{3,} | 3 or more of a |\n",
    "| a{3,6} | Between 3 and 6 of a |\n",
    "| a* | Greedy quantifier |\n",
    "| a*? | Lazy quantifier |\n",
    "| a*+ | Possessive quantifier |"
   ]
  },
  {
   "cell_type": "code",
   "execution_count": null,
   "id": "20cec29c",
   "metadata": {},
   "outputs": [],
   "source": [
    "sentence = \"\"\"\n",
    "coffe coffee please sir I need some more coffee please\"\n",
    "\"\"\""
   ]
  },
  {
   "cell_type": "code",
   "execution_count": null,
   "id": "7d7f6d0e",
   "metadata": {},
   "outputs": [],
   "source": []
  },
  {
   "cell_type": "code",
   "execution_count": null,
   "id": "3647197f",
   "metadata": {},
   "outputs": [],
   "source": []
  },
  {
   "cell_type": "markdown",
   "id": "897062e3",
   "metadata": {},
   "source": [
    "#### Simplify the above regex"
   ]
  },
  {
   "cell_type": "code",
   "execution_count": null,
   "id": "4d744fd2",
   "metadata": {},
   "outputs": [],
   "source": []
  },
  {
   "cell_type": "markdown",
   "id": "0e5d7396",
   "metadata": {},
   "source": [
    "#### Get all phone numbers"
   ]
  },
  {
   "cell_type": "code",
   "execution_count": null,
   "id": "4d8bc26e",
   "metadata": {},
   "outputs": [],
   "source": []
  },
  {
   "cell_type": "markdown",
   "id": "f16c2584",
   "metadata": {},
   "source": [
    "#### Get all phone numbers that begin with 800"
   ]
  },
  {
   "cell_type": "code",
   "execution_count": null,
   "id": "63c8af59",
   "metadata": {},
   "outputs": [],
   "source": []
  },
  {
   "cell_type": "markdown",
   "id": "777adcbf",
   "metadata": {},
   "source": [
    "#### -\n",
    "Range e.g., [1-5] or [a-z] or [A-Z]"
   ]
  },
  {
   "cell_type": "markdown",
   "id": "f74ae9af",
   "metadata": {},
   "source": [
    "#### ^-\n",
    "Not the range e.g., [^1-5] or [^a-z] or [^A-Z]"
   ]
  },
  {
   "cell_type": "markdown",
   "id": "87ab0161",
   "metadata": {},
   "source": [
    "#### Get all phone numbers that begin with 800 or 900"
   ]
  },
  {
   "cell_type": "code",
   "execution_count": null,
   "id": "0e357a26",
   "metadata": {},
   "outputs": [],
   "source": []
  },
  {
   "cell_type": "markdown",
   "id": "d623c5c1",
   "metadata": {},
   "source": [
    "#### Get all the prefixes with the attached names"
   ]
  },
  {
   "cell_type": "code",
   "execution_count": null,
   "id": "38d3a2bb",
   "metadata": {},
   "outputs": [],
   "source": []
  },
  {
   "cell_type": "markdown",
   "id": "a897afd0",
   "metadata": {},
   "source": [
    "#### Match the emails"
   ]
  },
  {
   "cell_type": "code",
   "execution_count": null,
   "id": "9e4bd87e",
   "metadata": {},
   "outputs": [],
   "source": []
  },
  {
   "cell_type": "markdown",
   "id": "c9a21bf6",
   "metadata": {},
   "source": [
    "#### Replace"
   ]
  },
  {
   "cell_type": "code",
   "execution_count": null,
   "id": "3bef03ba",
   "metadata": {},
   "outputs": [],
   "source": []
  },
  {
   "cell_type": "markdown",
   "id": "8fe27a3b",
   "metadata": {},
   "source": [
    "#### sub"
   ]
  },
  {
   "cell_type": "code",
   "execution_count": null,
   "id": "bcb018bd",
   "metadata": {},
   "outputs": [],
   "source": [
    "dates = \"\"\"08-12-2012\n",
    "06-07-2015\n",
    "08/08/08\n",
    "04.08.08\n",
    "09.09.2019\n",
    "9.9.2019\n",
    "8.9.2019\"\"\""
   ]
  },
  {
   "cell_type": "code",
   "execution_count": null,
   "id": "cd56fc9d",
   "metadata": {},
   "outputs": [],
   "source": []
  },
  {
   "cell_type": "markdown",
   "id": "5b61fc99",
   "metadata": {},
   "source": [
    "#### findall"
   ]
  },
  {
   "cell_type": "code",
   "execution_count": null,
   "id": "d1e20313",
   "metadata": {},
   "outputs": [],
   "source": []
  },
  {
   "cell_type": "code",
   "execution_count": null,
   "id": "747cbb28",
   "metadata": {},
   "outputs": [],
   "source": []
  },
  {
   "cell_type": "markdown",
   "id": "cccd67f4",
   "metadata": {},
   "source": [
    "#### search\n",
    "Returns the first match otherwise it returns None"
   ]
  },
  {
   "cell_type": "code",
   "execution_count": null,
   "id": "22adf938",
   "metadata": {},
   "outputs": [],
   "source": []
  },
  {
   "cell_type": "markdown",
   "id": "88082877",
   "metadata": {},
   "source": [
    "#### Flags"
   ]
  },
  {
   "cell_type": "code",
   "execution_count": null,
   "id": "f8de5456",
   "metadata": {},
   "outputs": [],
   "source": []
  },
  {
   "cell_type": "markdown",
   "id": "292e05dc",
   "metadata": {},
   "source": [
    "#### Write a regex that finds all roman numberals and print only how many roman numerals exist in the string.\n",
    "| Roman | Value |\n",
    "| --- | --- |\n",
    "| I | 1 |\n",
    "| II | 2 |\n",
    "| III | 3 |\n",
    "| IV | 4 |\n",
    "| IX | 9 |\n",
    "| X | 10 |\n",
    "| L | 50 |\n",
    "| C | 100 |\n",
    "| D | 500 |\n",
    "| M | 1000 |"
   ]
  },
  {
   "cell_type": "code",
   "execution_count": null,
   "id": "d6d55e20",
   "metadata": {},
   "outputs": [],
   "source": [
    "numbers = \"DCXXXIV, CXXXI, CCXXXI, DCXX, DXCIX, DCIV, DCLVII, CLXXXV, XVI, CV, MCCLXXIV, CMIX, DXXXI, DL, DXCI, CDLXXIX, DLXII, CMXLII, CDX, CLXXXVIII, CDV, CXCI, XLII, LXVI, DCCXLVI, CDLXXXVII\""
   ]
  },
  {
   "cell_type": "code",
   "execution_count": null,
   "id": "a3113b75",
   "metadata": {},
   "outputs": [],
   "source": []
  },
  {
   "cell_type": "markdown",
   "id": "43e72db5",
   "metadata": {},
   "source": [
    "----"
   ]
  }
 ],
 "metadata": {
  "kernelspec": {
   "display_name": "Python 3 (ipykernel)",
   "language": "python",
   "name": "python3"
  },
  "language_info": {
   "codemirror_mode": {
    "name": "ipython",
    "version": 3
   },
   "file_extension": ".py",
   "mimetype": "text/x-python",
   "name": "python",
   "nbconvert_exporter": "python",
   "pygments_lexer": "ipython3",
   "version": "3.9.12"
  }
 },
 "nbformat": 4,
 "nbformat_minor": 5
}
