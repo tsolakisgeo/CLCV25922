{
 "cells": [
  {
   "cell_type": "code",
   "execution_count": 1,
   "id": "3dd4852f",
   "metadata": {},
   "outputs": [],
   "source": [
    "import json\n",
    "import urllib.request"
   ]
  },
  {
   "cell_type": "code",
   "execution_count": 2,
   "id": "58d114d1",
   "metadata": {},
   "outputs": [
    {
     "name": "stdout",
     "output_type": "stream",
     "text": [
      "2.0.9\n"
     ]
    }
   ],
   "source": [
    "print(json.__version__)"
   ]
  },
  {
   "cell_type": "code",
   "execution_count": 4,
   "id": "b929c1e1",
   "metadata": {},
   "outputs": [
    {
     "name": "stdout",
     "output_type": "stream",
     "text": [
      "3.9\n"
     ]
    }
   ],
   "source": [
    "print(urllib.request.__version__)"
   ]
  },
  {
   "cell_type": "code",
   "execution_count": 5,
   "id": "0c4c7864",
   "metadata": {},
   "outputs": [],
   "source": [
    "mypleiadesplace = [   ['Athens', '579885'],      ['Abila', '697622']   ]"
   ]
  },
  {
   "cell_type": "code",
   "execution_count": 6,
   "id": "2b6531b5",
   "metadata": {},
   "outputs": [
    {
     "data": {
      "text/plain": [
       "['Athens', '579885']"
      ]
     },
     "execution_count": 6,
     "metadata": {},
     "output_type": "execute_result"
    }
   ],
   "source": [
    "mypleiadesplace[0]"
   ]
  },
  {
   "cell_type": "code",
   "execution_count": 11,
   "id": "b02b46fe",
   "metadata": {},
   "outputs": [
    {
     "data": {
      "text/plain": [
       "'579885'"
      ]
     },
     "execution_count": 11,
     "metadata": {},
     "output_type": "execute_result"
    }
   ],
   "source": [
    "mypleiadesplace[0][1]"
   ]
  },
  {
   "cell_type": "code",
   "execution_count": 34,
   "id": "88de4ea7",
   "metadata": {},
   "outputs": [],
   "source": [
    "def getjson(pleiadesID):\n",
    "    url = f\"https://pleiades.stoa.org/places/{pleiadesID}/json\"\n",
    "    \n",
    "    with urllib.request.urlopen(url) as f:\n",
    "        pleiades_geojson = json.loads(f.read().decode())\n",
    "    \n",
    "    return pleiades_geojson"
   ]
  },
  {
   "cell_type": "code",
   "execution_count": null,
   "id": "1b949ea4",
   "metadata": {},
   "outputs": [],
   "source": [
    "getjson(697622)"
   ]
  },
  {
   "cell_type": "code",
   "execution_count": 42,
   "id": "e7701a18",
   "metadata": {},
   "outputs": [
    {
     "data": {
      "text/plain": [
       "[23.726268222011864, 37.972453602957316]"
      ]
     },
     "execution_count": 42,
     "metadata": {},
     "output_type": "execute_result"
    }
   ],
   "source": [
    "def coordinates(pleiades_geojson):\n",
    "#     coordinates = \n",
    "    try:\n",
    "        pleiades_geojson['features'][0]['geometry']['coordinates']\n",
    "        return pleiades_geojson['features'][0]['geometry']['coordinates']\n",
    "\n",
    "    except:\n",
    "        return pleiades_geojson['reprPoint']\n",
    "    \n",
    "  \n",
    "coordinates(myfile)"
   ]
  },
  {
   "cell_type": "code",
   "execution_count": 53,
   "id": "beb2c6a0",
   "metadata": {},
   "outputs": [
    {
     "name": "stdout",
     "output_type": "stream",
     "text": [
      "Athens\n",
      "[23.726268222011864, 37.972453602957316]\n",
      "Abila\n",
      "[35.635409, 31.858619]\n"
     ]
    }
   ],
   "source": [
    "for i in mypleiadesplace:\n",
    "    print(i[0])\n",
    "    tempid = getjson(i[1])\n",
    "    print(coordinates(tempid))"
   ]
  },
  {
   "cell_type": "code",
   "execution_count": 54,
   "id": "10aa51b4",
   "metadata": {},
   "outputs": [
    {
     "name": "stdout",
     "output_type": "stream",
     "text": [
      "Athens 23.726268222011864 37.972453602957316\n",
      "Abila 35.635409 31.858619\n"
     ]
    }
   ],
   "source": [
    "for i in mypleiadesplace:\n",
    "    print(i[0], coordinates(getjson(i[1]))[0], coordinates(getjson(i[1]))[1])"
   ]
  },
  {
   "cell_type": "code",
   "execution_count": null,
   "id": "b0e47816",
   "metadata": {},
   "outputs": [],
   "source": [
    "['Athens', 23.726268222011864, 37.972453602957316]"
   ]
  }
 ],
 "metadata": {
  "kernelspec": {
   "display_name": "Python 3",
   "language": "python",
   "name": "python3"
  },
  "language_info": {
   "codemirror_mode": {
    "name": "ipython",
    "version": 3
   },
   "file_extension": ".py",
   "mimetype": "text/x-python",
   "name": "python",
   "nbconvert_exporter": "python",
   "pygments_lexer": "ipython3",
   "version": "3.9.12"
  }
 },
 "nbformat": 4,
 "nbformat_minor": 5
}
